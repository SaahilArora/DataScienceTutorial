{
 "cells": [
  {
   "cell_type": "code",
   "execution_count": 24,
   "id": "standing-sharp",
   "metadata": {
    "ExecuteTime": {
     "end_time": "2022-03-12T16:27:16.235805Z",
     "start_time": "2022-03-12T16:27:15.968751Z"
    }
   },
   "outputs": [
    {
     "data": {
      "application/javascript": [
       "\n",
       "        if (window._pyforest_update_imports_cell) { window._pyforest_update_imports_cell('import pandas as pd'); }\n",
       "    "
      ],
      "text/plain": [
       "<IPython.core.display.Javascript object>"
      ]
     },
     "metadata": {},
     "output_type": "display_data"
    }
   ],
   "source": [
    "df = pd.read_csv(\"./archive/economy.csv\")"
   ]
  },
  {
   "cell_type": "code",
   "execution_count": 25,
   "id": "executive-material",
   "metadata": {
    "ExecuteTime": {
     "end_time": "2022-03-12T16:27:17.121814Z",
     "start_time": "2022-03-12T16:27:17.106697Z"
    }
   },
   "outputs": [
    {
     "data": {
      "text/plain": [
       "(206774, 11)"
      ]
     },
     "execution_count": 25,
     "metadata": {},
     "output_type": "execute_result"
    }
   ],
   "source": [
    "df.shape"
   ]
  },
  {
   "cell_type": "code",
   "execution_count": 141,
   "id": "confident-application",
   "metadata": {
    "ExecuteTime": {
     "end_time": "2022-03-12T17:27:40.810172Z",
     "start_time": "2022-03-12T17:27:40.786171Z"
    }
   },
   "outputs": [
    {
     "data": {
      "text/html": [
       "<div>\n",
       "<style scoped>\n",
       "    .dataframe tbody tr th:only-of-type {\n",
       "        vertical-align: middle;\n",
       "    }\n",
       "\n",
       "    .dataframe tbody tr th {\n",
       "        vertical-align: top;\n",
       "    }\n",
       "\n",
       "    .dataframe thead th {\n",
       "        text-align: right;\n",
       "    }\n",
       "</style>\n",
       "<table border=\"1\" class=\"dataframe\">\n",
       "  <thead>\n",
       "    <tr style=\"text-align: right;\">\n",
       "      <th></th>\n",
       "      <th>date</th>\n",
       "      <th>airline</th>\n",
       "      <th>from</th>\n",
       "      <th>time_taken</th>\n",
       "      <th>stop</th>\n",
       "      <th>to</th>\n",
       "      <th>price</th>\n",
       "    </tr>\n",
       "  </thead>\n",
       "  <tbody>\n",
       "    <tr>\n",
       "      <th>0</th>\n",
       "      <td>11-02-2022</td>\n",
       "      <td>spicejet</td>\n",
       "      <td>delhi</td>\n",
       "      <td>2</td>\n",
       "      <td>0</td>\n",
       "      <td>Mumbai</td>\n",
       "      <td>5953</td>\n",
       "    </tr>\n",
       "    <tr>\n",
       "      <th>1</th>\n",
       "      <td>11-02-2022</td>\n",
       "      <td>spicejet</td>\n",
       "      <td>delhi</td>\n",
       "      <td>2</td>\n",
       "      <td>0</td>\n",
       "      <td>Mumbai</td>\n",
       "      <td>5953</td>\n",
       "    </tr>\n",
       "    <tr>\n",
       "      <th>2</th>\n",
       "      <td>11-02-2022</td>\n",
       "      <td>airasia</td>\n",
       "      <td>delhi</td>\n",
       "      <td>2</td>\n",
       "      <td>0</td>\n",
       "      <td>Mumbai</td>\n",
       "      <td>5956</td>\n",
       "    </tr>\n",
       "    <tr>\n",
       "      <th>3</th>\n",
       "      <td>11-02-2022</td>\n",
       "      <td>vistara</td>\n",
       "      <td>delhi</td>\n",
       "      <td>2</td>\n",
       "      <td>0</td>\n",
       "      <td>Mumbai</td>\n",
       "      <td>5955</td>\n",
       "    </tr>\n",
       "    <tr>\n",
       "      <th>4</th>\n",
       "      <td>11-02-2022</td>\n",
       "      <td>vistara</td>\n",
       "      <td>delhi</td>\n",
       "      <td>2</td>\n",
       "      <td>0</td>\n",
       "      <td>Mumbai</td>\n",
       "      <td>5955</td>\n",
       "    </tr>\n",
       "  </tbody>\n",
       "</table>\n",
       "</div>"
      ],
      "text/plain": [
       "         date   airline   from  time_taken stop      to price\n",
       "0  11-02-2022  spicejet  delhi           2    0  Mumbai  5953\n",
       "1  11-02-2022  spicejet  delhi           2    0  Mumbai  5953\n",
       "2  11-02-2022   airasia  delhi           2    0  Mumbai  5956\n",
       "3  11-02-2022   vistara  delhi           2    0  Mumbai  5955\n",
       "4  11-02-2022   vistara  delhi           2    0  Mumbai  5955"
      ]
     },
     "execution_count": 141,
     "metadata": {},
     "output_type": "execute_result"
    }
   ],
   "source": [
    "df.head()"
   ]
  },
  {
   "cell_type": "code",
   "execution_count": 160,
   "id": "actual-decline",
   "metadata": {
    "ExecuteTime": {
     "end_time": "2022-03-12T17:40:46.967725Z",
     "start_time": "2022-03-12T17:40:46.943756Z"
    }
   },
   "outputs": [
    {
     "data": {
      "text/html": [
       "<div>\n",
       "<style scoped>\n",
       "    .dataframe tbody tr th:only-of-type {\n",
       "        vertical-align: middle;\n",
       "    }\n",
       "\n",
       "    .dataframe tbody tr th {\n",
       "        vertical-align: top;\n",
       "    }\n",
       "\n",
       "    .dataframe thead th {\n",
       "        text-align: right;\n",
       "    }\n",
       "</style>\n",
       "<table border=\"1\" class=\"dataframe\">\n",
       "  <thead>\n",
       "    <tr style=\"text-align: right;\">\n",
       "      <th></th>\n",
       "      <th>date</th>\n",
       "      <th>airline</th>\n",
       "      <th>from</th>\n",
       "      <th>time_taken</th>\n",
       "      <th>stop</th>\n",
       "      <th>to</th>\n",
       "      <th>price</th>\n",
       "    </tr>\n",
       "  </thead>\n",
       "  <tbody>\n",
       "    <tr>\n",
       "      <th>206769</th>\n",
       "      <td>31-03-2022</td>\n",
       "      <td>vistara</td>\n",
       "      <td>chennai</td>\n",
       "      <td>13</td>\n",
       "      <td>1</td>\n",
       "      <td>Hyderabad</td>\n",
       "      <td>7697</td>\n",
       "    </tr>\n",
       "    <tr>\n",
       "      <th>206770</th>\n",
       "      <td>31-03-2022</td>\n",
       "      <td>vistara</td>\n",
       "      <td>chennai</td>\n",
       "      <td>13</td>\n",
       "      <td>1</td>\n",
       "      <td>Hyderabad</td>\n",
       "      <td>7709</td>\n",
       "    </tr>\n",
       "    <tr>\n",
       "      <th>206771</th>\n",
       "      <td>31-03-2022</td>\n",
       "      <td>vistara</td>\n",
       "      <td>chennai</td>\n",
       "      <td>20</td>\n",
       "      <td>1</td>\n",
       "      <td>Hyderabad</td>\n",
       "      <td>8640</td>\n",
       "    </tr>\n",
       "    <tr>\n",
       "      <th>206772</th>\n",
       "      <td>31-03-2022</td>\n",
       "      <td>vistara</td>\n",
       "      <td>chennai</td>\n",
       "      <td>23</td>\n",
       "      <td>1</td>\n",
       "      <td>Hyderabad</td>\n",
       "      <td>8640</td>\n",
       "    </tr>\n",
       "    <tr>\n",
       "      <th>206773</th>\n",
       "      <td>31-03-2022</td>\n",
       "      <td>vistara</td>\n",
       "      <td>chennai</td>\n",
       "      <td>24</td>\n",
       "      <td>1</td>\n",
       "      <td>Hyderabad</td>\n",
       "      <td>8640</td>\n",
       "    </tr>\n",
       "  </tbody>\n",
       "</table>\n",
       "</div>"
      ],
      "text/plain": [
       "              date  airline     from  time_taken stop         to  price\n",
       "206769  31-03-2022  vistara  chennai          13    1  Hyderabad   7697\n",
       "206770  31-03-2022  vistara  chennai          13    1  Hyderabad   7709\n",
       "206771  31-03-2022  vistara  chennai          20    1  Hyderabad   8640\n",
       "206772  31-03-2022  vistara  chennai          23    1  Hyderabad   8640\n",
       "206773  31-03-2022  vistara  chennai          24    1  Hyderabad   8640"
      ]
     },
     "execution_count": 160,
     "metadata": {},
     "output_type": "execute_result"
    }
   ],
   "source": [
    "df.tail()"
   ]
  },
  {
   "cell_type": "code",
   "execution_count": 75,
   "id": "august-tribune",
   "metadata": {
    "ExecuteTime": {
     "end_time": "2022-03-12T16:51:11.547528Z",
     "start_time": "2022-03-12T16:51:11.379641Z"
    }
   },
   "outputs": [
    {
     "name": "stdout",
     "output_type": "stream",
     "text": [
      "<class 'pandas.core.frame.DataFrame'>\n",
      "Int64Index: 206772 entries, 0 to 206773\n",
      "Data columns (total 7 columns):\n",
      " #   Column      Non-Null Count   Dtype \n",
      "---  ------      --------------   ----- \n",
      " 0   date        206772 non-null  object\n",
      " 1   airline     206772 non-null  object\n",
      " 2   from        206772 non-null  object\n",
      " 3   time_taken  206772 non-null  object\n",
      " 4   stop        206772 non-null  object\n",
      " 5   to          206772 non-null  object\n",
      " 6   price       206772 non-null  object\n",
      "dtypes: object(7)\n",
      "memory usage: 20.7+ MB\n"
     ]
    }
   ],
   "source": [
    "df.info()"
   ]
  },
  {
   "cell_type": "code",
   "execution_count": 71,
   "id": "entitled-selling",
   "metadata": {
    "ExecuteTime": {
     "end_time": "2022-03-12T16:49:09.596488Z",
     "start_time": "2022-03-12T16:49:09.483491Z"
    }
   },
   "outputs": [
    {
     "data": {
      "text/plain": [
       "73"
      ]
     },
     "execution_count": 71,
     "metadata": {},
     "output_type": "execute_result"
    }
   ],
   "source": [
    "df.duplicated().sum()"
   ]
  },
  {
   "cell_type": "code",
   "execution_count": 30,
   "id": "assigned-salad",
   "metadata": {
    "ExecuteTime": {
     "end_time": "2022-03-12T16:27:38.678787Z",
     "start_time": "2022-03-12T16:27:38.526090Z"
    }
   },
   "outputs": [],
   "source": [
    "df.drop_duplicates(inplace=True)"
   ]
  },
  {
   "cell_type": "code",
   "execution_count": 74,
   "id": "several-livestock",
   "metadata": {
    "ExecuteTime": {
     "end_time": "2022-03-12T16:51:08.679573Z",
     "start_time": "2022-03-12T16:51:08.648515Z"
    }
   },
   "outputs": [],
   "source": [
    "df.drop(columns=[\"dep_time\",\"arr_time\"], axis=1, inplace=True)"
   ]
  },
  {
   "cell_type": "code",
   "execution_count": 38,
   "id": "electric-adolescent",
   "metadata": {
    "ExecuteTime": {
     "end_time": "2022-03-12T16:29:42.420333Z",
     "start_time": "2022-03-12T16:29:42.400958Z"
    }
   },
   "outputs": [],
   "source": [
    "def convertToLower(column):\n",
    "    return df[column].map(lambda x: str(x).lower().replace(\" \",\"\"))"
   ]
  },
  {
   "cell_type": "code",
   "execution_count": 40,
   "id": "considerable-factory",
   "metadata": {
    "ExecuteTime": {
     "end_time": "2022-03-12T16:30:30.874165Z",
     "start_time": "2022-03-12T16:30:30.778363Z"
    }
   },
   "outputs": [],
   "source": [
    "df.airline = convertToLower('airline')"
   ]
  },
  {
   "cell_type": "code",
   "execution_count": 42,
   "id": "neither-favor",
   "metadata": {
    "ExecuteTime": {
     "end_time": "2022-03-12T16:31:06.190132Z",
     "start_time": "2022-03-12T16:31:06.102323Z"
    }
   },
   "outputs": [],
   "source": [
    "df['from'] = convertToLower('from')"
   ]
  },
  {
   "cell_type": "code",
   "execution_count": null,
   "id": "hairy-option",
   "metadata": {},
   "outputs": [],
   "source": [
    "df['to'] = convertToLower('to')"
   ]
  },
  {
   "cell_type": "code",
   "execution_count": 58,
   "id": "devoted-reaction",
   "metadata": {
    "ExecuteTime": {
     "end_time": "2022-03-12T16:39:03.459164Z",
     "start_time": "2022-03-12T16:39:03.446196Z"
    }
   },
   "outputs": [
    {
     "data": {
      "text/plain": [
       "'1'"
      ]
     },
     "execution_count": 58,
     "metadata": {},
     "output_type": "execute_result"
    }
   ],
   "source": [
    "str(df['stop'][18]).split('\\n')[0].split('-')[0]"
   ]
  },
  {
   "cell_type": "code",
   "execution_count": 68,
   "id": "expensive-greece",
   "metadata": {
    "ExecuteTime": {
     "end_time": "2022-03-12T16:48:50.410917Z",
     "start_time": "2022-03-12T16:48:50.395888Z"
    }
   },
   "outputs": [],
   "source": [
    "def splitStops(data):\n",
    "    data = str(data).split('\\n')\n",
    "    if( len(data) > 1):\n",
    "        data = data[0].split('-')[0]\n",
    "    else:\n",
    "        data = '0'\n",
    "    return data.strip()"
   ]
  },
  {
   "cell_type": "code",
   "execution_count": 72,
   "id": "adult-formula",
   "metadata": {
    "ExecuteTime": {
     "end_time": "2022-03-12T16:49:25.201126Z",
     "start_time": "2022-03-12T16:49:25.194126Z"
    }
   },
   "outputs": [],
   "source": [
    "# df.stop = df.stop.map(lambda x : splitStops(x))"
   ]
  },
  {
   "cell_type": "code",
   "execution_count": 73,
   "id": "pharmaceutical-ladder",
   "metadata": {
    "ExecuteTime": {
     "end_time": "2022-03-12T16:49:34.700845Z",
     "start_time": "2022-03-12T16:49:34.678879Z"
    }
   },
   "outputs": [
    {
     "data": {
      "text/plain": [
       "array(['0', '1'], dtype=object)"
      ]
     },
     "execution_count": 73,
     "metadata": {},
     "output_type": "execute_result"
    }
   ],
   "source": [
    "df.stop.unique()"
   ]
  },
  {
   "cell_type": "code",
   "execution_count": 86,
   "id": "possible-modern",
   "metadata": {
    "ExecuteTime": {
     "end_time": "2022-03-12T16:57:53.084603Z",
     "start_time": "2022-03-12T16:57:53.069673Z"
    }
   },
   "outputs": [
    {
     "data": {
      "text/plain": [
       "'02h'"
      ]
     },
     "execution_count": 86,
     "metadata": {},
     "output_type": "execute_result"
    }
   ],
   "source": [
    "df.time_taken[0].split(' ')[0]"
   ]
  },
  {
   "cell_type": "code",
   "execution_count": null,
   "id": "understanding-sperm",
   "metadata": {},
   "outputs": [],
   "source": [
    "p = re.compile('\\d{2}')"
   ]
  },
  {
   "cell_type": "code",
   "execution_count": 101,
   "id": "different-composite",
   "metadata": {
    "ExecuteTime": {
     "end_time": "2022-03-12T17:06:19.762005Z",
     "start_time": "2022-03-12T17:06:19.759009Z"
    }
   },
   "outputs": [],
   "source": [
    "def getTimeTaken(data):\n",
    "    return p.findall(data)[0]"
   ]
  },
  {
   "cell_type": "code",
   "execution_count": 102,
   "id": "framed-problem",
   "metadata": {
    "ExecuteTime": {
     "end_time": "2022-03-12T17:06:58.067180Z",
     "start_time": "2022-03-12T17:06:57.888357Z"
    }
   },
   "outputs": [],
   "source": [
    "df.time_taken = df.time_taken.map(lambda x : getTimeTaken(x))"
   ]
  },
  {
   "cell_type": "code",
   "execution_count": 128,
   "id": "union-processing",
   "metadata": {
    "ExecuteTime": {
     "end_time": "2022-03-12T17:16:07.588383Z",
     "start_time": "2022-03-12T17:16:06.445691Z"
    }
   },
   "outputs": [
    {
     "data": {
      "application/javascript": [
       "\n",
       "        if (window._pyforest_update_imports_cell) { window._pyforest_update_imports_cell('import re\\nimport seaborn as sns\\nimport matplotlib.pyplot as plt\\nimport pandas as pd'); }\n",
       "    "
      ],
      "text/plain": [
       "<IPython.core.display.Javascript object>"
      ]
     },
     "metadata": {},
     "output_type": "display_data"
    },
    {
     "data": {
      "text/plain": [
       "<AxesSubplot:xlabel='time_taken', ylabel='Count'>"
      ]
     },
     "execution_count": 128,
     "metadata": {},
     "output_type": "execute_result"
    },
    {
     "data": {
      "image/png": "[encoded data removed]",
      "text/plain": [
       "<Figure size 432x288 with 1 Axes>"
      ]
     },
     "metadata": {
      "needs_background": "light"
     },
     "output_type": "display_data"
    }
   ],
   "source": [
    "sns.histplot(df.time_taken, bins=5, kde=True)"
   ]
  },
  {
   "cell_type": "code",
   "execution_count": 110,
   "id": "thousand-interface",
   "metadata": {
    "ExecuteTime": {
     "end_time": "2022-03-12T17:09:44.566987Z",
     "start_time": "2022-03-12T17:09:44.554989Z"
    }
   },
   "outputs": [
    {
     "data": {
      "application/javascript": [
       "\n",
       "        if (window._pyforest_update_imports_cell) { window._pyforest_update_imports_cell('import re\\nimport seaborn as sns\\nimport matplotlib.pyplot as plt\\nimport pandas as pd'); }\n",
       "    "
      ],
      "text/plain": [
       "<IPython.core.display.Javascript object>"
      ]
     },
     "metadata": {},
     "output_type": "display_data"
    },
    {
     "data": {
      "text/plain": [
       "<Figure size 720x504 with 0 Axes>"
      ]
     },
     "metadata": {},
     "output_type": "display_data"
    }
   ],
   "source": [
    "fig = plt.figure(figsize =(10, 7))"
   ]
  },
  {
   "cell_type": "code",
   "execution_count": 115,
   "id": "significant-faith",
   "metadata": {
    "ExecuteTime": {
     "end_time": "2022-03-12T17:11:33.860199Z",
     "start_time": "2022-03-12T17:11:33.820334Z"
    }
   },
   "outputs": [],
   "source": [
    "df.time_taken = df.time_taken.astype(int)"
   ]
  },
  {
   "cell_type": "code",
   "execution_count": 130,
   "id": "minimal-percentage",
   "metadata": {
    "ExecuteTime": {
     "end_time": "2022-03-12T17:18:43.248479Z",
     "start_time": "2022-03-12T17:18:43.021008Z"
    }
   },
   "outputs": [
    {
     "data": {
      "application/javascript": [
       "\n",
       "        if (window._pyforest_update_imports_cell) { window._pyforest_update_imports_cell('import re\\nimport seaborn as sns\\nimport matplotlib.pyplot as plt\\nimport pandas as pd'); }\n",
       "    "
      ],
      "text/plain": [
       "<IPython.core.display.Javascript object>"
      ]
     },
     "metadata": {},
     "output_type": "display_data"
    },
    {
     "data": {
      "text/plain": [
       "<AxesSubplot:xlabel='airline', ylabel='time_taken'>"
      ]
     },
     "execution_count": 130,
     "metadata": {},
     "output_type": "execute_result"
    },
    {
     "data": {
      "image/png": "[encoded data removed]",
      "text/plain": [
       "<Figure size 432x288 with 1 Axes>"
      ]
     },
     "metadata": {
      "needs_background": "light"
     },
     "output_type": "display_data"
    }
   ],
   "source": [
    "sns.boxplot(x = df.airline, y=df.time_taken)"
   ]
  },
  {
   "cell_type": "code",
   "execution_count": 126,
   "id": "robust-liabilities",
   "metadata": {
    "ExecuteTime": {
     "end_time": "2022-03-12T17:13:41.675005Z",
     "start_time": "2022-03-12T17:13:41.667039Z"
    }
   },
   "outputs": [
    {
     "data": {
      "text/plain": [
       "0.25     6.0\n",
       "0.99    29.0\n",
       "Name: time_taken, dtype: float64"
      ]
     },
     "execution_count": 126,
     "metadata": {},
     "output_type": "execute_result"
    }
   ],
   "source": [
    "df.time_taken.quantile([.25, .99])"
   ]
  },
  {
   "cell_type": "code",
   "execution_count": 33,
   "id": "micro-intake",
   "metadata": {
    "ExecuteTime": {
     "end_time": "2022-03-12T16:28:10.189005Z",
     "start_time": "2022-03-12T16:28:10.183039Z"
    }
   },
   "outputs": [
    {
     "data": {
      "text/plain": [
       "Index(['date', 'airline', 'dep_time', 'from', 'time_taken', 'stop', 'arr_time',\n",
       "       'to', 'price'],\n",
       "      dtype='object')"
      ]
     },
     "execution_count": 33,
     "metadata": {},
     "output_type": "execute_result"
    }
   ],
   "source": [
    "df.columns"
   ]
  },
  {
   "cell_type": "code",
   "execution_count": 129,
   "id": "revolutionary-poetry",
   "metadata": {
    "ExecuteTime": {
     "end_time": "2022-03-12T17:17:33.049358Z",
     "start_time": "2022-03-12T17:17:32.844683Z"
    }
   },
   "outputs": [
    {
     "data": {
      "application/javascript": [
       "\n",
       "        if (window._pyforest_update_imports_cell) { window._pyforest_update_imports_cell('import re\\nimport seaborn as sns\\nimport matplotlib.pyplot as plt\\nimport pandas as pd'); }\n",
       "    "
      ],
      "text/plain": [
       "<IPython.core.display.Javascript object>"
      ]
     },
     "metadata": {},
     "output_type": "display_data"
    },
    {
     "name": "stderr",
     "output_type": "stream",
     "text": [
      "F:\\Anaconda3\\lib\\site-packages\\seaborn\\_decorators.py:36: FutureWarning: Pass the following variable as a keyword arg: x. From version 0.12, the only valid positional argument will be `data`, and passing other arguments without an explicit keyword will result in an error or misinterpretation.\n",
      "  warnings.warn(\n"
     ]
    },
    {
     "data": {
      "text/plain": [
       "<AxesSubplot:xlabel='airline', ylabel='count'>"
      ]
     },
     "execution_count": 129,
     "metadata": {},
     "output_type": "execute_result"
    },
    {
     "data": {
      "image/png": "[encoded data removed]",
      "text/plain": [
       "<Figure size 432x288 with 1 Axes>"
      ]
     },
     "metadata": {
      "needs_background": "light"
     },
     "output_type": "display_data"
    }
   ],
   "source": [
    "sns.countplot(df.airline)"
   ]
  },
  {
   "cell_type": "code",
   "execution_count": 131,
   "id": "random-compound",
   "metadata": {
    "ExecuteTime": {
     "end_time": "2022-03-12T17:19:13.659847Z",
     "start_time": "2022-03-12T17:19:13.624878Z"
    }
   },
   "outputs": [
    {
     "data": {
      "text/plain": [
       "vistara     67270\n",
       "airindia    47994\n",
       "indigo      43120\n",
       "gofirst     23177\n",
       "airasia     16098\n",
       "spicejet     9011\n",
       "starair        61\n",
       "trujet         41\n",
       "Name: airline, dtype: int64"
      ]
     },
     "execution_count": 131,
     "metadata": {},
     "output_type": "execute_result"
    }
   ],
   "source": [
    "df.airline.value_counts()"
   ]
  },
  {
   "cell_type": "code",
   "execution_count": 132,
   "id": "infrared-edmonton",
   "metadata": {
    "ExecuteTime": {
     "end_time": "2022-03-12T17:20:15.184064Z",
     "start_time": "2022-03-12T17:20:15.147093Z"
    }
   },
   "outputs": [
    {
     "data": {
      "text/html": [
       "<div>\n",
       "<style scoped>\n",
       "    .dataframe tbody tr th:only-of-type {\n",
       "        vertical-align: middle;\n",
       "    }\n",
       "\n",
       "    .dataframe tbody tr th {\n",
       "        vertical-align: top;\n",
       "    }\n",
       "\n",
       "    .dataframe thead th {\n",
       "        text-align: right;\n",
       "    }\n",
       "</style>\n",
       "<table border=\"1\" class=\"dataframe\">\n",
       "  <thead>\n",
       "    <tr style=\"text-align: right;\">\n",
       "      <th></th>\n",
       "      <th>mean</th>\n",
       "      <th>max</th>\n",
       "      <th>min</th>\n",
       "    </tr>\n",
       "    <tr>\n",
       "      <th>airline</th>\n",
       "      <th></th>\n",
       "      <th></th>\n",
       "      <th></th>\n",
       "    </tr>\n",
       "  </thead>\n",
       "  <tbody>\n",
       "    <tr>\n",
       "      <th>airasia</th>\n",
       "      <td>8.477326</td>\n",
       "      <td>19</td>\n",
       "      <td>0</td>\n",
       "    </tr>\n",
       "    <tr>\n",
       "      <th>airindia</th>\n",
       "      <td>15.642580</td>\n",
       "      <td>49</td>\n",
       "      <td>1</td>\n",
       "    </tr>\n",
       "    <tr>\n",
       "      <th>gofirst</th>\n",
       "      <td>8.293739</td>\n",
       "      <td>22</td>\n",
       "      <td>1</td>\n",
       "    </tr>\n",
       "    <tr>\n",
       "      <th>indigo</th>\n",
       "      <td>5.349235</td>\n",
       "      <td>15</td>\n",
       "      <td>0</td>\n",
       "    </tr>\n",
       "    <tr>\n",
       "      <th>spicejet</th>\n",
       "      <td>12.120519</td>\n",
       "      <td>27</td>\n",
       "      <td>1</td>\n",
       "    </tr>\n",
       "    <tr>\n",
       "      <th>starair</th>\n",
       "      <td>2.377049</td>\n",
       "      <td>5</td>\n",
       "      <td>1</td>\n",
       "    </tr>\n",
       "    <tr>\n",
       "      <th>trujet</th>\n",
       "      <td>25.731707</td>\n",
       "      <td>50</td>\n",
       "      <td>20</td>\n",
       "    </tr>\n",
       "    <tr>\n",
       "      <th>vistara</th>\n",
       "      <td>13.014865</td>\n",
       "      <td>47</td>\n",
       "      <td>1</td>\n",
       "    </tr>\n",
       "  </tbody>\n",
       "</table>\n",
       "</div>"
      ],
      "text/plain": [
       "               mean  max  min\n",
       "airline                      \n",
       "airasia    8.477326   19    0\n",
       "airindia  15.642580   49    1\n",
       "gofirst    8.293739   22    1\n",
       "indigo     5.349235   15    0\n",
       "spicejet  12.120519   27    1\n",
       "starair    2.377049    5    1\n",
       "trujet    25.731707   50   20\n",
       "vistara   13.014865   47    1"
      ]
     },
     "execution_count": 132,
     "metadata": {},
     "output_type": "execute_result"
    }
   ],
   "source": [
    "df.groupby(\"airline\")['time_taken'].agg({\"max\",\"min\",\"mean\"})"
   ]
  },
  {
   "cell_type": "code",
   "execution_count": 137,
   "id": "proved-mention",
   "metadata": {
    "ExecuteTime": {
     "end_time": "2022-03-12T17:21:51.124059Z",
     "start_time": "2022-03-12T17:21:51.107061Z"
    }
   },
   "outputs": [],
   "source": [
    "# df.groupby(\"airline\")['price'].agg({\"max\",\"min\",\"mean\"})"
   ]
  },
  {
   "cell_type": "code",
   "execution_count": 140,
   "id": "damaged-russian",
   "metadata": {
    "ExecuteTime": {
     "end_time": "2022-03-12T17:27:26.012613Z",
     "start_time": "2022-03-12T17:27:25.925615Z"
    }
   },
   "outputs": [],
   "source": [
    "df.price = df.price.map(lambda x : str(x).replace(',',''))"
   ]
  },
  {
   "cell_type": "code",
   "execution_count": 142,
   "id": "mental-worry",
   "metadata": {
    "ExecuteTime": {
     "end_time": "2022-03-12T17:28:22.040756Z",
     "start_time": "2022-03-12T17:28:22.005731Z"
    }
   },
   "outputs": [],
   "source": [
    "df.price = df.price.astype(int)"
   ]
  },
  {
   "cell_type": "code",
   "execution_count": 143,
   "id": "three-liabilities",
   "metadata": {
    "ExecuteTime": {
     "end_time": "2022-03-12T17:28:47.372639Z",
     "start_time": "2022-03-12T17:28:47.329641Z"
    }
   },
   "outputs": [
    {
     "data": {
      "text/html": [
       "<div>\n",
       "<style scoped>\n",
       "    .dataframe tbody tr th:only-of-type {\n",
       "        vertical-align: middle;\n",
       "    }\n",
       "\n",
       "    .dataframe tbody tr th {\n",
       "        vertical-align: top;\n",
       "    }\n",
       "\n",
       "    .dataframe thead th {\n",
       "        text-align: right;\n",
       "    }\n",
       "</style>\n",
       "<table border=\"1\" class=\"dataframe\">\n",
       "  <thead>\n",
       "    <tr style=\"text-align: right;\">\n",
       "      <th></th>\n",
       "      <th>mean</th>\n",
       "      <th>max</th>\n",
       "      <th>min</th>\n",
       "    </tr>\n",
       "    <tr>\n",
       "      <th>airline</th>\n",
       "      <th></th>\n",
       "      <th></th>\n",
       "      <th></th>\n",
       "    </tr>\n",
       "  </thead>\n",
       "  <tbody>\n",
       "    <tr>\n",
       "      <th>airasia</th>\n",
       "      <td>4091.072742</td>\n",
       "      <td>31917</td>\n",
       "      <td>1105</td>\n",
       "    </tr>\n",
       "    <tr>\n",
       "      <th>airindia</th>\n",
       "      <td>7313.682169</td>\n",
       "      <td>42349</td>\n",
       "      <td>1526</td>\n",
       "    </tr>\n",
       "    <tr>\n",
       "      <th>gofirst</th>\n",
       "      <td>5651.930578</td>\n",
       "      <td>32803</td>\n",
       "      <td>1105</td>\n",
       "    </tr>\n",
       "    <tr>\n",
       "      <th>indigo</th>\n",
       "      <td>5324.216303</td>\n",
       "      <td>31952</td>\n",
       "      <td>1105</td>\n",
       "    </tr>\n",
       "    <tr>\n",
       "      <th>spicejet</th>\n",
       "      <td>6179.278881</td>\n",
       "      <td>34158</td>\n",
       "      <td>1106</td>\n",
       "    </tr>\n",
       "    <tr>\n",
       "      <th>starair</th>\n",
       "      <td>4932.655738</td>\n",
       "      <td>17482</td>\n",
       "      <td>2000</td>\n",
       "    </tr>\n",
       "    <tr>\n",
       "      <th>trujet</th>\n",
       "      <td>3244.634146</td>\n",
       "      <td>4844</td>\n",
       "      <td>3124</td>\n",
       "    </tr>\n",
       "    <tr>\n",
       "      <th>vistara</th>\n",
       "      <td>7806.943645</td>\n",
       "      <td>37646</td>\n",
       "      <td>1714</td>\n",
       "    </tr>\n",
       "  </tbody>\n",
       "</table>\n",
       "</div>"
      ],
      "text/plain": [
       "                 mean    max   min\n",
       "airline                           \n",
       "airasia   4091.072742  31917  1105\n",
       "airindia  7313.682169  42349  1526\n",
       "gofirst   5651.930578  32803  1105\n",
       "indigo    5324.216303  31952  1105\n",
       "spicejet  6179.278881  34158  1106\n",
       "starair   4932.655738  17482  2000\n",
       "trujet    3244.634146   4844  3124\n",
       "vistara   7806.943645  37646  1714"
      ]
     },
     "execution_count": 143,
     "metadata": {},
     "output_type": "execute_result"
    }
   ],
   "source": [
    "df.groupby(\"airline\")['price'].agg({\"max\",\"min\",\"mean\"})"
   ]
  },
  {
   "cell_type": "code",
   "execution_count": 153,
   "id": "breathing-fitting",
   "metadata": {
    "ExecuteTime": {
     "end_time": "2022-03-12T17:31:59.124731Z",
     "start_time": "2022-03-12T17:31:58.148414Z"
    }
   },
   "outputs": [
    {
     "data": {
      "application/javascript": [
       "\n",
       "        if (window._pyforest_update_imports_cell) { window._pyforest_update_imports_cell('import re\\nimport seaborn as sns\\nimport matplotlib.pyplot as plt\\nimport pandas as pd'); }\n",
       "    "
      ],
      "text/plain": [
       "<IPython.core.display.Javascript object>"
      ]
     },
     "metadata": {},
     "output_type": "display_data"
    },
    {
     "data": {
      "text/plain": [
       "<AxesSubplot:xlabel='price', ylabel='Count'>"
      ]
     },
     "execution_count": 153,
     "metadata": {},
     "output_type": "execute_result"
    },
    {
     "data": {
      "image/png": "[encoded data removed]",
      "text/plain": [
       "<Figure size 432x288 with 1 Axes>"
      ]
     },
     "metadata": {
      "needs_background": "light"
     },
     "output_type": "display_data"
    }
   ],
   "source": [
    "sns.histplot(np.log(df.price), bins=5, kde=True)"
   ]
  },
  {
   "cell_type": "code",
   "execution_count": 159,
   "id": "coordinated-cookbook",
   "metadata": {
    "ExecuteTime": {
     "end_time": "2022-03-12T17:38:15.560202Z",
     "start_time": "2022-03-12T17:38:14.994744Z"
    }
   },
   "outputs": [
    {
     "data": {
      "application/javascript": [
       "\n",
       "        if (window._pyforest_update_imports_cell) { window._pyforest_update_imports_cell('import re\\nimport seaborn as sns\\nimport matplotlib.pyplot as plt\\nimport pandas as pd'); }\n",
       "    "
      ],
      "text/plain": [
       "<IPython.core.display.Javascript object>"
      ]
     },
     "metadata": {},
     "output_type": "display_data"
    },
    {
     "data": {
      "text/plain": [
       "<AxesSubplot:xlabel='airline', ylabel='price'>"
      ]
     },
     "execution_count": 159,
     "metadata": {},
     "output_type": "execute_result"
    },
    {
     "data": {
      "image/png": "[encoded data removed]",
      "text/plain": [
       "<Figure size 432x288 with 1 Axes>"
      ]
     },
     "metadata": {
      "needs_background": "light"
     },
     "output_type": "display_data"
    }
   ],
   "source": [
    "sns.boxplot(x=df.airline.isin([\"spicejet\"]), y=df.price, hue=df['from'])"
   ]
  },
  {
   "cell_type": "code",
   "execution_count": 150,
   "id": "bound-effectiveness",
   "metadata": {
    "ExecuteTime": {
     "end_time": "2022-03-12T17:31:14.606868Z",
     "start_time": "2022-03-12T17:31:13.738946Z"
    }
   },
   "outputs": [
    {
     "data": {
      "application/javascript": [
       "\n",
       "        if (window._pyforest_update_imports_cell) { window._pyforest_update_imports_cell('import re\\nimport seaborn as sns\\nimport matplotlib.pyplot as plt\\nimport pandas as pd'); }\n",
       "    "
      ],
      "text/plain": [
       "<IPython.core.display.Javascript object>"
      ]
     },
     "metadata": {},
     "output_type": "display_data"
    },
    {
     "name": "stderr",
     "output_type": "stream",
     "text": [
      "F:\\Anaconda3\\lib\\site-packages\\pandas\\core\\arraylike.py:397: RuntimeWarning: divide by zero encountered in log10\n",
      "  result = getattr(ufunc, method)(*inputs, **kwargs)\n"
     ]
    },
    {
     "data": {
      "text/plain": [
       "<AxesSubplot:xlabel='time_taken', ylabel='Count'>"
      ]
     },
     "execution_count": 150,
     "metadata": {},
     "output_type": "execute_result"
    },
    {
     "data": {
      "image/png": "[encoded data removed]",
      "text/plain": [
       "<Figure size 432x288 with 1 Axes>"
      ]
     },
     "metadata": {
      "needs_background": "light"
     },
     "output_type": "display_data"
    }
   ],
   "source": [
    "sns.histplot(np.log10(df.time_taken), bins=12, kde=True)"
   ]
  },
  {
   "cell_type": "code",
   "execution_count": 158,
   "id": "studied-civilization",
   "metadata": {
    "ExecuteTime": {
     "end_time": "2022-03-12T17:35:38.490681Z",
     "start_time": "2022-03-12T17:35:35.673791Z"
    }
   },
   "outputs": [
    {
     "data": {
      "application/javascript": [
       "\n",
       "        if (window._pyforest_update_imports_cell) { window._pyforest_update_imports_cell('import re\\nimport seaborn as sns\\nimport matplotlib.pyplot as plt\\nimport pandas as pd'); }\n",
       "    "
      ],
      "text/plain": [
       "<IPython.core.display.Javascript object>"
      ]
     },
     "metadata": {},
     "output_type": "display_data"
    },
    {
     "data": {
      "text/plain": [
       "<AxesSubplot:xlabel='date', ylabel='price'>"
      ]
     },
     "execution_count": 158,
     "metadata": {},
     "output_type": "execute_result"
    },
    {
     "data": {
      "image/png": "[encoded data removed]",
      "text/plain": [
       "<Figure size 432x288 with 1 Axes>"
      ]
     },
     "metadata": {
      "needs_background": "light"
     },
     "output_type": "display_data"
    }
   ],
   "source": [
    "sns.lineplot(x=df.date, y= df.price)"
   ]
  },
  {
   "cell_type": "code",
   "execution_count": 163,
   "id": "persistent-motivation",
   "metadata": {
    "ExecuteTime": {
     "end_time": "2022-03-12T17:43:22.803411Z",
     "start_time": "2022-03-12T17:43:22.397144Z"
    }
   },
   "outputs": [
    {
     "data": {
      "application/javascript": [
       "\n",
       "        if (window._pyforest_update_imports_cell) { window._pyforest_update_imports_cell('import re\\nimport seaborn as sns\\nimport matplotlib.pyplot as plt\\nimport pandas as pd'); }\n",
       "    "
      ],
      "text/plain": [
       "<IPython.core.display.Javascript object>"
      ]
     },
     "metadata": {},
     "output_type": "display_data"
    },
    {
     "name": "stderr",
     "output_type": "stream",
     "text": [
      "F:\\Anaconda3\\lib\\site-packages\\pandas\\core\\arraylike.py:397: RuntimeWarning: divide by zero encountered in log10\n",
      "  result = getattr(ufunc, method)(*inputs, **kwargs)\n"
     ]
    },
    {
     "data": {
      "text/plain": [
       "<AxesSubplot:xlabel='price', ylabel='time_taken'>"
      ]
     },
     "execution_count": 163,
     "metadata": {},
     "output_type": "execute_result"
    },
    {
     "data": {
      "image/png": "[encoded data removed]",
      "text/plain": [
       "<Figure size 432x288 with 1 Axes>"
      ]
     },
     "metadata": {
      "needs_background": "light"
     },
     "output_type": "display_data"
    }
   ],
   "source": [
    "sns.scatterplot(x=np.log10(df.price), y=np.log10(df.time_taken))"
   ]
  },
  {
   "cell_type": "code",
   "execution_count": 165,
   "id": "pharmaceutical-mineral",
   "metadata": {
    "ExecuteTime": {
     "end_time": "2022-03-12T17:43:51.328596Z",
     "start_time": "2022-03-12T17:43:51.309631Z"
    }
   },
   "outputs": [
    {
     "data": {
      "text/html": [
       "<div>\n",
       "<style scoped>\n",
       "    .dataframe tbody tr th:only-of-type {\n",
       "        vertical-align: middle;\n",
       "    }\n",
       "\n",
       "    .dataframe tbody tr th {\n",
       "        vertical-align: top;\n",
       "    }\n",
       "\n",
       "    .dataframe thead th {\n",
       "        text-align: right;\n",
       "    }\n",
       "</style>\n",
       "<table border=\"1\" class=\"dataframe\">\n",
       "  <thead>\n",
       "    <tr style=\"text-align: right;\">\n",
       "      <th></th>\n",
       "      <th>date</th>\n",
       "      <th>airline</th>\n",
       "      <th>from</th>\n",
       "      <th>time_taken</th>\n",
       "      <th>stop</th>\n",
       "      <th>to</th>\n",
       "      <th>price</th>\n",
       "    </tr>\n",
       "  </thead>\n",
       "  <tbody>\n",
       "    <tr>\n",
       "      <th>0</th>\n",
       "      <td>11-02-2022</td>\n",
       "      <td>spicejet</td>\n",
       "      <td>delhi</td>\n",
       "      <td>2</td>\n",
       "      <td>0</td>\n",
       "      <td>Mumbai</td>\n",
       "      <td>5953</td>\n",
       "    </tr>\n",
       "    <tr>\n",
       "      <th>1</th>\n",
       "      <td>11-02-2022</td>\n",
       "      <td>spicejet</td>\n",
       "      <td>delhi</td>\n",
       "      <td>2</td>\n",
       "      <td>0</td>\n",
       "      <td>Mumbai</td>\n",
       "      <td>5953</td>\n",
       "    </tr>\n",
       "    <tr>\n",
       "      <th>2</th>\n",
       "      <td>11-02-2022</td>\n",
       "      <td>airasia</td>\n",
       "      <td>delhi</td>\n",
       "      <td>2</td>\n",
       "      <td>0</td>\n",
       "      <td>Mumbai</td>\n",
       "      <td>5956</td>\n",
       "    </tr>\n",
       "    <tr>\n",
       "      <th>3</th>\n",
       "      <td>11-02-2022</td>\n",
       "      <td>vistara</td>\n",
       "      <td>delhi</td>\n",
       "      <td>2</td>\n",
       "      <td>0</td>\n",
       "      <td>Mumbai</td>\n",
       "      <td>5955</td>\n",
       "    </tr>\n",
       "    <tr>\n",
       "      <th>4</th>\n",
       "      <td>11-02-2022</td>\n",
       "      <td>vistara</td>\n",
       "      <td>delhi</td>\n",
       "      <td>2</td>\n",
       "      <td>0</td>\n",
       "      <td>Mumbai</td>\n",
       "      <td>5955</td>\n",
       "    </tr>\n",
       "  </tbody>\n",
       "</table>\n",
       "</div>"
      ],
      "text/plain": [
       "         date   airline   from  time_taken stop      to  price\n",
       "0  11-02-2022  spicejet  delhi           2    0  Mumbai   5953\n",
       "1  11-02-2022  spicejet  delhi           2    0  Mumbai   5953\n",
       "2  11-02-2022   airasia  delhi           2    0  Mumbai   5956\n",
       "3  11-02-2022   vistara  delhi           2    0  Mumbai   5955\n",
       "4  11-02-2022   vistara  delhi           2    0  Mumbai   5955"
      ]
     },
     "execution_count": 165,
     "metadata": {},
     "output_type": "execute_result"
    }
   ],
   "source": [
    "df.head()"
   ]
  },
  {
   "cell_type": "code",
   "execution_count": 167,
   "id": "expected-packaging",
   "metadata": {
    "ExecuteTime": {
     "end_time": "2022-03-12T17:45:07.102857Z",
     "start_time": "2022-03-12T17:45:07.072702Z"
    }
   },
   "outputs": [],
   "source": [
    "df_delhi = df[df['from']=='delhi']"
   ]
  },
  {
   "cell_type": "code",
   "execution_count": 186,
   "id": "frequent-genre",
   "metadata": {
    "ExecuteTime": {
     "end_time": "2022-03-12T17:54:27.795303Z",
     "start_time": "2022-03-12T17:54:27.776335Z"
    }
   },
   "outputs": [
    {
     "data": {
      "text/html": [
       "<div>\n",
       "<style scoped>\n",
       "    .dataframe tbody tr th:only-of-type {\n",
       "        vertical-align: middle;\n",
       "    }\n",
       "\n",
       "    .dataframe tbody tr th {\n",
       "        vertical-align: top;\n",
       "    }\n",
       "\n",
       "    .dataframe thead th {\n",
       "        text-align: right;\n",
       "    }\n",
       "</style>\n",
       "<table border=\"1\" class=\"dataframe\">\n",
       "  <thead>\n",
       "    <tr style=\"text-align: right;\">\n",
       "      <th></th>\n",
       "      <th>date</th>\n",
       "      <th>airline</th>\n",
       "      <th>from</th>\n",
       "      <th>time_taken</th>\n",
       "      <th>stop</th>\n",
       "      <th>to</th>\n",
       "      <th>price</th>\n",
       "    </tr>\n",
       "  </thead>\n",
       "  <tbody>\n",
       "    <tr>\n",
       "      <th>0</th>\n",
       "      <td>11-02-2022</td>\n",
       "      <td>spicejet</td>\n",
       "      <td>delhi</td>\n",
       "      <td>2</td>\n",
       "      <td>0</td>\n",
       "      <td>Mumbai</td>\n",
       "      <td>5953</td>\n",
       "    </tr>\n",
       "    <tr>\n",
       "      <th>1</th>\n",
       "      <td>11-02-2022</td>\n",
       "      <td>spicejet</td>\n",
       "      <td>delhi</td>\n",
       "      <td>2</td>\n",
       "      <td>0</td>\n",
       "      <td>Mumbai</td>\n",
       "      <td>5953</td>\n",
       "    </tr>\n",
       "    <tr>\n",
       "      <th>2</th>\n",
       "      <td>11-02-2022</td>\n",
       "      <td>airasia</td>\n",
       "      <td>delhi</td>\n",
       "      <td>2</td>\n",
       "      <td>0</td>\n",
       "      <td>Mumbai</td>\n",
       "      <td>5956</td>\n",
       "    </tr>\n",
       "    <tr>\n",
       "      <th>3</th>\n",
       "      <td>11-02-2022</td>\n",
       "      <td>vistara</td>\n",
       "      <td>delhi</td>\n",
       "      <td>2</td>\n",
       "      <td>0</td>\n",
       "      <td>Mumbai</td>\n",
       "      <td>5955</td>\n",
       "    </tr>\n",
       "    <tr>\n",
       "      <th>4</th>\n",
       "      <td>11-02-2022</td>\n",
       "      <td>vistara</td>\n",
       "      <td>delhi</td>\n",
       "      <td>2</td>\n",
       "      <td>0</td>\n",
       "      <td>Mumbai</td>\n",
       "      <td>5955</td>\n",
       "    </tr>\n",
       "  </tbody>\n",
       "</table>\n",
       "</div>"
      ],
      "text/plain": [
       "         date   airline   from  time_taken stop      to  price\n",
       "0  11-02-2022  spicejet  delhi           2    0  Mumbai   5953\n",
       "1  11-02-2022  spicejet  delhi           2    0  Mumbai   5953\n",
       "2  11-02-2022   airasia  delhi           2    0  Mumbai   5956\n",
       "3  11-02-2022   vistara  delhi           2    0  Mumbai   5955\n",
       "4  11-02-2022   vistara  delhi           2    0  Mumbai   5955"
      ]
     },
     "execution_count": 186,
     "metadata": {},
     "output_type": "execute_result"
    }
   ],
   "source": [
    "df_delhi.head()"
   ]
  },
  {
   "cell_type": "code",
   "execution_count": 169,
   "id": "sought-regulation",
   "metadata": {
    "ExecuteTime": {
     "end_time": "2022-03-12T17:45:31.801937Z",
     "start_time": "2022-03-12T17:45:31.797970Z"
    }
   },
   "outputs": [
    {
     "data": {
      "text/plain": [
       "(43027, 7)"
      ]
     },
     "execution_count": 169,
     "metadata": {},
     "output_type": "execute_result"
    }
   ],
   "source": [
    "df_delhi.shape"
   ]
  },
  {
   "cell_type": "code",
   "execution_count": 170,
   "id": "younger-pantyhose",
   "metadata": {
    "ExecuteTime": {
     "end_time": "2022-03-12T17:45:51.295954Z",
     "start_time": "2022-03-12T17:45:51.277924Z"
    }
   },
   "outputs": [
    {
     "data": {
      "text/plain": [
       "Bangalore    10144\n",
       "Mumbai        9982\n",
       "Kolkata       8654\n",
       "Chennai       7666\n",
       "Hyderabad     6581\n",
       "Name: to, dtype: int64"
      ]
     },
     "execution_count": 170,
     "metadata": {},
     "output_type": "execute_result"
    }
   ],
   "source": [
    "df_delhi.to.value_counts()"
   ]
  },
  {
   "cell_type": "code",
   "execution_count": 184,
   "id": "israeli-battle",
   "metadata": {
    "ExecuteTime": {
     "end_time": "2022-03-12T17:53:07.604350Z",
     "start_time": "2022-03-12T17:53:07.550300Z"
    }
   },
   "outputs": [
    {
     "data": {
      "text/html": [
       "<div>\n",
       "<style scoped>\n",
       "    .dataframe tbody tr th:only-of-type {\n",
       "        vertical-align: middle;\n",
       "    }\n",
       "\n",
       "    .dataframe tbody tr th {\n",
       "        vertical-align: top;\n",
       "    }\n",
       "\n",
       "    .dataframe thead tr th {\n",
       "        text-align: left;\n",
       "    }\n",
       "\n",
       "    .dataframe thead tr:last-of-type th {\n",
       "        text-align: right;\n",
       "    }\n",
       "</style>\n",
       "<table border=\"1\" class=\"dataframe\">\n",
       "  <thead>\n",
       "    <tr>\n",
       "      <th></th>\n",
       "      <th colspan=\"3\" halign=\"left\">time_taken</th>\n",
       "      <th colspan=\"3\" halign=\"left\">price</th>\n",
       "      <th colspan=\"3\" halign=\"left\">stop</th>\n",
       "    </tr>\n",
       "    <tr>\n",
       "      <th></th>\n",
       "      <th>mean</th>\n",
       "      <th>max</th>\n",
       "      <th>min</th>\n",
       "      <th>mean</th>\n",
       "      <th>max</th>\n",
       "      <th>min</th>\n",
       "      <th>mean</th>\n",
       "      <th>max</th>\n",
       "      <th>min</th>\n",
       "    </tr>\n",
       "    <tr>\n",
       "      <th>to</th>\n",
       "      <th></th>\n",
       "      <th></th>\n",
       "      <th></th>\n",
       "      <th></th>\n",
       "      <th></th>\n",
       "      <th></th>\n",
       "      <th></th>\n",
       "      <th></th>\n",
       "      <th></th>\n",
       "    </tr>\n",
       "  </thead>\n",
       "  <tbody>\n",
       "    <tr>\n",
       "      <th>Bangalore</th>\n",
       "      <td>9.474862</td>\n",
       "      <td>36</td>\n",
       "      <td>2</td>\n",
       "      <td>6175.622535</td>\n",
       "      <td>31917</td>\n",
       "      <td>3090</td>\n",
       "      <td>inf</td>\n",
       "      <td>1</td>\n",
       "      <td>0</td>\n",
       "    </tr>\n",
       "    <tr>\n",
       "      <th>Chennai</th>\n",
       "      <td>11.384294</td>\n",
       "      <td>37</td>\n",
       "      <td>2</td>\n",
       "      <td>6102.317245</td>\n",
       "      <td>35145</td>\n",
       "      <td>1998</td>\n",
       "      <td>inf</td>\n",
       "      <td>1</td>\n",
       "      <td>0</td>\n",
       "    </tr>\n",
       "    <tr>\n",
       "      <th>Hyderabad</th>\n",
       "      <td>11.681659</td>\n",
       "      <td>39</td>\n",
       "      <td>1</td>\n",
       "      <td>6031.164261</td>\n",
       "      <td>30760</td>\n",
       "      <td>2022</td>\n",
       "      <td>inf</td>\n",
       "      <td>1</td>\n",
       "      <td>0</td>\n",
       "    </tr>\n",
       "    <tr>\n",
       "      <th>Kolkata</th>\n",
       "      <td>11.605500</td>\n",
       "      <td>35</td>\n",
       "      <td>2</td>\n",
       "      <td>7045.621678</td>\n",
       "      <td>32999</td>\n",
       "      <td>2480</td>\n",
       "      <td>inf</td>\n",
       "      <td>1</td>\n",
       "      <td>0</td>\n",
       "    </tr>\n",
       "    <tr>\n",
       "      <th>Mumbai</th>\n",
       "      <td>9.146363</td>\n",
       "      <td>30</td>\n",
       "      <td>2</td>\n",
       "      <td>6059.826087</td>\n",
       "      <td>31260</td>\n",
       "      <td>2281</td>\n",
       "      <td>inf</td>\n",
       "      <td>1</td>\n",
       "      <td>0</td>\n",
       "    </tr>\n",
       "  </tbody>\n",
       "</table>\n",
       "</div>"
      ],
      "text/plain": [
       "          time_taken                price              stop        \n",
       "                mean max min         mean    max   min mean max min\n",
       "to                                                                 \n",
       "Bangalore   9.474862  36   2  6175.622535  31917  3090  inf   1   0\n",
       "Chennai    11.384294  37   2  6102.317245  35145  1998  inf   1   0\n",
       "Hyderabad  11.681659  39   1  6031.164261  30760  2022  inf   1   0\n",
       "Kolkata    11.605500  35   2  7045.621678  32999  2480  inf   1   0\n",
       "Mumbai      9.146363  30   2  6059.826087  31260  2281  inf   1   0"
      ]
     },
     "execution_count": 184,
     "metadata": {},
     "output_type": "execute_result"
    }
   ],
   "source": [
    "df_delhi.groupby(['to'])[['time_taken','price','stop']].agg({'max','min','mean'})"
   ]
  },
  {
   "cell_type": "code",
   "execution_count": 178,
   "id": "generic-lucas",
   "metadata": {
    "ExecuteTime": {
     "end_time": "2022-03-12T17:49:57.008394Z",
     "start_time": "2022-03-12T17:49:56.998393Z"
    }
   },
   "outputs": [],
   "source": [
    "data = df_delhi[df_delhi.to == 'Delhi']"
   ]
  },
  {
   "cell_type": "code",
   "execution_count": 179,
   "id": "equipped-commodity",
   "metadata": {
    "ExecuteTime": {
     "end_time": "2022-03-12T17:49:57.651956Z",
     "start_time": "2022-03-12T17:49:57.646958Z"
    }
   },
   "outputs": [
    {
     "data": {
      "text/plain": [
       "(0, 7)"
      ]
     },
     "execution_count": 179,
     "metadata": {},
     "output_type": "execute_result"
    }
   ],
   "source": [
    "data.shape"
   ]
  },
  {
   "cell_type": "code",
   "execution_count": 185,
   "id": "efficient-weather",
   "metadata": {
    "ExecuteTime": {
     "end_time": "2022-03-12T17:54:08.943651Z",
     "start_time": "2022-03-12T17:54:08.919654Z"
    }
   },
   "outputs": [
    {
     "data": {
      "text/html": [
       "<div>\n",
       "<style scoped>\n",
       "    .dataframe tbody tr th:only-of-type {\n",
       "        vertical-align: middle;\n",
       "    }\n",
       "\n",
       "    .dataframe tbody tr th {\n",
       "        vertical-align: top;\n",
       "    }\n",
       "\n",
       "    .dataframe thead th {\n",
       "        text-align: right;\n",
       "    }\n",
       "</style>\n",
       "<table border=\"1\" class=\"dataframe\">\n",
       "  <thead>\n",
       "    <tr style=\"text-align: right;\">\n",
       "      <th></th>\n",
       "      <th>time_taken</th>\n",
       "      <th>price</th>\n",
       "    </tr>\n",
       "  </thead>\n",
       "  <tbody>\n",
       "    <tr>\n",
       "      <th>count</th>\n",
       "      <td>43027.000000</td>\n",
       "      <td>43027.000000</td>\n",
       "    </tr>\n",
       "    <tr>\n",
       "      <th>mean</th>\n",
       "      <td>10.504916</td>\n",
       "      <td>6288.585423</td>\n",
       "    </tr>\n",
       "    <tr>\n",
       "      <th>std</th>\n",
       "      <td>7.155938</td>\n",
       "      <td>3627.729655</td>\n",
       "    </tr>\n",
       "    <tr>\n",
       "      <th>min</th>\n",
       "      <td>1.000000</td>\n",
       "      <td>1998.000000</td>\n",
       "    </tr>\n",
       "    <tr>\n",
       "      <th>25%</th>\n",
       "      <td>5.000000</td>\n",
       "      <td>4000.000000</td>\n",
       "    </tr>\n",
       "    <tr>\n",
       "      <th>50%</th>\n",
       "      <td>9.000000</td>\n",
       "      <td>5504.000000</td>\n",
       "    </tr>\n",
       "    <tr>\n",
       "      <th>75%</th>\n",
       "      <td>14.000000</td>\n",
       "      <td>7425.000000</td>\n",
       "    </tr>\n",
       "    <tr>\n",
       "      <th>max</th>\n",
       "      <td>39.000000</td>\n",
       "      <td>35145.000000</td>\n",
       "    </tr>\n",
       "  </tbody>\n",
       "</table>\n",
       "</div>"
      ],
      "text/plain": [
       "         time_taken         price\n",
       "count  43027.000000  43027.000000\n",
       "mean      10.504916   6288.585423\n",
       "std        7.155938   3627.729655\n",
       "min        1.000000   1998.000000\n",
       "25%        5.000000   4000.000000\n",
       "50%        9.000000   5504.000000\n",
       "75%       14.000000   7425.000000\n",
       "max       39.000000  35145.000000"
      ]
     },
     "execution_count": 185,
     "metadata": {},
     "output_type": "execute_result"
    }
   ],
   "source": [
    "df_delhi.describe()"
   ]
  },
  {
   "cell_type": "code",
   "execution_count": null,
   "id": "smart-twelve",
   "metadata": {},
   "outputs": [],
   "source": []
  }
 ],
 "metadata": {
  "hide_input": false,
  "kernelspec": {
   "display_name": "Python 3",
   "language": "python",
   "name": "python3"
  },
  "language_info": {
   "codemirror_mode": {
    "name": "ipython",
    "version": 3
   },
   "file_extension": ".py",
   "mimetype": "text/x-python",
   "name": "python",
   "nbconvert_exporter": "python",
   "pygments_lexer": "ipython3",
   "version": "3.8.12"
  },
  "varInspector": {
   "cols": {
    "lenName": 16,
    "lenType": 16,
    "lenVar": 40
   },
   "kernels_config": {
    "python": {
     "delete_cmd_postfix": "",
     "delete_cmd_prefix": "del ",
     "library": "var_list.py",
     "varRefreshCmd": "print(var_dic_list())"
    },
    "r": {
     "delete_cmd_postfix": ") ",
     "delete_cmd_prefix": "rm(",
     "library": "var_list.r",
     "varRefreshCmd": "cat(var_dic_list()) "
    }
   },
   "oldHeight": 122.844,
   "position": {
    "height": "361.844px",
    "left": "996px",
    "right": "20px",
    "top": "120px",
    "width": "350px"
   },
   "types_to_exclude": [
    "module",
    "function",
    "builtin_function_or_method",
    "instance",
    "_Feature"
   ],
   "varInspector_section_display": "block",
   "window_display": false
  }
 },
 "nbformat": 4,
 "nbformat_minor": 5
}
