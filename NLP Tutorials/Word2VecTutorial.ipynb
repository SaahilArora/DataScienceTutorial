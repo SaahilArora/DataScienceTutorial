{
 "cells": [
  {
   "cell_type": "code",
   "execution_count": 1,
   "id": "studied-quantum",
   "metadata": {
    "ExecuteTime": {
     "end_time": "2021-12-11T18:30:31.425679Z",
     "start_time": "2021-12-11T18:30:29.429037Z"
    }
   },
   "outputs": [
    {
     "name": "stderr",
     "output_type": "stream",
     "text": [
      "F:\\Anaconda3\\lib\\site-packages\\gensim\\similarities\\__init__.py:15: UserWarning: The gensim.similarities.levenshtein submodule is disabled, because the optional Levenshtein package <https://pypi.org/project/python-Levenshtein/> is unavailable. Install Levenhstein (e.g. `pip install python-Levenshtein`) to suppress this warning.\n",
      "  warnings.warn(msg)\n"
     ]
    }
   ],
   "source": [
    "import gensim as gn"
   ]
  },
  {
   "cell_type": "code",
   "execution_count": 162,
   "id": "through-lyric",
   "metadata": {
    "ExecuteTime": {
     "end_time": "2021-12-11T20:04:11.596705Z",
     "start_time": "2021-12-11T20:04:11.524688Z"
    }
   },
   "outputs": [
    {
     "data": {
      "application/javascript": [
       "\n",
       "        if (window._pyforest_update_imports_cell) { window._pyforest_update_imports_cell('import gensim\\nimport pandas as pd'); }\n",
       "    "
      ],
      "text/plain": [
       "<IPython.core.display.Javascript object>"
      ]
     },
     "metadata": {},
     "output_type": "display_data"
    }
   ],
   "source": [
    "df = pd.read_csv('./Data/20191226-reviews.csv/20191226-reviews.csv', nrows=8000)"
   ]
  },
  {
   "cell_type": "code",
   "execution_count": 163,
   "id": "clean-designation",
   "metadata": {
    "ExecuteTime": {
     "end_time": "2021-12-11T20:04:11.785277Z",
     "start_time": "2021-12-11T20:04:11.766215Z"
    }
   },
   "outputs": [
    {
     "data": {
      "text/plain": [
       "(8000, 8)"
      ]
     },
     "execution_count": 163,
     "metadata": {},
     "output_type": "execute_result"
    }
   ],
   "source": [
    "df.shape"
   ]
  },
  {
   "cell_type": "code",
   "execution_count": 164,
   "id": "material-professor",
   "metadata": {
    "ExecuteTime": {
     "end_time": "2021-12-11T20:04:12.254206Z",
     "start_time": "2021-12-11T20:04:12.234248Z"
    }
   },
   "outputs": [],
   "source": [
    "df = df[[\"title\",\"body\"]]"
   ]
  },
  {
   "cell_type": "code",
   "execution_count": 165,
   "id": "moved-lesson",
   "metadata": {
    "ExecuteTime": {
     "end_time": "2021-12-11T20:04:12.840248Z",
     "start_time": "2021-12-11T20:04:12.819687Z"
    }
   },
   "outputs": [
    {
     "data": {
      "text/html": [
       "<div>\n",
       "<style scoped>\n",
       "    .dataframe tbody tr th:only-of-type {\n",
       "        vertical-align: middle;\n",
       "    }\n",
       "\n",
       "    .dataframe tbody tr th {\n",
       "        vertical-align: top;\n",
       "    }\n",
       "\n",
       "    .dataframe thead th {\n",
       "        text-align: right;\n",
       "    }\n",
       "</style>\n",
       "<table border=\"1\" class=\"dataframe\">\n",
       "  <thead>\n",
       "    <tr style=\"text-align: right;\">\n",
       "      <th></th>\n",
       "      <th>title</th>\n",
       "      <th>body</th>\n",
       "    </tr>\n",
       "  </thead>\n",
       "  <tbody>\n",
       "    <tr>\n",
       "      <th>0</th>\n",
       "      <td>Def not best, but not worst</td>\n",
       "      <td>I had the Samsung A600 for awhile which is abs...</td>\n",
       "    </tr>\n",
       "    <tr>\n",
       "      <th>1</th>\n",
       "      <td>Text Messaging Doesn't Work</td>\n",
       "      <td>Due to a software issue between Nokia and Spri...</td>\n",
       "    </tr>\n",
       "    <tr>\n",
       "      <th>2</th>\n",
       "      <td>Love This Phone</td>\n",
       "      <td>This is a great, reliable phone. I also purcha...</td>\n",
       "    </tr>\n",
       "    <tr>\n",
       "      <th>3</th>\n",
       "      <td>Love the Phone, BUT...!</td>\n",
       "      <td>I love the phone and all, because I really did...</td>\n",
       "    </tr>\n",
       "    <tr>\n",
       "      <th>4</th>\n",
       "      <td>Great phone service and options, lousy case!</td>\n",
       "      <td>The phone has been great for every purpose it ...</td>\n",
       "    </tr>\n",
       "  </tbody>\n",
       "</table>\n",
       "</div>"
      ],
      "text/plain": [
       "                                          title                                               body\n",
       "0                   Def not best, but not worst  I had the Samsung A600 for awhile which is abs...\n",
       "1                   Text Messaging Doesn't Work  Due to a software issue between Nokia and Spri...\n",
       "2                               Love This Phone  This is a great, reliable phone. I also purcha...\n",
       "3                       Love the Phone, BUT...!  I love the phone and all, because I really did...\n",
       "4  Great phone service and options, lousy case!  The phone has been great for every purpose it ..."
      ]
     },
     "execution_count": 165,
     "metadata": {},
     "output_type": "execute_result"
    }
   ],
   "source": [
    "df.head()"
   ]
  },
  {
   "cell_type": "code",
   "execution_count": 167,
   "id": "colonial-furniture",
   "metadata": {
    "ExecuteTime": {
     "end_time": "2021-12-11T20:04:20.177646Z",
     "start_time": "2021-12-11T20:04:19.559220Z"
    }
   },
   "outputs": [
    {
     "data": {
      "application/javascript": [
       "\n",
       "        if (window._pyforest_update_imports_cell) { window._pyforest_update_imports_cell('import gensim\\nimport pandas as pd'); }\n",
       "    "
      ],
      "text/plain": [
       "<IPython.core.display.Javascript object>"
      ]
     },
     "metadata": {},
     "output_type": "display_data"
    }
   ],
   "source": [
    "review_text = df.body.apply(gensim.utils.simple_preprocess)"
   ]
  },
  {
   "cell_type": "code",
   "execution_count": 194,
   "id": "physical-plate",
   "metadata": {
    "ExecuteTime": {
     "end_time": "2021-12-11T20:10:34.748374Z",
     "start_time": "2021-12-11T20:10:34.741394Z"
    }
   },
   "outputs": [
    {
     "name": "stdout",
     "output_type": "stream",
     "text": [
      "had the samsung for awhile which is absolute doo doo you can read my review on it and detect my rage at the stupid thing it finally died on me so used this nokia phone bought in garage sale for wonder she sold it so cheap bad hate the menu it takes forever to get to what you want because you have to scroll endlessly usually phones have numbered categories so can simply press the and get where you want to go it pain to put it on silent or vibrate if you re in class and it rings you have to turn it off immediately there no fast way to silence the damn thing always remember to put it on silent learned that the hard way it so true about the case it mission to get off and will break ur nails in the process also you ll damage the case each time try for some reason the phone started giving me problems once did succeed in opening it buttons could be bit bigger vibration could be stronger good reception is not too shabby was using it in the elevator which is remarkable feat considering my old phone would lose service by simply putting it in my pocket compared to my old samsung this phone works quite well the ring tones are loud enough to hear and the phone actually charges quickly and has great battery life it doesn heat up like potatoe in the oven either during long phone convos nice bright large screen cute ways to customize it scroll bar can be set to purple pink aqua orange etc overall okay phone it serves its purpose but definitely pales in comparison to these new phones coming out from sprint why get so so when you can get great\n"
     ]
    }
   ],
   "source": []
  },
  {
   "cell_type": "code",
   "execution_count": 195,
   "id": "intelligent-moment",
   "metadata": {
    "ExecuteTime": {
     "end_time": "2021-12-11T20:14:09.858127Z",
     "start_time": "2021-12-11T20:14:09.847156Z"
    }
   },
   "outputs": [
    {
     "data": {
      "application/javascript": [
       "\n",
       "        if (window._pyforest_update_imports_cell) { window._pyforest_update_imports_cell('import gensim\\nimport pandas as pd'); }\n",
       "    "
      ],
      "text/plain": [
       "<IPython.core.display.Javascript object>"
      ]
     },
     "metadata": {},
     "output_type": "display_data"
    }
   ],
   "source": [
    "model = gensim.models.Word2Vec(\n",
    "                    window      = 8,\n",
    "                    min_count   = 5,\n",
    "                    workers     = 2\n",
    ")"
   ]
  },
  {
   "cell_type": "code",
   "execution_count": 196,
   "id": "failing-europe",
   "metadata": {
    "ExecuteTime": {
     "end_time": "2021-12-11T20:14:10.425046Z",
     "start_time": "2021-12-11T20:14:10.246850Z"
    }
   },
   "outputs": [],
   "source": [
    "model.build_vocab(review_text, progress_per=1000)"
   ]
  },
  {
   "cell_type": "code",
   "execution_count": 197,
   "id": "fuzzy-cardiff",
   "metadata": {
    "ExecuteTime": {
     "end_time": "2021-12-11T20:14:12.319321Z",
     "start_time": "2021-12-11T20:14:10.726887Z"
    }
   },
   "outputs": [
    {
     "data": {
      "text/plain": [
       "(2068170, 2923060)"
      ]
     },
     "execution_count": 197,
     "metadata": {},
     "output_type": "execute_result"
    }
   ],
   "source": [
    "model.train(review_text, total_examples=model.corpus_count, epochs=model.epochs)"
   ]
  },
  {
   "cell_type": "code",
   "execution_count": 198,
   "id": "stupid-belief",
   "metadata": {
    "ExecuteTime": {
     "end_time": "2021-12-11T20:14:13.372594Z",
     "start_time": "2021-12-11T20:14:13.360626Z"
    }
   },
   "outputs": [
    {
     "data": {
      "text/plain": [
       "[('charge', 0.6653555035591125),\n",
       " ('day', 0.6286379098892212),\n",
       " ('batter', 0.6177193522453308),\n",
       " ('hours', 0.596130907535553),\n",
       " ('long', 0.5791705846786499),\n",
       " ('hold', 0.5474314093589783),\n",
       " ('moderate', 0.5401122570037842),\n",
       " ('charging', 0.5352887511253357),\n",
       " ('longer', 0.5295889377593994),\n",
       " ('night', 0.5231832265853882)]"
      ]
     },
     "execution_count": 198,
     "metadata": {},
     "output_type": "execute_result"
    }
   ],
   "source": [
    "model.wv.most_similar(\"battery\")"
   ]
  },
  {
   "cell_type": "code",
   "execution_count": 199,
   "id": "active-rough",
   "metadata": {
    "ExecuteTime": {
     "end_time": "2021-12-11T20:14:18.736653Z",
     "start_time": "2021-12-11T20:14:18.723664Z"
    }
   },
   "outputs": [
    {
     "data": {
      "text/plain": [
       "0.6549243"
      ]
     },
     "execution_count": 199,
     "metadata": {},
     "output_type": "execute_result"
    }
   ],
   "source": [
    "model.wv.similarity(\"android\",\"motorola\")"
   ]
  },
  {
   "cell_type": "code",
   "execution_count": 200,
   "id": "covered-finnish",
   "metadata": {
    "ExecuteTime": {
     "end_time": "2021-12-11T20:14:20.430989Z",
     "start_time": "2021-12-11T20:14:20.420041Z"
    }
   },
   "outputs": [
    {
     "data": {
      "text/plain": [
       "['the',\n",
       " 'and',\n",
       " 'it',\n",
       " 'to',\n",
       " 'phone',\n",
       " 'is',\n",
       " 'this',\n",
       " 'for',\n",
       " 'of',\n",
       " 'my',\n",
       " 'that',\n",
       " 'with',\n",
       " 'in',\n",
       " 'you',\n",
       " 'on',\n",
       " 'not',\n",
       " 'but',\n",
       " 'was',\n",
       " 'have',\n",
       " 'as',\n",
       " 'so',\n",
       " 'great',\n",
       " 'can',\n",
       " 'are',\n",
       " 'be',\n",
       " 'had',\n",
       " 'one',\n",
       " 'very',\n",
       " 'all',\n",
       " 'or',\n",
       " 'at',\n",
       " 'like',\n",
       " 'has',\n",
       " 'if',\n",
       " 'good',\n",
       " 'use',\n",
       " 'me',\n",
       " 'no',\n",
       " 'just',\n",
       " 'from',\n",
       " 'an',\n",
       " 'when',\n",
       " 'screen',\n",
       " 'battery',\n",
       " 'apps',\n",
       " 'get',\n",
       " 'will',\n",
       " 'windows',\n",
       " 'they',\n",
       " 'up',\n",
       " 'would',\n",
       " 'than',\n",
       " 'out',\n",
       " 'only',\n",
       " 'there',\n",
       " 'nokia',\n",
       " 'about',\n",
       " 'phones',\n",
       " 'your',\n",
       " 'new',\n",
       " 'do',\n",
       " 'camera',\n",
       " 'more',\n",
       " 'love',\n",
       " 'really',\n",
       " 'time',\n",
       " 'other',\n",
       " 'even',\n",
       " 'am',\n",
       " 'iphone',\n",
       " 'well',\n",
       " 'don',\n",
       " 'work',\n",
       " 'now',\n",
       " 'works',\n",
       " 'what',\n",
       " 'which',\n",
       " 'after',\n",
       " 'because',\n",
       " 'also',\n",
       " 'some',\n",
       " 'android',\n",
       " 'better',\n",
       " 'still',\n",
       " 'its',\n",
       " 'samsung',\n",
       " 'back',\n",
       " 'any',\n",
       " 'got',\n",
       " 'by',\n",
       " 'much',\n",
       " 'used',\n",
       " 've',\n",
       " 'app',\n",
       " 'been',\n",
       " 'quality',\n",
       " 'does',\n",
       " 'lumia',\n",
       " 'need',\n",
       " 'first',\n",
       " 'verizon',\n",
       " 'bought',\n",
       " 'then',\n",
       " 'easy',\n",
       " 'life',\n",
       " 'off',\n",
       " 'want',\n",
       " 'we',\n",
       " 'day',\n",
       " 'them',\n",
       " 'best',\n",
       " 'card',\n",
       " 'did',\n",
       " 'buy',\n",
       " 'go',\n",
       " 'could',\n",
       " 'nice',\n",
       " 'too',\n",
       " 'features',\n",
       " 'many',\n",
       " 'price',\n",
       " 'over',\n",
       " 'using',\n",
       " 'little',\n",
       " 'call',\n",
       " 'old',\n",
       " 'fast',\n",
       " 'most',\n",
       " 'make',\n",
       " 'problem',\n",
       " 'way',\n",
       " 'how',\n",
       " 'thing',\n",
       " 'doesn',\n",
       " 'far',\n",
       " 'everything',\n",
       " 'didn',\n",
       " 'few',\n",
       " 'same',\n",
       " 'os',\n",
       " 'since',\n",
       " 'music',\n",
       " 'while',\n",
       " 'never',\n",
       " 'two',\n",
       " 'say',\n",
       " 'without',\n",
       " 'galaxy',\n",
       " 'lot',\n",
       " 'though',\n",
       " 'service',\n",
       " 'find',\n",
       " 'sim',\n",
       " 'charge',\n",
       " 'amazon',\n",
       " 'people',\n",
       " 'store',\n",
       " 'product',\n",
       " 'device',\n",
       " 'text',\n",
       " 'days',\n",
       " 'know',\n",
       " 'before',\n",
       " 'another',\n",
       " 'came',\n",
       " 'calls',\n",
       " 'their',\n",
       " 'see',\n",
       " 'think',\n",
       " 'recommend',\n",
       " 'problems',\n",
       " 'who',\n",
       " 'down',\n",
       " 'into',\n",
       " 'take',\n",
       " 'he',\n",
       " 'having',\n",
       " 'happy',\n",
       " 'ever',\n",
       " 'pictures',\n",
       " 'were',\n",
       " 'pretty',\n",
       " 'years',\n",
       " 'again',\n",
       " 'size',\n",
       " 'update',\n",
       " 'months',\n",
       " 'big',\n",
       " 'these',\n",
       " 'through',\n",
       " 'smart',\n",
       " 'working',\n",
       " 'software',\n",
       " 'excellent',\n",
       " 'times',\n",
       " 'able',\n",
       " 'however',\n",
       " 'cell',\n",
       " 'data',\n",
       " 'right']"
      ]
     },
     "execution_count": 200,
     "metadata": {},
     "output_type": "execute_result"
    }
   ],
   "source": [
    "model.wv.index_to_key[:200]"
   ]
  },
  {
   "cell_type": "code",
   "execution_count": null,
   "id": "touched-ozone",
   "metadata": {},
   "outputs": [],
   "source": []
  }
 ],
 "metadata": {
  "kernelspec": {
   "display_name": "Python 3",
   "language": "python",
   "name": "python3"
  },
  "language_info": {
   "codemirror_mode": {
    "name": "ipython",
    "version": 3
   },
   "file_extension": ".py",
   "mimetype": "text/x-python",
   "name": "python",
   "nbconvert_exporter": "python",
   "pygments_lexer": "ipython3",
   "version": "3.8.12"
  },
  "varInspector": {
   "cols": {
    "lenName": 16,
    "lenType": 16,
    "lenVar": 40
   },
   "kernels_config": {
    "python": {
     "delete_cmd_postfix": "",
     "delete_cmd_prefix": "del ",
     "library": "var_list.py",
     "varRefreshCmd": "print(var_dic_list())"
    },
    "r": {
     "delete_cmd_postfix": ") ",
     "delete_cmd_prefix": "rm(",
     "library": "var_list.r",
     "varRefreshCmd": "cat(var_dic_list()) "
    }
   },
   "types_to_exclude": [
    "module",
    "function",
    "builtin_function_or_method",
    "instance",
    "_Feature"
   ],
   "window_display": false
  }
 },
 "nbformat": 4,
 "nbformat_minor": 5
}
