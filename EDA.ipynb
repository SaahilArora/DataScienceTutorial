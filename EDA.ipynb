{
 "cells": [
  {
   "cell_type": "markdown",
   "id": "designing-funds",
   "metadata": {},
   "source": [
    "## Steps needs to perform\n",
    "<ol>\n",
    "    <li>Convert To Lower Case.</li>\n",
    "    <li>Contarctions, spelling.</li>\n",
    "    <li>Extract tags( like #, @) and social platform.</li>\n",
    "    <li>Extract number, emails, address.</li>\n",
    "    <li>Entity Extract person name, country name, datetime, event</li>\n",
    "    <li>Polarity (Unigrams, Bigram and trigram)</li>\n",
    "    <ol>\n",
    "        <li>Fine-grained Sentiment Analysis</li>\n",
    "    </ol>\n",
    "    <li>Extract Positive words and Negative words</li>\n",
    "    <li>Length of sentence</li>\n",
    "    <li>Average word length in sentence</li>\n",
    "    <li>Vocabulary</li>\n",
    "</ol>"
   ]
  },
  {
   "cell_type": "code",
   "execution_count": 1,
   "id": "academic-uniform",
   "metadata": {
    "ExecuteTime": {
     "end_time": "2021-12-27T08:43:33.687716Z",
     "start_time": "2021-12-27T08:43:33.368246Z"
    }
   },
   "outputs": [
    {
     "data": {
      "application/javascript": [
       "\n",
       "        if (window._pyforest_update_imports_cell) { window._pyforest_update_imports_cell('import pandas as pd'); }\n",
       "    "
      ],
      "text/plain": [
       "<IPython.core.display.Javascript object>"
      ]
     },
     "metadata": {},
     "output_type": "display_data"
    }
   ],
   "source": [
    "df = pd.read_csv(\"./Fake.csv\", nrows = 200)"
   ]
  },
  {
   "cell_type": "code",
   "execution_count": null,
   "id": "indoor-dylan",
   "metadata": {
    "ExecuteTime": {
     "end_time": "2021-12-27T07:25:52.198435Z",
     "start_time": "2021-12-27T07:25:52.181479Z"
    }
   },
   "outputs": [],
   "source": [
    "df.duplicated().sum()"
   ]
  },
  {
   "cell_type": "code",
   "execution_count": null,
   "id": "tired-omaha",
   "metadata": {
    "ExecuteTime": {
     "end_time": "2021-12-27T07:25:54.612480Z",
     "start_time": "2021-12-27T07:25:54.591536Z"
    }
   },
   "outputs": [],
   "source": [
    "df.drop_duplicates(inplace=True)"
   ]
  },
  {
   "cell_type": "code",
   "execution_count": null,
   "id": "alpha-cooler",
   "metadata": {
    "ExecuteTime": {
     "end_time": "2021-12-27T07:25:55.431252Z",
     "start_time": "2021-12-27T07:25:55.410324Z"
    }
   },
   "outputs": [],
   "source": [
    "df.head()"
   ]
  },
  {
   "cell_type": "code",
   "execution_count": null,
   "id": "british-tomorrow",
   "metadata": {
    "ExecuteTime": {
     "end_time": "2021-12-27T07:25:59.532532Z",
     "start_time": "2021-12-27T07:25:59.520537Z"
    }
   },
   "outputs": [],
   "source": [
    "df.subject.unique()"
   ]
  },
  {
   "cell_type": "code",
   "execution_count": 2,
   "id": "developing-palestinian",
   "metadata": {
    "ExecuteTime": {
     "end_time": "2021-12-27T08:43:39.698295Z",
     "start_time": "2021-12-27T08:43:39.685302Z"
    }
   },
   "outputs": [],
   "source": [
    "df.drop(columns=['date'], axis=1, inplace=True)"
   ]
  },
  {
   "cell_type": "code",
   "execution_count": null,
   "id": "vocational-alabama",
   "metadata": {
    "ExecuteTime": {
     "end_time": "2021-12-27T07:26:10.530488Z",
     "start_time": "2021-12-27T07:26:10.523507Z"
    }
   },
   "outputs": [],
   "source": [
    "df.title[0]"
   ]
  },
  {
   "cell_type": "code",
   "execution_count": 3,
   "id": "collective-primary",
   "metadata": {
    "ExecuteTime": {
     "end_time": "2021-12-27T08:43:42.579313Z",
     "start_time": "2021-12-27T08:43:42.567313Z"
    }
   },
   "outputs": [],
   "source": [
    "df.title = df.title.map(lambda x: str(x).lower())"
   ]
  },
  {
   "cell_type": "code",
   "execution_count": 4,
   "id": "dress-fabric",
   "metadata": {
    "ExecuteTime": {
     "end_time": "2021-12-27T08:43:42.849568Z",
     "start_time": "2021-12-27T08:43:42.843584Z"
    }
   },
   "outputs": [],
   "source": [
    "df.text = df.text.map(lambda x: str(x).lower())"
   ]
  },
  {
   "cell_type": "code",
   "execution_count": 5,
   "id": "eleven-pennsylvania",
   "metadata": {
    "ExecuteTime": {
     "end_time": "2021-12-27T08:43:43.899157Z",
     "start_time": "2021-12-27T08:43:43.892167Z"
    }
   },
   "outputs": [],
   "source": [
    "def get_clean_text(text):\n",
    "    text = re.sub(\"\\bll\\b\",    \"will\", text)\n",
    "    text = re.sub(\"\\b&\\b\",     \"and\", text)\n",
    "    text = re.sub(r\"let s\",   \"lets\", text)\n",
    "    \n",
    "    text = re.sub(r\"couldn t\", \"couldn't\", text)\n",
    "    text = re.sub(r\"can t\",    \"can't\", text)\n",
    "    \n",
    "    text = re.sub(r\"won t\",    \"willn't\", text)\n",
    "    text = re.sub(r\"wouldn t\", \"wouldn't\", text)\n",
    "    text = re.sub(r\"weren\",    \"were not\", text)\n",
    "    text = re.sub(r\"wasn t\",   \"was not\", text)\n",
    "    \n",
    "    text = re.sub(r\"don t\",    \"do not\", text)\n",
    "    text = re.sub(r\"didn t\",   \"did not\", text)\n",
    "    text = re.sub(r\"doesn t\",   \"does not\", text)\n",
    "    \n",
    "    text = re.sub(r\"it s\",     \"it is\", text)\n",
    "    text = re.sub(r\"aren t\",   \"are not\", text)\n",
    "    text = re.sub(r\"isn t\",    \"is not\", text)\n",
    "\n",
    "    text = re.sub(r\"he s\",     \"he is\", text)\n",
    "    text = re.sub(r\"hasn\",     \"has not\", text)\n",
    "    \n",
    "\n",
    "    text = re.sub(r\"i d\",      \"i would\", text)\n",
    "    text = re.sub(r\"i m\",      \"i am\", text)\n",
    "    \n",
    "    text = re.sub(r'\\([^()]*\\)','', text)\n",
    "    text = re.sub(r'\\d','', text)\n",
    "    text = re.sub(r\"\\s+\",\" \", text, flags = re.I)\n",
    "    \n",
    "    return text"
   ]
  },
  {
   "cell_type": "code",
   "execution_count": 6,
   "id": "recognized-jamaica",
   "metadata": {
    "ExecuteTime": {
     "end_time": "2021-12-27T08:43:46.845222Z",
     "start_time": "2021-12-27T08:43:46.833225Z"
    }
   },
   "outputs": [],
   "source": [
    "def get_clean_specialCharacters(text):\n",
    "    text = re.sub(r'\\([^()]*\\)','', text)\n",
    "    text = re.sub(r'[@]\\w+','', text)\n",
    "    text = re.sub(r'[#]\\w+','', text)\n",
    "    text = re.sub(r'[.,!?$:]','', text)\n",
    "    text = re.sub(r'\\w+[\\d]\\w+','', text)\n",
    "    text = re.sub(r'\\d','', text)\n",
    "    text = re.sub(r\"\\s+\",\" \", text, flags = re.I)\n",
    "    return text"
   ]
  },
  {
   "cell_type": "code",
   "execution_count": null,
   "id": "criminal-webmaster",
   "metadata": {
    "ExecuteTime": {
     "end_time": "2021-12-27T08:26:35.132564Z",
     "start_time": "2021-12-27T08:26:35.100651Z"
    }
   },
   "outputs": [],
   "source": [
    "text = \"@ABC data is not (hello) $91 Dec91\"\n",
    "print(get_clean_specialCharacters(text))"
   ]
  },
  {
   "cell_type": "code",
   "execution_count": null,
   "id": "continental-judgment",
   "metadata": {
    "ExecuteTime": {
     "end_time": "2021-12-27T07:26:29.980179Z",
     "start_time": "2021-12-27T07:26:29.961203Z"
    }
   },
   "outputs": [],
   "source": [
    "def get_one_line_words(text):\n",
    "    data=text.split()\n",
    "    for i in range(len(data)):\n",
    "        if((i>0) & (len(data[i])==1) & (len(data[i-1])<=6)):\n",
    "            print(f'{data[i-1]} {data[i]}: {nltk.pos_tag([data[i-1]])}')"
   ]
  },
  {
   "cell_type": "code",
   "execution_count": null,
   "id": "atlantic-carpet",
   "metadata": {
    "ExecuteTime": {
     "end_time": "2021-12-27T07:26:47.869552Z",
     "start_time": "2021-12-27T07:26:47.851601Z"
    }
   },
   "outputs": [],
   "source": [
    "# df.text = df.text.map(get_clean_text)"
   ]
  },
  {
   "cell_type": "code",
   "execution_count": null,
   "id": "growing-firewall",
   "metadata": {
    "ExecuteTime": {
     "end_time": "2021-12-26T10:56:34.279363Z",
     "start_time": "2021-12-26T10:56:34.266365Z"
    }
   },
   "outputs": [],
   "source": [
    "# for index in range(30, 50):\n",
    "#     get_one_line_words(df.text[index])"
   ]
  },
  {
   "cell_type": "code",
   "execution_count": 18,
   "id": "mental-extraction",
   "metadata": {
    "ExecuteTime": {
     "end_time": "2021-12-27T08:45:49.691114Z",
     "start_time": "2021-12-27T08:45:49.672163Z"
    }
   },
   "outputs": [],
   "source": [
    "data = []\n",
    "for index in range(0,1):\n",
    "    data.append(df.text[index])\n",
    "\n",
    "demo = ' '.join(data)"
   ]
  },
  {
   "cell_type": "code",
   "execution_count": 8,
   "id": "bigger-exclusion",
   "metadata": {
    "ExecuteTime": {
     "end_time": "2021-12-27T08:43:58.232306Z",
     "start_time": "2021-12-27T08:43:57.552338Z"
    }
   },
   "outputs": [
    {
     "data": {
      "application/javascript": [
       "\n",
       "        if (window._pyforest_update_imports_cell) { window._pyforest_update_imports_cell('import pandas as pd\\nimport nltk'); }\n",
       "    "
      ],
      "text/plain": [
       "<IPython.core.display.Javascript object>"
      ]
     },
     "metadata": {},
     "output_type": "display_data"
    },
    {
     "data": {
      "application/javascript": [
       "\n",
       "        if (window._pyforest_update_imports_cell) { window._pyforest_update_imports_cell('import pandas as pd\\nimport nltk'); }\n",
       "    "
      ],
      "text/plain": [
       "<IPython.core.display.Javascript object>"
      ]
     },
     "metadata": {},
     "output_type": "display_data"
    },
    {
     "data": {
      "application/javascript": [
       "\n",
       "        if (window._pyforest_update_imports_cell) { window._pyforest_update_imports_cell('import pandas as pd\\nimport nltk'); }\n",
       "    "
      ],
      "text/plain": [
       "<IPython.core.display.Javascript object>"
      ]
     },
     "metadata": {},
     "output_type": "display_data"
    }
   ],
   "source": [
    "words = nltk.tokenize.word_tokenize(demo)\n",
    "word_dist = nltk.FreqDist(words)\n",
    "rslt = pd.DataFrame(word_dist.most_common(100),\n",
    "                    columns=['Word', 'Frequency'])"
   ]
  },
  {
   "cell_type": "code",
   "execution_count": 9,
   "id": "respective-sterling",
   "metadata": {
    "ExecuteTime": {
     "end_time": "2021-12-27T08:43:58.279290Z",
     "start_time": "2021-12-27T08:43:58.264984Z"
    }
   },
   "outputs": [
    {
     "data": {
      "text/html": [
       "<div>\n",
       "<style scoped>\n",
       "    .dataframe tbody tr th:only-of-type {\n",
       "        vertical-align: middle;\n",
       "    }\n",
       "\n",
       "    .dataframe tbody tr th {\n",
       "        vertical-align: top;\n",
       "    }\n",
       "\n",
       "    .dataframe thead th {\n",
       "        text-align: right;\n",
       "    }\n",
       "</style>\n",
       "<table border=\"1\" class=\"dataframe\">\n",
       "  <thead>\n",
       "    <tr style=\"text-align: right;\">\n",
       "      <th></th>\n",
       "      <th>Word</th>\n",
       "      <th>Frequency</th>\n",
       "    </tr>\n",
       "  </thead>\n",
       "  <tbody>\n",
       "    <tr>\n",
       "      <th>0</th>\n",
       "      <td>,</td>\n",
       "      <td>224</td>\n",
       "    </tr>\n",
       "    <tr>\n",
       "      <th>1</th>\n",
       "      <td>the</td>\n",
       "      <td>187</td>\n",
       "    </tr>\n",
       "    <tr>\n",
       "      <th>2</th>\n",
       "      <td>.</td>\n",
       "      <td>129</td>\n",
       "    </tr>\n",
       "    <tr>\n",
       "      <th>3</th>\n",
       "      <td>to</td>\n",
       "      <td>113</td>\n",
       "    </tr>\n",
       "    <tr>\n",
       "      <th>4</th>\n",
       "      <td>of</td>\n",
       "      <td>99</td>\n",
       "    </tr>\n",
       "  </tbody>\n",
       "</table>\n",
       "</div>"
      ],
      "text/plain": [
       "  Word  Frequency\n",
       "0    ,        224\n",
       "1  the        187\n",
       "2    .        129\n",
       "3   to        113\n",
       "4   of         99"
      ]
     },
     "execution_count": 9,
     "metadata": {},
     "output_type": "execute_result"
    }
   ],
   "source": [
    "rslt.head()"
   ]
  },
  {
   "cell_type": "code",
   "execution_count": null,
   "id": "champion-guyana",
   "metadata": {
    "ExecuteTime": {
     "end_time": "2021-12-27T08:15:55.835561Z",
     "start_time": "2021-12-27T08:15:55.824620Z"
    }
   },
   "outputs": [],
   "source": [
    "# regex = re.compile(r'twitter.com')\n",
    "# if regex.search(demo):\n",
    "#     print('matched')\n",
    "print(re.findall(r'[@]\\w+', demo))"
   ]
  },
  {
   "cell_type": "code",
   "execution_count": null,
   "id": "explicit-romantic",
   "metadata": {
    "ExecuteTime": {
     "end_time": "2021-12-27T08:16:00.039598Z",
     "start_time": "2021-12-27T08:16:00.032589Z"
    }
   },
   "outputs": [],
   "source": [
    "print(re.findall(r'[#]\\w+', demo))"
   ]
  },
  {
   "cell_type": "code",
   "execution_count": null,
   "id": "controlled-dispute",
   "metadata": {
    "ExecuteTime": {
     "end_time": "2021-12-27T07:59:16.771952Z",
     "start_time": "2021-12-27T07:59:16.764971Z"
    }
   },
   "outputs": [],
   "source": [
    "match = re.search(r'[\\w.-]+.com', demo)\n",
    "print (match.group())\n",
    "if match:\n",
    "    print( 1  if match.group() else 0 )"
   ]
  },
  {
   "cell_type": "code",
   "execution_count": 10,
   "id": "tribal-principle",
   "metadata": {
    "ExecuteTime": {
     "end_time": "2021-12-27T08:44:08.979702Z",
     "start_time": "2021-12-27T08:44:08.045241Z"
    }
   },
   "outputs": [
    {
     "data": {
      "application/javascript": [
       "\n",
       "        if (window._pyforest_update_imports_cell) { window._pyforest_update_imports_cell('import matplotlib.pyplot as plt\\nimport pandas as pd\\nimport nltk'); }\n",
       "    "
      ],
      "text/plain": [
       "<IPython.core.display.Javascript object>"
      ]
     },
     "metadata": {},
     "output_type": "display_data"
    },
    {
     "data": {
      "application/javascript": [
       "\n",
       "        if (window._pyforest_update_imports_cell) { window._pyforest_update_imports_cell('import matplotlib.pyplot as plt\\nimport pandas as pd\\nimport nltk'); }\n",
       "    "
      ],
      "text/plain": [
       "<IPython.core.display.Javascript object>"
      ]
     },
     "metadata": {},
     "output_type": "display_data"
    },
    {
     "data": {
      "application/javascript": [
       "\n",
       "        if (window._pyforest_update_imports_cell) { window._pyforest_update_imports_cell('import seaborn as sns\\nimport matplotlib.pyplot as plt\\nimport pandas as pd\\nimport nltk'); }\n",
       "    "
      ],
      "text/plain": [
       "<IPython.core.display.Javascript object>"
      ]
     },
     "metadata": {},
     "output_type": "display_data"
    },
    {
     "data": {
      "text/plain": [
       "<AxesSubplot:xlabel='Word', ylabel='Frequency'>"
      ]
     },
     "execution_count": 10,
     "metadata": {},
     "output_type": "execute_result"
    },
    {
     "data": {
      "image/png": "[encoded data removed]",
      "text/plain": [
       "<Figure size 1440x576 with 1 Axes>"
      ]
     },
     "metadata": {
      "needs_background": "light"
     },
     "output_type": "display_data"
    }
   ],
   "source": [
    "plt.figure(figsize=(20,8))\n",
    "plt.xticks(rotation=90)\n",
    "sns.barplot(data=rslt[:20], x=\"Word\", y='Frequency', )"
   ]
  },
  {
   "cell_type": "markdown",
   "id": "progressive-repeat",
   "metadata": {},
   "source": [
    "## Contraction Text and Clean Special Characters"
   ]
  },
  {
   "cell_type": "code",
   "execution_count": 38,
   "id": "interim-primary",
   "metadata": {
    "ExecuteTime": {
     "end_time": "2021-12-27T08:52:59.207979Z",
     "start_time": "2021-12-27T08:52:59.200000Z"
    }
   },
   "outputs": [],
   "source": [
    "demo1 = demo"
   ]
  },
  {
   "cell_type": "code",
   "execution_count": 39,
   "id": "alleged-dylan",
   "metadata": {
    "ExecuteTime": {
     "end_time": "2021-12-27T08:53:00.113522Z",
     "start_time": "2021-12-27T08:53:00.098532Z"
    }
   },
   "outputs": [
    {
     "data": {
      "application/javascript": [
       "\n",
       "        if (window._pyforest_update_imports_cell) { window._pyforest_update_imports_cell('import matplotlib.pyplot as plt\\nimport re\\nimport pandas as pd\\nimport nltk\\nimport seaborn as sns'); }\n",
       "    "
      ],
      "text/plain": [
       "<IPython.core.display.Javascript object>"
      ]
     },
     "metadata": {},
     "output_type": "display_data"
    },
    {
     "data": {
      "application/javascript": [
       "\n",
       "        if (window._pyforest_update_imports_cell) { window._pyforest_update_imports_cell('import matplotlib.pyplot as plt\\nimport re\\nimport pandas as pd\\nimport nltk\\nimport seaborn as sns'); }\n",
       "    "
      ],
      "text/plain": [
       "<IPython.core.display.Javascript object>"
      ]
     },
     "metadata": {},
     "output_type": "display_data"
    },
    {
     "data": {
      "application/javascript": [
       "\n",
       "        if (window._pyforest_update_imports_cell) { window._pyforest_update_imports_cell('import matplotlib.pyplot as plt\\nimport re\\nimport pandas as pd\\nimport nltk\\nimport seaborn as sns'); }\n",
       "    "
      ],
      "text/plain": [
       "<IPython.core.display.Javascript object>"
      ]
     },
     "metadata": {},
     "output_type": "display_data"
    },
    {
     "data": {
      "application/javascript": [
       "\n",
       "        if (window._pyforest_update_imports_cell) { window._pyforest_update_imports_cell('import matplotlib.pyplot as plt\\nimport re\\nimport pandas as pd\\nimport nltk\\nimport seaborn as sns'); }\n",
       "    "
      ],
      "text/plain": [
       "<IPython.core.display.Javascript object>"
      ]
     },
     "metadata": {},
     "output_type": "display_data"
    },
    {
     "data": {
      "application/javascript": [
       "\n",
       "        if (window._pyforest_update_imports_cell) { window._pyforest_update_imports_cell('import matplotlib.pyplot as plt\\nimport re\\nimport pandas as pd\\nimport nltk\\nimport seaborn as sns'); }\n",
       "    "
      ],
      "text/plain": [
       "<IPython.core.display.Javascript object>"
      ]
     },
     "metadata": {},
     "output_type": "display_data"
    },
    {
     "data": {
      "application/javascript": [
       "\n",
       "        if (window._pyforest_update_imports_cell) { window._pyforest_update_imports_cell('import matplotlib.pyplot as plt\\nimport re\\nimport pandas as pd\\nimport nltk\\nimport seaborn as sns'); }\n",
       "    "
      ],
      "text/plain": [
       "<IPython.core.display.Javascript object>"
      ]
     },
     "metadata": {},
     "output_type": "display_data"
    },
    {
     "data": {
      "application/javascript": [
       "\n",
       "        if (window._pyforest_update_imports_cell) { window._pyforest_update_imports_cell('import matplotlib.pyplot as plt\\nimport re\\nimport pandas as pd\\nimport nltk\\nimport seaborn as sns'); }\n",
       "    "
      ],
      "text/plain": [
       "<IPython.core.display.Javascript object>"
      ]
     },
     "metadata": {},
     "output_type": "display_data"
    },
    {
     "data": {
      "application/javascript": [
       "\n",
       "        if (window._pyforest_update_imports_cell) { window._pyforest_update_imports_cell('import matplotlib.pyplot as plt\\nimport re\\nimport pandas as pd\\nimport nltk\\nimport seaborn as sns'); }\n",
       "    "
      ],
      "text/plain": [
       "<IPython.core.display.Javascript object>"
      ]
     },
     "metadata": {},
     "output_type": "display_data"
    }
   ],
   "source": [
    "demo1 = get_clean_specialCharacters(demo1)"
   ]
  },
  {
   "cell_type": "code",
   "execution_count": 40,
   "id": "loved-filename",
   "metadata": {
    "ExecuteTime": {
     "end_time": "2021-12-27T08:53:02.779309Z",
     "start_time": "2021-12-27T08:53:02.771337Z"
    }
   },
   "outputs": [
    {
     "data": {
      "application/javascript": [
       "\n",
       "        if (window._pyforest_update_imports_cell) { window._pyforest_update_imports_cell('import matplotlib.pyplot as plt\\nimport re\\nimport pandas as pd\\nimport nltk\\nimport seaborn as sns'); }\n",
       "    "
      ],
      "text/plain": [
       "<IPython.core.display.Javascript object>"
      ]
     },
     "metadata": {},
     "output_type": "display_data"
    }
   ],
   "source": [
    "stop = nltk.corpus.stopwords.words('english')"
   ]
  },
  {
   "cell_type": "code",
   "execution_count": 41,
   "id": "signal-dressing",
   "metadata": {
    "ExecuteTime": {
     "end_time": "2021-12-27T08:53:03.291776Z",
     "start_time": "2021-12-27T08:53:03.281773Z"
    }
   },
   "outputs": [],
   "source": [
    "text = []\n",
    "for word in demo1.split():\n",
    "    if word not in stop:\n",
    "        text.append(word)\n",
    "demo1 = ' '.join(text)"
   ]
  },
  {
   "cell_type": "code",
   "execution_count": 42,
   "id": "alleged-drive",
   "metadata": {
    "ExecuteTime": {
     "end_time": "2021-12-27T08:53:03.949272Z",
     "start_time": "2021-12-27T08:53:03.934314Z"
    }
   },
   "outputs": [
    {
     "data": {
      "application/javascript": [
       "\n",
       "        if (window._pyforest_update_imports_cell) { window._pyforest_update_imports_cell('import matplotlib.pyplot as plt\\nimport re\\nimport pandas as pd\\nimport nltk\\nimport seaborn as sns'); }\n",
       "    "
      ],
      "text/plain": [
       "<IPython.core.display.Javascript object>"
      ]
     },
     "metadata": {},
     "output_type": "display_data"
    },
    {
     "data": {
      "application/javascript": [
       "\n",
       "        if (window._pyforest_update_imports_cell) { window._pyforest_update_imports_cell('import matplotlib.pyplot as plt\\nimport re\\nimport pandas as pd\\nimport nltk\\nimport seaborn as sns'); }\n",
       "    "
      ],
      "text/plain": [
       "<IPython.core.display.Javascript object>"
      ]
     },
     "metadata": {},
     "output_type": "display_data"
    },
    {
     "data": {
      "application/javascript": [
       "\n",
       "        if (window._pyforest_update_imports_cell) { window._pyforest_update_imports_cell('import matplotlib.pyplot as plt\\nimport re\\nimport pandas as pd\\nimport nltk\\nimport seaborn as sns'); }\n",
       "    "
      ],
      "text/plain": [
       "<IPython.core.display.Javascript object>"
      ]
     },
     "metadata": {},
     "output_type": "display_data"
    }
   ],
   "source": [
    "words = nltk.tokenize.word_tokenize(demo1)\n",
    "word_dist = nltk.FreqDist(words)\n",
    "rslt1 = pd.DataFrame(word_dist.most_common(100),\n",
    "                    columns=['Word', 'Frequency'])"
   ]
  },
  {
   "cell_type": "code",
   "execution_count": 43,
   "id": "animated-infrared",
   "metadata": {
    "ExecuteTime": {
     "end_time": "2021-12-27T08:53:04.608272Z",
     "start_time": "2021-12-27T08:53:04.602319Z"
    }
   },
   "outputs": [
    {
     "data": {
      "text/plain": [
       "(100, 2)"
      ]
     },
     "execution_count": 43,
     "metadata": {},
     "output_type": "execute_result"
    }
   ],
   "source": [
    "rslt1.shape"
   ]
  },
  {
   "cell_type": "code",
   "execution_count": 49,
   "id": "parliamentary-browser",
   "metadata": {
    "ExecuteTime": {
     "end_time": "2021-12-27T08:54:10.129554Z",
     "start_time": "2021-12-27T08:54:09.945223Z"
    }
   },
   "outputs": [
    {
     "data": {
      "application/javascript": [
       "\n",
       "        if (window._pyforest_update_imports_cell) { window._pyforest_update_imports_cell('import matplotlib.pyplot as plt\\nimport re\\nimport pandas as pd\\nimport nltk\\nimport seaborn as sns'); }\n",
       "    "
      ],
      "text/plain": [
       "<IPython.core.display.Javascript object>"
      ]
     },
     "metadata": {},
     "output_type": "display_data"
    },
    {
     "data": {
      "application/javascript": [
       "\n",
       "        if (window._pyforest_update_imports_cell) { window._pyforest_update_imports_cell('import matplotlib.pyplot as plt\\nimport re\\nimport pandas as pd\\nimport nltk\\nimport seaborn as sns'); }\n",
       "    "
      ],
      "text/plain": [
       "<IPython.core.display.Javascript object>"
      ]
     },
     "metadata": {},
     "output_type": "display_data"
    },
    {
     "data": {
      "application/javascript": [
       "\n",
       "        if (window._pyforest_update_imports_cell) { window._pyforest_update_imports_cell('import matplotlib.pyplot as plt\\nimport re\\nimport pandas as pd\\nimport nltk\\nimport seaborn as sns'); }\n",
       "    "
      ],
      "text/plain": [
       "<IPython.core.display.Javascript object>"
      ]
     },
     "metadata": {},
     "output_type": "display_data"
    },
    {
     "data": {
      "text/plain": [
       "<AxesSubplot:xlabel='Frequency', ylabel='Word'>"
      ]
     },
     "execution_count": 49,
     "metadata": {},
     "output_type": "execute_result"
    },
    {
     "data": {
      "image/png": "[encoded data removed]",
      "text/plain": [
       "<Figure size 1152x864 with 1 Axes>"
      ]
     },
     "metadata": {
      "needs_background": "light"
     },
     "output_type": "display_data"
    }
   ],
   "source": [
    "plt.figure(figsize=(16,12))\n",
    "plt.xticks(rotation=90)\n",
    "sns.barplot(data=rslt1.head(15), y=\"Word\", x='Frequency', )"
   ]
  },
  {
   "cell_type": "code",
   "execution_count": 45,
   "id": "religious-brunswick",
   "metadata": {
    "ExecuteTime": {
     "end_time": "2021-12-27T08:53:11.970342Z",
     "start_time": "2021-12-27T08:53:11.952359Z"
    }
   },
   "outputs": [
    {
     "data": {
      "text/plain": [
       "'donald trump wish americans happy new year leave instead give shout enemies haters dishonest fake news media former reality show star one job country rapidly grows stronger smarter want wish friends supporters enemies haters even dishonest fake news media happy healthy new year president angry pants tweeted great year america country rapidly grows stronger smarter want wish friends supporters enemies haters even dishonest fake news media happy healthy new year great year america donald j trump december tweet went welll expectwhat kind president sends new year greeting like despicable petty infantile gibberish trump lack decency even allow rise gutter long enough wish american citizens happy new year bishop talbert swan december one likes calvin december impeachment would make great year america also accept regaining control congress miranda yaver december hear talk include many people hate wonder hate alan sandoval december uses word haters new years wish marlene december say happy new year koren pollitt december trump new year eve tweet new year including many enemies fought lost badly know love donald j trump december nothing new trump yearstrump directed messages enemies haters new year easter thanksgiving anniversary / pictwittercom/ daniel dale december holiday tweets clearly presidentialhow long work hallmark becoming president steven goodine december always like difference last years filter breaking roy schulze december apart teenager uses term haters wendy december fucking year old knows december people voted hole thinking would change got power wrong -year-old men change year olderphoto andrew burton/getty images'"
      ]
     },
     "execution_count": 45,
     "metadata": {},
     "output_type": "execute_result"
    }
   ],
   "source": [
    "demo1"
   ]
  },
  {
   "cell_type": "code",
   "execution_count": 50,
   "id": "authorized-minutes",
   "metadata": {
    "ExecuteTime": {
     "end_time": "2021-12-27T08:55:27.255230Z",
     "start_time": "2021-12-27T08:55:27.246250Z"
    }
   },
   "outputs": [],
   "source": [
    "from textblob import TextBlob"
   ]
  },
  {
   "cell_type": "code",
   "execution_count": 66,
   "id": "mathematical-manufacturer",
   "metadata": {
    "ExecuteTime": {
     "end_time": "2021-12-27T09:59:14.071077Z",
     "start_time": "2021-12-27T09:59:14.055133Z"
    }
   },
   "outputs": [
    {
     "data": {
      "text/plain": [
       "Sentiment(polarity=-0.005555555555555536, subjectivity=0.7305555555555555)"
      ]
     },
     "execution_count": 66,
     "metadata": {},
     "output_type": "execute_result"
    }
   ],
   "source": [
    "TextBlob(\"The head of a conservative Republican faction in the U.S. Congress, who voted this month for a huge expansion of the national debt to pay for tax cuts, called himself a “fiscal conservative” on Sunday and urged budget restraint in 2018. In keeping with a sharp pivot under way among Republicans, U.S. Representative Mark Meadows, speaking on CBS’ “Face the Nation,” drew a hard line on federal spending, which lawmakers are bracing to do battle over in January.\").sentiment"
   ]
  },
  {
   "cell_type": "code",
   "execution_count": 72,
   "id": "structured-search",
   "metadata": {
    "ExecuteTime": {
     "end_time": "2021-12-27T10:01:22.478334Z",
     "start_time": "2021-12-27T10:01:22.472345Z"
    }
   },
   "outputs": [
    {
     "data": {
      "text/plain": [
       "Sentiment(polarity=-0.445, subjectivity=0.825)"
      ]
     },
     "execution_count": 72,
     "metadata": {},
     "output_type": "execute_result"
    }
   ],
   "source": [
    "TextBlob(\"enemies haters very dishonest fake \").sentiment"
   ]
  },
  {
   "cell_type": "code",
   "execution_count": 59,
   "id": "applicable-spice",
   "metadata": {
    "ExecuteTime": {
     "end_time": "2021-12-27T09:54:00.584556Z",
     "start_time": "2021-12-27T09:54:00.572588Z"
    }
   },
   "outputs": [
    {
     "data": {
      "text/plain": [
       "'donald trump just couldn t wish all americans a happy new year and leave it at that. instead, he had to give a shout out to his enemies, haters and  the very dishonest fake news media.  the former reality show star had just one job to do and he couldn t do it. as our country rapidly grows stronger and smarter, i want to wish all of my friends, supporters, enemies, haters, and even the very dishonest fake news media, a happy and healthy new year,  president angry pants tweeted.  2018 will be a great year for america! as our country rapidly grows stronger and smarter, i want to wish all of my friends, supporters, enemies, haters, and even the very dishonest fake news media, a happy and healthy new year. 2018 will be a great year for america!  donald j. trump (@realdonaldtrump) december 31, 2017trump s tweet went down about as welll as you d expect.what kind of president sends a new year s greeting like this despicable, petty, infantile gibberish? only trump! his lack of decency won t even allow him to rise above the gutter long enough to wish the american citizens a happy new year!  bishop talbert swan (@talbertswan) december 31, 2017no one likes you  calvin (@calvinstowell) december 31, 2017your impeachment would make 2018 a great year for america, but i ll also accept regaining control of congress.  miranda yaver (@mirandayaver) december 31, 2017do you hear yourself talk? when you have to include that many people that hate you you have to wonder? why do the they all hate me?  alan sandoval (@alansandoval13) december 31, 2017who uses the word haters in a new years wish??  marlene (@marlene399) december 31, 2017you can t just say happy new year?  koren pollitt (@korencarpenter) december 31, 2017here s trump s new year s eve tweet from 2016.happy new year to all, including to my many enemies and those who have fought me and lost so badly they just don t know what to do. love!  donald j. trump (@realdonaldtrump) december 31, 2016this is nothing new for trump. he s been doing this for years.trump has directed messages to his  enemies  and  haters  for new year s, easter, thanksgiving, and the anniversary of 9/11. pic.twitter.com/4fpae2kypa  daniel dale (@ddale8) december 31, 2017trump s holiday tweets are clearly not presidential.how long did he work at hallmark before becoming president?  steven goodine (@sgoodine) december 31, 2017he s always been like this . . . the only difference is that in the last few years, his filter has been breaking down.  roy schulze (@thbthttt) december 31, 2017who, apart from a teenager uses the term haters?  wendy (@wendywhistles) december 31, 2017he s a fucking 5 year old  who knows (@rainyday80) december 31, 2017so, to all the people who voted for this a hole thinking he would change once he got into power, you were wrong! 70-year-old men don t change and now he s a year older.photo by andrew burton/getty images.'"
      ]
     },
     "execution_count": 59,
     "metadata": {},
     "output_type": "execute_result"
    }
   ],
   "source": [
    "demo"
   ]
  },
  {
   "cell_type": "code",
   "execution_count": null,
   "id": "south-router",
   "metadata": {},
   "outputs": [],
   "source": []
  }
 ],
 "metadata": {
  "kernelspec": {
   "display_name": "Python 3",
   "language": "python",
   "name": "python3"
  },
  "language_info": {
   "codemirror_mode": {
    "name": "ipython",
    "version": 3
   },
   "file_extension": ".py",
   "mimetype": "text/x-python",
   "name": "python",
   "nbconvert_exporter": "python",
   "pygments_lexer": "ipython3",
   "version": "3.8.12"
  },
  "varInspector": {
   "cols": {
    "lenName": 16,
    "lenType": 16,
    "lenVar": 40
   },
   "kernels_config": {
    "python": {
     "delete_cmd_postfix": "",
     "delete_cmd_prefix": "del ",
     "library": "var_list.py",
     "varRefreshCmd": "print(var_dic_list())"
    },
    "r": {
     "delete_cmd_postfix": ") ",
     "delete_cmd_prefix": "rm(",
     "library": "var_list.r",
     "varRefreshCmd": "cat(var_dic_list()) "
    }
   },
   "types_to_exclude": [
    "module",
    "function",
    "builtin_function_or_method",
    "instance",
    "_Feature"
   ],
   "window_display": false
  }
 },
 "nbformat": 4,
 "nbformat_minor": 5
}
