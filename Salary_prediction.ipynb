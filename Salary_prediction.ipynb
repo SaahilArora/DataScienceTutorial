{
 "cells": [
  {
   "cell_type": "code",
   "execution_count": 2,
   "metadata": {
    "ExecuteTime": {
     "end_time": "2021-05-28T09:27:48.778844Z",
     "start_time": "2021-05-28T09:27:48.614850Z"
    }
   },
   "outputs": [],
   "source": [
    "import numpy as np\n",
    "import matplotlib.pyplot as plt\n",
    "import pandas as pd"
   ]
  },
  {
   "cell_type": "code",
   "execution_count": 1,
   "metadata": {
    "ExecuteTime": {
     "end_time": "2021-05-28T09:27:46.826053Z",
     "start_time": "2021-05-28T09:27:46.811093Z"
    }
   },
   "outputs": [],
   "source": [
    "from dataprep.eda import create_report"
   ]
  },
  {
   "cell_type": "code",
   "execution_count": 3,
   "metadata": {
    "ExecuteTime": {
     "end_time": "2021-05-28T09:27:51.039091Z",
     "start_time": "2021-05-28T09:27:50.992939Z"
    }
   },
   "outputs": [],
   "source": [
    "import seaborn as sns"
   ]
  },
  {
   "cell_type": "code",
   "execution_count": 4,
   "metadata": {
    "ExecuteTime": {
     "end_time": "2021-05-28T09:27:53.058870Z",
     "start_time": "2021-05-28T09:27:53.053885Z"
    }
   },
   "outputs": [],
   "source": [
    "from sklearn.preprocessing import StandardScaler"
   ]
  },
  {
   "cell_type": "code",
   "execution_count": 5,
   "metadata": {
    "ExecuteTime": {
     "end_time": "2021-05-28T09:27:54.873807Z",
     "start_time": "2021-05-28T09:27:54.856853Z"
    }
   },
   "outputs": [],
   "source": [
    "dataset = pd.read_csv('./datalab/Placement_Data_Full_Class.csv')"
   ]
  },
  {
   "cell_type": "code",
   "execution_count": 6,
   "metadata": {
    "ExecuteTime": {
     "end_time": "2021-05-28T09:28:16.281754Z",
     "start_time": "2021-05-28T09:28:12.080831Z"
    }
   },
   "outputs": [
    {
     "name": "stderr",
     "output_type": "stream",
     "text": [
      "C:\\ProgramData\\Anaconda3\\lib\\site-packages\\dask\\dataframe\\accessor.py:48: FutureWarning: The default value of regex will change from True to False in a future version.\n",
      "  out = getattr(getattr(obj, accessor, obj), attr)(*args, **kwargs)\n",
      "C:\\ProgramData\\Anaconda3\\lib\\site-packages\\dask\\dataframe\\accessor.py:48: FutureWarning: The default value of regex will change from True to False in a future version.\n",
      "  out = getattr(getattr(obj, accessor, obj), attr)(*args, **kwargs)\n",
      "C:\\ProgramData\\Anaconda3\\lib\\site-packages\\dask\\dataframe\\accessor.py:48: FutureWarning: The default value of regex will change from True to False in a future version.\n",
      "  out = getattr(getattr(obj, accessor, obj), attr)(*args, **kwargs)\n",
      "C:\\ProgramData\\Anaconda3\\lib\\site-packages\\dask\\dataframe\\accessor.py:48: FutureWarning: The default value of regex will change from True to False in a future version.\n",
      "  out = getattr(getattr(obj, accessor, obj), attr)(*args, **kwargs)\n",
      "C:\\ProgramData\\Anaconda3\\lib\\site-packages\\dask\\dataframe\\accessor.py:48: FutureWarning: The default value of regex will change from True to False in a future version.\n",
      "  out = getattr(getattr(obj, accessor, obj), attr)(*args, **kwargs)\n",
      "C:\\ProgramData\\Anaconda3\\lib\\site-packages\\dask\\dataframe\\accessor.py:48: FutureWarning: The default value of regex will change from True to False in a future version.\n",
      "  out = getattr(getattr(obj, accessor, obj), attr)(*args, **kwargs)\n",
      "C:\\ProgramData\\Anaconda3\\lib\\site-packages\\dask\\dataframe\\accessor.py:48: FutureWarning: The default value of regex will change from True to False in a future version.\n",
      "  out = getattr(getattr(obj, accessor, obj), attr)(*args, **kwargs)\n",
      "C:\\ProgramData\\Anaconda3\\lib\\site-packages\\dask\\dataframe\\accessor.py:48: FutureWarning: The default value of regex will change from True to False in a future version.\n",
      "  out = getattr(getattr(obj, accessor, obj), attr)(*args, **kwargs)\n"
     ]
    },
    {
     "data": {
      "application/vnd.jupyter.widget-view+json": {
       "model_id": "",
       "version_major": 2,
       "version_minor": 0
      },
      "text/plain": [
       "  0%|          | 0/1638 [00:00<?, ?it/s]"
      ]
     },
     "metadata": {},
     "output_type": "display_data"
    },
    {
     "name": "stderr",
     "output_type": "stream",
     "text": [
      "C:\\ProgramData\\Anaconda3\\lib\\site-packages\\dask\\dataframe\\accessor.py:48: FutureWarning: The default value of regex will change from True to False in a future version.\n",
      "  out = getattr(getattr(obj, accessor, obj), attr)(*args, **kwargs)\n"
     ]
    }
   ],
   "source": [
    "create_report(dataset).show_browser()"
   ]
  },
  {
   "cell_type": "code",
   "execution_count": 151,
   "metadata": {
    "ExecuteTime": {
     "end_time": "2021-05-27T10:34:30.707548Z",
     "start_time": "2021-05-27T10:34:30.697603Z"
    }
   },
   "outputs": [],
   "source": [
    "dataset.drop(['sl_no','ssc_p','hsc_p','degree_p', 'etest_p', 'mba_p'],axis=1, inplace=True)"
   ]
  },
  {
   "cell_type": "code",
   "execution_count": 152,
   "metadata": {
    "ExecuteTime": {
     "end_time": "2021-05-27T10:34:32.365541Z",
     "start_time": "2021-05-27T10:34:32.360524Z"
    }
   },
   "outputs": [],
   "source": [
    "dataset.dropna(axis=0, inplace=True)"
   ]
  },
  {
   "cell_type": "code",
   "execution_count": 153,
   "metadata": {
    "ExecuteTime": {
     "end_time": "2021-05-27T10:34:33.169547Z",
     "start_time": "2021-05-27T10:34:33.164589Z"
    }
   },
   "outputs": [],
   "source": [
    "dataset['specialisation']=dataset['specialisation'].apply(lambda x : x.split('&')[1])"
   ]
  },
  {
   "cell_type": "code",
   "execution_count": 154,
   "metadata": {
    "ExecuteTime": {
     "end_time": "2021-05-27T10:34:33.523738Z",
     "start_time": "2021-05-27T10:34:33.519757Z"
    }
   },
   "outputs": [],
   "source": [
    "dataset['degree_t']=dataset['degree_t'].apply(lambda x : x.split('&')[0])"
   ]
  },
  {
   "cell_type": "code",
   "execution_count": 155,
   "metadata": {
    "ExecuteTime": {
     "end_time": "2021-05-27T10:34:35.151526Z",
     "start_time": "2021-05-27T10:34:35.138590Z"
    }
   },
   "outputs": [],
   "source": [
    "median = dataset['salary'].median()"
   ]
  },
  {
   "cell_type": "code",
   "execution_count": 156,
   "metadata": {
    "ExecuteTime": {
     "end_time": "2021-05-27T10:34:35.831546Z",
     "start_time": "2021-05-27T10:34:35.817586Z"
    }
   },
   "outputs": [],
   "source": [
    "dataset['salary'] = dataset.salary.fillna(median)"
   ]
  },
  {
   "cell_type": "code",
   "execution_count": 24,
   "metadata": {
    "ExecuteTime": {
     "end_time": "2021-05-27T09:55:23.431007Z",
     "start_time": "2021-05-27T09:55:23.226792Z"
    }
   },
   "outputs": [],
   "source": [
    "from sklearn.preprocessing import LabelEncoder"
   ]
  },
  {
   "cell_type": "code",
   "execution_count": 25,
   "metadata": {
    "ExecuteTime": {
     "end_time": "2021-05-27T09:55:24.153929Z",
     "start_time": "2021-05-27T09:55:24.149969Z"
    }
   },
   "outputs": [],
   "source": [
    "le = LabelEncoder()"
   ]
  },
  {
   "cell_type": "code",
   "execution_count": 158,
   "metadata": {
    "ExecuteTime": {
     "end_time": "2021-05-27T10:35:37.951395Z",
     "start_time": "2021-05-27T10:35:37.943418Z"
    }
   },
   "outputs": [],
   "source": [
    "dataset['ssc_b'] = le.fit_transform(dataset['ssc_b'])\n",
    "dataset['specialisation'] = le.fit_transform(dataset['specialisation'])\n",
    "dataset['gender'] = le.fit_transform(dataset['gender'])\n",
    "dataset['hsc_b'] = le.fit_transform(dataset['hsc_b'])\n",
    "dataset['workex'] = le.fit_transform(dataset['workex'])\n",
    "dataset['status'] = le.fit_transform(dataset['status'])"
   ]
  },
  {
   "cell_type": "code",
   "execution_count": 127,
   "metadata": {
    "ExecuteTime": {
     "end_time": "2021-05-27T10:31:02.260684Z",
     "start_time": "2021-05-27T10:31:02.251709Z"
    }
   },
   "outputs": [],
   "source": [
    "scale = StandardScaler()\n",
    "dataset[['ssc_p','hsc_p','degree_p', 'etest_p', 'mba_p']] = scale.fit_transform(dataset[['ssc_p','hsc_p','degree_p','etest_p','mba_p']])"
   ]
  },
  {
   "cell_type": "code",
   "execution_count": 161,
   "metadata": {
    "ExecuteTime": {
     "end_time": "2021-05-27T10:35:46.199374Z",
     "start_time": "2021-05-27T10:35:46.189384Z"
    }
   },
   "outputs": [
    {
     "data": {
      "text/html": [
       "<div>\n",
       "<style scoped>\n",
       "    .dataframe tbody tr th:only-of-type {\n",
       "        vertical-align: middle;\n",
       "    }\n",
       "\n",
       "    .dataframe tbody tr th {\n",
       "        vertical-align: top;\n",
       "    }\n",
       "\n",
       "    .dataframe thead th {\n",
       "        text-align: right;\n",
       "    }\n",
       "</style>\n",
       "<table border=\"1\" class=\"dataframe\">\n",
       "  <thead>\n",
       "    <tr style=\"text-align: right;\">\n",
       "      <th></th>\n",
       "      <th>gender</th>\n",
       "      <th>ssc_b</th>\n",
       "      <th>hsc_b</th>\n",
       "      <th>workex</th>\n",
       "      <th>specialisation</th>\n",
       "      <th>status</th>\n",
       "      <th>salary</th>\n",
       "      <th>hsc_s_Commerce</th>\n",
       "      <th>hsc_s_Science</th>\n",
       "      <th>degree_t_Others</th>\n",
       "      <th>degree_t_Sci</th>\n",
       "    </tr>\n",
       "  </thead>\n",
       "  <tbody>\n",
       "    <tr>\n",
       "      <th>0</th>\n",
       "      <td>1</td>\n",
       "      <td>1</td>\n",
       "      <td>1</td>\n",
       "      <td>0</td>\n",
       "      <td>1</td>\n",
       "      <td>0</td>\n",
       "      <td>270000.0</td>\n",
       "      <td>1</td>\n",
       "      <td>0</td>\n",
       "      <td>0</td>\n",
       "      <td>1</td>\n",
       "    </tr>\n",
       "    <tr>\n",
       "      <th>1</th>\n",
       "      <td>1</td>\n",
       "      <td>0</td>\n",
       "      <td>1</td>\n",
       "      <td>1</td>\n",
       "      <td>0</td>\n",
       "      <td>0</td>\n",
       "      <td>200000.0</td>\n",
       "      <td>0</td>\n",
       "      <td>1</td>\n",
       "      <td>0</td>\n",
       "      <td>1</td>\n",
       "    </tr>\n",
       "    <tr>\n",
       "      <th>2</th>\n",
       "      <td>1</td>\n",
       "      <td>0</td>\n",
       "      <td>0</td>\n",
       "      <td>0</td>\n",
       "      <td>0</td>\n",
       "      <td>0</td>\n",
       "      <td>250000.0</td>\n",
       "      <td>0</td>\n",
       "      <td>0</td>\n",
       "      <td>0</td>\n",
       "      <td>0</td>\n",
       "    </tr>\n",
       "    <tr>\n",
       "      <th>4</th>\n",
       "      <td>1</td>\n",
       "      <td>0</td>\n",
       "      <td>0</td>\n",
       "      <td>0</td>\n",
       "      <td>0</td>\n",
       "      <td>0</td>\n",
       "      <td>425000.0</td>\n",
       "      <td>1</td>\n",
       "      <td>0</td>\n",
       "      <td>0</td>\n",
       "      <td>0</td>\n",
       "    </tr>\n",
       "    <tr>\n",
       "      <th>7</th>\n",
       "      <td>1</td>\n",
       "      <td>0</td>\n",
       "      <td>0</td>\n",
       "      <td>1</td>\n",
       "      <td>0</td>\n",
       "      <td>0</td>\n",
       "      <td>252000.0</td>\n",
       "      <td>0</td>\n",
       "      <td>1</td>\n",
       "      <td>0</td>\n",
       "      <td>1</td>\n",
       "    </tr>\n",
       "    <tr>\n",
       "      <th>8</th>\n",
       "      <td>1</td>\n",
       "      <td>0</td>\n",
       "      <td>0</td>\n",
       "      <td>0</td>\n",
       "      <td>0</td>\n",
       "      <td>0</td>\n",
       "      <td>231000.0</td>\n",
       "      <td>1</td>\n",
       "      <td>0</td>\n",
       "      <td>0</td>\n",
       "      <td>0</td>\n",
       "    </tr>\n",
       "    <tr>\n",
       "      <th>10</th>\n",
       "      <td>1</td>\n",
       "      <td>0</td>\n",
       "      <td>0</td>\n",
       "      <td>1</td>\n",
       "      <td>1</td>\n",
       "      <td>0</td>\n",
       "      <td>260000.0</td>\n",
       "      <td>1</td>\n",
       "      <td>0</td>\n",
       "      <td>0</td>\n",
       "      <td>0</td>\n",
       "    </tr>\n",
       "    <tr>\n",
       "      <th>11</th>\n",
       "      <td>1</td>\n",
       "      <td>0</td>\n",
       "      <td>0</td>\n",
       "      <td>1</td>\n",
       "      <td>0</td>\n",
       "      <td>0</td>\n",
       "      <td>250000.0</td>\n",
       "      <td>1</td>\n",
       "      <td>0</td>\n",
       "      <td>0</td>\n",
       "      <td>0</td>\n",
       "    </tr>\n",
       "    <tr>\n",
       "      <th>13</th>\n",
       "      <td>0</td>\n",
       "      <td>0</td>\n",
       "      <td>0</td>\n",
       "      <td>0</td>\n",
       "      <td>0</td>\n",
       "      <td>0</td>\n",
       "      <td>218000.0</td>\n",
       "      <td>1</td>\n",
       "      <td>0</td>\n",
       "      <td>0</td>\n",
       "      <td>0</td>\n",
       "    </tr>\n",
       "    <tr>\n",
       "      <th>15</th>\n",
       "      <td>0</td>\n",
       "      <td>0</td>\n",
       "      <td>0</td>\n",
       "      <td>1</td>\n",
       "      <td>0</td>\n",
       "      <td>0</td>\n",
       "      <td>200000.0</td>\n",
       "      <td>1</td>\n",
       "      <td>0</td>\n",
       "      <td>0</td>\n",
       "      <td>0</td>\n",
       "    </tr>\n",
       "  </tbody>\n",
       "</table>\n",
       "</div>"
      ],
      "text/plain": [
       "    gender  ssc_b  hsc_b  workex  specialisation  status    salary  \\\n",
       "0        1      1      1       0               1       0  270000.0   \n",
       "1        1      0      1       1               0       0  200000.0   \n",
       "2        1      0      0       0               0       0  250000.0   \n",
       "4        1      0      0       0               0       0  425000.0   \n",
       "7        1      0      0       1               0       0  252000.0   \n",
       "8        1      0      0       0               0       0  231000.0   \n",
       "10       1      0      0       1               1       0  260000.0   \n",
       "11       1      0      0       1               0       0  250000.0   \n",
       "13       0      0      0       0               0       0  218000.0   \n",
       "15       0      0      0       1               0       0  200000.0   \n",
       "\n",
       "    hsc_s_Commerce  hsc_s_Science  degree_t_Others  degree_t_Sci  \n",
       "0                1              0                0             1  \n",
       "1                0              1                0             1  \n",
       "2                0              0                0             0  \n",
       "4                1              0                0             0  \n",
       "7                0              1                0             1  \n",
       "8                1              0                0             0  \n",
       "10               1              0                0             0  \n",
       "11               1              0                0             0  \n",
       "13               1              0                0             0  \n",
       "15               1              0                0             0  "
      ]
     },
     "execution_count": 161,
     "metadata": {},
     "output_type": "execute_result"
    }
   ],
   "source": [
    "dataset.head(10)"
   ]
  },
  {
   "cell_type": "code",
   "execution_count": 160,
   "metadata": {
    "ExecuteTime": {
     "end_time": "2021-05-27T10:35:44.234463Z",
     "start_time": "2021-05-27T10:35:44.213419Z"
    }
   },
   "outputs": [],
   "source": [
    "dataset = pd.get_dummies(data=dataset,columns=['hsc_s','degree_t'], drop_first=True)"
   ]
  },
  {
   "cell_type": "code",
   "execution_count": 162,
   "metadata": {
    "ExecuteTime": {
     "end_time": "2021-05-27T10:35:50.700324Z",
     "start_time": "2021-05-27T10:35:50.696334Z"
    }
   },
   "outputs": [],
   "source": [
    "X = dataset.drop(['salary'], axis=1).values\n",
    "y = dataset['salary'].values"
   ]
  },
  {
   "cell_type": "code",
   "execution_count": 163,
   "metadata": {
    "ExecuteTime": {
     "end_time": "2021-05-27T10:35:51.251326Z",
     "start_time": "2021-05-27T10:35:51.234372Z"
    }
   },
   "outputs": [
    {
     "data": {
      "text/plain": [
       "array([[1, 1, 1, ..., 0, 0, 1],\n",
       "       [1, 0, 1, ..., 1, 0, 1],\n",
       "       [1, 0, 0, ..., 0, 0, 0],\n",
       "       ...,\n",
       "       [1, 1, 1, ..., 1, 0, 1],\n",
       "       [1, 1, 1, ..., 0, 0, 0],\n",
       "       [0, 1, 1, ..., 0, 0, 0]], dtype=int32)"
      ]
     },
     "execution_count": 163,
     "metadata": {},
     "output_type": "execute_result"
    }
   ],
   "source": [
    "X"
   ]
  },
  {
   "cell_type": "code",
   "execution_count": 164,
   "metadata": {
    "ExecuteTime": {
     "end_time": "2021-05-27T10:35:53.666372Z",
     "start_time": "2021-05-27T10:35:53.656430Z"
    }
   },
   "outputs": [
    {
     "data": {
      "text/plain": [
       "array([270000., 200000., 250000., 425000., 252000., 231000., 260000.,\n",
       "       250000., 218000., 200000., 300000., 236000., 265000., 393000.,\n",
       "       360000., 300000., 360000., 240000., 265000., 350000., 250000.,\n",
       "       278000., 260000., 300000., 320000., 240000., 411000., 287000.,\n",
       "       300000., 200000., 204000., 250000., 200000., 450000., 216000.,\n",
       "       220000., 240000., 360000., 268000., 265000., 260000., 300000.,\n",
       "       240000., 240000., 275000., 275000., 275000., 360000., 240000.,\n",
       "       240000., 218000., 336000., 230000., 500000., 270000., 240000.,\n",
       "       300000., 300000., 300000., 400000., 220000., 210000., 210000.,\n",
       "       300000., 230000., 260000., 420000., 300000., 220000., 380000.,\n",
       "       300000., 240000., 360000., 200000., 300000., 250000., 250000.,\n",
       "       280000., 250000., 216000., 300000., 240000., 276000., 940000.,\n",
       "       250000., 236000., 240000., 250000., 350000., 210000., 250000.,\n",
       "       400000., 250000., 360000., 300000., 250000., 250000., 200000.,\n",
       "       225000., 250000., 220000., 265000., 260000., 300000., 400000.,\n",
       "       233000., 300000., 240000., 690000., 270000., 240000., 340000.,\n",
       "       250000., 255000., 300000., 300000., 285000., 500000., 250000.,\n",
       "       240000., 290000., 300000., 500000., 220000., 650000., 350000.,\n",
       "       265000., 276000., 252000., 280000., 264000., 270000., 300000.,\n",
       "       275000., 250000., 260000., 265000., 300000., 240000., 260000.,\n",
       "       210000., 250000., 300000., 216000., 400000., 275000., 295000.,\n",
       "       204000.])"
      ]
     },
     "execution_count": 164,
     "metadata": {},
     "output_type": "execute_result"
    }
   ],
   "source": [
    "y"
   ]
  },
  {
   "cell_type": "code",
   "execution_count": 54,
   "metadata": {
    "ExecuteTime": {
     "end_time": "2021-05-01T06:35:12.774023Z",
     "start_time": "2021-05-01T06:35:12.754106Z"
    }
   },
   "outputs": [],
   "source": [
    "from sklearn.compose import ColumnTransformer\n",
    "from sklearn.preprocessing import OneHotEncoder"
   ]
  },
  {
   "cell_type": "code",
   "execution_count": 189,
   "metadata": {
    "ExecuteTime": {
     "end_time": "2021-05-01T10:33:31.028460Z",
     "start_time": "2021-05-01T10:33:31.011505Z"
    }
   },
   "outputs": [],
   "source": [
    "ct = ColumnTransformer(transformers=[('encoder', OneHotEncoder(), [4])], remainder='passthrough')\n",
    "X = np.array(ct.fit_transform(X))"
   ]
  },
  {
   "cell_type": "code",
   "execution_count": 47,
   "metadata": {
    "ExecuteTime": {
     "end_time": "2021-05-27T10:12:02.702518Z",
     "start_time": "2021-05-27T10:12:02.612052Z"
    }
   },
   "outputs": [],
   "source": [
    "from sklearn.model_selection import train_test_split"
   ]
  },
  {
   "cell_type": "code",
   "execution_count": 165,
   "metadata": {
    "ExecuteTime": {
     "end_time": "2021-05-27T10:36:05.135228Z",
     "start_time": "2021-05-27T10:36:05.121238Z"
    }
   },
   "outputs": [],
   "source": [
    "X_train, X_test, y_train, y_test = train_test_split(X, y, test_size = 0.2, random_state = 42)"
   ]
  },
  {
   "cell_type": "code",
   "execution_count": 166,
   "metadata": {
    "ExecuteTime": {
     "end_time": "2021-05-27T10:36:05.619546Z",
     "start_time": "2021-05-27T10:36:05.609575Z"
    }
   },
   "outputs": [
    {
     "data": {
      "text/plain": [
       "LinearRegression()"
      ]
     },
     "execution_count": 166,
     "metadata": {},
     "output_type": "execute_result"
    }
   ],
   "source": [
    "from sklearn.linear_model import LinearRegression\n",
    "regressor = LinearRegression()\n",
    "regressor.fit(X_train, y_train)"
   ]
  },
  {
   "cell_type": "code",
   "execution_count": 167,
   "metadata": {
    "ExecuteTime": {
     "end_time": "2021-05-27T10:36:06.480341Z",
     "start_time": "2021-05-27T10:36:06.473360Z"
    }
   },
   "outputs": [],
   "source": [
    "y_pred = regressor.predict(X_test)\n",
    "# np.set_printoptions(precision=2)\n",
    "# print(np.concatenate((y_pred.reshape(len(y_pred),1), y_test.reshape(len(y_test.values),1)),1))"
   ]
  },
  {
   "cell_type": "code",
   "execution_count": 168,
   "metadata": {
    "ExecuteTime": {
     "end_time": "2021-05-27T10:36:07.231370Z",
     "start_time": "2021-05-27T10:36:07.221402Z"
    }
   },
   "outputs": [],
   "source": [
    "from sklearn.metrics import mean_squared_error, r2_score"
   ]
  },
  {
   "cell_type": "code",
   "execution_count": 169,
   "metadata": {
    "ExecuteTime": {
     "end_time": "2021-05-27T10:36:07.788396Z",
     "start_time": "2021-05-27T10:36:07.775432Z"
    }
   },
   "outputs": [
    {
     "name": "stdout",
     "output_type": "stream",
     "text": [
      "Mean squared error: 8834133066.13\n",
      "R²: -0.04\n"
     ]
    }
   ],
   "source": [
    "print(\"Mean squared error: %.2f\" % mean_squared_error(y_test, y_pred))\n",
    "print('R²: %.2f' % r2_score(y_test, y_pred))"
   ]
  },
  {
   "cell_type": "code",
   "execution_count": 171,
   "metadata": {
    "ExecuteTime": {
     "end_time": "2021-05-27T10:36:22.568974Z",
     "start_time": "2021-05-27T10:36:22.427321Z"
    }
   },
   "outputs": [
    {
     "data": {
      "text/plain": [
       "<AxesSubplot:ylabel='Count'>"
      ]
     },
     "execution_count": 171,
     "metadata": {},
     "output_type": "execute_result"
    },
    {
     "data": {
      "image/png": "[encoded data removed]",
      "text/plain": [
       "<Figure size 432x288 with 1 Axes>"
      ]
     },
     "metadata": {
      "needs_background": "light"
     },
     "output_type": "display_data"
    }
   ],
   "source": [
    "sns.histplot(x= y)"
   ]
  },
  {
   "cell_type": "code",
   "execution_count": null,
   "metadata": {},
   "outputs": [],
   "source": []
  }
 ],
 "metadata": {
  "kernelspec": {
   "display_name": "Python 3",
   "language": "python",
   "name": "python3"
  },
  "language_info": {
   "codemirror_mode": {
    "name": "ipython",
    "version": 3
   },
   "file_extension": ".py",
   "mimetype": "text/x-python",
   "name": "python",
   "nbconvert_exporter": "python",
   "pygments_lexer": "ipython3",
   "version": "3.8.10"
  },
  "varInspector": {
   "cols": {
    "lenName": 16,
    "lenType": 16,
    "lenVar": 40
   },
   "kernels_config": {
    "python": {
     "delete_cmd_postfix": "",
     "delete_cmd_prefix": "del ",
     "library": "var_list.py",
     "varRefreshCmd": "print(var_dic_list())"
    },
    "r": {
     "delete_cmd_postfix": ") ",
     "delete_cmd_prefix": "rm(",
     "library": "var_list.r",
     "varRefreshCmd": "cat(var_dic_list()) "
    }
   },
   "types_to_exclude": [
    "module",
    "function",
    "builtin_function_or_method",
    "instance",
    "_Feature"
   ],
   "window_display": false
  }
 },
 "nbformat": 4,
 "nbformat_minor": 4
}
