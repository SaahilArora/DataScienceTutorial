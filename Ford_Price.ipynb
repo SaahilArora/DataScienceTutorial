{
 "cells": [
  {
   "cell_type": "code",
   "execution_count": 1,
   "metadata": {
    "ExecuteTime": {
     "end_time": "2021-07-03T18:05:02.972715Z",
     "start_time": "2021-07-03T18:05:02.948759Z"
    }
   },
   "outputs": [],
   "source": [
    "%config Completer.use_jedi = False"
   ]
  },
  {
   "cell_type": "code",
   "execution_count": 2,
   "metadata": {
    "ExecuteTime": {
     "end_time": "2021-07-03T18:05:05.678126Z",
     "start_time": "2021-07-03T18:05:03.274781Z"
    }
   },
   "outputs": [],
   "source": [
    "from sklearn.model_selection import train_test_split\n",
    "from sklearn.linear_model import LinearRegression\n",
    "import math\n",
    "import seaborn as sns"
   ]
  },
  {
   "cell_type": "code",
   "execution_count": 135,
   "metadata": {
    "ExecuteTime": {
     "end_time": "2021-07-03T19:17:08.728654Z",
     "start_time": "2021-07-03T19:17:08.716659Z"
    }
   },
   "outputs": [],
   "source": [
    "from sklearn.metrics import r2_score,mean_squared_error"
   ]
  },
  {
   "cell_type": "code",
   "execution_count": 128,
   "metadata": {
    "ExecuteTime": {
     "end_time": "2021-07-03T19:13:26.501884Z",
     "start_time": "2021-07-03T19:13:26.487893Z"
    }
   },
   "outputs": [],
   "source": [
    "from sklearn.tree import DecisionTreeRegressor"
   ]
  },
  {
   "cell_type": "code",
   "execution_count": 3,
   "metadata": {
    "ExecuteTime": {
     "end_time": "2021-07-03T18:05:05.724429Z",
     "start_time": "2021-07-03T18:05:05.710351Z"
    }
   },
   "outputs": [],
   "source": [
    "import pandas as pd"
   ]
  },
  {
   "cell_type": "code",
   "execution_count": 4,
   "metadata": {
    "ExecuteTime": {
     "end_time": "2021-07-03T18:05:07.776851Z",
     "start_time": "2021-07-03T18:05:07.759777Z"
    }
   },
   "outputs": [],
   "source": [
    "import numpy as np"
   ]
  },
  {
   "cell_type": "code",
   "execution_count": 25,
   "metadata": {
    "ExecuteTime": {
     "end_time": "2021-07-03T18:35:40.482596Z",
     "start_time": "2021-07-03T18:35:40.451552Z"
    }
   },
   "outputs": [],
   "source": [
    "df = pd.read_csv('./datalab/ford.csv')"
   ]
  },
  {
   "cell_type": "code",
   "execution_count": 107,
   "metadata": {
    "ExecuteTime": {
     "end_time": "2021-07-03T19:05:18.600370Z",
     "start_time": "2021-07-03T19:05:18.576435Z"
    }
   },
   "outputs": [
    {
     "data": {
      "text/html": [
       "<div>\n",
       "<style scoped>\n",
       "    .dataframe tbody tr th:only-of-type {\n",
       "        vertical-align: middle;\n",
       "    }\n",
       "\n",
       "    .dataframe tbody tr th {\n",
       "        vertical-align: top;\n",
       "    }\n",
       "\n",
       "    .dataframe thead th {\n",
       "        text-align: right;\n",
       "    }\n",
       "</style>\n",
       "<table border=\"1\" class=\"dataframe\">\n",
       "  <thead>\n",
       "    <tr style=\"text-align: right;\">\n",
       "      <th></th>\n",
       "      <th>model</th>\n",
       "      <th>year</th>\n",
       "      <th>price</th>\n",
       "      <th>transmission</th>\n",
       "      <th>km_driven</th>\n",
       "      <th>fuelType</th>\n",
       "      <th>tax</th>\n",
       "      <th>mpg</th>\n",
       "      <th>engineSize</th>\n",
       "      <th>age</th>\n",
       "      <th>avg_km</th>\n",
       "    </tr>\n",
       "  </thead>\n",
       "  <tbody>\n",
       "    <tr>\n",
       "      <th>0</th>\n",
       "      <td>Fiesta</td>\n",
       "      <td>2017</td>\n",
       "      <td>12000</td>\n",
       "      <td>Automatic</td>\n",
       "      <td>15944.000000</td>\n",
       "      <td>Petrol</td>\n",
       "      <td>150.0</td>\n",
       "      <td>57.7</td>\n",
       "      <td>1.0</td>\n",
       "      <td>4</td>\n",
       "      <td>3986.000000</td>\n",
       "    </tr>\n",
       "    <tr>\n",
       "      <th>1</th>\n",
       "      <td>Focus</td>\n",
       "      <td>2018</td>\n",
       "      <td>14000</td>\n",
       "      <td>Manual</td>\n",
       "      <td>9083.000000</td>\n",
       "      <td>Petrol</td>\n",
       "      <td>150.0</td>\n",
       "      <td>57.7</td>\n",
       "      <td>1.0</td>\n",
       "      <td>3</td>\n",
       "      <td>3027.666667</td>\n",
       "    </tr>\n",
       "    <tr>\n",
       "      <th>2</th>\n",
       "      <td>Focus</td>\n",
       "      <td>2017</td>\n",
       "      <td>13000</td>\n",
       "      <td>Manual</td>\n",
       "      <td>12456.000000</td>\n",
       "      <td>Petrol</td>\n",
       "      <td>150.0</td>\n",
       "      <td>57.7</td>\n",
       "      <td>1.0</td>\n",
       "      <td>4</td>\n",
       "      <td>3114.000000</td>\n",
       "    </tr>\n",
       "    <tr>\n",
       "      <th>3</th>\n",
       "      <td>Fiesta</td>\n",
       "      <td>2019</td>\n",
       "      <td>17500</td>\n",
       "      <td>Manual</td>\n",
       "      <td>10460.000000</td>\n",
       "      <td>Petrol</td>\n",
       "      <td>145.0</td>\n",
       "      <td>40.3</td>\n",
       "      <td>1.5</td>\n",
       "      <td>2</td>\n",
       "      <td>5230.000000</td>\n",
       "    </tr>\n",
       "    <tr>\n",
       "      <th>4</th>\n",
       "      <td>Fiesta</td>\n",
       "      <td>2019</td>\n",
       "      <td>16500</td>\n",
       "      <td>Automatic</td>\n",
       "      <td>23363.630504</td>\n",
       "      <td>Petrol</td>\n",
       "      <td>145.0</td>\n",
       "      <td>48.7</td>\n",
       "      <td>1.0</td>\n",
       "      <td>2</td>\n",
       "      <td>11681.815252</td>\n",
       "    </tr>\n",
       "  </tbody>\n",
       "</table>\n",
       "</div>"
      ],
      "text/plain": [
       "     model  year  price transmission     km_driven fuelType    tax   mpg  \\\n",
       "0   Fiesta  2017  12000    Automatic  15944.000000   Petrol  150.0  57.7   \n",
       "1    Focus  2018  14000       Manual   9083.000000   Petrol  150.0  57.7   \n",
       "2    Focus  2017  13000       Manual  12456.000000   Petrol  150.0  57.7   \n",
       "3   Fiesta  2019  17500       Manual  10460.000000   Petrol  145.0  40.3   \n",
       "4   Fiesta  2019  16500    Automatic  23363.630504   Petrol  145.0  48.7   \n",
       "\n",
       "   engineSize  age        avg_km  \n",
       "0         1.0    4   3986.000000  \n",
       "1         1.0    3   3027.666667  \n",
       "2         1.0    4   3114.000000  \n",
       "3         1.5    2   5230.000000  \n",
       "4         1.0    2  11681.815252  "
      ]
     },
     "execution_count": 107,
     "metadata": {},
     "output_type": "execute_result"
    }
   ],
   "source": [
    "df.head()"
   ]
  },
  {
   "cell_type": "code",
   "execution_count": 89,
   "metadata": {
    "ExecuteTime": {
     "end_time": "2021-07-03T18:59:02.196063Z",
     "start_time": "2021-07-03T18:59:02.168920Z"
    }
   },
   "outputs": [
    {
     "name": "stdout",
     "output_type": "stream",
     "text": [
      "<class 'pandas.core.frame.DataFrame'>\n",
      "RangeIndex: 17965 entries, 0 to 17964\n",
      "Data columns (total 10 columns):\n",
      " #   Column        Non-Null Count  Dtype  \n",
      "---  ------        --------------  -----  \n",
      " 0   model         17965 non-null  object \n",
      " 1   year          17965 non-null  int64  \n",
      " 2   price         17965 non-null  int64  \n",
      " 3   transmission  17965 non-null  object \n",
      " 4   km_driven     17965 non-null  float64\n",
      " 5   fuelType      17965 non-null  object \n",
      " 6   tax           17965 non-null  float64\n",
      " 7   mpg           17965 non-null  float64\n",
      " 8   engineSize    17965 non-null  float64\n",
      " 9   age           17965 non-null  int64  \n",
      "dtypes: float64(4), int64(3), object(3)\n",
      "memory usage: 1.4+ MB\n"
     ]
    }
   ],
   "source": [
    "df.info()"
   ]
  },
  {
   "cell_type": "code",
   "execution_count": 106,
   "metadata": {
    "ExecuteTime": {
     "end_time": "2021-07-03T19:05:11.585857Z",
     "start_time": "2021-07-03T19:05:11.543543Z"
    }
   },
   "outputs": [
    {
     "data": {
      "text/html": [
       "<div>\n",
       "<style scoped>\n",
       "    .dataframe tbody tr th:only-of-type {\n",
       "        vertical-align: middle;\n",
       "    }\n",
       "\n",
       "    .dataframe tbody tr th {\n",
       "        vertical-align: top;\n",
       "    }\n",
       "\n",
       "    .dataframe thead th {\n",
       "        text-align: right;\n",
       "    }\n",
       "</style>\n",
       "<table border=\"1\" class=\"dataframe\">\n",
       "  <thead>\n",
       "    <tr style=\"text-align: right;\">\n",
       "      <th></th>\n",
       "      <th>year</th>\n",
       "      <th>price</th>\n",
       "      <th>km_driven</th>\n",
       "      <th>tax</th>\n",
       "      <th>mpg</th>\n",
       "      <th>engineSize</th>\n",
       "      <th>age</th>\n",
       "      <th>avg_km</th>\n",
       "    </tr>\n",
       "  </thead>\n",
       "  <tbody>\n",
       "    <tr>\n",
       "      <th>count</th>\n",
       "      <td>17965.000000</td>\n",
       "      <td>17965.000000</td>\n",
       "      <td>17965.000000</td>\n",
       "      <td>17965.000000</td>\n",
       "      <td>17965.000000</td>\n",
       "      <td>17965.000000</td>\n",
       "      <td>17965.000000</td>\n",
       "      <td>17965.000000</td>\n",
       "    </tr>\n",
       "    <tr>\n",
       "      <th>mean</th>\n",
       "      <td>2016.864180</td>\n",
       "      <td>12279.756415</td>\n",
       "      <td>24478.605618</td>\n",
       "      <td>122.776734</td>\n",
       "      <td>57.906991</td>\n",
       "      <td>1.350827</td>\n",
       "      <td>4.135820</td>\n",
       "      <td>5953.739516</td>\n",
       "    </tr>\n",
       "    <tr>\n",
       "      <th>std</th>\n",
       "      <td>2.024931</td>\n",
       "      <td>4741.382606</td>\n",
       "      <td>18787.152412</td>\n",
       "      <td>40.523140</td>\n",
       "      <td>10.125977</td>\n",
       "      <td>0.432371</td>\n",
       "      <td>2.024931</td>\n",
       "      <td>3669.396411</td>\n",
       "    </tr>\n",
       "    <tr>\n",
       "      <th>min</th>\n",
       "      <td>1996.000000</td>\n",
       "      <td>495.000000</td>\n",
       "      <td>2500.000000</td>\n",
       "      <td>20.000000</td>\n",
       "      <td>20.800000</td>\n",
       "      <td>0.000000</td>\n",
       "      <td>1.000000</td>\n",
       "      <td>500.000000</td>\n",
       "    </tr>\n",
       "    <tr>\n",
       "      <th>25%</th>\n",
       "      <td>2016.000000</td>\n",
       "      <td>8999.000000</td>\n",
       "      <td>11500.000000</td>\n",
       "      <td>113.334539</td>\n",
       "      <td>52.300000</td>\n",
       "      <td>1.000000</td>\n",
       "      <td>3.000000</td>\n",
       "      <td>3489.000000</td>\n",
       "    </tr>\n",
       "    <tr>\n",
       "      <th>50%</th>\n",
       "      <td>2017.000000</td>\n",
       "      <td>11291.000000</td>\n",
       "      <td>20391.000000</td>\n",
       "      <td>145.000000</td>\n",
       "      <td>58.900000</td>\n",
       "      <td>1.200000</td>\n",
       "      <td>4.000000</td>\n",
       "      <td>5176.000000</td>\n",
       "    </tr>\n",
       "    <tr>\n",
       "      <th>75%</th>\n",
       "      <td>2018.000000</td>\n",
       "      <td>15299.000000</td>\n",
       "      <td>31064.000000</td>\n",
       "      <td>145.000000</td>\n",
       "      <td>65.700000</td>\n",
       "      <td>1.500000</td>\n",
       "      <td>5.000000</td>\n",
       "      <td>7449.800000</td>\n",
       "    </tr>\n",
       "    <tr>\n",
       "      <th>max</th>\n",
       "      <td>2020.000000</td>\n",
       "      <td>54995.000000</td>\n",
       "      <td>177644.000000</td>\n",
       "      <td>150.000000</td>\n",
       "      <td>201.800000</td>\n",
       "      <td>5.000000</td>\n",
       "      <td>25.000000</td>\n",
       "      <td>29975.500000</td>\n",
       "    </tr>\n",
       "  </tbody>\n",
       "</table>\n",
       "</div>"
      ],
      "text/plain": [
       "               year         price      km_driven           tax           mpg  \\\n",
       "count  17965.000000  17965.000000   17965.000000  17965.000000  17965.000000   \n",
       "mean    2016.864180  12279.756415   24478.605618    122.776734     57.906991   \n",
       "std        2.024931   4741.382606   18787.152412     40.523140     10.125977   \n",
       "min     1996.000000    495.000000    2500.000000     20.000000     20.800000   \n",
       "25%     2016.000000   8999.000000   11500.000000    113.334539     52.300000   \n",
       "50%     2017.000000  11291.000000   20391.000000    145.000000     58.900000   \n",
       "75%     2018.000000  15299.000000   31064.000000    145.000000     65.700000   \n",
       "max     2020.000000  54995.000000  177644.000000    150.000000    201.800000   \n",
       "\n",
       "         engineSize           age        avg_km  \n",
       "count  17965.000000  17965.000000  17965.000000  \n",
       "mean       1.350827      4.135820   5953.739516  \n",
       "std        0.432371      2.024931   3669.396411  \n",
       "min        0.000000      1.000000    500.000000  \n",
       "25%        1.000000      3.000000   3489.000000  \n",
       "50%        1.200000      4.000000   5176.000000  \n",
       "75%        1.500000      5.000000   7449.800000  \n",
       "max        5.000000     25.000000  29975.500000  "
      ]
     },
     "execution_count": 106,
     "metadata": {},
     "output_type": "execute_result"
    }
   ],
   "source": [
    "df.describe()"
   ]
  },
  {
   "cell_type": "code",
   "execution_count": 56,
   "metadata": {
    "ExecuteTime": {
     "end_time": "2021-07-03T18:49:27.700493Z",
     "start_time": "2021-07-03T18:49:27.692509Z"
    }
   },
   "outputs": [],
   "source": [
    "df.rename(columns={'mileage':'km_driven'}, inplace=True)"
   ]
  },
  {
   "cell_type": "code",
   "execution_count": 87,
   "metadata": {
    "ExecuteTime": {
     "end_time": "2021-07-03T18:57:48.364853Z",
     "start_time": "2021-07-03T18:57:48.349895Z"
    }
   },
   "outputs": [],
   "source": [
    "df['age'] = 2021 - df.year"
   ]
  },
  {
   "cell_type": "code",
   "execution_count": 105,
   "metadata": {
    "ExecuteTime": {
     "end_time": "2021-07-03T19:05:08.572500Z",
     "start_time": "2021-07-03T19:05:08.566521Z"
    }
   },
   "outputs": [],
   "source": [
    "df['avg_km'] = df.km_driven/df.age"
   ]
  },
  {
   "cell_type": "markdown",
   "metadata": {},
   "source": [
    "## Feature Engineering"
   ]
  },
  {
   "cell_type": "code",
   "execution_count": 29,
   "metadata": {
    "ExecuteTime": {
     "end_time": "2021-07-03T18:35:49.505572Z",
     "start_time": "2021-07-03T18:35:49.484543Z"
    }
   },
   "outputs": [],
   "source": [
    "df.year = df.year.apply(lambda x: 2017 if x==2060 else x) "
   ]
  },
  {
   "cell_type": "code",
   "execution_count": 91,
   "metadata": {
    "ExecuteTime": {
     "end_time": "2021-07-03T18:59:40.914123Z",
     "start_time": "2021-07-03T18:59:40.773773Z"
    }
   },
   "outputs": [
    {
     "data": {
      "text/plain": [
       "<AxesSubplot:xlabel='age', ylabel='price'>"
      ]
     },
     "execution_count": 91,
     "metadata": {},
     "output_type": "execute_result"
    },
    {
     "data": {
      "image/png": "[encoded data removed]",
      "text/plain": [
       "<Figure size 432x288 with 1 Axes>"
      ]
     },
     "metadata": {
      "needs_background": "light"
     },
     "output_type": "display_data"
    }
   ],
   "source": [
    "sns.scatterplot(x = df.age, y= df.price)"
   ]
  },
  {
   "cell_type": "code",
   "execution_count": 103,
   "metadata": {
    "ExecuteTime": {
     "end_time": "2021-07-03T19:03:57.276481Z",
     "start_time": "2021-07-03T19:03:57.133751Z"
    }
   },
   "outputs": [
    {
     "data": {
      "text/plain": [
       "<AxesSubplot:xlabel='price', ylabel='km_driven'>"
      ]
     },
     "execution_count": 103,
     "metadata": {},
     "output_type": "execute_result"
    },
    {
     "data": {
      "image/png": "[encoded data removed]",
      "text/plain": [
       "<Figure size 432x288 with 1 Axes>"
      ]
     },
     "metadata": {
      "needs_background": "light"
     },
     "output_type": "display_data"
    }
   ],
   "source": [
    "sns.scatterplot(x = df.price, y= df.km_driven)"
   ]
  },
  {
   "cell_type": "code",
   "execution_count": 86,
   "metadata": {
    "ExecuteTime": {
     "end_time": "2021-07-03T18:57:12.815974Z",
     "start_time": "2021-07-03T18:57:12.807995Z"
    }
   },
   "outputs": [
    {
     "name": "stdout",
     "output_type": "stream",
     "text": [
      "KM Mean 24478.605618222406, Q 94000.0\n"
     ]
    }
   ],
   "source": [
    "mean_km = df.km_driven.mean()\n",
    "quantile_Km = df.km_driven.quantile(.99)\n",
    "print(\"KM Mean {}, Q {}\".format(mean_km, quantile_Km))"
   ]
  },
  {
   "cell_type": "code",
   "execution_count": null,
   "metadata": {},
   "outputs": [],
   "source": []
  },
  {
   "cell_type": "code",
   "execution_count": 82,
   "metadata": {
    "ExecuteTime": {
     "end_time": "2021-07-03T18:56:26.501988Z",
     "start_time": "2021-07-03T18:56:26.478038Z"
    }
   },
   "outputs": [],
   "source": [
    "df.km_driven = df.km_driven.apply(lambda x: mean_km if x < quantile_Km else x)"
   ]
  },
  {
   "cell_type": "code",
   "execution_count": 47,
   "metadata": {
    "ExecuteTime": {
     "end_time": "2021-07-03T18:43:11.841640Z",
     "start_time": "2021-07-03T18:43:11.820669Z"
    }
   },
   "outputs": [
    {
     "name": "stdout",
     "output_type": "stream",
     "text": [
      "Mean Tax 122.77673438851173, Q1 30.0, Q3 150.0\n"
     ]
    }
   ],
   "source": [
    "mean_tax = df.tax.mean()\n",
    "print('Mean Tax {}, Q1 {}, Q3 {}'.format(mean_tax, df.tax.quantile(.1),df.tax.quantile(.9)))"
   ]
  },
  {
   "cell_type": "code",
   "execution_count": 46,
   "metadata": {
    "ExecuteTime": {
     "end_time": "2021-07-03T18:43:09.715067Z",
     "start_time": "2021-07-03T18:43:09.697072Z"
    }
   },
   "outputs": [],
   "source": [
    "df.tax = df.tax.apply(lambda x: 126.91 if x > 150 else x)"
   ]
  },
  {
   "cell_type": "code",
   "execution_count": 34,
   "metadata": {
    "ExecuteTime": {
     "end_time": "2021-07-03T18:37:55.815804Z",
     "start_time": "2021-07-03T18:37:55.797852Z"
    }
   },
   "outputs": [],
   "source": [
    "df.tax = df.tax.apply(lambda x : mean_tax if  x == 0 else x)"
   ]
  },
  {
   "cell_type": "code",
   "execution_count": 56,
   "metadata": {
    "ExecuteTime": {
     "end_time": "2021-06-27T12:07:13.980921Z",
     "start_time": "2021-06-27T12:07:13.964726Z"
    }
   },
   "outputs": [],
   "source": [
    "def toRemoveValues(df, column, counts):\n",
    "    value_counts = df[column].value_counts()\n",
    "    to_remove = value_counts[value_counts <= counts].index\n",
    "    df = df[~df[column].isin(to_remove)]\n",
    "    return df"
   ]
  },
  {
   "cell_type": "code",
   "execution_count": null,
   "metadata": {},
   "outputs": [],
   "source": []
  },
  {
   "cell_type": "code",
   "execution_count": 78,
   "metadata": {
    "ExecuteTime": {
     "end_time": "2021-06-27T12:16:39.386438Z",
     "start_time": "2021-06-27T12:16:39.376437Z"
    }
   },
   "outputs": [],
   "source": [
    "def getValueCounts(df, column):\n",
    "    print(f'#### Value Counts for %s ####'%column)\n",
    "    print(df[column].value_counts())"
   ]
  },
  {
   "cell_type": "code",
   "execution_count": 57,
   "metadata": {
    "ExecuteTime": {
     "end_time": "2021-06-27T12:07:24.058661Z",
     "start_time": "2021-06-27T12:07:24.048689Z"
    }
   },
   "outputs": [],
   "source": [
    "df = toRemoveValues(df, 'model', 50)"
   ]
  },
  {
   "cell_type": "code",
   "execution_count": 58,
   "metadata": {
    "ExecuteTime": {
     "end_time": "2021-06-27T12:07:42.352660Z",
     "start_time": "2021-06-27T12:07:42.345652Z"
    }
   },
   "outputs": [
    {
     "data": {
      "text/plain": [
       " Fiesta                   6557\n",
       " Focus                    4588\n",
       " Kuga                     2225\n",
       " EcoSport                 1143\n",
       " C-MAX                     543\n",
       " Ka+                       531\n",
       " Mondeo                    526\n",
       " B-MAX                     355\n",
       " S-MAX                     296\n",
       " Grand C-MAX               247\n",
       " Galaxy                    228\n",
       " Edge                      208\n",
       " KA                        199\n",
       " Puma                       80\n",
       " Tourneo Custom             69\n",
       " Grand Tourneo Connect      59\n",
       " Mustang                    57\n",
       "Name: model, dtype: int64"
      ]
     },
     "execution_count": 58,
     "metadata": {},
     "output_type": "execute_result"
    }
   ],
   "source": [
    "df.model.value_counts()"
   ]
  },
  {
   "cell_type": "code",
   "execution_count": 63,
   "metadata": {
    "ExecuteTime": {
     "end_time": "2021-06-27T12:09:42.525642Z",
     "start_time": "2021-06-27T12:09:42.509656Z"
    }
   },
   "outputs": [
    {
     "data": {
      "text/plain": [
       "2017    4881\n",
       "2018    4013\n",
       "2019    3187\n",
       "2016    2318\n",
       "2015    1363\n",
       "2014     804\n",
       "2013     608\n",
       "2020     257\n",
       "2012     115\n",
       "2011      93\n",
       "2009      88\n",
       "2010      63\n",
       "2008      54\n",
       "Name: year, dtype: int64"
      ]
     },
     "execution_count": 63,
     "metadata": {},
     "output_type": "execute_result"
    }
   ],
   "source": [
    "df = toRemoveValues(df, 'year', 50)\n",
    "df.year.value_counts()"
   ]
  },
  {
   "cell_type": "code",
   "execution_count": 72,
   "metadata": {
    "ExecuteTime": {
     "end_time": "2021-06-27T12:13:48.619327Z",
     "start_time": "2021-06-27T12:13:48.606365Z"
    }
   },
   "outputs": [
    {
     "name": "stdout",
     "output_type": "stream",
     "text": [
      "#### Value Counts for transmission ####\n",
      "\n",
      "Manual       15416\n",
      "Automatic     1341\n",
      "Semi-Auto     1087\n",
      "Name: transmission, dtype: int64\n"
     ]
    }
   ],
   "source": [
    "getValueCounts(df, 'transmission')"
   ]
  },
  {
   "cell_type": "code",
   "execution_count": 76,
   "metadata": {
    "ExecuteTime": {
     "end_time": "2021-06-27T12:14:52.835415Z",
     "start_time": "2021-06-27T12:14:52.827437Z"
    }
   },
   "outputs": [
    {
     "name": "stdout",
     "output_type": "stream",
     "text": [
      "#### Value Counts for fuelType ####\n",
      "\n",
      "Petrol    12109\n",
      "Diesel     5710\n",
      "Hybrid       22\n",
      "Name: fuelType, dtype: int64\n"
     ]
    }
   ],
   "source": [
    "getValueCounts(df, 'fuelType')"
   ]
  },
  {
   "cell_type": "code",
   "execution_count": 75,
   "metadata": {
    "ExecuteTime": {
     "end_time": "2021-06-27T12:14:50.499459Z",
     "start_time": "2021-06-27T12:14:50.485466Z"
    }
   },
   "outputs": [],
   "source": [
    "df = toRemoveValues(df, 'fuelType', 3)"
   ]
  },
  {
   "cell_type": "code",
   "execution_count": 84,
   "metadata": {
    "ExecuteTime": {
     "end_time": "2021-06-27T12:20:26.489279Z",
     "start_time": "2021-06-27T12:20:26.477312Z"
    }
   },
   "outputs": [
    {
     "name": "stdout",
     "output_type": "stream",
     "text": [
      "Median: 145.0, Mode: 0    145\n",
      "dtype: int64, mean: 112.91043102965081\n"
     ]
    }
   ],
   "source": [
    "print('Median: {}, Mode: {}, mean: {}'.format(df.tax.median(), df.tax.mode(), df.tax.mean() ))"
   ]
  },
  {
   "cell_type": "code",
   "execution_count": 89,
   "metadata": {
    "ExecuteTime": {
     "end_time": "2021-06-27T12:30:04.704563Z",
     "start_time": "2021-06-27T12:30:04.685001Z"
    }
   },
   "outputs": [],
   "source": [
    "mean = df.tax.mean()\n",
    "df.tax = df.tax.apply(lambda x : mean if x == 0 else x)"
   ]
  },
  {
   "cell_type": "code",
   "execution_count": 92,
   "metadata": {
    "ExecuteTime": {
     "end_time": "2021-06-27T12:31:31.251819Z",
     "start_time": "2021-06-27T12:31:31.230111Z"
    }
   },
   "outputs": [],
   "source": [
    "df = toRemoveValues(df, 'tax', 5)"
   ]
  },
  {
   "cell_type": "code",
   "execution_count": 108,
   "metadata": {
    "ExecuteTime": {
     "end_time": "2021-07-03T19:06:43.341707Z",
     "start_time": "2021-07-03T19:06:43.314779Z"
    }
   },
   "outputs": [
    {
     "data": {
      "text/html": [
       "<div>\n",
       "<style scoped>\n",
       "    .dataframe tbody tr th:only-of-type {\n",
       "        vertical-align: middle;\n",
       "    }\n",
       "\n",
       "    .dataframe tbody tr th {\n",
       "        vertical-align: top;\n",
       "    }\n",
       "\n",
       "    .dataframe thead th {\n",
       "        text-align: right;\n",
       "    }\n",
       "</style>\n",
       "<table border=\"1\" class=\"dataframe\">\n",
       "  <thead>\n",
       "    <tr style=\"text-align: right;\">\n",
       "      <th></th>\n",
       "      <th>year</th>\n",
       "      <th>price</th>\n",
       "      <th>km_driven</th>\n",
       "      <th>tax</th>\n",
       "      <th>mpg</th>\n",
       "      <th>engineSize</th>\n",
       "      <th>age</th>\n",
       "      <th>avg_km</th>\n",
       "    </tr>\n",
       "  </thead>\n",
       "  <tbody>\n",
       "    <tr>\n",
       "      <th>year</th>\n",
       "      <td>1.000000</td>\n",
       "      <td>0.645419</td>\n",
       "      <td>-0.680485</td>\n",
       "      <td>0.431848</td>\n",
       "      <td>-0.021494</td>\n",
       "      <td>-0.139217</td>\n",
       "      <td>-1.000000</td>\n",
       "      <td>0.019514</td>\n",
       "    </tr>\n",
       "    <tr>\n",
       "      <th>price</th>\n",
       "      <td>0.645419</td>\n",
       "      <td>1.000000</td>\n",
       "      <td>-0.477797</td>\n",
       "      <td>0.385198</td>\n",
       "      <td>-0.346427</td>\n",
       "      <td>0.411156</td>\n",
       "      <td>-0.645419</td>\n",
       "      <td>0.001390</td>\n",
       "    </tr>\n",
       "    <tr>\n",
       "      <th>km_driven</th>\n",
       "      <td>-0.680485</td>\n",
       "      <td>-0.477797</td>\n",
       "      <td>1.000000</td>\n",
       "      <td>-0.333254</td>\n",
       "      <td>0.092248</td>\n",
       "      <td>0.218540</td>\n",
       "      <td>0.680485</td>\n",
       "      <td>0.608674</td>\n",
       "    </tr>\n",
       "    <tr>\n",
       "      <th>tax</th>\n",
       "      <td>0.431848</td>\n",
       "      <td>0.385198</td>\n",
       "      <td>-0.333254</td>\n",
       "      <td>1.000000</td>\n",
       "      <td>-0.210192</td>\n",
       "      <td>0.022330</td>\n",
       "      <td>-0.431848</td>\n",
       "      <td>-0.042708</td>\n",
       "    </tr>\n",
       "    <tr>\n",
       "      <th>mpg</th>\n",
       "      <td>-0.021494</td>\n",
       "      <td>-0.346427</td>\n",
       "      <td>0.092248</td>\n",
       "      <td>-0.210192</td>\n",
       "      <td>1.000000</td>\n",
       "      <td>-0.260527</td>\n",
       "      <td>0.021494</td>\n",
       "      <td>0.077467</td>\n",
       "    </tr>\n",
       "    <tr>\n",
       "      <th>engineSize</th>\n",
       "      <td>-0.139217</td>\n",
       "      <td>0.411156</td>\n",
       "      <td>0.218540</td>\n",
       "      <td>0.022330</td>\n",
       "      <td>-0.260527</td>\n",
       "      <td>1.000000</td>\n",
       "      <td>0.139217</td>\n",
       "      <td>0.136975</td>\n",
       "    </tr>\n",
       "    <tr>\n",
       "      <th>age</th>\n",
       "      <td>-1.000000</td>\n",
       "      <td>-0.645419</td>\n",
       "      <td>0.680485</td>\n",
       "      <td>-0.431848</td>\n",
       "      <td>0.021494</td>\n",
       "      <td>0.139217</td>\n",
       "      <td>1.000000</td>\n",
       "      <td>-0.019514</td>\n",
       "    </tr>\n",
       "    <tr>\n",
       "      <th>avg_km</th>\n",
       "      <td>0.019514</td>\n",
       "      <td>0.001390</td>\n",
       "      <td>0.608674</td>\n",
       "      <td>-0.042708</td>\n",
       "      <td>0.077467</td>\n",
       "      <td>0.136975</td>\n",
       "      <td>-0.019514</td>\n",
       "      <td>1.000000</td>\n",
       "    </tr>\n",
       "  </tbody>\n",
       "</table>\n",
       "</div>"
      ],
      "text/plain": [
       "                year     price  km_driven       tax       mpg  engineSize  \\\n",
       "year        1.000000  0.645419  -0.680485  0.431848 -0.021494   -0.139217   \n",
       "price       0.645419  1.000000  -0.477797  0.385198 -0.346427    0.411156   \n",
       "km_driven  -0.680485 -0.477797   1.000000 -0.333254  0.092248    0.218540   \n",
       "tax         0.431848  0.385198  -0.333254  1.000000 -0.210192    0.022330   \n",
       "mpg        -0.021494 -0.346427   0.092248 -0.210192  1.000000   -0.260527   \n",
       "engineSize -0.139217  0.411156   0.218540  0.022330 -0.260527    1.000000   \n",
       "age        -1.000000 -0.645419   0.680485 -0.431848  0.021494    0.139217   \n",
       "avg_km      0.019514  0.001390   0.608674 -0.042708  0.077467    0.136975   \n",
       "\n",
       "                 age    avg_km  \n",
       "year       -1.000000  0.019514  \n",
       "price      -0.645419  0.001390  \n",
       "km_driven   0.680485  0.608674  \n",
       "tax        -0.431848 -0.042708  \n",
       "mpg         0.021494  0.077467  \n",
       "engineSize  0.139217  0.136975  \n",
       "age         1.000000 -0.019514  \n",
       "avg_km     -0.019514  1.000000  "
      ]
     },
     "execution_count": 108,
     "metadata": {},
     "output_type": "execute_result"
    }
   ],
   "source": [
    "df.corr()"
   ]
  },
  {
   "cell_type": "code",
   "execution_count": 109,
   "metadata": {
    "ExecuteTime": {
     "end_time": "2021-07-03T19:07:54.293137Z",
     "start_time": "2021-07-03T19:07:54.270169Z"
    }
   },
   "outputs": [
    {
     "data": {
      "text/html": [
       "<div>\n",
       "<style scoped>\n",
       "    .dataframe tbody tr th:only-of-type {\n",
       "        vertical-align: middle;\n",
       "    }\n",
       "\n",
       "    .dataframe tbody tr th {\n",
       "        vertical-align: top;\n",
       "    }\n",
       "\n",
       "    .dataframe thead th {\n",
       "        text-align: right;\n",
       "    }\n",
       "</style>\n",
       "<table border=\"1\" class=\"dataframe\">\n",
       "  <thead>\n",
       "    <tr style=\"text-align: right;\">\n",
       "      <th></th>\n",
       "      <th>model</th>\n",
       "      <th>year</th>\n",
       "      <th>price</th>\n",
       "      <th>transmission</th>\n",
       "      <th>km_driven</th>\n",
       "      <th>fuelType</th>\n",
       "      <th>tax</th>\n",
       "      <th>mpg</th>\n",
       "      <th>engineSize</th>\n",
       "      <th>age</th>\n",
       "      <th>avg_km</th>\n",
       "    </tr>\n",
       "  </thead>\n",
       "  <tbody>\n",
       "    <tr>\n",
       "      <th>0</th>\n",
       "      <td>Fiesta</td>\n",
       "      <td>2017</td>\n",
       "      <td>12000</td>\n",
       "      <td>Automatic</td>\n",
       "      <td>15944.0</td>\n",
       "      <td>Petrol</td>\n",
       "      <td>150.0</td>\n",
       "      <td>57.7</td>\n",
       "      <td>1.0</td>\n",
       "      <td>4</td>\n",
       "      <td>3986.000000</td>\n",
       "    </tr>\n",
       "    <tr>\n",
       "      <th>1</th>\n",
       "      <td>Focus</td>\n",
       "      <td>2018</td>\n",
       "      <td>14000</td>\n",
       "      <td>Manual</td>\n",
       "      <td>9083.0</td>\n",
       "      <td>Petrol</td>\n",
       "      <td>150.0</td>\n",
       "      <td>57.7</td>\n",
       "      <td>1.0</td>\n",
       "      <td>3</td>\n",
       "      <td>3027.666667</td>\n",
       "    </tr>\n",
       "  </tbody>\n",
       "</table>\n",
       "</div>"
      ],
      "text/plain": [
       "     model  year  price transmission  km_driven fuelType    tax   mpg  \\\n",
       "0   Fiesta  2017  12000    Automatic    15944.0   Petrol  150.0  57.7   \n",
       "1    Focus  2018  14000       Manual     9083.0   Petrol  150.0  57.7   \n",
       "\n",
       "   engineSize  age       avg_km  \n",
       "0         1.0    4  3986.000000  \n",
       "1         1.0    3  3027.666667  "
      ]
     },
     "execution_count": 109,
     "metadata": {},
     "output_type": "execute_result"
    }
   ],
   "source": [
    "df.head(2)"
   ]
  },
  {
   "cell_type": "code",
   "execution_count": 110,
   "metadata": {
    "ExecuteTime": {
     "end_time": "2021-07-03T19:08:16.561339Z",
     "start_time": "2021-07-03T19:08:16.552369Z"
    }
   },
   "outputs": [
    {
     "data": {
      "text/plain": [
       "Manual       15517\n",
       "Automatic     1361\n",
       "Semi-Auto     1087\n",
       "Name: transmission, dtype: int64"
      ]
     },
     "execution_count": 110,
     "metadata": {},
     "output_type": "execute_result"
    }
   ],
   "source": [
    "df.transmission.value_counts()"
   ]
  },
  {
   "cell_type": "code",
   "execution_count": 168,
   "metadata": {
    "ExecuteTime": {
     "end_time": "2021-07-03T19:24:08.258232Z",
     "start_time": "2021-07-03T19:24:08.172435Z"
    }
   },
   "outputs": [],
   "source": [
    "df.to_csv('./datalab/ford_train.csv', index=False)"
   ]
  },
  {
   "cell_type": "code",
   "execution_count": 111,
   "metadata": {
    "ExecuteTime": {
     "end_time": "2021-07-03T19:08:33.910468Z",
     "start_time": "2021-07-03T19:08:33.888524Z"
    }
   },
   "outputs": [],
   "source": [
    "df_train = pd.get_dummies(df, columns=['model', 'transmission', 'fuelType'], drop_first=True)"
   ]
  },
  {
   "cell_type": "code",
   "execution_count": 112,
   "metadata": {
    "ExecuteTime": {
     "end_time": "2021-07-03T19:08:46.960413Z",
     "start_time": "2021-07-03T19:08:46.929445Z"
    }
   },
   "outputs": [
    {
     "data": {
      "text/html": [
       "<div>\n",
       "<style scoped>\n",
       "    .dataframe tbody tr th:only-of-type {\n",
       "        vertical-align: middle;\n",
       "    }\n",
       "\n",
       "    .dataframe tbody tr th {\n",
       "        vertical-align: top;\n",
       "    }\n",
       "\n",
       "    .dataframe thead th {\n",
       "        text-align: right;\n",
       "    }\n",
       "</style>\n",
       "<table border=\"1\" class=\"dataframe\">\n",
       "  <thead>\n",
       "    <tr style=\"text-align: right;\">\n",
       "      <th></th>\n",
       "      <th>year</th>\n",
       "      <th>price</th>\n",
       "      <th>km_driven</th>\n",
       "      <th>tax</th>\n",
       "      <th>mpg</th>\n",
       "      <th>engineSize</th>\n",
       "      <th>age</th>\n",
       "      <th>avg_km</th>\n",
       "      <th>model_ C-MAX</th>\n",
       "      <th>model_ EcoSport</th>\n",
       "      <th>...</th>\n",
       "      <th>model_ Streetka</th>\n",
       "      <th>model_ Tourneo Connect</th>\n",
       "      <th>model_ Tourneo Custom</th>\n",
       "      <th>model_ Transit Tourneo</th>\n",
       "      <th>transmission_Manual</th>\n",
       "      <th>transmission_Semi-Auto</th>\n",
       "      <th>fuelType_Electric</th>\n",
       "      <th>fuelType_Hybrid</th>\n",
       "      <th>fuelType_Other</th>\n",
       "      <th>fuelType_Petrol</th>\n",
       "    </tr>\n",
       "  </thead>\n",
       "  <tbody>\n",
       "    <tr>\n",
       "      <th>0</th>\n",
       "      <td>2017</td>\n",
       "      <td>12000</td>\n",
       "      <td>15944.000000</td>\n",
       "      <td>150.0</td>\n",
       "      <td>57.7</td>\n",
       "      <td>1.0</td>\n",
       "      <td>4</td>\n",
       "      <td>3986.000000</td>\n",
       "      <td>0</td>\n",
       "      <td>0</td>\n",
       "      <td>...</td>\n",
       "      <td>0</td>\n",
       "      <td>0</td>\n",
       "      <td>0</td>\n",
       "      <td>0</td>\n",
       "      <td>0</td>\n",
       "      <td>0</td>\n",
       "      <td>0</td>\n",
       "      <td>0</td>\n",
       "      <td>0</td>\n",
       "      <td>1</td>\n",
       "    </tr>\n",
       "    <tr>\n",
       "      <th>1</th>\n",
       "      <td>2018</td>\n",
       "      <td>14000</td>\n",
       "      <td>9083.000000</td>\n",
       "      <td>150.0</td>\n",
       "      <td>57.7</td>\n",
       "      <td>1.0</td>\n",
       "      <td>3</td>\n",
       "      <td>3027.666667</td>\n",
       "      <td>0</td>\n",
       "      <td>0</td>\n",
       "      <td>...</td>\n",
       "      <td>0</td>\n",
       "      <td>0</td>\n",
       "      <td>0</td>\n",
       "      <td>0</td>\n",
       "      <td>1</td>\n",
       "      <td>0</td>\n",
       "      <td>0</td>\n",
       "      <td>0</td>\n",
       "      <td>0</td>\n",
       "      <td>1</td>\n",
       "    </tr>\n",
       "    <tr>\n",
       "      <th>2</th>\n",
       "      <td>2017</td>\n",
       "      <td>13000</td>\n",
       "      <td>12456.000000</td>\n",
       "      <td>150.0</td>\n",
       "      <td>57.7</td>\n",
       "      <td>1.0</td>\n",
       "      <td>4</td>\n",
       "      <td>3114.000000</td>\n",
       "      <td>0</td>\n",
       "      <td>0</td>\n",
       "      <td>...</td>\n",
       "      <td>0</td>\n",
       "      <td>0</td>\n",
       "      <td>0</td>\n",
       "      <td>0</td>\n",
       "      <td>1</td>\n",
       "      <td>0</td>\n",
       "      <td>0</td>\n",
       "      <td>0</td>\n",
       "      <td>0</td>\n",
       "      <td>1</td>\n",
       "    </tr>\n",
       "    <tr>\n",
       "      <th>3</th>\n",
       "      <td>2019</td>\n",
       "      <td>17500</td>\n",
       "      <td>10460.000000</td>\n",
       "      <td>145.0</td>\n",
       "      <td>40.3</td>\n",
       "      <td>1.5</td>\n",
       "      <td>2</td>\n",
       "      <td>5230.000000</td>\n",
       "      <td>0</td>\n",
       "      <td>0</td>\n",
       "      <td>...</td>\n",
       "      <td>0</td>\n",
       "      <td>0</td>\n",
       "      <td>0</td>\n",
       "      <td>0</td>\n",
       "      <td>1</td>\n",
       "      <td>0</td>\n",
       "      <td>0</td>\n",
       "      <td>0</td>\n",
       "      <td>0</td>\n",
       "      <td>1</td>\n",
       "    </tr>\n",
       "    <tr>\n",
       "      <th>4</th>\n",
       "      <td>2019</td>\n",
       "      <td>16500</td>\n",
       "      <td>23363.630504</td>\n",
       "      <td>145.0</td>\n",
       "      <td>48.7</td>\n",
       "      <td>1.0</td>\n",
       "      <td>2</td>\n",
       "      <td>11681.815252</td>\n",
       "      <td>0</td>\n",
       "      <td>0</td>\n",
       "      <td>...</td>\n",
       "      <td>0</td>\n",
       "      <td>0</td>\n",
       "      <td>0</td>\n",
       "      <td>0</td>\n",
       "      <td>0</td>\n",
       "      <td>0</td>\n",
       "      <td>0</td>\n",
       "      <td>0</td>\n",
       "      <td>0</td>\n",
       "      <td>1</td>\n",
       "    </tr>\n",
       "  </tbody>\n",
       "</table>\n",
       "<p>5 rows × 36 columns</p>\n",
       "</div>"
      ],
      "text/plain": [
       "   year  price     km_driven    tax   mpg  engineSize  age        avg_km  \\\n",
       "0  2017  12000  15944.000000  150.0  57.7         1.0    4   3986.000000   \n",
       "1  2018  14000   9083.000000  150.0  57.7         1.0    3   3027.666667   \n",
       "2  2017  13000  12456.000000  150.0  57.7         1.0    4   3114.000000   \n",
       "3  2019  17500  10460.000000  145.0  40.3         1.5    2   5230.000000   \n",
       "4  2019  16500  23363.630504  145.0  48.7         1.0    2  11681.815252   \n",
       "\n",
       "   model_ C-MAX  model_ EcoSport  ...  model_ Streetka  \\\n",
       "0             0                0  ...                0   \n",
       "1             0                0  ...                0   \n",
       "2             0                0  ...                0   \n",
       "3             0                0  ...                0   \n",
       "4             0                0  ...                0   \n",
       "\n",
       "   model_ Tourneo Connect  model_ Tourneo Custom  model_ Transit Tourneo  \\\n",
       "0                       0                      0                       0   \n",
       "1                       0                      0                       0   \n",
       "2                       0                      0                       0   \n",
       "3                       0                      0                       0   \n",
       "4                       0                      0                       0   \n",
       "\n",
       "   transmission_Manual  transmission_Semi-Auto  fuelType_Electric  \\\n",
       "0                    0                       0                  0   \n",
       "1                    1                       0                  0   \n",
       "2                    1                       0                  0   \n",
       "3                    1                       0                  0   \n",
       "4                    0                       0                  0   \n",
       "\n",
       "   fuelType_Hybrid  fuelType_Other  fuelType_Petrol  \n",
       "0                0               0                1  \n",
       "1                0               0                1  \n",
       "2                0               0                1  \n",
       "3                0               0                1  \n",
       "4                0               0                1  \n",
       "\n",
       "[5 rows x 36 columns]"
      ]
     },
     "execution_count": 112,
     "metadata": {},
     "output_type": "execute_result"
    }
   ],
   "source": [
    "df_train.head()"
   ]
  },
  {
   "cell_type": "code",
   "execution_count": 113,
   "metadata": {
    "ExecuteTime": {
     "end_time": "2021-07-03T19:09:17.952329Z",
     "start_time": "2021-07-03T19:09:17.933405Z"
    }
   },
   "outputs": [
    {
     "data": {
      "text/plain": [
       "Index(['year', 'price', 'km_driven', 'tax', 'mpg', 'engineSize', 'age',\n",
       "       'avg_km', 'model_ C-MAX', 'model_ EcoSport', 'model_ Edge',\n",
       "       'model_ Escort', 'model_ Fiesta', 'model_ Focus', 'model_ Fusion',\n",
       "       'model_ Galaxy', 'model_ Grand C-MAX', 'model_ Grand Tourneo Connect',\n",
       "       'model_ KA', 'model_ Ka+', 'model_ Kuga', 'model_ Mondeo',\n",
       "       'model_ Mustang', 'model_ Puma', 'model_ Ranger', 'model_ S-MAX',\n",
       "       'model_ Streetka', 'model_ Tourneo Connect', 'model_ Tourneo Custom',\n",
       "       'model_ Transit Tourneo', 'transmission_Manual',\n",
       "       'transmission_Semi-Auto', 'fuelType_Electric', 'fuelType_Hybrid',\n",
       "       'fuelType_Other', 'fuelType_Petrol'],\n",
       "      dtype='object')"
      ]
     },
     "execution_count": 113,
     "metadata": {},
     "output_type": "execute_result"
    }
   ],
   "source": [
    "df_train.columns"
   ]
  },
  {
   "cell_type": "code",
   "execution_count": 139,
   "metadata": {
    "ExecuteTime": {
     "end_time": "2021-07-03T19:20:06.072402Z",
     "start_time": "2021-07-03T19:20:06.062464Z"
    }
   },
   "outputs": [],
   "source": [
    "X = df_train.drop(columns=['price','year'], axis=0)"
   ]
  },
  {
   "cell_type": "code",
   "execution_count": 140,
   "metadata": {
    "ExecuteTime": {
     "end_time": "2021-07-03T19:20:06.540652Z",
     "start_time": "2021-07-03T19:20:06.524695Z"
    }
   },
   "outputs": [],
   "source": [
    "X = X.values"
   ]
  },
  {
   "cell_type": "code",
   "execution_count": 141,
   "metadata": {
    "ExecuteTime": {
     "end_time": "2021-07-03T19:20:06.991670Z",
     "start_time": "2021-07-03T19:20:06.972722Z"
    }
   },
   "outputs": [
    {
     "data": {
      "text/plain": [
       "(17965, 34)"
      ]
     },
     "execution_count": 141,
     "metadata": {},
     "output_type": "execute_result"
    }
   ],
   "source": [
    "X.shape"
   ]
  },
  {
   "cell_type": "code",
   "execution_count": 142,
   "metadata": {
    "ExecuteTime": {
     "end_time": "2021-07-03T19:20:08.520531Z",
     "start_time": "2021-07-03T19:20:08.513561Z"
    }
   },
   "outputs": [],
   "source": [
    "Y = df_train['price'].values"
   ]
  },
  {
   "cell_type": "markdown",
   "metadata": {},
   "source": [
    "### Splitting the dataset into the Training set and Test set"
   ]
  },
  {
   "cell_type": "code",
   "execution_count": 143,
   "metadata": {
    "ExecuteTime": {
     "end_time": "2021-07-03T19:20:10.787495Z",
     "start_time": "2021-07-03T19:20:10.764415Z"
    }
   },
   "outputs": [],
   "source": [
    "X_train, X_test, y_train, y_test = train_test_split(X, Y, test_size = 0.22, random_state = 0)"
   ]
  },
  {
   "cell_type": "markdown",
   "metadata": {},
   "source": [
    "### Training the Multiple Linear Regression model on the Training set"
   ]
  },
  {
   "cell_type": "code",
   "execution_count": 144,
   "metadata": {
    "ExecuteTime": {
     "end_time": "2021-07-03T19:20:12.135166Z",
     "start_time": "2021-07-03T19:20:12.054411Z"
    }
   },
   "outputs": [
    {
     "data": {
      "text/plain": [
       "LinearRegression()"
      ]
     },
     "execution_count": 144,
     "metadata": {},
     "output_type": "execute_result"
    }
   ],
   "source": [
    "regressor = LinearRegression()\n",
    "regressor.fit(X_train, y_train)"
   ]
  },
  {
   "cell_type": "markdown",
   "metadata": {},
   "source": [
    "## Predicting the Test set results"
   ]
  },
  {
   "cell_type": "code",
   "execution_count": 145,
   "metadata": {
    "ExecuteTime": {
     "end_time": "2021-07-03T19:20:14.523531Z",
     "start_time": "2021-07-03T19:20:14.519571Z"
    }
   },
   "outputs": [],
   "source": [
    "y_pred = regressor.predict(X_test)"
   ]
  },
  {
   "cell_type": "code",
   "execution_count": 146,
   "metadata": {
    "ExecuteTime": {
     "end_time": "2021-07-03T19:20:15.139452Z",
     "start_time": "2021-07-03T19:20:15.127485Z"
    }
   },
   "outputs": [
    {
     "data": {
      "text/plain": [
       "0.844685266092628"
      ]
     },
     "execution_count": 146,
     "metadata": {},
     "output_type": "execute_result"
    }
   ],
   "source": [
    "regressor.score(X_test, y_test)"
   ]
  },
  {
   "cell_type": "code",
   "execution_count": 147,
   "metadata": {
    "ExecuteTime": {
     "end_time": "2021-07-03T19:20:16.455491Z",
     "start_time": "2021-07-03T19:20:16.447484Z"
    }
   },
   "outputs": [
    {
     "name": "stdout",
     "output_type": "stream",
     "text": [
      "[[12498.43 11670.  ]\n",
      " [10698.68 10000.  ]\n",
      " [13506.08 11599.  ]\n",
      " [13851.85 14899.  ]\n",
      " [16236.2  19498.  ]\n",
      " [12882.2  10790.  ]\n",
      " [ 7520.46  6800.  ]\n",
      " [18846.33 25500.  ]\n",
      " [ 8735.62  8000.  ]\n",
      " [20674.37 18995.  ]\n",
      " [ 9924.16  9690.  ]\n",
      " [16403.4  16570.  ]\n",
      " [14224.21 13400.  ]\n",
      " [13923.52 13490.  ]\n",
      " [ 5996.24  1299.  ]\n",
      " [11412.32 10799.  ]\n",
      " [13499.17 12698.  ]\n",
      " [ 6448.51  8000.  ]\n",
      " [14184.13 12490.  ]\n",
      " [14307.22 13250.  ]]\n"
     ]
    }
   ],
   "source": [
    "np.set_printoptions(precision=2)\n",
    "print(np.concatenate((y_pred.reshape(len(y_pred),1), y_test.reshape(len(y_test),1)),1)[:20])"
   ]
  },
  {
   "cell_type": "code",
   "execution_count": 148,
   "metadata": {
    "ExecuteTime": {
     "end_time": "2021-07-03T19:20:21.119406Z",
     "start_time": "2021-07-03T19:20:21.099463Z"
    }
   },
   "outputs": [
    {
     "name": "stdout",
     "output_type": "stream",
     "text": [
      "Variance score: 0.84\n"
     ]
    }
   ],
   "source": [
    "print('Variance score: %.2f' % regressor.score(X_test, y_test))"
   ]
  },
  {
   "cell_type": "code",
   "execution_count": 149,
   "metadata": {
    "ExecuteTime": {
     "end_time": "2021-07-03T19:20:23.273441Z",
     "start_time": "2021-07-03T19:20:23.260495Z"
    }
   },
   "outputs": [
    {
     "data": {
      "application/javascript": [
       "\n",
       "        if (window._pyforest_update_imports_cell) { window._pyforest_update_imports_cell('from sklearn import metrics\\nimport tensorflow as tf'); }\n",
       "    "
      ],
      "text/plain": [
       "<IPython.core.display.Javascript object>"
      ]
     },
     "metadata": {},
     "output_type": "display_data"
    },
    {
     "name": "stdout",
     "output_type": "stream",
     "text": [
      "VarScore:0.845\n"
     ]
    }
   ],
   "source": [
    "print('VarScore:{:.3f}'.format(metrics.explained_variance_score(y_test,y_pred)))"
   ]
  },
  {
   "cell_type": "code",
   "execution_count": 150,
   "metadata": {
    "ExecuteTime": {
     "end_time": "2021-07-03T19:20:24.438464Z",
     "start_time": "2021-07-03T19:20:24.420485Z"
    }
   },
   "outputs": [
    {
     "data": {
      "text/plain": [
       "0.844685266092628"
      ]
     },
     "execution_count": 150,
     "metadata": {},
     "output_type": "execute_result"
    }
   ],
   "source": [
    "r2_score(y_test, y_pred)"
   ]
  },
  {
   "cell_type": "code",
   "execution_count": 151,
   "metadata": {
    "ExecuteTime": {
     "end_time": "2021-07-03T19:20:26.623553Z",
     "start_time": "2021-07-03T19:20:26.608579Z"
    }
   },
   "outputs": [],
   "source": [
    "from sklearn.ensemble import RandomForestRegressor"
   ]
  },
  {
   "cell_type": "code",
   "execution_count": 165,
   "metadata": {
    "ExecuteTime": {
     "end_time": "2021-07-03T19:21:51.643994Z",
     "start_time": "2021-07-03T19:21:39.238404Z"
    }
   },
   "outputs": [
    {
     "data": {
      "text/plain": [
       "RandomForestRegressor(max_depth=12, n_estimators=450)"
      ]
     },
     "execution_count": 165,
     "metadata": {},
     "output_type": "execute_result"
    }
   ],
   "source": [
    "regressor = RandomForestRegressor(n_estimators=450, max_depth=12)\n",
    "regressor.fit(X_train, y_train)"
   ]
  },
  {
   "cell_type": "code",
   "execution_count": 166,
   "metadata": {
    "ExecuteTime": {
     "end_time": "2021-07-03T19:21:51.943296Z",
     "start_time": "2021-07-03T19:21:51.737139Z"
    }
   },
   "outputs": [
    {
     "data": {
      "text/plain": [
       "0.9348363618578428"
      ]
     },
     "execution_count": 166,
     "metadata": {},
     "output_type": "execute_result"
    }
   ],
   "source": [
    "regressor.score(X_test, y_test)"
   ]
  },
  {
   "cell_type": "code",
   "execution_count": 167,
   "metadata": {
    "ExecuteTime": {
     "end_time": "2021-07-03T19:21:52.052376Z",
     "start_time": "2021-07-03T19:21:52.041379Z"
    }
   },
   "outputs": [
    {
     "data": {
      "application/javascript": [
       "\n",
       "        if (window._pyforest_update_imports_cell) { window._pyforest_update_imports_cell('from sklearn import metrics\\nimport tensorflow as tf'); }\n",
       "    "
      ],
      "text/plain": [
       "<IPython.core.display.Javascript object>"
      ]
     },
     "metadata": {},
     "output_type": "display_data"
    },
    {
     "name": "stdout",
     "output_type": "stream",
     "text": [
      "VarScore:0.845\n"
     ]
    }
   ],
   "source": [
    "print('VarScore:{:.3f}'.format(metrics.explained_variance_score(y_test,y_pred)))"
   ]
  },
  {
   "cell_type": "code",
   "execution_count": null,
   "metadata": {},
   "outputs": [],
   "source": []
  }
 ],
 "metadata": {
  "kernelspec": {
   "display_name": "Python 3",
   "language": "python",
   "name": "python3"
  },
  "language_info": {
   "codemirror_mode": {
    "name": "ipython",
    "version": 3
   },
   "file_extension": ".py",
   "mimetype": "text/x-python",
   "name": "python",
   "nbconvert_exporter": "python",
   "pygments_lexer": "ipython3",
   "version": "3.8.10"
  },
  "varInspector": {
   "cols": {
    "lenName": 16,
    "lenType": 16,
    "lenVar": 40
   },
   "kernels_config": {
    "python": {
     "delete_cmd_postfix": "",
     "delete_cmd_prefix": "del ",
     "library": "var_list.py",
     "varRefreshCmd": "print(var_dic_list())"
    },
    "r": {
     "delete_cmd_postfix": ") ",
     "delete_cmd_prefix": "rm(",
     "library": "var_list.r",
     "varRefreshCmd": "cat(var_dic_list()) "
    }
   },
   "position": {
    "height": "385px",
    "left": "996px",
    "right": "20px",
    "top": "120px",
    "width": "350px"
   },
   "types_to_exclude": [
    "module",
    "function",
    "builtin_function_or_method",
    "instance",
    "_Feature"
   ],
   "window_display": false
  }
 },
 "nbformat": 4,
 "nbformat_minor": 4
}
