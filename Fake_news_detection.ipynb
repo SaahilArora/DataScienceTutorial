{
 "cells": [
  {
   "cell_type": "code",
   "execution_count": 2,
   "metadata": {
    "ExecuteTime": {
     "end_time": "2020-05-11T21:45:17.278240Z",
     "start_time": "2020-05-11T21:45:17.231440Z"
    }
   },
   "outputs": [],
   "source": [
    "%config Completer.use_jedi = False"
   ]
  },
  {
   "cell_type": "code",
   "execution_count": 3,
   "metadata": {
    "ExecuteTime": {
     "end_time": "2020-05-11T21:45:28.167059Z",
     "start_time": "2020-05-11T21:45:17.949041Z"
    }
   },
   "outputs": [],
   "source": [
    "import pandas as pd"
   ]
  },
  {
   "cell_type": "code",
   "execution_count": 79,
   "metadata": {
    "ExecuteTime": {
     "end_time": "2020-05-11T22:03:44.954586Z",
     "start_time": "2020-05-11T22:03:44.923386Z"
    }
   },
   "outputs": [],
   "source": [
    "from sklearn.model_selection import train_test_split\n",
    "from sklearn.feature_extraction.text import TfidfVectorizer, CountVectorizer, TfidfTransformer"
   ]
  },
  {
   "cell_type": "code",
   "execution_count": 7,
   "metadata": {
    "ExecuteTime": {
     "end_time": "2020-05-11T21:45:53.548304Z",
     "start_time": "2020-05-11T21:45:53.532704Z"
    }
   },
   "outputs": [],
   "source": [
    "from sklearn.metrics import accuracy_score\n",
    "from sklearn.metrics import confusion_matrix"
   ]
  },
  {
   "cell_type": "code",
   "execution_count": 47,
   "metadata": {
    "ExecuteTime": {
     "end_time": "2020-05-11T21:52:33.521406Z",
     "start_time": "2020-05-11T21:52:32.757005Z"
    }
   },
   "outputs": [],
   "source": [
    "df = pd.read_csv('./datalab/FakeNews/test.csv', nrows=5000)"
   ]
  },
  {
   "cell_type": "code",
   "execution_count": 48,
   "metadata": {
    "ExecuteTime": {
     "end_time": "2020-05-11T21:52:33.552606Z",
     "start_time": "2020-05-11T21:52:33.521406Z"
    }
   },
   "outputs": [],
   "source": [
    "label = pd.read_csv('./datalab/FakeNews/submit.csv', nrows=5000)"
   ]
  },
  {
   "cell_type": "code",
   "execution_count": 49,
   "metadata": {
    "ExecuteTime": {
     "end_time": "2020-05-11T21:52:33.786607Z",
     "start_time": "2020-05-11T21:52:33.755407Z"
    }
   },
   "outputs": [],
   "source": [
    "df = pd.merge(df,label, on='id')"
   ]
  },
  {
   "cell_type": "code",
   "execution_count": 50,
   "metadata": {
    "ExecuteTime": {
     "end_time": "2020-05-11T21:52:35.221809Z",
     "start_time": "2020-05-11T21:52:35.190609Z"
    }
   },
   "outputs": [],
   "source": [
    "df['title'] = df['title'].str.lower()"
   ]
  },
  {
   "cell_type": "code",
   "execution_count": 51,
   "metadata": {
    "ExecuteTime": {
     "end_time": "2020-05-11T21:52:35.658610Z",
     "start_time": "2020-05-11T21:52:35.627410Z"
    }
   },
   "outputs": [],
   "source": [
    "df.dropna(axis=0, inplace=True)"
   ]
  },
  {
   "cell_type": "code",
   "execution_count": 52,
   "metadata": {
    "ExecuteTime": {
     "end_time": "2020-05-11T21:52:36.641412Z",
     "start_time": "2020-05-11T21:52:36.610212Z"
    }
   },
   "outputs": [
    {
     "data": {
      "text/plain": [
       "(4397, 5)"
      ]
     },
     "execution_count": 52,
     "metadata": {},
     "output_type": "execute_result"
    }
   ],
   "source": [
    "df.shape"
   ]
  },
  {
   "cell_type": "code",
   "execution_count": 53,
   "metadata": {
    "ExecuteTime": {
     "end_time": "2020-05-11T21:52:55.938646Z",
     "start_time": "2020-05-11T21:52:55.829446Z"
    }
   },
   "outputs": [
    {
     "data": {
      "text/plain": [
       "1    0.516716\n",
       "0    0.483284\n",
       "Name: label, dtype: float64"
      ]
     },
     "execution_count": 53,
     "metadata": {},
     "output_type": "execute_result"
    }
   ],
   "source": [
    "df.label.value_counts(normalize=True)"
   ]
  },
  {
   "cell_type": "code",
   "execution_count": 54,
   "metadata": {
    "ExecuteTime": {
     "end_time": "2020-05-11T21:52:59.745052Z",
     "start_time": "2020-05-11T21:52:59.713852Z"
    }
   },
   "outputs": [],
   "source": [
    "X =  df.iloc[:, [1]].values"
   ]
  },
  {
   "cell_type": "code",
   "execution_count": 55,
   "metadata": {
    "ExecuteTime": {
     "end_time": "2020-05-11T21:53:00.181853Z",
     "start_time": "2020-05-11T21:53:00.166253Z"
    }
   },
   "outputs": [],
   "source": [
    "Y = df.iloc[:, [4]].values"
   ]
  },
  {
   "cell_type": "code",
   "execution_count": 56,
   "metadata": {
    "ExecuteTime": {
     "end_time": "2020-05-11T21:53:05.766663Z",
     "start_time": "2020-05-11T21:53:05.735463Z"
    }
   },
   "outputs": [],
   "source": [
    "X_train, X_test, y_train, y_test = train_test_split(X, Y, test_size=0.25, random_state=0)"
   ]
  },
  {
   "cell_type": "code",
   "execution_count": 57,
   "metadata": {
    "ExecuteTime": {
     "end_time": "2020-05-11T21:53:06.297064Z",
     "start_time": "2020-05-11T21:53:06.265864Z"
    }
   },
   "outputs": [],
   "source": [
    "# tfid = TfidfVectorizer(stop_words='english', max_df=0.7)\n",
    "tfid = CountVectorizer(stop_words='english')"
   ]
  },
  {
   "cell_type": "code",
   "execution_count": 59,
   "metadata": {
    "ExecuteTime": {
     "end_time": "2020-05-11T21:53:42.473527Z",
     "start_time": "2020-05-11T21:53:42.239527Z"
    }
   },
   "outputs": [],
   "source": [
    "tf_train = tfid.fit_transform(X_train.flatten())"
   ]
  },
  {
   "cell_type": "code",
   "execution_count": 60,
   "metadata": {
    "ExecuteTime": {
     "end_time": "2020-05-11T21:53:51.739944Z",
     "start_time": "2020-05-11T21:53:51.661944Z"
    }
   },
   "outputs": [],
   "source": [
    "tf_test = tfid.transform(X_test.flatten())"
   ]
  },
  {
   "cell_type": "code",
   "execution_count": 61,
   "metadata": {
    "ExecuteTime": {
     "end_time": "2020-05-11T21:53:52.535545Z",
     "start_time": "2020-05-11T21:53:52.519945Z"
    }
   },
   "outputs": [
    {
     "name": "stdout",
     "output_type": "stream",
     "text": [
      "(3297, 8203)\n",
      "(1100, 8203)\n"
     ]
    }
   ],
   "source": [
    "print(tf_train.shape)\n",
    "print(tf_test.shape)"
   ]
  },
  {
   "cell_type": "code",
   "execution_count": 23,
   "metadata": {
    "ExecuteTime": {
     "end_time": "2020-05-11T21:50:21.950775Z",
     "start_time": "2020-05-11T21:50:21.903975Z"
    }
   },
   "outputs": [],
   "source": [
    "from sklearn.naive_bayes import MultinomialNB"
   ]
  },
  {
   "cell_type": "code",
   "execution_count": 74,
   "metadata": {
    "ExecuteTime": {
     "end_time": "2020-05-11T22:01:02.854701Z",
     "start_time": "2020-05-11T22:01:02.823501Z"
    }
   },
   "outputs": [
    {
     "name": "stdout",
     "output_type": "stream",
     "text": [
      "accuracy:   0.74\n"
     ]
    }
   ],
   "source": [
    "clf = MultinomialNB() \n",
    "clf.fit(tf_train, y_train.flatten())\n",
    "pred = clf.predict(tf_test)\n",
    "score = accuracy_score(y_test, pred)\n",
    "print(\"accuracy:   %0.2f\" % score)"
   ]
  },
  {
   "cell_type": "code",
   "execution_count": 75,
   "metadata": {
    "ExecuteTime": {
     "end_time": "2020-05-11T22:01:07.144709Z",
     "start_time": "2020-05-11T22:01:07.113509Z"
    }
   },
   "outputs": [],
   "source": [
    "cm = confusion_matrix(y_test, pred)"
   ]
  },
  {
   "cell_type": "code",
   "execution_count": 76,
   "metadata": {
    "ExecuteTime": {
     "end_time": "2020-05-11T22:01:07.519110Z",
     "start_time": "2020-05-11T22:01:07.503510Z"
    }
   },
   "outputs": [
    {
     "data": {
      "text/plain": [
       "array([[386, 134],\n",
       "       [150, 430]], dtype=int64)"
      ]
     },
     "execution_count": 76,
     "metadata": {},
     "output_type": "execute_result"
    }
   ],
   "source": [
    "cm"
   ]
  },
  {
   "cell_type": "code",
   "execution_count": 40,
   "metadata": {
    "ExecuteTime": {
     "end_time": "2020-05-11T21:51:37.969709Z",
     "start_time": "2020-05-11T21:51:37.954109Z"
    }
   },
   "outputs": [],
   "source": [
    "from sklearn.linear_model import PassiveAggressiveClassifier"
   ]
  },
  {
   "cell_type": "code",
   "execution_count": 77,
   "metadata": {
    "ExecuteTime": {
     "end_time": "2020-05-11T22:01:12.823119Z",
     "start_time": "2020-05-11T22:01:12.745119Z"
    }
   },
   "outputs": [
    {
     "name": "stdout",
     "output_type": "stream",
     "text": [
      "accuracy:   0.70\n"
     ]
    },
    {
     "data": {
      "text/plain": [
       "array([[360, 160],\n",
       "       [175, 405]], dtype=int64)"
      ]
     },
     "execution_count": 77,
     "metadata": {},
     "output_type": "execute_result"
    }
   ],
   "source": [
    "linear_clf = PassiveAggressiveClassifier(max_iter=50, random_state=0)\n",
    "linear_clf.fit(tf_train, y_train.flatten())\n",
    "pred = linear_clf.predict(tf_test)\n",
    "score = accuracy_score(y_test, pred)\n",
    "print(\"accuracy:   %0.2f\" % score)\n",
    "cm = confusion_matrix(y_test, pred)\n",
    "cm"
   ]
  },
  {
   "cell_type": "markdown",
   "metadata": {},
   "source": [
    "### Tf idf Transformer"
   ]
  },
  {
   "cell_type": "code",
   "execution_count": 80,
   "metadata": {
    "ExecuteTime": {
     "end_time": "2020-05-11T22:04:19.711447Z",
     "start_time": "2020-05-11T22:03:50.024595Z"
    }
   },
   "outputs": [],
   "source": [
    "transformer = TfidfTransformer(smooth_idf=False)\n",
    "count_vectorizer = CountVectorizer(ngram_range=(1, 2))\n",
    "counts = count_vectorizer.fit_transform(df['text'].values)\n",
    "tfidf = transformer.fit_transform(counts)"
   ]
  }
 ],
 "metadata": {
  "gist": {
   "data": {
    "description": "Fake_news_detection.ipynb",
    "public": true
   },
   "id": ""
  },
  "kernelspec": {
   "display_name": "Python 3",
   "language": "python",
   "name": "python3"
  },
  "language_info": {
   "codemirror_mode": {
    "name": "ipython",
    "version": 3
   },
   "file_extension": ".py",
   "mimetype": "text/x-python",
   "name": "python",
   "nbconvert_exporter": "python",
   "pygments_lexer": "ipython3",
   "version": "3.5.4"
  },
  "toc": {
   "base_numbering": 1,
   "nav_menu": {},
   "number_sections": true,
   "sideBar": true,
   "skip_h1_title": false,
   "title_cell": "Table of Contents",
   "title_sidebar": "Contents",
   "toc_cell": false,
   "toc_position": {},
   "toc_section_display": true,
   "toc_window_display": false
  }
 },
 "nbformat": 4,
 "nbformat_minor": 4
}
