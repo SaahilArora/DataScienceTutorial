{
 "cells": [
  {
   "cell_type": "code",
   "execution_count": 1,
   "metadata": {
    "ExecuteTime": {
     "end_time": "2020-04-10T15:40:57.781205Z",
     "start_time": "2020-04-10T15:40:55.815601Z"
    }
   },
   "outputs": [],
   "source": [
    "import pandas as pd\n",
    "\n",
    "df = pd.read_csv('netflix_titles_nov_2019.csv', nrows = 400)"
   ]
  },
  {
   "cell_type": "code",
   "execution_count": 5,
   "metadata": {
    "ExecuteTime": {
     "end_time": "2020-04-10T15:42:44.329392Z",
     "start_time": "2020-04-10T15:42:44.235792Z"
    }
   },
   "outputs": [
    {
     "data": {
      "text/html": [
       "<div>\n",
       "<style scoped>\n",
       "    .dataframe tbody tr th:only-of-type {\n",
       "        vertical-align: middle;\n",
       "    }\n",
       "\n",
       "    .dataframe tbody tr th {\n",
       "        vertical-align: top;\n",
       "    }\n",
       "\n",
       "    .dataframe thead th {\n",
       "        text-align: right;\n",
       "    }\n",
       "</style>\n",
       "<table border=\"1\" class=\"dataframe\">\n",
       "  <thead>\n",
       "    <tr style=\"text-align: right;\">\n",
       "      <th></th>\n",
       "      <th>show_id</th>\n",
       "      <th>title</th>\n",
       "      <th>director</th>\n",
       "      <th>cast</th>\n",
       "      <th>country</th>\n",
       "      <th>date_added</th>\n",
       "      <th>release_year</th>\n",
       "      <th>rating</th>\n",
       "      <th>duration</th>\n",
       "      <th>listed_in</th>\n",
       "      <th>type</th>\n",
       "    </tr>\n",
       "  </thead>\n",
       "  <tbody>\n",
       "    <tr>\n",
       "      <th>0</th>\n",
       "      <td>81193313</td>\n",
       "      <td>Chocolate</td>\n",
       "      <td>NaN</td>\n",
       "      <td>Ha Ji-won, Yoon Kye-sang, Jang Seung-jo, Kang ...</td>\n",
       "      <td>South Korea</td>\n",
       "      <td>30-Nov-19</td>\n",
       "      <td>2019</td>\n",
       "      <td>TV-14</td>\n",
       "      <td>1 Season</td>\n",
       "      <td>International TV Shows, Korean TV Shows, Roman...</td>\n",
       "      <td>TV Show</td>\n",
       "    </tr>\n",
       "    <tr>\n",
       "      <th>1</th>\n",
       "      <td>81197050</td>\n",
       "      <td>Guatemala: Heart of the Mayan World</td>\n",
       "      <td>Luis Ara, Ignacio Jaunsolo</td>\n",
       "      <td>Christian Morales</td>\n",
       "      <td>NaN</td>\n",
       "      <td>30-Nov-19</td>\n",
       "      <td>2019</td>\n",
       "      <td>TV-G</td>\n",
       "      <td>67 min</td>\n",
       "      <td>Documentaries, International Movies</td>\n",
       "      <td>Movie</td>\n",
       "    </tr>\n",
       "    <tr>\n",
       "      <th>2</th>\n",
       "      <td>81213894</td>\n",
       "      <td>The Zoya Factor</td>\n",
       "      <td>Abhishek Sharma</td>\n",
       "      <td>Sonam Kapoor, Dulquer Salmaan, Sanjay Kapoor, ...</td>\n",
       "      <td>India</td>\n",
       "      <td>30-Nov-19</td>\n",
       "      <td>2019</td>\n",
       "      <td>TV-14</td>\n",
       "      <td>135 min</td>\n",
       "      <td>Comedies, Dramas, International Movies</td>\n",
       "      <td>Movie</td>\n",
       "    </tr>\n",
       "    <tr>\n",
       "      <th>3</th>\n",
       "      <td>81082007</td>\n",
       "      <td>Atlantics</td>\n",
       "      <td>Mati Diop</td>\n",
       "      <td>Mama Sane, Amadou Mbow, Ibrahima Traore, Nicol...</td>\n",
       "      <td>France, Senegal, Belgium</td>\n",
       "      <td>29-Nov-19</td>\n",
       "      <td>2019</td>\n",
       "      <td>TV-14</td>\n",
       "      <td>106 min</td>\n",
       "      <td>Dramas, Independent Movies, International Movies</td>\n",
       "      <td>Movie</td>\n",
       "    </tr>\n",
       "    <tr>\n",
       "      <th>4</th>\n",
       "      <td>80213643</td>\n",
       "      <td>Chip and Potato</td>\n",
       "      <td>NaN</td>\n",
       "      <td>Abigail Oliver, Andrea Libman, Briana Buckmast...</td>\n",
       "      <td>Canada, United Kingdom</td>\n",
       "      <td>NaN</td>\n",
       "      <td>2019</td>\n",
       "      <td>TV-Y</td>\n",
       "      <td>2 Seasons</td>\n",
       "      <td>Kids' TV</td>\n",
       "      <td>TV Show</td>\n",
       "    </tr>\n",
       "    <tr>\n",
       "      <th>5</th>\n",
       "      <td>81172754</td>\n",
       "      <td>Crazy people</td>\n",
       "      <td>Moses Inwang</td>\n",
       "      <td>Ramsey Nouah, Chigul, Sola Sobowale, Ireti Doy...</td>\n",
       "      <td>Nigeria</td>\n",
       "      <td>29-Nov-19</td>\n",
       "      <td>2018</td>\n",
       "      <td>TV-14</td>\n",
       "      <td>107 min</td>\n",
       "      <td>Comedies, International Movies, Thrillers</td>\n",
       "      <td>Movie</td>\n",
       "    </tr>\n",
       "    <tr>\n",
       "      <th>6</th>\n",
       "      <td>81120982</td>\n",
       "      <td>I Lost My Body</td>\n",
       "      <td>Jérémy Clapin</td>\n",
       "      <td>Hakim Faris, Victoire Du Bois, Patrick d'Assum...</td>\n",
       "      <td>France</td>\n",
       "      <td>29-Nov-19</td>\n",
       "      <td>2019</td>\n",
       "      <td>TV-MA</td>\n",
       "      <td>81 min</td>\n",
       "      <td>Dramas, Independent Movies, International Movies</td>\n",
       "      <td>Movie</td>\n",
       "    </tr>\n",
       "    <tr>\n",
       "      <th>7</th>\n",
       "      <td>81227195</td>\n",
       "      <td>Kalushi: The Story of Solomon Mahlangu</td>\n",
       "      <td>Mandla Dube</td>\n",
       "      <td>Thabo Rametsi, Thabo Malema, Welile Nzuza, Jaf...</td>\n",
       "      <td>South Africa</td>\n",
       "      <td>29-Nov-19</td>\n",
       "      <td>2016</td>\n",
       "      <td>TV-MA</td>\n",
       "      <td>107 min</td>\n",
       "      <td>Dramas, International Movies</td>\n",
       "      <td>Movie</td>\n",
       "    </tr>\n",
       "    <tr>\n",
       "      <th>8</th>\n",
       "      <td>70205672</td>\n",
       "      <td>La Reina del Sur</td>\n",
       "      <td>NaN</td>\n",
       "      <td>Kate del Castillo, Cristina Urgel, Alberto Jim...</td>\n",
       "      <td>United States, Spain, Colombia, Mexico</td>\n",
       "      <td>NaN</td>\n",
       "      <td>2019</td>\n",
       "      <td>TV-14</td>\n",
       "      <td>2 Seasons</td>\n",
       "      <td>Crime TV Shows, International TV Shows, Spanis...</td>\n",
       "      <td>TV Show</td>\n",
       "    </tr>\n",
       "    <tr>\n",
       "      <th>9</th>\n",
       "      <td>81172841</td>\n",
       "      <td>Lagos Real Fake Life</td>\n",
       "      <td>Mike Ezuruonye</td>\n",
       "      <td>Nonso Diobi, Mike Ezuruonye, Mercy Aigbe, Rex ...</td>\n",
       "      <td>NaN</td>\n",
       "      <td>29-Nov-19</td>\n",
       "      <td>2018</td>\n",
       "      <td>TV-14</td>\n",
       "      <td>118 min</td>\n",
       "      <td>Comedies, International Movies</td>\n",
       "      <td>Movie</td>\n",
       "    </tr>\n",
       "    <tr>\n",
       "      <th>10</th>\n",
       "      <td>81172899</td>\n",
       "      <td>Payday</td>\n",
       "      <td>Cheta Chukwu</td>\n",
       "      <td>Baaj Adebule, Ebiye Victor, Meg Otanwa, Bisola...</td>\n",
       "      <td>Nigeria</td>\n",
       "      <td>29-Nov-19</td>\n",
       "      <td>2018</td>\n",
       "      <td>TV-MA</td>\n",
       "      <td>110 min</td>\n",
       "      <td>Comedies, Independent Movies, International Mo...</td>\n",
       "      <td>Movie</td>\n",
       "    </tr>\n",
       "    <tr>\n",
       "      <th>11</th>\n",
       "      <td>81094391</td>\n",
       "      <td>Sugar Rush Christmas</td>\n",
       "      <td>NaN</td>\n",
       "      <td>Hunter March, Candace Nelson, Adriano Zumbo</td>\n",
       "      <td>United States</td>\n",
       "      <td>29-Nov-19</td>\n",
       "      <td>2019</td>\n",
       "      <td>TV-PG</td>\n",
       "      <td>1 Season</td>\n",
       "      <td>Reality TV</td>\n",
       "      <td>TV Show</td>\n",
       "    </tr>\n",
       "    <tr>\n",
       "      <th>12</th>\n",
       "      <td>81172908</td>\n",
       "      <td>The Accidental Spy</td>\n",
       "      <td>Roger Russell</td>\n",
       "      <td>Ramsey Nouah, Christine Allado, Ayo Makun, Emm...</td>\n",
       "      <td>Nigeria</td>\n",
       "      <td>29-Nov-19</td>\n",
       "      <td>2017</td>\n",
       "      <td>TV-14</td>\n",
       "      <td>104 min</td>\n",
       "      <td>Action &amp; Adventure, Comedies, International Mo...</td>\n",
       "      <td>Movie</td>\n",
       "    </tr>\n",
       "    <tr>\n",
       "      <th>13</th>\n",
       "      <td>81152641</td>\n",
       "      <td>The Charming Stepmom</td>\n",
       "      <td>NaN</td>\n",
       "      <td>Shahkrit Yamnarm, View Wannarot Sontichai, Kri...</td>\n",
       "      <td>NaN</td>\n",
       "      <td>29-Nov-19</td>\n",
       "      <td>2019</td>\n",
       "      <td>TV-14</td>\n",
       "      <td>1 Season</td>\n",
       "      <td>International TV Shows, Romantic TV Shows, TV ...</td>\n",
       "      <td>TV Show</td>\n",
       "    </tr>\n",
       "    <tr>\n",
       "      <th>14</th>\n",
       "      <td>81172901</td>\n",
       "      <td>The Island</td>\n",
       "      <td>Toka McBaror</td>\n",
       "      <td>Sambasa Nzeribe, Segun Arinze, Tokunbo Idowu, ...</td>\n",
       "      <td>Nigeria</td>\n",
       "      <td>29-Nov-19</td>\n",
       "      <td>2018</td>\n",
       "      <td>TV-14</td>\n",
       "      <td>93 min</td>\n",
       "      <td>Dramas, International Movies, Thrillers</td>\n",
       "      <td>Movie</td>\n",
       "    </tr>\n",
       "    <tr>\n",
       "      <th>15</th>\n",
       "      <td>80990849</td>\n",
       "      <td>The Movies That Made Us</td>\n",
       "      <td>NaN</td>\n",
       "      <td>NaN</td>\n",
       "      <td>United States</td>\n",
       "      <td>29-Nov-19</td>\n",
       "      <td>2019</td>\n",
       "      <td>TV-MA</td>\n",
       "      <td>1 Season</td>\n",
       "      <td>Docuseries</td>\n",
       "      <td>TV Show</td>\n",
       "    </tr>\n",
       "    <tr>\n",
       "      <th>16</th>\n",
       "      <td>81033086</td>\n",
       "      <td>Holiday Rush</td>\n",
       "      <td>Leslie Small</td>\n",
       "      <td>Romany Malco, Sonequa Martin-Green, Darlene Lo...</td>\n",
       "      <td>United States</td>\n",
       "      <td>28-Nov-19</td>\n",
       "      <td>2019</td>\n",
       "      <td>TV-PG</td>\n",
       "      <td>94 min</td>\n",
       "      <td>Children &amp; Family Movies, Dramas</td>\n",
       "      <td>Movie</td>\n",
       "    </tr>\n",
       "    <tr>\n",
       "      <th>17</th>\n",
       "      <td>80156799</td>\n",
       "      <td>Levius</td>\n",
       "      <td>NaN</td>\n",
       "      <td>Nobunaga Shimazaki, Junichi Suwabe, Takahiro S...</td>\n",
       "      <td>Japan</td>\n",
       "      <td>28-Nov-19</td>\n",
       "      <td>2019</td>\n",
       "      <td>TV-14</td>\n",
       "      <td>1 Season</td>\n",
       "      <td>Anime Series, International TV Shows</td>\n",
       "      <td>TV Show</td>\n",
       "    </tr>\n",
       "    <tr>\n",
       "      <th>18</th>\n",
       "      <td>81161538</td>\n",
       "      <td>Lugar de Mulher</td>\n",
       "      <td>NaN</td>\n",
       "      <td>NaN</td>\n",
       "      <td>Brazil</td>\n",
       "      <td>28-Nov-19</td>\n",
       "      <td>2019</td>\n",
       "      <td>TV-MA</td>\n",
       "      <td>1 Season</td>\n",
       "      <td>International TV Shows, Stand-Up Comedy &amp; Talk...</td>\n",
       "      <td>TV Show</td>\n",
       "    </tr>\n",
       "    <tr>\n",
       "      <th>19</th>\n",
       "      <td>80997965</td>\n",
       "      <td>Merry Happy Whatever</td>\n",
       "      <td>NaN</td>\n",
       "      <td>Dennis Quaid, Bridgit Mendler, Brent Morin, As...</td>\n",
       "      <td>United States</td>\n",
       "      <td>28-Nov-19</td>\n",
       "      <td>2019</td>\n",
       "      <td>TV-PG</td>\n",
       "      <td>1 Season</td>\n",
       "      <td>TV Comedies</td>\n",
       "      <td>TV Show</td>\n",
       "    </tr>\n",
       "  </tbody>\n",
       "</table>\n",
       "</div>"
      ],
      "text/plain": [
       "     show_id                                   title  \\\n",
       "0   81193313                               Chocolate   \n",
       "1   81197050     Guatemala: Heart of the Mayan World   \n",
       "2   81213894                         The Zoya Factor   \n",
       "3   81082007                               Atlantics   \n",
       "4   80213643                         Chip and Potato   \n",
       "5   81172754                            Crazy people   \n",
       "6   81120982                          I Lost My Body   \n",
       "7   81227195  Kalushi: The Story of Solomon Mahlangu   \n",
       "8   70205672                        La Reina del Sur   \n",
       "9   81172841                    Lagos Real Fake Life   \n",
       "10  81172899                                  Payday   \n",
       "11  81094391                    Sugar Rush Christmas   \n",
       "12  81172908                      The Accidental Spy   \n",
       "13  81152641                    The Charming Stepmom   \n",
       "14  81172901                              The Island   \n",
       "15  80990849                 The Movies That Made Us   \n",
       "16  81033086                            Holiday Rush   \n",
       "17  80156799                                  Levius   \n",
       "18  81161538                         Lugar de Mulher   \n",
       "19  80997965                    Merry Happy Whatever   \n",
       "\n",
       "                      director  \\\n",
       "0                          NaN   \n",
       "1   Luis Ara, Ignacio Jaunsolo   \n",
       "2              Abhishek Sharma   \n",
       "3                    Mati Diop   \n",
       "4                          NaN   \n",
       "5                 Moses Inwang   \n",
       "6                Jérémy Clapin   \n",
       "7                  Mandla Dube   \n",
       "8                          NaN   \n",
       "9               Mike Ezuruonye   \n",
       "10                Cheta Chukwu   \n",
       "11                         NaN   \n",
       "12               Roger Russell   \n",
       "13                         NaN   \n",
       "14                Toka McBaror   \n",
       "15                         NaN   \n",
       "16                Leslie Small   \n",
       "17                         NaN   \n",
       "18                         NaN   \n",
       "19                         NaN   \n",
       "\n",
       "                                                 cast  \\\n",
       "0   Ha Ji-won, Yoon Kye-sang, Jang Seung-jo, Kang ...   \n",
       "1                                   Christian Morales   \n",
       "2   Sonam Kapoor, Dulquer Salmaan, Sanjay Kapoor, ...   \n",
       "3   Mama Sane, Amadou Mbow, Ibrahima Traore, Nicol...   \n",
       "4   Abigail Oliver, Andrea Libman, Briana Buckmast...   \n",
       "5   Ramsey Nouah, Chigul, Sola Sobowale, Ireti Doy...   \n",
       "6   Hakim Faris, Victoire Du Bois, Patrick d'Assum...   \n",
       "7   Thabo Rametsi, Thabo Malema, Welile Nzuza, Jaf...   \n",
       "8   Kate del Castillo, Cristina Urgel, Alberto Jim...   \n",
       "9   Nonso Diobi, Mike Ezuruonye, Mercy Aigbe, Rex ...   \n",
       "10  Baaj Adebule, Ebiye Victor, Meg Otanwa, Bisola...   \n",
       "11        Hunter March, Candace Nelson, Adriano Zumbo   \n",
       "12  Ramsey Nouah, Christine Allado, Ayo Makun, Emm...   \n",
       "13  Shahkrit Yamnarm, View Wannarot Sontichai, Kri...   \n",
       "14  Sambasa Nzeribe, Segun Arinze, Tokunbo Idowu, ...   \n",
       "15                                                NaN   \n",
       "16  Romany Malco, Sonequa Martin-Green, Darlene Lo...   \n",
       "17  Nobunaga Shimazaki, Junichi Suwabe, Takahiro S...   \n",
       "18                                                NaN   \n",
       "19  Dennis Quaid, Bridgit Mendler, Brent Morin, As...   \n",
       "\n",
       "                                   country date_added  release_year rating  \\\n",
       "0                              South Korea  30-Nov-19          2019  TV-14   \n",
       "1                                      NaN  30-Nov-19          2019   TV-G   \n",
       "2                                    India  30-Nov-19          2019  TV-14   \n",
       "3                 France, Senegal, Belgium  29-Nov-19          2019  TV-14   \n",
       "4                   Canada, United Kingdom        NaN          2019   TV-Y   \n",
       "5                                  Nigeria  29-Nov-19          2018  TV-14   \n",
       "6                                   France  29-Nov-19          2019  TV-MA   \n",
       "7                             South Africa  29-Nov-19          2016  TV-MA   \n",
       "8   United States, Spain, Colombia, Mexico        NaN          2019  TV-14   \n",
       "9                                      NaN  29-Nov-19          2018  TV-14   \n",
       "10                                 Nigeria  29-Nov-19          2018  TV-MA   \n",
       "11                           United States  29-Nov-19          2019  TV-PG   \n",
       "12                                 Nigeria  29-Nov-19          2017  TV-14   \n",
       "13                                     NaN  29-Nov-19          2019  TV-14   \n",
       "14                                 Nigeria  29-Nov-19          2018  TV-14   \n",
       "15                           United States  29-Nov-19          2019  TV-MA   \n",
       "16                           United States  28-Nov-19          2019  TV-PG   \n",
       "17                                   Japan  28-Nov-19          2019  TV-14   \n",
       "18                                  Brazil  28-Nov-19          2019  TV-MA   \n",
       "19                           United States  28-Nov-19          2019  TV-PG   \n",
       "\n",
       "     duration                                          listed_in     type  \n",
       "0    1 Season  International TV Shows, Korean TV Shows, Roman...  TV Show  \n",
       "1      67 min                Documentaries, International Movies    Movie  \n",
       "2     135 min             Comedies, Dramas, International Movies    Movie  \n",
       "3     106 min   Dramas, Independent Movies, International Movies    Movie  \n",
       "4   2 Seasons                                           Kids' TV  TV Show  \n",
       "5     107 min          Comedies, International Movies, Thrillers    Movie  \n",
       "6      81 min   Dramas, Independent Movies, International Movies    Movie  \n",
       "7     107 min                       Dramas, International Movies    Movie  \n",
       "8   2 Seasons  Crime TV Shows, International TV Shows, Spanis...  TV Show  \n",
       "9     118 min                     Comedies, International Movies    Movie  \n",
       "10    110 min  Comedies, Independent Movies, International Mo...    Movie  \n",
       "11   1 Season                                         Reality TV  TV Show  \n",
       "12    104 min  Action & Adventure, Comedies, International Mo...    Movie  \n",
       "13   1 Season  International TV Shows, Romantic TV Shows, TV ...  TV Show  \n",
       "14     93 min            Dramas, International Movies, Thrillers    Movie  \n",
       "15   1 Season                                         Docuseries  TV Show  \n",
       "16     94 min                   Children & Family Movies, Dramas    Movie  \n",
       "17   1 Season               Anime Series, International TV Shows  TV Show  \n",
       "18   1 Season  International TV Shows, Stand-Up Comedy & Talk...  TV Show  \n",
       "19   1 Season                                        TV Comedies  TV Show  "
      ]
     },
     "execution_count": 5,
     "metadata": {},
     "output_type": "execute_result"
    }
   ],
   "source": [
    "pd.set_option('display.max_columns',100)\n",
    "df.head(20)"
   ]
  },
  {
   "cell_type": "code",
   "execution_count": 63,
   "metadata": {},
   "outputs": [
    {
     "name": "stdout",
     "output_type": "stream",
     "text": [
      "<class 'pandas.core.frame.DataFrame'>\n",
      "RangeIndex: 5837 entries, 0 to 5836\n",
      "Data columns (total 12 columns):\n",
      "show_id         5837 non-null int64\n",
      "title           5837 non-null object\n",
      "director        3936 non-null object\n",
      "cast            5281 non-null object\n",
      "country         5410 non-null object\n",
      "date_added      5195 non-null object\n",
      "release_year    5837 non-null int64\n",
      "rating          5827 non-null object\n",
      "duration        5837 non-null object\n",
      "listed_in       5837 non-null object\n",
      "description     5837 non-null object\n",
      "type            5837 non-null object\n",
      "dtypes: int64(2), object(10)\n",
      "memory usage: 319.3+ KB\n"
     ]
    }
   ],
   "source": [
    "df.info()"
   ]
  },
  {
   "cell_type": "code",
   "execution_count": 13,
   "metadata": {},
   "outputs": [],
   "source": [
    "import matplotlib.pyplot as plt"
   ]
  },
  {
   "cell_type": "code",
   "execution_count": 15,
   "metadata": {},
   "outputs": [],
   "source": [
    "import seaborn as sns"
   ]
  },
  {
   "cell_type": "code",
   "execution_count": 31,
   "metadata": {},
   "outputs": [],
   "source": [
    "# df['country'].value_counts().index[:10]"
   ]
  },
  {
   "cell_type": "code",
   "execution_count": 26,
   "metadata": {},
   "outputs": [],
   "source": [
    "# plt.figure(1, figsize=(25, 10))\n",
    "# plt.title(\"Country with maximum content creation\")\n",
    "# sns.countplot(x = \"country\", order=df['country'].value_counts().index[0:10] ,data=df,palette='Accent')"
   ]
  },
  {
   "cell_type": "code",
   "execution_count": 42,
   "metadata": {},
   "outputs": [],
   "source": [
    "# Types of Rating and their Frequency"
   ]
  },
  {
   "cell_type": "code",
   "execution_count": 44,
   "metadata": {},
   "outputs": [
    {
     "data": {
      "text/plain": [
       "<matplotlib.axes._subplots.AxesSubplot at 0x1292c870>"
      ]
     },
     "execution_count": 44,
     "metadata": {},
     "output_type": "execute_result"
    },
    {
     "data": {
      "image/png": "[encoded data removed]",
      "text/plain": [
       "<Figure size 1008x360 with 1 Axes>"
      ]
     },
     "metadata": {
      "needs_background": "light"
     },
     "output_type": "display_data"
    }
   ],
   "source": [
    "plt.figure(1, figsize=(14, 5))\n",
    "plt.title(\"Rating\")\n",
    "sns.countplot(x = \"rating\", order=df['rating'].value_counts().index[0:10] ,data=df,palette='Accent')"
   ]
  },
  {
   "cell_type": "code",
   "execution_count": 30,
   "metadata": {},
   "outputs": [],
   "source": [
    "# Year-wise growth"
   ]
  },
  {
   "cell_type": "code",
   "execution_count": 45,
   "metadata": {},
   "outputs": [
    {
     "data": {
      "text/plain": [
       "<matplotlib.axes._subplots.AxesSubplot at 0x15222430>"
      ]
     },
     "execution_count": 45,
     "metadata": {},
     "output_type": "execute_result"
    },
    {
     "data": {
      "image/png": "[encoded data removed]",
      "text/plain": [
       "<Figure size 1008x360 with 1 Axes>"
      ]
     },
     "metadata": {
      "needs_background": "light"
     },
     "output_type": "display_data"
    }
   ],
   "source": [
    "plt.figure(1, figsize=(14, 5))\n",
    "plt.title(\"Frequency\")\n",
    "sns.countplot(x = \"release_year\", order=df['release_year'].value_counts().index[0:10] ,data=df,palette='Accent')"
   ]
  },
  {
   "cell_type": "code",
   "execution_count": 48,
   "metadata": {},
   "outputs": [
    {
     "data": {
      "text/plain": [
       "<matplotlib.axes._subplots.AxesSubplot at 0x15325410>"
      ]
     },
     "execution_count": 48,
     "metadata": {},
     "output_type": "execute_result"
    },
    {
     "data": {
      "image/png": "[encoded data removed]",
      "text/plain": [
       "<Figure size 504x360 with 1 Axes>"
      ]
     },
     "metadata": {
      "needs_background": "light"
     },
     "output_type": "display_data"
    }
   ],
   "source": [
    "plt.figure(1, figsize=(7, 5))\n",
    "plt.title(\"Tv Show/ Movie\")\n",
    "sns.countplot(x = \"type\", order=df['type'].value_counts().index[0:10] ,data=df,palette='Accent')"
   ]
  },
  {
   "cell_type": "code",
   "execution_count": 54,
   "metadata": {},
   "outputs": [
    {
     "data": {
      "text/plain": [
       "<matplotlib.axes._subplots.AxesSubplot at 0x15ac0c10>"
      ]
     },
     "execution_count": 54,
     "metadata": {},
     "output_type": "execute_result"
    },
    {
     "data": {
      "image/png": "[encoded data removed]",
      "text/plain": [
       "<Figure size 864x360 with 1 Axes>"
      ]
     },
     "metadata": {},
     "output_type": "display_data"
    }
   ],
   "source": [
    "df['type'].value_counts().plot.pie(autopct='%d%%',shadow=False,figsize=(12,5))"
   ]
  },
  {
   "cell_type": "code",
   "execution_count": 64,
   "metadata": {},
   "outputs": [
    {
     "data": {
      "text/plain": [
       "<matplotlib.axes._subplots.AxesSubplot at 0x15f51ff0>"
      ]
     },
     "execution_count": 64,
     "metadata": {},
     "output_type": "execute_result"
    },
    {
     "data": {
      "image/png": "[encoded data removed]",
      "text/plain": [
       "<Figure size 1440x360 with 1 Axes>"
      ]
     },
     "metadata": {
      "needs_background": "light"
     },
     "output_type": "display_data"
    }
   ],
   "source": [
    "plt.figure(1, figsize=(20, 5))\n",
    "plt.title(\"Duration\")\n",
    "sns.countplot(x = \"duration\", order=df['duration'].value_counts().index[0:15] ,data=df,palette='Accent')"
   ]
  },
  {
   "cell_type": "code",
   "execution_count": null,
   "metadata": {},
   "outputs": [],
   "source": []
  }
 ],
 "metadata": {
  "kernelspec": {
   "display_name": "Python 3",
   "language": "python",
   "name": "python3"
  },
  "language_info": {
   "codemirror_mode": {
    "name": "ipython",
    "version": 3
   },
   "file_extension": ".py",
   "mimetype": "text/x-python",
   "name": "python",
   "nbconvert_exporter": "python",
   "pygments_lexer": "ipython3",
   "version": "3.5.4"
  }
 },
 "nbformat": 4,
 "nbformat_minor": 4
}
