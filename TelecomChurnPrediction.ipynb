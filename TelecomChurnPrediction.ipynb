{
 "cells": [
  {
   "cell_type": "markdown",
   "id": "matched-slovakia",
   "metadata": {},
   "source": [
    "## Customer Churn Prediction"
   ]
  },
  {
   "cell_type": "code",
   "execution_count": 10,
   "id": "stopped-willow",
   "metadata": {
    "ExecuteTime": {
     "end_time": "2021-08-07T19:31:20.718711Z",
     "start_time": "2021-08-07T19:31:20.694941Z"
    }
   },
   "outputs": [
    {
     "data": {
      "image/jpeg": "[encoded data removed]",
      "text/plain": [
       "<IPython.core.display.Image object>"
      ]
     },
     "execution_count": 10,
     "metadata": {},
     "output_type": "execute_result"
    }
   ],
   "source": [
    "from IPython.display import Image\n",
    "Image(filename='./datalab/Churn/Telecom/churn.jpg') "
   ]
  },
  {
   "cell_type": "code",
   "execution_count": 119,
   "id": "united-repeat",
   "metadata": {
    "ExecuteTime": {
     "end_time": "2021-08-07T20:48:13.660683Z",
     "start_time": "2021-08-07T20:48:13.624421Z"
    }
   },
   "outputs": [
    {
     "data": {
      "application/javascript": [
       "\n",
       "        if (window._pyforest_update_imports_cell) { window._pyforest_update_imports_cell('import pandas as pd\\nfrom PIL import Image\\nimport seaborn as sns\\nfrom sklearn.preprocessing import LabelEncoder'); }\n",
       "    "
      ],
      "text/plain": [
       "<IPython.core.display.Javascript object>"
      ]
     },
     "metadata": {},
     "output_type": "display_data"
    }
   ],
   "source": [
    "df = pd.read_csv('./datalab/Churn/Telecom/Telco-Customer-Churn.csv')"
   ]
  },
  {
   "cell_type": "code",
   "execution_count": 120,
   "id": "supported-rachel",
   "metadata": {
    "ExecuteTime": {
     "end_time": "2021-08-07T20:48:14.527440Z",
     "start_time": "2021-08-07T20:48:14.521455Z"
    }
   },
   "outputs": [],
   "source": [
    "df.columns = df.columns.map(lambda x : x.strip().lower())"
   ]
  },
  {
   "cell_type": "code",
   "execution_count": 121,
   "id": "continental-valuation",
   "metadata": {
    "ExecuteTime": {
     "end_time": "2021-08-07T20:48:15.111391Z",
     "start_time": "2021-08-07T20:48:15.072448Z"
    }
   },
   "outputs": [
    {
     "data": {
      "text/html": [
       "<div>\n",
       "<style scoped>\n",
       "    .dataframe tbody tr th:only-of-type {\n",
       "        vertical-align: middle;\n",
       "    }\n",
       "\n",
       "    .dataframe tbody tr th {\n",
       "        vertical-align: top;\n",
       "    }\n",
       "\n",
       "    .dataframe thead th {\n",
       "        text-align: right;\n",
       "    }\n",
       "</style>\n",
       "<table border=\"1\" class=\"dataframe\">\n",
       "  <thead>\n",
       "    <tr style=\"text-align: right;\">\n",
       "      <th></th>\n",
       "      <th>customerid</th>\n",
       "      <th>gender</th>\n",
       "      <th>seniorcitizen</th>\n",
       "      <th>partner</th>\n",
       "      <th>dependents</th>\n",
       "      <th>tenure</th>\n",
       "      <th>phoneservice</th>\n",
       "      <th>multiplelines</th>\n",
       "      <th>internetservice</th>\n",
       "      <th>onlinesecurity</th>\n",
       "      <th>onlinebackup</th>\n",
       "      <th>deviceprotection</th>\n",
       "      <th>techsupport</th>\n",
       "      <th>streamingtv</th>\n",
       "      <th>streamingmovies</th>\n",
       "      <th>contract</th>\n",
       "      <th>paperlessbilling</th>\n",
       "      <th>paymentmethod</th>\n",
       "      <th>monthlycharges</th>\n",
       "      <th>totalcharges</th>\n",
       "      <th>churn</th>\n",
       "    </tr>\n",
       "  </thead>\n",
       "  <tbody>\n",
       "    <tr>\n",
       "      <th>0</th>\n",
       "      <td>7590-VHVEG</td>\n",
       "      <td>Female</td>\n",
       "      <td>0</td>\n",
       "      <td>Yes</td>\n",
       "      <td>No</td>\n",
       "      <td>1</td>\n",
       "      <td>No</td>\n",
       "      <td>No phone service</td>\n",
       "      <td>DSL</td>\n",
       "      <td>No</td>\n",
       "      <td>Yes</td>\n",
       "      <td>No</td>\n",
       "      <td>No</td>\n",
       "      <td>No</td>\n",
       "      <td>No</td>\n",
       "      <td>Month-to-month</td>\n",
       "      <td>Yes</td>\n",
       "      <td>Electronic check</td>\n",
       "      <td>29.85</td>\n",
       "      <td>29.85</td>\n",
       "      <td>No</td>\n",
       "    </tr>\n",
       "    <tr>\n",
       "      <th>1</th>\n",
       "      <td>5575-GNVDE</td>\n",
       "      <td>Male</td>\n",
       "      <td>0</td>\n",
       "      <td>No</td>\n",
       "      <td>No</td>\n",
       "      <td>34</td>\n",
       "      <td>Yes</td>\n",
       "      <td>No</td>\n",
       "      <td>DSL</td>\n",
       "      <td>Yes</td>\n",
       "      <td>No</td>\n",
       "      <td>Yes</td>\n",
       "      <td>No</td>\n",
       "      <td>No</td>\n",
       "      <td>No</td>\n",
       "      <td>One year</td>\n",
       "      <td>No</td>\n",
       "      <td>Mailed check</td>\n",
       "      <td>56.95</td>\n",
       "      <td>1889.5</td>\n",
       "      <td>No</td>\n",
       "    </tr>\n",
       "    <tr>\n",
       "      <th>2</th>\n",
       "      <td>3668-QPYBK</td>\n",
       "      <td>Male</td>\n",
       "      <td>0</td>\n",
       "      <td>No</td>\n",
       "      <td>No</td>\n",
       "      <td>2</td>\n",
       "      <td>Yes</td>\n",
       "      <td>No</td>\n",
       "      <td>DSL</td>\n",
       "      <td>Yes</td>\n",
       "      <td>Yes</td>\n",
       "      <td>No</td>\n",
       "      <td>No</td>\n",
       "      <td>No</td>\n",
       "      <td>No</td>\n",
       "      <td>Month-to-month</td>\n",
       "      <td>Yes</td>\n",
       "      <td>Mailed check</td>\n",
       "      <td>53.85</td>\n",
       "      <td>108.15</td>\n",
       "      <td>Yes</td>\n",
       "    </tr>\n",
       "    <tr>\n",
       "      <th>3</th>\n",
       "      <td>7795-CFOCW</td>\n",
       "      <td>Male</td>\n",
       "      <td>0</td>\n",
       "      <td>No</td>\n",
       "      <td>No</td>\n",
       "      <td>45</td>\n",
       "      <td>No</td>\n",
       "      <td>No phone service</td>\n",
       "      <td>DSL</td>\n",
       "      <td>Yes</td>\n",
       "      <td>No</td>\n",
       "      <td>Yes</td>\n",
       "      <td>Yes</td>\n",
       "      <td>No</td>\n",
       "      <td>No</td>\n",
       "      <td>One year</td>\n",
       "      <td>No</td>\n",
       "      <td>Bank transfer (automatic)</td>\n",
       "      <td>42.30</td>\n",
       "      <td>1840.75</td>\n",
       "      <td>No</td>\n",
       "    </tr>\n",
       "    <tr>\n",
       "      <th>4</th>\n",
       "      <td>9237-HQITU</td>\n",
       "      <td>Female</td>\n",
       "      <td>0</td>\n",
       "      <td>No</td>\n",
       "      <td>No</td>\n",
       "      <td>2</td>\n",
       "      <td>Yes</td>\n",
       "      <td>No</td>\n",
       "      <td>Fiber optic</td>\n",
       "      <td>No</td>\n",
       "      <td>No</td>\n",
       "      <td>No</td>\n",
       "      <td>No</td>\n",
       "      <td>No</td>\n",
       "      <td>No</td>\n",
       "      <td>Month-to-month</td>\n",
       "      <td>Yes</td>\n",
       "      <td>Electronic check</td>\n",
       "      <td>70.70</td>\n",
       "      <td>151.65</td>\n",
       "      <td>Yes</td>\n",
       "    </tr>\n",
       "  </tbody>\n",
       "</table>\n",
       "</div>"
      ],
      "text/plain": [
       "   customerid  gender  seniorcitizen  ... monthlycharges totalcharges  churn\n",
       "0  7590-VHVEG  Female              0  ...          29.85        29.85     No\n",
       "1  5575-GNVDE    Male              0  ...          56.95       1889.5     No\n",
       "2  3668-QPYBK    Male              0  ...          53.85       108.15    Yes\n",
       "3  7795-CFOCW    Male              0  ...          42.30      1840.75     No\n",
       "4  9237-HQITU  Female              0  ...          70.70       151.65    Yes\n",
       "\n",
       "[5 rows x 21 columns]"
      ]
     },
     "execution_count": 121,
     "metadata": {},
     "output_type": "execute_result"
    }
   ],
   "source": [
    "df.head()"
   ]
  },
  {
   "cell_type": "code",
   "execution_count": 67,
   "id": "mighty-jewelry",
   "metadata": {
    "ExecuteTime": {
     "end_time": "2021-08-07T20:09:45.756532Z",
     "start_time": "2021-08-07T20:09:45.736612Z"
    }
   },
   "outputs": [
    {
     "name": "stdout",
     "output_type": "stream",
     "text": [
      "User Lost:\n",
      "0    939\n",
      "1    930\n",
      "Name: gender, dtype: int64\n",
      "******************************\n",
      "User Retain:\n",
      "1    2619\n",
      "0    2544\n",
      "Name: gender, dtype: int64\n"
     ]
    }
   ],
   "source": [
    "user_lost =  df[df.churn==1]['gender']\n",
    "user_retain =  df[df.churn==0]['gender']\n",
    "print('User Lost:\\n{}'.format(user_lost.value_counts()))\n",
    "print(\"*\"*30)\n",
    "print('User Retain:\\n{}'.format(user_retain.value_counts()))"
   ]
  },
  {
   "cell_type": "code",
   "execution_count": 39,
   "id": "respective-blast",
   "metadata": {
    "ExecuteTime": {
     "end_time": "2021-08-07T19:50:43.239377Z",
     "start_time": "2021-08-07T19:50:43.093578Z"
    }
   },
   "outputs": [
    {
     "data": {
      "application/javascript": [
       "\n",
       "        if (window._pyforest_update_imports_cell) { window._pyforest_update_imports_cell('import pandas as pd\\nfrom PIL import Image\\nimport seaborn as sns'); }\n",
       "    "
      ],
      "text/plain": [
       "<IPython.core.display.Javascript object>"
      ]
     },
     "metadata": {},
     "output_type": "display_data"
    },
    {
     "data": {
      "text/plain": [
       "<AxesSubplot:xlabel='monthlycharges', ylabel='Count'>"
      ]
     },
     "execution_count": 39,
     "metadata": {},
     "output_type": "execute_result"
    },
    {
     "data": {
      "image/png": "[encoded data removed]",
      "text/plain": [
       "<Figure size 432x288 with 1 Axes>"
      ]
     },
     "metadata": {
      "needs_background": "light"
     },
     "output_type": "display_data"
    }
   ],
   "source": [
    "sns.histplot(df.monthlycharges)"
   ]
  },
  {
   "cell_type": "code",
   "execution_count": 122,
   "id": "polished-stereo",
   "metadata": {
    "ExecuteTime": {
     "end_time": "2021-08-07T20:48:25.945450Z",
     "start_time": "2021-08-07T20:48:25.925418Z"
    }
   },
   "outputs": [
    {
     "data": {
      "application/javascript": [
       "\n",
       "        if (window._pyforest_update_imports_cell) { window._pyforest_update_imports_cell('import pandas as pd\\nfrom PIL import Image\\nimport seaborn as sns\\nfrom sklearn.preprocessing import LabelEncoder'); }\n",
       "    "
      ],
      "text/plain": [
       "<IPython.core.display.Javascript object>"
      ]
     },
     "metadata": {},
     "output_type": "display_data"
    }
   ],
   "source": [
    "df['totalcharges'] = pd.to_numeric(df['totalcharges'], errors=\"coerce\")"
   ]
  },
  {
   "cell_type": "code",
   "execution_count": 124,
   "id": "found-rally",
   "metadata": {
    "ExecuteTime": {
     "end_time": "2021-08-07T20:48:28.914173Z",
     "start_time": "2021-08-07T20:48:28.900211Z"
    }
   },
   "outputs": [],
   "source": [
    "df.dropna(axis=0, inplace=True)"
   ]
  },
  {
   "cell_type": "code",
   "execution_count": 40,
   "id": "thorough-parks",
   "metadata": {
    "ExecuteTime": {
     "end_time": "2021-08-07T19:52:08.051674Z",
     "start_time": "2021-08-07T19:52:08.034724Z"
    }
   },
   "outputs": [
    {
     "data": {
      "application/javascript": [
       "\n",
       "        if (window._pyforest_update_imports_cell) { window._pyforest_update_imports_cell('import pandas as pd\\nfrom PIL import Image\\nimport seaborn as sns\\nfrom sklearn.preprocessing import LabelEncoder'); }\n",
       "    "
      ],
      "text/plain": [
       "<IPython.core.display.Javascript object>"
      ]
     },
     "metadata": {},
     "output_type": "display_data"
    }
   ],
   "source": [
    "le = LabelEncoder()"
   ]
  },
  {
   "cell_type": "code",
   "execution_count": 141,
   "id": "comparable-burton",
   "metadata": {
    "ExecuteTime": {
     "end_time": "2021-08-07T20:51:20.723379Z",
     "start_time": "2021-08-07T20:51:20.715402Z"
    }
   },
   "outputs": [],
   "source": [
    "def encodeLabels(column):\n",
    "    churnUser[column] = le.fit_transform(churnUser[column])"
   ]
  },
  {
   "cell_type": "code",
   "execution_count": 142,
   "id": "dedicated-subject",
   "metadata": {
    "ExecuteTime": {
     "end_time": "2021-08-07T20:51:21.223134Z",
     "start_time": "2021-08-07T20:51:21.212165Z"
    }
   },
   "outputs": [
    {
     "name": "stderr",
     "output_type": "stream",
     "text": [
      "F:\\Anaconda3\\lib\\site-packages\\pandas\\core\\frame.py:3607: SettingWithCopyWarning: \n",
      "A value is trying to be set on a copy of a slice from a DataFrame.\n",
      "Try using .loc[row_indexer,col_indexer] = value instead\n",
      "\n",
      "See the caveats in the documentation: https://pandas.pydata.org/pandas-docs/stable/user_guide/indexing.html#returning-a-view-versus-a-copy\n",
      "  self._set_item(key, value)\n"
     ]
    }
   ],
   "source": [
    "encodeLabels(\"gender\")"
   ]
  },
  {
   "cell_type": "code",
   "execution_count": 143,
   "id": "excited-glasgow",
   "metadata": {
    "ExecuteTime": {
     "end_time": "2021-08-07T20:51:22.371336Z",
     "start_time": "2021-08-07T20:51:22.350422Z"
    }
   },
   "outputs": [
    {
     "name": "stderr",
     "output_type": "stream",
     "text": [
      "F:\\Anaconda3\\lib\\site-packages\\pandas\\core\\frame.py:3607: SettingWithCopyWarning: \n",
      "A value is trying to be set on a copy of a slice from a DataFrame.\n",
      "Try using .loc[row_indexer,col_indexer] = value instead\n",
      "\n",
      "See the caveats in the documentation: https://pandas.pydata.org/pandas-docs/stable/user_guide/indexing.html#returning-a-view-versus-a-copy\n",
      "  self._set_item(key, value)\n"
     ]
    }
   ],
   "source": [
    "encodeLabels(\"partner\")\n",
    "encodeLabels(\"dependents\")\n",
    "encodeLabels(\"phoneservice\")\n",
    "encodeLabels(\"onlinesecurity\")\n",
    "encodeLabels(\"deviceprotection\")\n",
    "encodeLabels(\"techsupport\")\n",
    "encodeLabels(\"streamingtv\")\n",
    "encodeLabels(\"streamingmovies\")"
   ]
  },
  {
   "cell_type": "code",
   "execution_count": 130,
   "id": "crucial-vegetable",
   "metadata": {
    "ExecuteTime": {
     "end_time": "2021-08-07T20:49:20.172406Z",
     "start_time": "2021-08-07T20:49:20.152400Z"
    }
   },
   "outputs": [],
   "source": [
    "encodeLabels(\"churn\")"
   ]
  },
  {
   "cell_type": "code",
   "execution_count": 154,
   "id": "genuine-turtle",
   "metadata": {
    "ExecuteTime": {
     "end_time": "2021-08-07T20:53:33.352294Z",
     "start_time": "2021-08-07T20:53:33.344316Z"
    }
   },
   "outputs": [
    {
     "name": "stderr",
     "output_type": "stream",
     "text": [
      "F:\\Anaconda3\\lib\\site-packages\\pandas\\core\\frame.py:3607: SettingWithCopyWarning: \n",
      "A value is trying to be set on a copy of a slice from a DataFrame.\n",
      "Try using .loc[row_indexer,col_indexer] = value instead\n",
      "\n",
      "See the caveats in the documentation: https://pandas.pydata.org/pandas-docs/stable/user_guide/indexing.html#returning-a-view-versus-a-copy\n",
      "  self._set_item(key, value)\n"
     ]
    }
   ],
   "source": [
    "encodeLabels(\"onlinebackup\")\n",
    "encodeLabels(\"paperlessbilling\")\n",
    "encodeLabels(\"multiplelines\")"
   ]
  },
  {
   "cell_type": "code",
   "execution_count": 135,
   "id": "looking-answer",
   "metadata": {
    "ExecuteTime": {
     "end_time": "2021-08-07T20:50:15.687559Z",
     "start_time": "2021-08-07T20:50:15.679582Z"
    }
   },
   "outputs": [],
   "source": [
    "churnUser = df[df.churn == 1]"
   ]
  },
  {
   "cell_type": "code",
   "execution_count": 170,
   "id": "honey-demographic",
   "metadata": {
    "ExecuteTime": {
     "end_time": "2021-08-07T21:08:40.406362Z",
     "start_time": "2021-08-07T21:08:40.389381Z"
    }
   },
   "outputs": [],
   "source": [
    "retainUser = df[df.churn == 0]"
   ]
  },
  {
   "cell_type": "code",
   "execution_count": 137,
   "id": "curious-paste",
   "metadata": {
    "ExecuteTime": {
     "end_time": "2021-08-07T20:50:21.292962Z",
     "start_time": "2021-08-07T20:50:21.277975Z"
    }
   },
   "outputs": [
    {
     "name": "stderr",
     "output_type": "stream",
     "text": [
      "F:\\Anaconda3\\lib\\site-packages\\pandas\\core\\frame.py:4901: SettingWithCopyWarning: \n",
      "A value is trying to be set on a copy of a slice from a DataFrame\n",
      "\n",
      "See the caveats in the documentation: https://pandas.pydata.org/pandas-docs/stable/user_guide/indexing.html#returning-a-view-versus-a-copy\n",
      "  return super().drop(\n"
     ]
    }
   ],
   "source": [
    "churnUser.drop(columns=['customerid'], inplace=True)"
   ]
  },
  {
   "cell_type": "code",
   "execution_count": 14,
   "id": "elder-salvation",
   "metadata": {
    "ExecuteTime": {
     "end_time": "2021-08-07T19:34:42.645422Z",
     "start_time": "2021-08-07T19:34:42.634424Z"
    }
   },
   "outputs": [
    {
     "data": {
      "text/plain": [
       "Index(['gender', 'seniorcitizen', 'partner', 'dependents', 'tenure',\n",
       "       'phoneservice', 'multiplelines', 'internetservice', 'onlinesecurity',\n",
       "       'onlinebackup', 'deviceprotection', 'techsupport', 'streamingtv',\n",
       "       'streamingmovies', 'contract', 'paperlessbilling', 'paymentmethod',\n",
       "       'monthlycharges', 'totalcharges', 'churn'],\n",
       "      dtype='object')"
      ]
     },
     "execution_count": 14,
     "metadata": {},
     "output_type": "execute_result"
    }
   ],
   "source": [
    "df.columns"
   ]
  },
  {
   "cell_type": "code",
   "execution_count": 115,
   "id": "appreciated-collectible",
   "metadata": {
    "ExecuteTime": {
     "end_time": "2021-08-07T20:44:40.651337Z",
     "start_time": "2021-08-07T20:44:40.640368Z"
    }
   },
   "outputs": [],
   "source": [
    "def filter_data(column):\n",
    "    churnUser[column] = churnUser[column].map(lambda x : x.strip().split(' ')[0])"
   ]
  },
  {
   "cell_type": "code",
   "execution_count": 139,
   "id": "lovely-digest",
   "metadata": {
    "ExecuteTime": {
     "end_time": "2021-08-07T20:50:34.437409Z",
     "start_time": "2021-08-07T20:50:34.420458Z"
    }
   },
   "outputs": [
    {
     "name": "stderr",
     "output_type": "stream",
     "text": [
      "F:\\Anaconda3\\lib\\site-packages\\pandas\\core\\frame.py:3607: SettingWithCopyWarning: \n",
      "A value is trying to be set on a copy of a slice from a DataFrame.\n",
      "Try using .loc[row_indexer,col_indexer] = value instead\n",
      "\n",
      "See the caveats in the documentation: https://pandas.pydata.org/pandas-docs/stable/user_guide/indexing.html#returning-a-view-versus-a-copy\n",
      "  self._set_item(key, value)\n"
     ]
    }
   ],
   "source": [
    "filter_data('multiplelines')\n",
    "filter_data('internetservice')\n",
    "filter_data('onlinesecurity')\n",
    "filter_data('onlinebackup')\n",
    "filter_data('deviceprotection')\n",
    "filter_data('techsupport')\n",
    "filter_data('streamingtv')\n",
    "filter_data('streamingmovies')\n",
    "filter_data('paymentmethod')\n"
   ]
  },
  {
   "cell_type": "code",
   "execution_count": 165,
   "id": "atomic-stuff",
   "metadata": {
    "ExecuteTime": {
     "end_time": "2021-08-07T21:06:21.175259Z",
     "start_time": "2021-08-07T21:06:21.150328Z"
    }
   },
   "outputs": [
    {
     "data": {
      "application/javascript": [
       "\n",
       "        if (window._pyforest_update_imports_cell) { window._pyforest_update_imports_cell('import pandas as pd\\nfrom PIL import Image\\nimport seaborn as sns\\nfrom sklearn.preprocessing import LabelEncoder'); }\n",
       "    "
      ],
      "text/plain": [
       "<IPython.core.display.Javascript object>"
      ]
     },
     "metadata": {},
     "output_type": "display_data"
    },
    {
     "name": "stderr",
     "output_type": "stream",
     "text": [
      "F:\\Anaconda3\\lib\\site-packages\\pandas\\core\\frame.py:3607: SettingWithCopyWarning: \n",
      "A value is trying to be set on a copy of a slice from a DataFrame.\n",
      "Try using .loc[row_indexer,col_indexer] = value instead\n",
      "\n",
      "See the caveats in the documentation: https://pandas.pydata.org/pandas-docs/stable/user_guide/indexing.html#returning-a-view-versus-a-copy\n",
      "  self._set_item(key, value)\n"
     ]
    },
    {
     "data": {
      "application/javascript": [
       "\n",
       "        if (window._pyforest_update_imports_cell) { window._pyforest_update_imports_cell('import pandas as pd\\nfrom PIL import Image\\nimport seaborn as sns\\nfrom sklearn.preprocessing import LabelEncoder'); }\n",
       "    "
      ],
      "text/plain": [
       "<IPython.core.display.Javascript object>"
      ]
     },
     "metadata": {},
     "output_type": "display_data"
    },
    {
     "data": {
      "application/javascript": [
       "\n",
       "        if (window._pyforest_update_imports_cell) { window._pyforest_update_imports_cell('import pandas as pd\\nfrom PIL import Image\\nimport seaborn as sns\\nfrom sklearn.preprocessing import LabelEncoder'); }\n",
       "    "
      ],
      "text/plain": [
       "<IPython.core.display.Javascript object>"
      ]
     },
     "metadata": {},
     "output_type": "display_data"
    }
   ],
   "source": [
    "churnUser.contract=pd.Categorical(churnUser.contract).codes\n",
    "churnUser.internetservice=pd.Categorical(churnUser.internetservice).codes\n",
    "churnUser.paymentmethod=pd.Categorical(churnUser.paymentmethod).codes"
   ]
  },
  {
   "cell_type": "code",
   "execution_count": 166,
   "id": "mounted-personal",
   "metadata": {
    "ExecuteTime": {
     "end_time": "2021-08-07T21:06:23.394191Z",
     "start_time": "2021-08-07T21:06:23.364243Z"
    }
   },
   "outputs": [
    {
     "data": {
      "text/html": [
       "<div>\n",
       "<style scoped>\n",
       "    .dataframe tbody tr th:only-of-type {\n",
       "        vertical-align: middle;\n",
       "    }\n",
       "\n",
       "    .dataframe tbody tr th {\n",
       "        vertical-align: top;\n",
       "    }\n",
       "\n",
       "    .dataframe thead th {\n",
       "        text-align: right;\n",
       "    }\n",
       "</style>\n",
       "<table border=\"1\" class=\"dataframe\">\n",
       "  <thead>\n",
       "    <tr style=\"text-align: right;\">\n",
       "      <th></th>\n",
       "      <th>gender</th>\n",
       "      <th>seniorcitizen</th>\n",
       "      <th>partner</th>\n",
       "      <th>dependents</th>\n",
       "      <th>tenure</th>\n",
       "      <th>phoneservice</th>\n",
       "      <th>multiplelines</th>\n",
       "      <th>internetservice</th>\n",
       "      <th>onlinesecurity</th>\n",
       "      <th>onlinebackup</th>\n",
       "      <th>deviceprotection</th>\n",
       "      <th>techsupport</th>\n",
       "      <th>streamingtv</th>\n",
       "      <th>streamingmovies</th>\n",
       "      <th>contract</th>\n",
       "      <th>paperlessbilling</th>\n",
       "      <th>paymentmethod</th>\n",
       "      <th>monthlycharges</th>\n",
       "      <th>totalcharges</th>\n",
       "      <th>churn</th>\n",
       "    </tr>\n",
       "  </thead>\n",
       "  <tbody>\n",
       "    <tr>\n",
       "      <th>2</th>\n",
       "      <td>1</td>\n",
       "      <td>0</td>\n",
       "      <td>0</td>\n",
       "      <td>0</td>\n",
       "      <td>2</td>\n",
       "      <td>1</td>\n",
       "      <td>0</td>\n",
       "      <td>0</td>\n",
       "      <td>1</td>\n",
       "      <td>1</td>\n",
       "      <td>0</td>\n",
       "      <td>0</td>\n",
       "      <td>0</td>\n",
       "      <td>0</td>\n",
       "      <td>0</td>\n",
       "      <td>1</td>\n",
       "      <td>3</td>\n",
       "      <td>53.85</td>\n",
       "      <td>108.15</td>\n",
       "      <td>1</td>\n",
       "    </tr>\n",
       "    <tr>\n",
       "      <th>4</th>\n",
       "      <td>0</td>\n",
       "      <td>0</td>\n",
       "      <td>0</td>\n",
       "      <td>0</td>\n",
       "      <td>2</td>\n",
       "      <td>1</td>\n",
       "      <td>0</td>\n",
       "      <td>1</td>\n",
       "      <td>0</td>\n",
       "      <td>0</td>\n",
       "      <td>0</td>\n",
       "      <td>0</td>\n",
       "      <td>0</td>\n",
       "      <td>0</td>\n",
       "      <td>0</td>\n",
       "      <td>1</td>\n",
       "      <td>2</td>\n",
       "      <td>70.70</td>\n",
       "      <td>151.65</td>\n",
       "      <td>1</td>\n",
       "    </tr>\n",
       "    <tr>\n",
       "      <th>5</th>\n",
       "      <td>0</td>\n",
       "      <td>0</td>\n",
       "      <td>0</td>\n",
       "      <td>0</td>\n",
       "      <td>8</td>\n",
       "      <td>1</td>\n",
       "      <td>1</td>\n",
       "      <td>1</td>\n",
       "      <td>0</td>\n",
       "      <td>0</td>\n",
       "      <td>1</td>\n",
       "      <td>0</td>\n",
       "      <td>1</td>\n",
       "      <td>1</td>\n",
       "      <td>0</td>\n",
       "      <td>1</td>\n",
       "      <td>2</td>\n",
       "      <td>99.65</td>\n",
       "      <td>820.50</td>\n",
       "      <td>1</td>\n",
       "    </tr>\n",
       "    <tr>\n",
       "      <th>8</th>\n",
       "      <td>0</td>\n",
       "      <td>0</td>\n",
       "      <td>1</td>\n",
       "      <td>0</td>\n",
       "      <td>28</td>\n",
       "      <td>1</td>\n",
       "      <td>1</td>\n",
       "      <td>1</td>\n",
       "      <td>0</td>\n",
       "      <td>0</td>\n",
       "      <td>1</td>\n",
       "      <td>1</td>\n",
       "      <td>1</td>\n",
       "      <td>1</td>\n",
       "      <td>0</td>\n",
       "      <td>1</td>\n",
       "      <td>2</td>\n",
       "      <td>104.80</td>\n",
       "      <td>3046.05</td>\n",
       "      <td>1</td>\n",
       "    </tr>\n",
       "    <tr>\n",
       "      <th>13</th>\n",
       "      <td>1</td>\n",
       "      <td>0</td>\n",
       "      <td>0</td>\n",
       "      <td>0</td>\n",
       "      <td>49</td>\n",
       "      <td>1</td>\n",
       "      <td>1</td>\n",
       "      <td>1</td>\n",
       "      <td>0</td>\n",
       "      <td>1</td>\n",
       "      <td>1</td>\n",
       "      <td>0</td>\n",
       "      <td>1</td>\n",
       "      <td>1</td>\n",
       "      <td>0</td>\n",
       "      <td>1</td>\n",
       "      <td>0</td>\n",
       "      <td>103.70</td>\n",
       "      <td>5036.30</td>\n",
       "      <td>1</td>\n",
       "    </tr>\n",
       "  </tbody>\n",
       "</table>\n",
       "</div>"
      ],
      "text/plain": [
       "    gender  seniorcitizen  partner  ...  monthlycharges  totalcharges  churn\n",
       "2        1              0        0  ...           53.85        108.15      1\n",
       "4        0              0        0  ...           70.70        151.65      1\n",
       "5        0              0        0  ...           99.65        820.50      1\n",
       "8        0              0        1  ...          104.80       3046.05      1\n",
       "13       1              0        0  ...          103.70       5036.30      1\n",
       "\n",
       "[5 rows x 20 columns]"
      ]
     },
     "execution_count": 166,
     "metadata": {},
     "output_type": "execute_result"
    }
   ],
   "source": [
    "churnUser.head()"
   ]
  },
  {
   "cell_type": "code",
   "execution_count": 167,
   "id": "selected-humanity",
   "metadata": {
    "ExecuteTime": {
     "end_time": "2021-08-07T21:07:26.727285Z",
     "start_time": "2021-08-07T21:07:26.708332Z"
    }
   },
   "outputs": [
    {
     "data": {
      "text/plain": [
       "1    1400\n",
       "0     469\n",
       "Name: paperlessbilling, dtype: int64"
      ]
     },
     "execution_count": 167,
     "metadata": {},
     "output_type": "execute_result"
    }
   ],
   "source": [
    "churnUser.paperlessbilling.value_counts()"
   ]
  },
  {
   "cell_type": "code",
   "execution_count": 171,
   "id": "educational-lawrence",
   "metadata": {
    "ExecuteTime": {
     "end_time": "2021-08-07T21:08:58.450981Z",
     "start_time": "2021-08-07T21:08:58.437048Z"
    }
   },
   "outputs": [
    {
     "data": {
      "text/plain": [
       "Yes    2768\n",
       "No     2395\n",
       "Name: paperlessbilling, dtype: int64"
      ]
     },
     "execution_count": 171,
     "metadata": {},
     "output_type": "execute_result"
    }
   ],
   "source": [
    "retainUser.paperlessbilling.value_counts()"
   ]
  },
  {
   "cell_type": "code",
   "execution_count": 168,
   "id": "digital-disability",
   "metadata": {
    "ExecuteTime": {
     "end_time": "2021-08-07T21:07:27.609112Z",
     "start_time": "2021-08-07T21:07:27.595179Z"
    }
   },
   "outputs": [
    {
     "data": {
      "text/plain": [
       "2    1071\n",
       "3     308\n",
       "0     258\n",
       "1     232\n",
       "Name: paymentmethod, dtype: int64"
      ]
     },
     "execution_count": 168,
     "metadata": {},
     "output_type": "execute_result"
    }
   ],
   "source": [
    "churnUser.paymentmethod.value_counts()"
   ]
  },
  {
   "cell_type": "code",
   "execution_count": 172,
   "id": "scheduled-crest",
   "metadata": {
    "ExecuteTime": {
     "end_time": "2021-08-07T21:10:10.922476Z",
     "start_time": "2021-08-07T21:10:10.903555Z"
    }
   },
   "outputs": [
    {
     "data": {
      "text/plain": [
       "Mailed check                 1296\n",
       "Electronic check             1294\n",
       "Credit card (automatic)      1289\n",
       "Bank transfer (automatic)    1284\n",
       "Name: paymentmethod, dtype: int64"
      ]
     },
     "execution_count": 172,
     "metadata": {},
     "output_type": "execute_result"
    }
   ],
   "source": [
    "retainUser.paymentmethod.value_counts()"
   ]
  },
  {
   "cell_type": "code",
   "execution_count": 169,
   "id": "amber-encoding",
   "metadata": {
    "ExecuteTime": {
     "end_time": "2021-08-07T21:07:34.856341Z",
     "start_time": "2021-08-07T21:07:34.846369Z"
    }
   },
   "outputs": [
    {
     "data": {
      "text/plain": [
       "0    1655\n",
       "1     166\n",
       "2      48\n",
       "Name: contract, dtype: int64"
      ]
     },
     "execution_count": 169,
     "metadata": {},
     "output_type": "execute_result"
    }
   ],
   "source": [
    "churnUser.contract.value_counts()"
   ]
  },
  {
   "cell_type": "code",
   "execution_count": 173,
   "id": "equal-geneva",
   "metadata": {
    "ExecuteTime": {
     "end_time": "2021-08-07T21:10:47.410121Z",
     "start_time": "2021-08-07T21:10:47.403169Z"
    }
   },
   "outputs": [
    {
     "data": {
      "text/plain": [
       "Month-to-month    2220\n",
       "Two year          1637\n",
       "One year          1306\n",
       "Name: contract, dtype: int64"
      ]
     },
     "execution_count": 173,
     "metadata": {},
     "output_type": "execute_result"
    }
   ],
   "source": [
    "retainUser.contract.value_counts()"
   ]
  },
  {
   "cell_type": "code",
   "execution_count": 158,
   "id": "reliable-buddy",
   "metadata": {
    "ExecuteTime": {
     "end_time": "2021-08-07T20:54:32.394529Z",
     "start_time": "2021-08-07T20:54:32.385580Z"
    }
   },
   "outputs": [
    {
     "data": {
      "text/plain": [
       "0    1051\n",
       "1     818\n",
       "Name: streamingmovies, dtype: int64"
      ]
     },
     "execution_count": 158,
     "metadata": {},
     "output_type": "execute_result"
    }
   ],
   "source": [
    "churnUser.streamingmovies.value_counts()"
   ]
  },
  {
   "cell_type": "code",
   "execution_count": 174,
   "id": "secondary-atlas",
   "metadata": {
    "ExecuteTime": {
     "end_time": "2021-08-07T21:11:20.538271Z",
     "start_time": "2021-08-07T21:11:20.523280Z"
    }
   },
   "outputs": [
    {
     "data": {
      "text/plain": [
       "Yes                    1913\n",
       "No                     1843\n",
       "No internet service    1407\n",
       "Name: streamingmovies, dtype: int64"
      ]
     },
     "execution_count": 174,
     "metadata": {},
     "output_type": "execute_result"
    }
   ],
   "source": [
    "retainUser.streamingmovies.value_counts()"
   ]
  },
  {
   "cell_type": "code",
   "execution_count": 145,
   "id": "operating-onion",
   "metadata": {
    "ExecuteTime": {
     "end_time": "2021-08-07T20:51:42.373425Z",
     "start_time": "2021-08-07T20:51:42.364439Z"
    }
   },
   "outputs": [
    {
     "data": {
      "text/plain": [
       "0    1055\n",
       "1     814\n",
       "Name: streamingtv, dtype: int64"
      ]
     },
     "execution_count": 145,
     "metadata": {},
     "output_type": "execute_result"
    }
   ],
   "source": [
    "churnUser.streamingtv.value_counts()"
   ]
  },
  {
   "cell_type": "code",
   "execution_count": 175,
   "id": "rural-watts",
   "metadata": {
    "ExecuteTime": {
     "end_time": "2021-08-07T21:11:57.966546Z",
     "start_time": "2021-08-07T21:11:57.957544Z"
    }
   },
   "outputs": [
    {
     "data": {
      "text/plain": [
       "Yes                    1889\n",
       "No                     1867\n",
       "No internet service    1407\n",
       "Name: streamingtv, dtype: int64"
      ]
     },
     "execution_count": 175,
     "metadata": {},
     "output_type": "execute_result"
    }
   ],
   "source": [
    "retainUser.streamingtv.value_counts()"
   ]
  },
  {
   "cell_type": "code",
   "execution_count": 146,
   "id": "cutting-copyright",
   "metadata": {
    "ExecuteTime": {
     "end_time": "2021-08-07T20:51:45.469398Z",
     "start_time": "2021-08-07T20:51:45.463443Z"
    }
   },
   "outputs": [
    {
     "data": {
      "text/plain": [
       "0    1559\n",
       "1     310\n",
       "Name: techsupport, dtype: int64"
      ]
     },
     "execution_count": 146,
     "metadata": {},
     "output_type": "execute_result"
    }
   ],
   "source": [
    "churnUser.techsupport.value_counts()"
   ]
  },
  {
   "cell_type": "code",
   "execution_count": 176,
   "id": "completed-reader",
   "metadata": {
    "ExecuteTime": {
     "end_time": "2021-08-07T21:13:13.680302Z",
     "start_time": "2021-08-07T21:13:13.660362Z"
    }
   },
   "outputs": [
    {
     "data": {
      "text/plain": [
       "No                     2026\n",
       "Yes                    1730\n",
       "No internet service    1407\n",
       "Name: techsupport, dtype: int64"
      ]
     },
     "execution_count": 176,
     "metadata": {},
     "output_type": "execute_result"
    }
   ],
   "source": [
    "retainUser.techsupport.value_counts()"
   ]
  },
  {
   "cell_type": "code",
   "execution_count": 147,
   "id": "unknown-premiere",
   "metadata": {
    "ExecuteTime": {
     "end_time": "2021-08-07T20:51:46.253147Z",
     "start_time": "2021-08-07T20:51:46.235168Z"
    }
   },
   "outputs": [
    {
     "data": {
      "text/plain": [
       "0    1324\n",
       "1     545\n",
       "Name: deviceprotection, dtype: int64"
      ]
     },
     "execution_count": 147,
     "metadata": {},
     "output_type": "execute_result"
    }
   ],
   "source": [
    "churnUser.deviceprotection.value_counts()"
   ]
  },
  {
   "cell_type": "code",
   "execution_count": 177,
   "id": "thorough-entertainment",
   "metadata": {
    "ExecuteTime": {
     "end_time": "2021-08-07T21:13:36.132271Z",
     "start_time": "2021-08-07T21:13:36.117313Z"
    }
   },
   "outputs": [
    {
     "data": {
      "text/plain": [
       "No                     1883\n",
       "Yes                    1873\n",
       "No internet service    1407\n",
       "Name: deviceprotection, dtype: int64"
      ]
     },
     "execution_count": 177,
     "metadata": {},
     "output_type": "execute_result"
    }
   ],
   "source": [
    "retainUser.deviceprotection.value_counts()"
   ]
  },
  {
   "cell_type": "code",
   "execution_count": 156,
   "id": "hearing-muslim",
   "metadata": {
    "ExecuteTime": {
     "end_time": "2021-08-07T20:53:47.152188Z",
     "start_time": "2021-08-07T20:53:47.146204Z"
    }
   },
   "outputs": [
    {
     "data": {
      "text/plain": [
       "0    1346\n",
       "1     523\n",
       "Name: onlinebackup, dtype: int64"
      ]
     },
     "execution_count": 156,
     "metadata": {},
     "output_type": "execute_result"
    }
   ],
   "source": [
    "churnUser.onlinebackup.value_counts()"
   ]
  },
  {
   "cell_type": "code",
   "execution_count": 178,
   "id": "bigger-socket",
   "metadata": {
    "ExecuteTime": {
     "end_time": "2021-08-07T21:14:10.548237Z",
     "start_time": "2021-08-07T21:14:10.530315Z"
    }
   },
   "outputs": [
    {
     "data": {
      "text/plain": [
       "Yes                    1902\n",
       "No                     1854\n",
       "No internet service    1407\n",
       "Name: onlinebackup, dtype: int64"
      ]
     },
     "execution_count": 178,
     "metadata": {},
     "output_type": "execute_result"
    }
   ],
   "source": [
    "retainUser.onlinebackup.value_counts()"
   ]
  },
  {
   "cell_type": "code",
   "execution_count": 149,
   "id": "confident-andrews",
   "metadata": {
    "ExecuteTime": {
     "end_time": "2021-08-07T20:51:53.804362Z",
     "start_time": "2021-08-07T20:51:53.795386Z"
    }
   },
   "outputs": [
    {
     "data": {
      "text/plain": [
       "0    1574\n",
       "1     295\n",
       "Name: onlinesecurity, dtype: int64"
      ]
     },
     "execution_count": 149,
     "metadata": {},
     "output_type": "execute_result"
    }
   ],
   "source": [
    "churnUser.onlinesecurity.value_counts()"
   ]
  },
  {
   "cell_type": "code",
   "execution_count": 157,
   "id": "aerial-handle",
   "metadata": {
    "ExecuteTime": {
     "end_time": "2021-08-07T20:53:53.299385Z",
     "start_time": "2021-08-07T20:53:53.288416Z"
    }
   },
   "outputs": [
    {
     "data": {
      "text/plain": [
       "0    1019\n",
       "1     850\n",
       "Name: multiplelines, dtype: int64"
      ]
     },
     "execution_count": 157,
     "metadata": {},
     "output_type": "execute_result"
    }
   ],
   "source": [
    "churnUser.multiplelines.value_counts()"
   ]
  },
  {
   "cell_type": "code",
   "execution_count": 179,
   "id": "impressed-wrong",
   "metadata": {
    "ExecuteTime": {
     "end_time": "2021-08-07T21:14:54.444257Z",
     "start_time": "2021-08-07T21:14:54.436278Z"
    }
   },
   "outputs": [
    {
     "data": {
      "text/plain": [
       "No                  2536\n",
       "Yes                 2117\n",
       "No phone service     510\n",
       "Name: multiplelines, dtype: int64"
      ]
     },
     "execution_count": 179,
     "metadata": {},
     "output_type": "execute_result"
    }
   ],
   "source": [
    "retainUser.multiplelines.value_counts()"
   ]
  },
  {
   "cell_type": "code",
   "execution_count": 151,
   "id": "cardiovascular-powder",
   "metadata": {
    "ExecuteTime": {
     "end_time": "2021-08-07T20:51:57.611566Z",
     "start_time": "2021-08-07T20:51:57.598572Z"
    }
   },
   "outputs": [
    {
     "data": {
      "text/plain": [
       "Fiber    1297\n",
       "DSL       459\n",
       "No        113\n",
       "Name: internetservice, dtype: int64"
      ]
     },
     "execution_count": 151,
     "metadata": {},
     "output_type": "execute_result"
    }
   ],
   "source": [
    "churnUser.internetservice.value_counts()"
   ]
  },
  {
   "cell_type": "code",
   "execution_count": 180,
   "id": "wooden-naples",
   "metadata": {
    "ExecuteTime": {
     "end_time": "2021-08-07T21:15:14.646251Z",
     "start_time": "2021-08-07T21:15:14.635252Z"
    }
   },
   "outputs": [
    {
     "data": {
      "text/plain": [
       "DSL            1957\n",
       "Fiber optic    1799\n",
       "No             1407\n",
       "Name: internetservice, dtype: int64"
      ]
     },
     "execution_count": 180,
     "metadata": {},
     "output_type": "execute_result"
    }
   ],
   "source": [
    "retainUser.internetservice.value_counts()"
   ]
  },
  {
   "cell_type": "code",
   "execution_count": 152,
   "id": "faced-execution",
   "metadata": {
    "ExecuteTime": {
     "end_time": "2021-08-07T20:52:00.418101Z",
     "start_time": "2021-08-07T20:52:00.401150Z"
    }
   },
   "outputs": [
    {
     "data": {
      "text/plain": [
       "1    1699\n",
       "0     170\n",
       "Name: phoneservice, dtype: int64"
      ]
     },
     "execution_count": 152,
     "metadata": {},
     "output_type": "execute_result"
    }
   ],
   "source": [
    "churnUser.phoneservice.value_counts()"
   ]
  },
  {
   "cell_type": "code",
   "execution_count": 181,
   "id": "incorrect-nutrition",
   "metadata": {
    "ExecuteTime": {
     "end_time": "2021-08-07T21:15:58.671441Z",
     "start_time": "2021-08-07T21:15:58.655489Z"
    }
   },
   "outputs": [
    {
     "data": {
      "text/plain": [
       "Yes    4653\n",
       "No      510\n",
       "Name: phoneservice, dtype: int64"
      ]
     },
     "execution_count": 181,
     "metadata": {},
     "output_type": "execute_result"
    }
   ],
   "source": [
    "retainUser.phoneservice.value_counts()"
   ]
  },
  {
   "cell_type": "code",
   "execution_count": 153,
   "id": "adjacent-contributor",
   "metadata": {
    "ExecuteTime": {
     "end_time": "2021-08-07T20:52:01.048924Z",
     "start_time": "2021-08-07T20:52:01.036957Z"
    }
   },
   "outputs": [
    {
     "data": {
      "text/plain": [
       "0    939\n",
       "1    930\n",
       "Name: gender, dtype: int64"
      ]
     },
     "execution_count": 153,
     "metadata": {},
     "output_type": "execute_result"
    }
   ],
   "source": [
    "churnUser.gender.value_counts()"
   ]
  },
  {
   "cell_type": "code",
   "execution_count": 106,
   "id": "colonial-individual",
   "metadata": {
    "ExecuteTime": {
     "end_time": "2021-08-07T20:37:32.399383Z",
     "start_time": "2021-08-07T20:37:32.387444Z"
    }
   },
   "outputs": [
    {
     "data": {
      "text/plain": [
       "0    1393\n",
       "1     476\n",
       "Name: seniorcitizen, dtype: int64"
      ]
     },
     "execution_count": 106,
     "metadata": {},
     "output_type": "execute_result"
    }
   ],
   "source": [
    "churnUser.seniorcitizen.value_counts()"
   ]
  },
  {
   "cell_type": "code",
   "execution_count": 182,
   "id": "packed-miniature",
   "metadata": {
    "ExecuteTime": {
     "end_time": "2021-08-07T21:16:43.980281Z",
     "start_time": "2021-08-07T21:16:43.966318Z"
    }
   },
   "outputs": [
    {
     "data": {
      "text/plain": [
       "0    4497\n",
       "1     666\n",
       "Name: seniorcitizen, dtype: int64"
      ]
     },
     "execution_count": 182,
     "metadata": {},
     "output_type": "execute_result"
    }
   ],
   "source": [
    "retainUser.seniorcitizen.value_counts()"
   ]
  },
  {
   "cell_type": "code",
   "execution_count": 107,
   "id": "vanilla-cartridge",
   "metadata": {
    "ExecuteTime": {
     "end_time": "2021-08-07T20:37:41.466478Z",
     "start_time": "2021-08-07T20:37:41.454511Z"
    }
   },
   "outputs": [
    {
     "data": {
      "text/plain": [
       "0    1200\n",
       "1     669\n",
       "Name: partner, dtype: int64"
      ]
     },
     "execution_count": 107,
     "metadata": {},
     "output_type": "execute_result"
    }
   ],
   "source": [
    "churnUser.partner.value_counts()"
   ]
  },
  {
   "cell_type": "code",
   "execution_count": 183,
   "id": "sitting-obligation",
   "metadata": {
    "ExecuteTime": {
     "end_time": "2021-08-07T21:16:58.874234Z",
     "start_time": "2021-08-07T21:16:58.854277Z"
    }
   },
   "outputs": [
    {
     "data": {
      "text/plain": [
       "Yes    2724\n",
       "No     2439\n",
       "Name: partner, dtype: int64"
      ]
     },
     "execution_count": 183,
     "metadata": {},
     "output_type": "execute_result"
    }
   ],
   "source": [
    "retainUser.partner.value_counts()"
   ]
  },
  {
   "cell_type": "code",
   "execution_count": 184,
   "id": "sunrise-dining",
   "metadata": {
    "ExecuteTime": {
     "end_time": "2021-08-07T21:17:38.631718Z",
     "start_time": "2021-08-07T21:17:38.612746Z"
    }
   },
   "outputs": [
    {
     "data": {
      "text/plain": [
       "72    356\n",
       "1     233\n",
       "71    164\n",
       "2     115\n",
       "70    108\n",
       "3     106\n",
       "4      93\n",
       "68     91\n",
       "67     88\n",
       "69     87\n",
       "Name: tenure, dtype: int64"
      ]
     },
     "execution_count": 184,
     "metadata": {},
     "output_type": "execute_result"
    }
   ],
   "source": [
    "retainUser.tenure.value_counts()[:10]"
   ]
  },
  {
   "cell_type": "code",
   "execution_count": 185,
   "id": "vital-tokyo",
   "metadata": {
    "ExecuteTime": {
     "end_time": "2021-08-07T21:18:00.912884Z",
     "start_time": "2021-08-07T21:18:00.902919Z"
    }
   },
   "outputs": [
    {
     "data": {
      "text/plain": [
       "1     380\n",
       "2     123\n",
       "3      94\n",
       "4      83\n",
       "5      64\n",
       "7      51\n",
       "9      46\n",
       "10     45\n",
       "8      42\n",
       "6      40\n",
       "Name: tenure, dtype: int64"
      ]
     },
     "execution_count": 185,
     "metadata": {},
     "output_type": "execute_result"
    }
   ],
   "source": [
    "churnUser.tenure.value_counts()[:10]"
   ]
  },
  {
   "cell_type": "code",
   "execution_count": 86,
   "id": "reported-leisure",
   "metadata": {
    "ExecuteTime": {
     "end_time": "2021-08-07T20:22:04.754575Z",
     "start_time": "2021-08-07T20:22:02.497730Z"
    }
   },
   "outputs": [
    {
     "data": {
      "application/javascript": [
       "\n",
       "        if (window._pyforest_update_imports_cell) { window._pyforest_update_imports_cell('import pandas as pd\\nfrom PIL import Image\\nimport seaborn as sns\\nfrom sklearn.preprocessing import LabelEncoder'); }\n",
       "    "
      ],
      "text/plain": [
       "<IPython.core.display.Javascript object>"
      ]
     },
     "metadata": {},
     "output_type": "display_data"
    },
    {
     "data": {
      "application/javascript": [
       "\n",
       "        if (window._pyforest_update_imports_cell) { window._pyforest_update_imports_cell('import pandas as pd\\nfrom PIL import Image\\nimport seaborn as sns\\nfrom sklearn.preprocessing import LabelEncoder'); }\n",
       "    "
      ],
      "text/plain": [
       "<IPython.core.display.Javascript object>"
      ]
     },
     "metadata": {},
     "output_type": "display_data"
    },
    {
     "name": "stderr",
     "output_type": "stream",
     "text": [
      "F:\\Anaconda3\\lib\\site-packages\\seaborn\\_decorators.py:36: FutureWarning: Pass the following variable as a keyword arg: x. From version 0.12, the only valid positional argument will be `data`, and passing other arguments without an explicit keyword will result in an error or misinterpretation.\n",
      "  warnings.warn(\n"
     ]
    },
    {
     "data": {
      "text/plain": [
       "<AxesSubplot:xlabel='tenure', ylabel='count'>"
      ]
     },
     "execution_count": 86,
     "metadata": {},
     "output_type": "execute_result"
    },
    {
     "data": {
      "image/png": "[encoded data removed]",
      "text/plain": [
       "<Figure size 1202.4x595.44 with 1 Axes>"
      ]
     },
     "metadata": {},
     "output_type": "display_data"
    }
   ],
   "source": [
    "sns.set(rc={'figure.figsize':(16.7,8.27)})\n",
    "sns.countplot(churnUser.tenure)"
   ]
  },
  {
   "cell_type": "code",
   "execution_count": 84,
   "id": "latter-retreat",
   "metadata": {
    "ExecuteTime": {
     "end_time": "2021-08-07T20:20:28.198946Z",
     "start_time": "2021-08-07T20:20:28.003745Z"
    }
   },
   "outputs": [
    {
     "data": {
      "application/javascript": [
       "\n",
       "        if (window._pyforest_update_imports_cell) { window._pyforest_update_imports_cell('import pandas as pd\\nfrom PIL import Image\\nimport seaborn as sns\\nfrom sklearn.preprocessing import LabelEncoder'); }\n",
       "    "
      ],
      "text/plain": [
       "<IPython.core.display.Javascript object>"
      ]
     },
     "metadata": {},
     "output_type": "display_data"
    },
    {
     "data": {
      "text/plain": [
       "<AxesSubplot:xlabel='tenure', ylabel='Count'>"
      ]
     },
     "execution_count": 84,
     "metadata": {},
     "output_type": "execute_result"
    },
    {
     "data": {
      "image/png": "[encoded data removed]",
      "text/plain": [
       "<Figure size 842.4x595.44 with 1 Axes>"
      ]
     },
     "metadata": {},
     "output_type": "display_data"
    }
   ],
   "source": [
    "sns.histplot(churnUser.tenure)"
   ]
  },
  {
   "cell_type": "code",
   "execution_count": null,
   "id": "intended-donor",
   "metadata": {},
   "outputs": [],
   "source": []
  },
  {
   "cell_type": "code",
   "execution_count": 97,
   "id": "prompt-rebate",
   "metadata": {
    "ExecuteTime": {
     "end_time": "2021-08-07T20:32:30.691655Z",
     "start_time": "2021-08-07T20:32:30.684645Z"
    }
   },
   "outputs": [
    {
     "data": {
      "text/plain": [
       "Month-to-month    1655\n",
       "One year           166\n",
       "Two year            48\n",
       "Name: contract, dtype: int64"
      ]
     },
     "execution_count": 97,
     "metadata": {},
     "output_type": "execute_result"
    }
   ],
   "source": [
    "churnUser.contract.value_counts()"
   ]
  },
  {
   "cell_type": "code",
   "execution_count": 89,
   "id": "greek-netscape",
   "metadata": {
    "ExecuteTime": {
     "end_time": "2021-08-07T20:25:25.322385Z",
     "start_time": "2021-08-07T20:25:25.141304Z"
    }
   },
   "outputs": [
    {
     "data": {
      "application/javascript": [
       "\n",
       "        if (window._pyforest_update_imports_cell) { window._pyforest_update_imports_cell('import pandas as pd\\nfrom PIL import Image\\nimport seaborn as sns\\nfrom sklearn.preprocessing import LabelEncoder'); }\n",
       "    "
      ],
      "text/plain": [
       "<IPython.core.display.Javascript object>"
      ]
     },
     "metadata": {},
     "output_type": "display_data"
    },
    {
     "data": {
      "text/plain": [
       "<AxesSubplot:xlabel='tenure', ylabel='monthlycharges'>"
      ]
     },
     "execution_count": 89,
     "metadata": {},
     "output_type": "execute_result"
    },
    {
     "data": {
      "image/png": "[encoded data removed]",
      "text/plain": [
       "<Figure size 1202.4x595.44 with 1 Axes>"
      ]
     },
     "metadata": {},
     "output_type": "display_data"
    }
   ],
   "source": [
    "sns.scatterplot(x=churnUser.tenure, y=churnUser.monthlycharges)"
   ]
  },
  {
   "cell_type": "code",
   "execution_count": 95,
   "id": "fitted-triple",
   "metadata": {
    "ExecuteTime": {
     "end_time": "2021-08-07T20:29:57.347600Z",
     "start_time": "2021-08-07T20:29:57.340649Z"
    }
   },
   "outputs": [
    {
     "data": {
      "text/plain": [
       "Month-to-month    694\n",
       "One year          159\n",
       "Two year           48\n",
       "Name: contract, dtype: int64"
      ]
     },
     "execution_count": 95,
     "metadata": {},
     "output_type": "execute_result"
    }
   ],
   "source": [
    "churnUser[churnUser.tenure > 10].contract.value_counts()"
   ]
  },
  {
   "cell_type": "code",
   "execution_count": 93,
   "id": "bibliographic-guitar",
   "metadata": {
    "ExecuteTime": {
     "end_time": "2021-08-07T20:28:30.783697Z",
     "start_time": "2021-08-07T20:28:30.603629Z"
    }
   },
   "outputs": [
    {
     "data": {
      "application/javascript": [
       "\n",
       "        if (window._pyforest_update_imports_cell) { window._pyforest_update_imports_cell('import pandas as pd\\nfrom PIL import Image\\nimport seaborn as sns\\nfrom sklearn.preprocessing import LabelEncoder'); }\n",
       "    "
      ],
      "text/plain": [
       "<IPython.core.display.Javascript object>"
      ]
     },
     "metadata": {},
     "output_type": "display_data"
    },
    {
     "data": {
      "text/plain": [
       "<AxesSubplot:xlabel='tenure', ylabel='totalcharges'>"
      ]
     },
     "execution_count": 93,
     "metadata": {},
     "output_type": "execute_result"
    },
    {
     "data": {
      "image/png": "[encoded data removed]",
      "text/plain": [
       "<Figure size 1202.4x595.44 with 1 Axes>"
      ]
     },
     "metadata": {},
     "output_type": "display_data"
    }
   ],
   "source": [
    "sns.scatterplot(x=churnUser.tenure, y=churnUser.totalcharges)"
   ]
  },
  {
   "cell_type": "code",
   "execution_count": null,
   "id": "stuffed-screening",
   "metadata": {},
   "outputs": [],
   "source": []
  }
 ],
 "metadata": {
  "kernelspec": {
   "display_name": "Python 3",
   "language": "python",
   "name": "python3"
  },
  "language_info": {
   "codemirror_mode": {
    "name": "ipython",
    "version": 3
   },
   "file_extension": ".py",
   "mimetype": "text/x-python",
   "name": "python",
   "nbconvert_exporter": "python",
   "pygments_lexer": "ipython3",
   "version": "3.8.10"
  },
  "varInspector": {
   "cols": {
    "lenName": 16,
    "lenType": 16,
    "lenVar": 40
   },
   "kernels_config": {
    "python": {
     "delete_cmd_postfix": "",
     "delete_cmd_prefix": "del ",
     "library": "var_list.py",
     "varRefreshCmd": "print(var_dic_list())"
    },
    "r": {
     "delete_cmd_postfix": ") ",
     "delete_cmd_prefix": "rm(",
     "library": "var_list.r",
     "varRefreshCmd": "cat(var_dic_list()) "
    }
   },
   "types_to_exclude": [
    "module",
    "function",
    "builtin_function_or_method",
    "instance",
    "_Feature"
   ],
   "window_display": false
  }
 },
 "nbformat": 4,
 "nbformat_minor": 5
}
