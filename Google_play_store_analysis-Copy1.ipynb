{
 "cells": [
  {
   "cell_type": "code",
   "execution_count": 1,
   "metadata": {
    "ExecuteTime": {
     "end_time": "2020-04-17T08:52:04.954651Z",
     "start_time": "2020-04-17T08:52:04.876651Z"
    }
   },
   "outputs": [],
   "source": [
    "%config Completer.use_jedi = False"
   ]
  },
  {
   "cell_type": "code",
   "execution_count": 2,
   "metadata": {
    "ExecuteTime": {
     "end_time": "2020-04-17T08:52:05.126251Z",
     "start_time": "2020-04-17T08:52:04.954651Z"
    },
    "code_folding": [
     0
    ]
   },
   "outputs": [
    {
     "data": {
      "text/html": [
       "<script>\n",
       "    // AUTORUN ALL CELLS ON NOTEBOOK-LOAD!\n",
       "    require(\n",
       "        ['base/js/namespace', 'jquery'], \n",
       "        function(jupyter, $) {\n",
       "            $(jupyter.events).on(\"kernel_ready.Kernel\", function () {\n",
       "                console.log(\"Auto-running all cells-below...\");\n",
       "                jupyter.actions.call('jupyter-notebook:run-all-cells-below');\n",
       "                jupyter.actions.call('jupyter-notebook:save-notebook');\n",
       "            });\n",
       "        }\n",
       "    );\n",
       "</script>\n"
      ],
      "text/plain": [
       "<IPython.core.display.HTML object>"
      ]
     },
     "metadata": {},
     "output_type": "display_data"
    }
   ],
   "source": [
    "%%html\n",
    "<script>\n",
    "    // AUTORUN ALL CELLS ON NOTEBOOK-LOAD!\n",
    "    require(\n",
    "        ['base/js/namespace', 'jquery'], \n",
    "        function(jupyter, $) {\n",
    "            $(jupyter.events).on(\"kernel_ready.Kernel\", function () {\n",
    "                console.log(\"Auto-running all cells-below...\");\n",
    "                jupyter.actions.call('jupyter-notebook:run-all-cells-below');\n",
    "                jupyter.actions.call('jupyter-notebook:save-notebook');\n",
    "            });\n",
    "        }\n",
    "    );\n",
    "</script>"
   ]
  },
  {
   "cell_type": "code",
   "execution_count": 3,
   "metadata": {
    "ExecuteTime": {
     "end_time": "2020-04-17T08:52:06.889054Z",
     "start_time": "2020-04-17T08:52:05.126251Z"
    }
   },
   "outputs": [],
   "source": [
    "import pandas as pd"
   ]
  },
  {
   "cell_type": "code",
   "execution_count": 4,
   "metadata": {
    "ExecuteTime": {
     "end_time": "2020-04-17T08:52:06.920255Z",
     "start_time": "2020-04-17T08:52:06.889054Z"
    }
   },
   "outputs": [],
   "source": [
    "pd.set_option('display.max_rows', 50)\n",
    "pd.set_option('display.max_columns', 50)\n",
    "pd.set_option('display.width', 1000)"
   ]
  },
  {
   "cell_type": "code",
   "execution_count": 5,
   "metadata": {
    "ExecuteTime": {
     "end_time": "2020-04-17T08:52:07.123055Z",
     "start_time": "2020-04-17T08:52:06.920255Z"
    }
   },
   "outputs": [],
   "source": [
    "df = pd.read_csv('./datalab/googleplaystore.csv', nrows= 2000)"
   ]
  },
  {
   "cell_type": "code",
   "execution_count": 6,
   "metadata": {
    "ExecuteTime": {
     "end_time": "2020-04-17T08:52:07.232255Z",
     "start_time": "2020-04-17T08:52:07.123055Z"
    }
   },
   "outputs": [],
   "source": [
    "# df.head(8)"
   ]
  },
  {
   "cell_type": "code",
   "execution_count": 7,
   "metadata": {
    "ExecuteTime": {
     "end_time": "2020-04-17T08:52:07.325855Z",
     "start_time": "2020-04-17T08:52:07.232255Z"
    }
   },
   "outputs": [],
   "source": [
    "# df.info()"
   ]
  },
  {
   "cell_type": "code",
   "execution_count": 8,
   "metadata": {
    "ExecuteTime": {
     "end_time": "2020-04-17T08:52:07.450655Z",
     "start_time": "2020-04-17T08:52:07.325855Z"
    }
   },
   "outputs": [],
   "source": [
    "# df.isna().sum()"
   ]
  },
  {
   "cell_type": "code",
   "execution_count": 9,
   "metadata": {
    "ExecuteTime": {
     "end_time": "2020-04-17T08:52:07.559856Z",
     "start_time": "2020-04-17T08:52:07.450655Z"
    }
   },
   "outputs": [],
   "source": [
    "df.columns = [each.lower() for each in df.columns]"
   ]
  },
  {
   "cell_type": "code",
   "execution_count": 10,
   "metadata": {
    "ExecuteTime": {
     "end_time": "2020-04-17T08:52:07.700256Z",
     "start_time": "2020-04-17T08:52:07.559856Z"
    }
   },
   "outputs": [],
   "source": [
    "df['rating'].fillna(0, inplace=True)"
   ]
  },
  {
   "cell_type": "code",
   "execution_count": 11,
   "metadata": {
    "ExecuteTime": {
     "end_time": "2020-04-17T08:52:07.809456Z",
     "start_time": "2020-04-17T08:52:07.700256Z"
    }
   },
   "outputs": [],
   "source": [
    "df = df.drop(axis=0, columns=['current ver', 'android ver', 'app', 'genres', 'last updated'])"
   ]
  },
  {
   "cell_type": "code",
   "execution_count": 12,
   "metadata": {
    "ExecuteTime": {
     "end_time": "2020-04-17T08:52:07.996656Z",
     "start_time": "2020-04-17T08:52:07.809456Z"
    }
   },
   "outputs": [],
   "source": [
    "# df.columns = [each.replace(\" \",\"_\") if(len(each.split())>1) else each for each in df.columns]"
   ]
  },
  {
   "cell_type": "code",
   "execution_count": 13,
   "metadata": {
    "ExecuteTime": {
     "end_time": "2020-04-17T08:52:08.137057Z",
     "start_time": "2020-04-17T08:52:07.996656Z"
    }
   },
   "outputs": [],
   "source": [
    "df['size'] = [ each.replace('M','') if 'M' in str(each) else each for each in df['size']]"
   ]
  },
  {
   "cell_type": "code",
   "execution_count": 14,
   "metadata": {
    "ExecuteTime": {
     "end_time": "2020-04-17T08:52:08.277457Z",
     "start_time": "2020-04-17T08:52:08.137057Z"
    }
   },
   "outputs": [],
   "source": [
    "df['size'] = [ each.replace('k','') if 'k' in str(each) else each for each in df['size']]"
   ]
  },
  {
   "cell_type": "code",
   "execution_count": 15,
   "metadata": {
    "ExecuteTime": {
     "end_time": "2020-04-17T08:52:08.371057Z",
     "start_time": "2020-04-17T08:52:08.293057Z"
    }
   },
   "outputs": [],
   "source": [
    "df['size'] = [ each.replace('Varies with device','0') if 'Varies with device' in str(each) else each for each in df['size']]"
   ]
  },
  {
   "cell_type": "code",
   "execution_count": 16,
   "metadata": {
    "ExecuteTime": {
     "end_time": "2020-04-17T08:52:08.527057Z",
     "start_time": "2020-04-17T08:52:08.371057Z"
    }
   },
   "outputs": [],
   "source": [
    "df['installs'] = df['installs'].apply(lambda x: x.replace('+',\"\") if '+' in x else x)"
   ]
  },
  {
   "cell_type": "code",
   "execution_count": 17,
   "metadata": {
    "ExecuteTime": {
     "end_time": "2020-04-17T08:52:08.651858Z",
     "start_time": "2020-04-17T08:52:08.527057Z"
    }
   },
   "outputs": [],
   "source": [
    "df['installs'] = df['installs'].apply(lambda x: x.replace(',',\"\") if ',' in x else x)"
   ]
  },
  {
   "cell_type": "code",
   "execution_count": 18,
   "metadata": {
    "ExecuteTime": {
     "end_time": "2020-04-17T08:52:08.776658Z",
     "start_time": "2020-04-17T08:52:08.651858Z"
    }
   },
   "outputs": [],
   "source": [
    "df['installs'] = df.installs.astype(float)"
   ]
  },
  {
   "cell_type": "code",
   "execution_count": 19,
   "metadata": {
    "ExecuteTime": {
     "end_time": "2020-04-17T08:52:08.901458Z",
     "start_time": "2020-04-17T08:52:08.792258Z"
    }
   },
   "outputs": [],
   "source": [
    "df['size'] = df['size'].astype(float)"
   ]
  },
  {
   "cell_type": "code",
   "execution_count": 20,
   "metadata": {
    "ExecuteTime": {
     "end_time": "2020-04-17T08:52:08.995058Z",
     "start_time": "2020-04-17T08:52:08.901458Z"
    }
   },
   "outputs": [],
   "source": [
    "# df.info(memory_usage='deep')"
   ]
  },
  {
   "cell_type": "code",
   "execution_count": 21,
   "metadata": {
    "ExecuteTime": {
     "end_time": "2020-04-17T08:52:09.119858Z",
     "start_time": "2020-04-17T08:52:08.995058Z"
    }
   },
   "outputs": [],
   "source": [
    "# df.installs = df.installs.astype(int)"
   ]
  },
  {
   "cell_type": "code",
   "execution_count": 22,
   "metadata": {
    "ExecuteTime": {
     "end_time": "2020-04-17T08:52:09.244659Z",
     "start_time": "2020-04-17T08:52:09.119858Z"
    }
   },
   "outputs": [],
   "source": [
    "# df.reviews = df.reviews.astype(int)"
   ]
  },
  {
   "cell_type": "code",
   "execution_count": 23,
   "metadata": {
    "ExecuteTime": {
     "end_time": "2020-04-17T08:52:09.369459Z",
     "start_time": "2020-04-17T08:52:09.260259Z"
    }
   },
   "outputs": [],
   "source": [
    "df.price = df['price'].apply(lambda x : x.replace('$', '') if '$' in str(x) else str(x) )"
   ]
  },
  {
   "cell_type": "code",
   "execution_count": 24,
   "metadata": {
    "ExecuteTime": {
     "end_time": "2020-04-17T08:52:09.494259Z",
     "start_time": "2020-04-17T08:52:09.369459Z"
    }
   },
   "outputs": [],
   "source": [
    "df.price = df.price.astype(float)"
   ]
  },
  {
   "cell_type": "code",
   "execution_count": 25,
   "metadata": {
    "ExecuteTime": {
     "end_time": "2020-04-17T08:52:09.634659Z",
     "start_time": "2020-04-17T08:52:09.494259Z"
    }
   },
   "outputs": [],
   "source": [
    "# df['category'].unique()"
   ]
  },
  {
   "cell_type": "code",
   "execution_count": 26,
   "metadata": {
    "ExecuteTime": {
     "end_time": "2020-04-17T08:52:09.743859Z",
     "start_time": "2020-04-17T08:52:09.634659Z"
    }
   },
   "outputs": [],
   "source": [
    "# df['type'].unique()"
   ]
  },
  {
   "cell_type": "code",
   "execution_count": 27,
   "metadata": {
    "ExecuteTime": {
     "end_time": "2020-04-17T08:52:10.040260Z",
     "start_time": "2020-04-17T08:52:09.743859Z"
    }
   },
   "outputs": [],
   "source": [
    "# df['content rating'].unique()"
   ]
  },
  {
   "cell_type": "code",
   "execution_count": 28,
   "metadata": {
    "ExecuteTime": {
     "end_time": "2020-04-17T08:52:10.149460Z",
     "start_time": "2020-04-17T08:52:10.040260Z"
    }
   },
   "outputs": [],
   "source": [
    "df['type'] = df.type.astype('category')"
   ]
  },
  {
   "cell_type": "code",
   "execution_count": 29,
   "metadata": {
    "ExecuteTime": {
     "end_time": "2020-04-17T08:52:10.258660Z",
     "start_time": "2020-04-17T08:52:10.149460Z"
    }
   },
   "outputs": [],
   "source": [
    "df['category'] = df['category'].astype('category')"
   ]
  },
  {
   "cell_type": "code",
   "execution_count": 30,
   "metadata": {
    "ExecuteTime": {
     "end_time": "2020-04-17T08:52:10.414661Z",
     "start_time": "2020-04-17T08:52:10.258660Z"
    }
   },
   "outputs": [],
   "source": [
    "df['content rating'] = df['content rating'].astype('category')"
   ]
  },
  {
   "cell_type": "code",
   "execution_count": 31,
   "metadata": {
    "ExecuteTime": {
     "end_time": "2020-04-17T08:52:10.555061Z",
     "start_time": "2020-04-17T08:52:10.414661Z"
    }
   },
   "outputs": [],
   "source": [
    "df.category = df.category.cat.codes"
   ]
  },
  {
   "cell_type": "code",
   "execution_count": 32,
   "metadata": {
    "ExecuteTime": {
     "end_time": "2020-04-17T08:52:10.664261Z",
     "start_time": "2020-04-17T08:52:10.555061Z"
    }
   },
   "outputs": [],
   "source": [
    "df.type = df.type.cat.codes"
   ]
  },
  {
   "cell_type": "code",
   "execution_count": 33,
   "metadata": {
    "ExecuteTime": {
     "end_time": "2020-04-17T08:52:10.804661Z",
     "start_time": "2020-04-17T08:52:10.664261Z"
    }
   },
   "outputs": [],
   "source": [
    "df['content rating'] = df['content rating'].cat.codes"
   ]
  },
  {
   "cell_type": "code",
   "execution_count": 34,
   "metadata": {
    "ExecuteTime": {
     "end_time": "2020-04-17T08:52:11.085462Z",
     "start_time": "2020-04-17T08:52:10.804661Z"
    }
   },
   "outputs": [],
   "source": [
    "df.to_csv('./datalab/googleplaystoreml.csv', index=False, header=True)"
   ]
  },
  {
   "cell_type": "code",
   "execution_count": 35,
   "metadata": {
    "ExecuteTime": {
     "end_time": "2020-04-17T08:52:11.116662Z",
     "start_time": "2020-04-17T08:52:11.085462Z"
    }
   },
   "outputs": [],
   "source": [
    "# df.describe()"
   ]
  },
  {
   "cell_type": "code",
   "execution_count": 36,
   "metadata": {
    "ExecuteTime": {
     "end_time": "2020-04-17T08:52:11.210262Z",
     "start_time": "2020-04-17T08:52:11.116662Z"
    }
   },
   "outputs": [],
   "source": [
    "# corr = df.corr()\n",
    "# ax = sns.heatmap(\n",
    "#     corr, \n",
    "#     vmin=-1, vmax=1, center=0,\n",
    "#     cmap=sns.diverging_palette(20, 220, n=200),\n",
    "#     square=True\n",
    "# )\n",
    "# ax.set_xticklabels(\n",
    "#     ax.get_xticklabels(),\n",
    "#     rotation=90,\n",
    "#     horizontalalignment='right'\n",
    "# );"
   ]
  },
  {
   "cell_type": "code",
   "execution_count": 37,
   "metadata": {
    "ExecuteTime": {
     "end_time": "2020-04-17T08:52:11.319462Z",
     "start_time": "2020-04-17T08:52:11.210262Z"
    }
   },
   "outputs": [
    {
     "data": {
      "text/plain": [
       "Index(['category', 'rating', 'reviews', 'size', 'installs', 'type', 'price', 'content rating'], dtype='object')"
      ]
     },
     "execution_count": 37,
     "metadata": {},
     "output_type": "execute_result"
    }
   ],
   "source": [
    "df.columns"
   ]
  },
  {
   "cell_type": "code",
   "execution_count": 38,
   "metadata": {
    "ExecuteTime": {
     "end_time": "2020-04-17T08:52:11.459862Z",
     "start_time": "2020-04-17T08:52:11.319462Z"
    }
   },
   "outputs": [],
   "source": [
    "model_ml = df[['category', 'type', 'price', 'size', 'installs', 'content rating', 'rating', 'reviews']]"
   ]
  },
  {
   "cell_type": "code",
   "execution_count": 39,
   "metadata": {
    "ExecuteTime": {
     "end_time": "2020-04-17T08:52:11.584663Z",
     "start_time": "2020-04-17T08:52:11.475463Z"
    }
   },
   "outputs": [],
   "source": [
    "# model_ml.head()"
   ]
  },
  {
   "cell_type": "code",
   "execution_count": 40,
   "metadata": {
    "ExecuteTime": {
     "end_time": "2020-04-17T08:52:11.740663Z",
     "start_time": "2020-04-17T08:52:11.584663Z"
    }
   },
   "outputs": [],
   "source": [
    "dummy_category = pd.get_dummies(model_ml['category'])"
   ]
  },
  {
   "cell_type": "code",
   "execution_count": 41,
   "metadata": {
    "ExecuteTime": {
     "end_time": "2020-04-17T08:52:11.896663Z",
     "start_time": "2020-04-17T08:52:11.771863Z"
    }
   },
   "outputs": [],
   "source": [
    "model_ml = pd.concat([model_ml, dummy_category], axis=1)"
   ]
  },
  {
   "cell_type": "code",
   "execution_count": 42,
   "metadata": {
    "ExecuteTime": {
     "end_time": "2020-04-17T08:52:12.005863Z",
     "start_time": "2020-04-17T08:52:11.896663Z"
    }
   },
   "outputs": [],
   "source": [
    "# model_ml.head().reset_index()"
   ]
  },
  {
   "cell_type": "code",
   "execution_count": 43,
   "metadata": {
    "ExecuteTime": {
     "end_time": "2020-04-17T08:52:12.130664Z",
     "start_time": "2020-04-17T08:52:12.005863Z"
    }
   },
   "outputs": [],
   "source": [
    "dummy_category = pd.get_dummies(model_ml['type'])\n",
    "model_ml = pd.concat([model_ml, dummy_category], axis=1)"
   ]
  },
  {
   "cell_type": "code",
   "execution_count": 44,
   "metadata": {
    "ExecuteTime": {
     "end_time": "2020-04-17T08:52:12.271064Z",
     "start_time": "2020-04-17T08:52:12.130664Z"
    }
   },
   "outputs": [],
   "source": [
    "dummy_category = pd.get_dummies(model_ml['content rating'])\n",
    "model_ml = pd.concat([model_ml, dummy_category], axis=1)"
   ]
  },
  {
   "cell_type": "code",
   "execution_count": 45,
   "metadata": {
    "ExecuteTime": {
     "end_time": "2020-04-17T08:52:12.427064Z",
     "start_time": "2020-04-17T08:52:12.271064Z"
    }
   },
   "outputs": [],
   "source": [
    "corr = model_ml.corr()"
   ]
  },
  {
   "cell_type": "code",
   "execution_count": 46,
   "metadata": {
    "ExecuteTime": {
     "end_time": "2020-04-17T08:52:16.654672Z",
     "start_time": "2020-04-17T08:52:12.427064Z"
    }
   },
   "outputs": [],
   "source": [
    "import seaborn as sns"
   ]
  },
  {
   "cell_type": "code",
   "execution_count": 47,
   "metadata": {
    "ExecuteTime": {
     "end_time": "2020-04-17T08:52:17.465873Z",
     "start_time": "2020-04-17T08:52:16.654672Z"
    }
   },
   "outputs": [
    {
     "ename": "KeyError",
     "evalue": "\"['BUSINESS', 'COMMUNICATION', 'EDUCATION', 'DATING', 'COMICS', 'Mature 17+', 'ART_AND_DESIGN', 'Everyone', 'BOOKS_AND_REFERENCE', 'Teen', 'AUTO_AND_VEHICLES', 'BEAUTY', 'Adults only 18+', 'Paid', 'Everyone 10+'] not in index\"",
     "output_type": "error",
     "traceback": [
      "\u001b[1;31m---------------------------------------------------------------------------\u001b[0m",
      "\u001b[1;31mKeyError\u001b[0m                                  Traceback (most recent call last)",
      "\u001b[1;32m<ipython-input-47-8613f9b6446b>\u001b[0m in \u001b[0;36m<module>\u001b[1;34m\u001b[0m\n\u001b[1;32m----> 1\u001b[1;33m \u001b[0mmodel_ml\u001b[0m \u001b[1;33m=\u001b[0m \u001b[0mmodel_ml\u001b[0m\u001b[1;33m[\u001b[0m\u001b[1;33m[\u001b[0m\u001b[1;34m'ART_AND_DESIGN'\u001b[0m\u001b[1;33m,\u001b[0m \u001b[1;34m'AUTO_AND_VEHICLES'\u001b[0m\u001b[1;33m,\u001b[0m \u001b[1;34m'BEAUTY'\u001b[0m\u001b[1;33m,\u001b[0m \u001b[1;34m'BOOKS_AND_REFERENCE'\u001b[0m\u001b[1;33m,\u001b[0m \u001b[1;34m'BUSINESS'\u001b[0m\u001b[1;33m,\u001b[0m \u001b[1;34m'COMICS'\u001b[0m\u001b[1;33m,\u001b[0m \u001b[1;34m'COMMUNICATION'\u001b[0m\u001b[1;33m,\u001b[0m \u001b[1;34m'DATING'\u001b[0m\u001b[1;33m,\u001b[0m \u001b[1;34m'EDUCATION'\u001b[0m\u001b[1;33m,\u001b[0m \u001b[1;34m'Paid'\u001b[0m\u001b[1;33m,\u001b[0m \u001b[1;34m'Adults only 18+'\u001b[0m\u001b[1;33m,\u001b[0m \u001b[1;34m'Everyone'\u001b[0m\u001b[1;33m,\u001b[0m \u001b[1;34m'Everyone 10+'\u001b[0m\u001b[1;33m,\u001b[0m \u001b[1;34m'Mature 17+'\u001b[0m\u001b[1;33m,\u001b[0m \u001b[1;34m'Teen'\u001b[0m\u001b[1;33m,\u001b[0m \u001b[1;34m'reviews'\u001b[0m\u001b[1;33m,\u001b[0m\u001b[1;34m'rating'\u001b[0m\u001b[1;33m]\u001b[0m\u001b[1;33m]\u001b[0m\u001b[1;33m\u001b[0m\u001b[0m\n\u001b[0m",
      "\u001b[1;32mc:\\python35\\lib\\site-packages\\pandas\\core\\frame.py\u001b[0m in \u001b[0;36m__getitem__\u001b[1;34m(self, key)\u001b[0m\n\u001b[0;32m   2999\u001b[0m             \u001b[1;32mif\u001b[0m \u001b[0mis_iterator\u001b[0m\u001b[1;33m(\u001b[0m\u001b[0mkey\u001b[0m\u001b[1;33m)\u001b[0m\u001b[1;33m:\u001b[0m\u001b[1;33m\u001b[0m\u001b[0m\n\u001b[0;32m   3000\u001b[0m                 \u001b[0mkey\u001b[0m \u001b[1;33m=\u001b[0m \u001b[0mlist\u001b[0m\u001b[1;33m(\u001b[0m\u001b[0mkey\u001b[0m\u001b[1;33m)\u001b[0m\u001b[1;33m\u001b[0m\u001b[0m\n\u001b[1;32m-> 3001\u001b[1;33m             \u001b[0mindexer\u001b[0m \u001b[1;33m=\u001b[0m \u001b[0mself\u001b[0m\u001b[1;33m.\u001b[0m\u001b[0mloc\u001b[0m\u001b[1;33m.\u001b[0m\u001b[0m_convert_to_indexer\u001b[0m\u001b[1;33m(\u001b[0m\u001b[0mkey\u001b[0m\u001b[1;33m,\u001b[0m \u001b[0maxis\u001b[0m\u001b[1;33m=\u001b[0m\u001b[1;36m1\u001b[0m\u001b[1;33m,\u001b[0m \u001b[0mraise_missing\u001b[0m\u001b[1;33m=\u001b[0m\u001b[1;32mTrue\u001b[0m\u001b[1;33m)\u001b[0m\u001b[1;33m\u001b[0m\u001b[0m\n\u001b[0m\u001b[0;32m   3002\u001b[0m \u001b[1;33m\u001b[0m\u001b[0m\n\u001b[0;32m   3003\u001b[0m         \u001b[1;31m# take() does not accept boolean indexers\u001b[0m\u001b[1;33m\u001b[0m\u001b[1;33m\u001b[0m\u001b[0m\n",
      "\u001b[1;32mc:\\python35\\lib\\site-packages\\pandas\\core\\indexing.py\u001b[0m in \u001b[0;36m_convert_to_indexer\u001b[1;34m(self, obj, axis, is_setter, raise_missing)\u001b[0m\n\u001b[0;32m   1283\u001b[0m                 \u001b[1;31m# When setting, missing keys are not allowed, even with .loc:\u001b[0m\u001b[1;33m\u001b[0m\u001b[1;33m\u001b[0m\u001b[0m\n\u001b[0;32m   1284\u001b[0m                 \u001b[0mkwargs\u001b[0m \u001b[1;33m=\u001b[0m \u001b[1;33m{\u001b[0m\u001b[1;34m\"raise_missing\"\u001b[0m\u001b[1;33m:\u001b[0m \u001b[1;32mTrue\u001b[0m \u001b[1;32mif\u001b[0m \u001b[0mis_setter\u001b[0m \u001b[1;32melse\u001b[0m \u001b[0mraise_missing\u001b[0m\u001b[1;33m}\u001b[0m\u001b[1;33m\u001b[0m\u001b[0m\n\u001b[1;32m-> 1285\u001b[1;33m                 \u001b[1;32mreturn\u001b[0m \u001b[0mself\u001b[0m\u001b[1;33m.\u001b[0m\u001b[0m_get_listlike_indexer\u001b[0m\u001b[1;33m(\u001b[0m\u001b[0mobj\u001b[0m\u001b[1;33m,\u001b[0m \u001b[0maxis\u001b[0m\u001b[1;33m,\u001b[0m \u001b[1;33m**\u001b[0m\u001b[0mkwargs\u001b[0m\u001b[1;33m)\u001b[0m\u001b[1;33m[\u001b[0m\u001b[1;36m1\u001b[0m\u001b[1;33m]\u001b[0m\u001b[1;33m\u001b[0m\u001b[0m\n\u001b[0m\u001b[0;32m   1286\u001b[0m         \u001b[1;32melse\u001b[0m\u001b[1;33m:\u001b[0m\u001b[1;33m\u001b[0m\u001b[0m\n\u001b[0;32m   1287\u001b[0m             \u001b[1;32mtry\u001b[0m\u001b[1;33m:\u001b[0m\u001b[1;33m\u001b[0m\u001b[0m\n",
      "\u001b[1;32mc:\\python35\\lib\\site-packages\\pandas\\core\\indexing.py\u001b[0m in \u001b[0;36m_get_listlike_indexer\u001b[1;34m(self, key, axis, raise_missing)\u001b[0m\n\u001b[0;32m   1090\u001b[0m \u001b[1;33m\u001b[0m\u001b[0m\n\u001b[0;32m   1091\u001b[0m         self._validate_read_indexer(\n\u001b[1;32m-> 1092\u001b[1;33m             \u001b[0mkeyarr\u001b[0m\u001b[1;33m,\u001b[0m \u001b[0mindexer\u001b[0m\u001b[1;33m,\u001b[0m \u001b[0mo\u001b[0m\u001b[1;33m.\u001b[0m\u001b[0m_get_axis_number\u001b[0m\u001b[1;33m(\u001b[0m\u001b[0maxis\u001b[0m\u001b[1;33m)\u001b[0m\u001b[1;33m,\u001b[0m \u001b[0mraise_missing\u001b[0m\u001b[1;33m=\u001b[0m\u001b[0mraise_missing\u001b[0m\u001b[1;33m\u001b[0m\u001b[0m\n\u001b[0m\u001b[0;32m   1093\u001b[0m         )\n\u001b[0;32m   1094\u001b[0m         \u001b[1;32mreturn\u001b[0m \u001b[0mkeyarr\u001b[0m\u001b[1;33m,\u001b[0m \u001b[0mindexer\u001b[0m\u001b[1;33m\u001b[0m\u001b[0m\n",
      "\u001b[1;32mc:\\python35\\lib\\site-packages\\pandas\\core\\indexing.py\u001b[0m in \u001b[0;36m_validate_read_indexer\u001b[1;34m(self, key, indexer, axis, raise_missing)\u001b[0m\n\u001b[0;32m   1183\u001b[0m             \u001b[1;32mif\u001b[0m \u001b[1;32mnot\u001b[0m \u001b[1;33m(\u001b[0m\u001b[0mself\u001b[0m\u001b[1;33m.\u001b[0m\u001b[0mname\u001b[0m \u001b[1;33m==\u001b[0m \u001b[1;34m\"loc\"\u001b[0m \u001b[1;32mand\u001b[0m \u001b[1;32mnot\u001b[0m \u001b[0mraise_missing\u001b[0m\u001b[1;33m)\u001b[0m\u001b[1;33m:\u001b[0m\u001b[1;33m\u001b[0m\u001b[0m\n\u001b[0;32m   1184\u001b[0m                 \u001b[0mnot_found\u001b[0m \u001b[1;33m=\u001b[0m \u001b[0mlist\u001b[0m\u001b[1;33m(\u001b[0m\u001b[0mset\u001b[0m\u001b[1;33m(\u001b[0m\u001b[0mkey\u001b[0m\u001b[1;33m)\u001b[0m \u001b[1;33m-\u001b[0m \u001b[0mset\u001b[0m\u001b[1;33m(\u001b[0m\u001b[0max\u001b[0m\u001b[1;33m)\u001b[0m\u001b[1;33m)\u001b[0m\u001b[1;33m\u001b[0m\u001b[0m\n\u001b[1;32m-> 1185\u001b[1;33m                 \u001b[1;32mraise\u001b[0m \u001b[0mKeyError\u001b[0m\u001b[1;33m(\u001b[0m\u001b[1;34m\"{} not in index\"\u001b[0m\u001b[1;33m.\u001b[0m\u001b[0mformat\u001b[0m\u001b[1;33m(\u001b[0m\u001b[0mnot_found\u001b[0m\u001b[1;33m)\u001b[0m\u001b[1;33m)\u001b[0m\u001b[1;33m\u001b[0m\u001b[0m\n\u001b[0m\u001b[0;32m   1186\u001b[0m \u001b[1;33m\u001b[0m\u001b[0m\n\u001b[0;32m   1187\u001b[0m             \u001b[1;31m# we skip the warning on Categorical/Interval\u001b[0m\u001b[1;33m\u001b[0m\u001b[1;33m\u001b[0m\u001b[0m\n",
      "\u001b[1;31mKeyError\u001b[0m: \"['BUSINESS', 'COMMUNICATION', 'EDUCATION', 'DATING', 'COMICS', 'Mature 17+', 'ART_AND_DESIGN', 'Everyone', 'BOOKS_AND_REFERENCE', 'Teen', 'AUTO_AND_VEHICLES', 'BEAUTY', 'Adults only 18+', 'Paid', 'Everyone 10+'] not in index\""
     ]
    }
   ],
   "source": [
    "model_ml = model_ml[['ART_AND_DESIGN', 'AUTO_AND_VEHICLES', 'BEAUTY', 'BOOKS_AND_REFERENCE', 'BUSINESS', 'COMICS', 'COMMUNICATION', 'DATING', 'EDUCATION', 'Paid', 'Adults only 18+', 'Everyone', 'Everyone 10+', 'Mature 17+', 'Teen', 'reviews','rating']]"
   ]
  },
  {
   "cell_type": "code",
   "execution_count": null,
   "metadata": {
    "ExecuteTime": {
     "end_time": "2020-04-17T08:52:17.481473Z",
     "start_time": "2020-04-17T08:52:05.138Z"
    }
   },
   "outputs": [],
   "source": [
    "X= model_ml.drop(['rating'], axis=1)"
   ]
  },
  {
   "cell_type": "code",
   "execution_count": null,
   "metadata": {
    "ExecuteTime": {
     "end_time": "2020-04-17T08:52:17.497073Z",
     "start_time": "2020-04-17T08:52:05.144Z"
    }
   },
   "outputs": [],
   "source": [
    "# cor = model_ml.corr()\n",
    "# ax = sns.heatmap(\n",
    "#     corr, \n",
    "#     vmin=-1, vmax=1, center=0,\n",
    "#     cmap=sns.diverging_palette(20, 220, n=200),\n",
    "#     square=True\n",
    "# )\n",
    "# ax.set_xticklabels(\n",
    "#     ax.get_xticklabels(),\n",
    "#     rotation=90,\n",
    "#     horizontalalignment='right'\n",
    "# );"
   ]
  },
  {
   "cell_type": "code",
   "execution_count": null,
   "metadata": {
    "ExecuteTime": {
     "end_time": "2020-04-17T08:52:17.512673Z",
     "start_time": "2020-04-17T08:52:05.148Z"
    }
   },
   "outputs": [],
   "source": [
    "Y = model_ml['rating']"
   ]
  },
  {
   "cell_type": "code",
   "execution_count": null,
   "metadata": {
    "ExecuteTime": {
     "end_time": "2020-04-17T08:52:17.512673Z",
     "start_time": "2020-04-17T08:52:05.153Z"
    }
   },
   "outputs": [],
   "source": [
    "from sklearn.preprocessing import LabelEncoder, OneHotEncoder\n",
    "from sklearn.model_selection import train_test_split\n",
    "from sklearn.tree import DecisionTreeClassifier\n",
    "from sklearn import metrics"
   ]
  },
  {
   "cell_type": "code",
   "execution_count": null,
   "metadata": {
    "ExecuteTime": {
     "end_time": "2020-04-17T08:52:17.512673Z",
     "start_time": "2020-04-17T08:52:05.157Z"
    }
   },
   "outputs": [],
   "source": [
    "Y = Y.astype(int)"
   ]
  },
  {
   "cell_type": "code",
   "execution_count": null,
   "metadata": {
    "ExecuteTime": {
     "end_time": "2020-04-17T08:52:17.528273Z",
     "start_time": "2020-04-17T08:52:05.163Z"
    }
   },
   "outputs": [],
   "source": [
    "# label = LabelEncoder()\n",
    "# Y = label.fit_transform(Y)"
   ]
  },
  {
   "cell_type": "code",
   "execution_count": null,
   "metadata": {
    "ExecuteTime": {
     "end_time": "2020-04-17T08:52:17.528273Z",
     "start_time": "2020-04-17T08:52:05.166Z"
    }
   },
   "outputs": [],
   "source": [
    "X_train, X_test, y_train, y_test = train_test_split(X, Y, test_size=.25, random_state=0)"
   ]
  },
  {
   "cell_type": "code",
   "execution_count": null,
   "metadata": {
    "ExecuteTime": {
     "end_time": "2020-04-17T08:52:17.528273Z",
     "start_time": "2020-04-17T08:52:05.172Z"
    }
   },
   "outputs": [],
   "source": [
    "print(\"Shape of X_train\", X_train.shape)\n",
    "print(\"Shape of X_test\", X_test.shape)\n",
    "print(\"Shape of Y_train\", y_train.shape)\n",
    "print(\"Shape of Y_test\", y_test.shape)"
   ]
  },
  {
   "cell_type": "code",
   "execution_count": null,
   "metadata": {
    "ExecuteTime": {
     "end_time": "2020-04-17T08:52:17.559473Z",
     "start_time": "2020-04-17T08:52:05.178Z"
    }
   },
   "outputs": [],
   "source": [
    "clf = DecisionTreeClassifier(criterion=\"entropy\", random_state=0)"
   ]
  },
  {
   "cell_type": "code",
   "execution_count": null,
   "metadata": {
    "ExecuteTime": {
     "end_time": "2020-04-17T08:52:17.559473Z",
     "start_time": "2020-04-17T08:52:05.183Z"
    }
   },
   "outputs": [],
   "source": [
    "clf.fit(X_train, y_train)"
   ]
  },
  {
   "cell_type": "code",
   "execution_count": null,
   "metadata": {
    "ExecuteTime": {
     "end_time": "2020-04-17T08:52:17.559473Z",
     "start_time": "2020-04-17T08:52:05.187Z"
    }
   },
   "outputs": [],
   "source": [
    "y_pred = clf.predict(X_test)"
   ]
  },
  {
   "cell_type": "code",
   "execution_count": null,
   "metadata": {
    "ExecuteTime": {
     "end_time": "2020-04-17T08:52:17.575073Z",
     "start_time": "2020-04-17T08:52:05.193Z"
    }
   },
   "outputs": [],
   "source": [
    "print(\"DecisionTrees's Accuracy: \", metrics.accuracy_score(y_test, y_pred))"
   ]
  },
  {
   "cell_type": "code",
   "execution_count": null,
   "metadata": {
    "ExecuteTime": {
     "end_time": "2020-04-17T08:52:17.575073Z",
     "start_time": "2020-04-17T08:52:05.197Z"
    }
   },
   "outputs": [],
   "source": [
    "import numpy as np\n",
    "print('Mean Absolute Error:', metrics.mean_absolute_error(y_test, y_pred))\n",
    "print('Mean Squared Error:', metrics.mean_squared_error(y_test, y_pred))  \n",
    "print('Root Mean Squared Error:', np.sqrt(metrics.mean_squared_error(y_test, y_pred)))"
   ]
  },
  {
   "cell_type": "code",
   "execution_count": null,
   "metadata": {
    "ExecuteTime": {
     "end_time": "2020-04-17T08:52:17.575073Z",
     "start_time": "2020-04-17T08:52:05.201Z"
    }
   },
   "outputs": [],
   "source": [
    "import matplotlib.pyplot as plt"
   ]
  },
  {
   "cell_type": "code",
   "execution_count": null,
   "metadata": {
    "ExecuteTime": {
     "end_time": "2020-04-17T08:52:17.575073Z",
     "start_time": "2020-04-17T08:52:05.206Z"
    }
   },
   "outputs": [],
   "source": [
    "actual_predcition = pd.DataFrame({\"Actual\": y_test.values.flatten(),\"Predicted\": y_pred.flatten()})\n",
    "df1 = actual_predcition.head(45)\n",
    "df1.plot(kind='bar',figsize=(30,14))\n",
    "plt.grid(which='major', linestyle='-', linewidth='0.5', color='green')\n",
    "plt.grid(which='minor', linestyle=':', linewidth='0.5', color='black')\n",
    "plt.show()\n"
   ]
  },
  {
   "cell_type": "markdown",
   "metadata": {},
   "source": [
    "<h2>Logistics Regression Example </h2>"
   ]
  },
  {
   "cell_type": "code",
   "execution_count": null,
   "metadata": {
    "ExecuteTime": {
     "end_time": "2020-04-17T08:52:17.590673Z",
     "start_time": "2020-04-17T08:52:05.213Z"
    }
   },
   "outputs": [],
   "source": [
    "from sklearn.preprocessing import StandardScaler\n",
    "sc_X=StandardScaler()\n",
    "X_train=sc_X.fit_transform(X_train)\n",
    "X_test=sc_X.transform(X_test)"
   ]
  },
  {
   "cell_type": "code",
   "execution_count": null,
   "metadata": {
    "ExecuteTime": {
     "end_time": "2020-04-17T08:52:17.590673Z",
     "start_time": "2020-04-17T08:52:05.219Z"
    }
   },
   "outputs": [],
   "source": [
    "from sklearn.linear_model import LogisticRegression"
   ]
  },
  {
   "cell_type": "code",
   "execution_count": null,
   "metadata": {
    "ExecuteTime": {
     "end_time": "2020-04-17T08:52:17.590673Z",
     "start_time": "2020-04-17T08:52:05.223Z"
    }
   },
   "outputs": [],
   "source": [
    "lr_c=LogisticRegression(random_state=0)\n",
    "lr_c.fit(X_train,y_train)"
   ]
  },
  {
   "cell_type": "code",
   "execution_count": null,
   "metadata": {
    "ExecuteTime": {
     "end_time": "2020-04-17T08:52:17.590673Z",
     "start_time": "2020-04-17T08:52:05.227Z"
    }
   },
   "outputs": [],
   "source": [
    "from sklearn.metrics import confusion_matrix\n",
    "from sklearn.metrics import accuracy_score"
   ]
  },
  {
   "cell_type": "code",
   "execution_count": null,
   "metadata": {
    "ExecuteTime": {
     "end_time": "2020-04-17T08:52:17.606273Z",
     "start_time": "2020-04-17T08:52:05.231Z"
    }
   },
   "outputs": [],
   "source": [
    "lr_pred=lr_c.predict(X_test)\n",
    "lr_cm=confusion_matrix(y_test,lr_pred)\n",
    "lr_ac=accuracy_score(y_test, lr_pred)\n",
    "print('LogisticRegression_accuracy:',lr_ac)"
   ]
  },
  {
   "cell_type": "code",
   "execution_count": null,
   "metadata": {
    "ExecuteTime": {
     "end_time": "2020-04-17T08:52:17.621873Z",
     "start_time": "2020-04-17T08:52:05.236Z"
    }
   },
   "outputs": [],
   "source": [
    "actual_predcition = pd.DataFrame({\"Actual\": y_test.values.flatten(),\"Predicted\": lr_pred.flatten()})\n",
    "df1 = actual_predcition.head(105)\n",
    "df1.plot(kind='bar',figsize=(30,14))\n",
    "plt.grid(which='major', linestyle='-', linewidth='0.5', color='green')\n",
    "plt.grid(which='minor', linestyle=':', linewidth='0.5', color='black')\n",
    "plt.show()"
   ]
  },
  {
   "cell_type": "code",
   "execution_count": null,
   "metadata": {
    "ExecuteTime": {
     "end_time": "2020-04-17T08:52:17.621873Z",
     "start_time": "2020-04-17T08:52:05.240Z"
    }
   },
   "outputs": [],
   "source": [
    "# pred_value = pd.DataFrame({'Actual':y_test.flatten() , 'Prediction':y_pred.flatten()})"
   ]
  },
  {
   "cell_type": "code",
   "execution_count": null,
   "metadata": {
    "ExecuteTime": {
     "end_time": "2020-04-17T08:52:17.621873Z",
     "start_time": "2020-04-17T08:52:05.244Z"
    }
   },
   "outputs": [],
   "source": [
    "# pred_value.head(20)"
   ]
  },
  {
   "cell_type": "code",
   "execution_count": null,
   "metadata": {
    "ExecuteTime": {
     "end_time": "2020-04-17T08:52:17.621873Z",
     "start_time": "2020-04-17T08:52:05.248Z"
    }
   },
   "outputs": [],
   "source": [
    "# import numpy as np"
   ]
  },
  {
   "cell_type": "code",
   "execution_count": null,
   "metadata": {
    "ExecuteTime": {
     "end_time": "2020-04-17T08:52:17.637473Z",
     "start_time": "2020-04-17T08:52:05.253Z"
    }
   },
   "outputs": [],
   "source": [
    "# print('Mean Absolute Error:', metrics.mean_absolute_error(y_test, y_pred))\n",
    "# print('Mean Squared Error:', metrics.mean_squared_error(y_test, y_pred))  \n",
    "# print('Root Mean Squared Error:', np.sqrt(metrics.mean_squared_error(y_test, y_pred)))"
   ]
  },
  {
   "cell_type": "code",
   "execution_count": null,
   "metadata": {
    "ExecuteTime": {
     "end_time": "2020-04-17T08:52:17.637473Z",
     "start_time": "2020-04-17T08:52:05.259Z"
    }
   },
   "outputs": [],
   "source": [
    "# from sklearn.linear_model import LinearRegression"
   ]
  },
  {
   "cell_type": "code",
   "execution_count": null,
   "metadata": {
    "ExecuteTime": {
     "end_time": "2020-04-17T08:52:17.637473Z",
     "start_time": "2020-04-17T08:52:05.263Z"
    }
   },
   "outputs": [],
   "source": [
    "# regressor = LinearRegression().fit(X_train, y_train)"
   ]
  },
  {
   "cell_type": "code",
   "execution_count": null,
   "metadata": {
    "ExecuteTime": {
     "end_time": "2020-04-17T08:52:17.637473Z",
     "start_time": "2020-04-17T08:52:05.267Z"
    }
   },
   "outputs": [],
   "source": [
    "# print(regressor.intercept_)\n",
    "# print(regressor.coef_)"
   ]
  },
  {
   "cell_type": "code",
   "execution_count": null,
   "metadata": {
    "ExecuteTime": {
     "end_time": "2020-04-17T08:52:17.653073Z",
     "start_time": "2020-04-17T08:52:05.271Z"
    }
   },
   "outputs": [],
   "source": [
    "# y_pred = regressor.predict(X_test)"
   ]
  },
  {
   "cell_type": "code",
   "execution_count": null,
   "metadata": {
    "ExecuteTime": {
     "end_time": "2020-04-17T08:52:17.653073Z",
     "start_time": "2020-04-17T08:52:05.275Z"
    }
   },
   "outputs": [],
   "source": [
    "# pred_value = pd.DataFrame({'Actual':y_test.flatten() , 'Prediction':y_pred.flatten()})"
   ]
  },
  {
   "cell_type": "code",
   "execution_count": null,
   "metadata": {
    "ExecuteTime": {
     "end_time": "2020-04-17T08:52:17.653073Z",
     "start_time": "2020-04-17T08:52:05.281Z"
    }
   },
   "outputs": [],
   "source": [
    "# pred_value.head(20)"
   ]
  },
  {
   "cell_type": "code",
   "execution_count": null,
   "metadata": {
    "ExecuteTime": {
     "end_time": "2020-04-17T08:52:17.653073Z",
     "start_time": "2020-04-17T08:52:05.285Z"
    }
   },
   "outputs": [],
   "source": [
    "from sklearn.svm import SVC"
   ]
  },
  {
   "cell_type": "code",
   "execution_count": null,
   "metadata": {
    "ExecuteTime": {
     "end_time": "2020-04-17T08:52:17.668673Z",
     "start_time": "2020-04-17T08:52:05.289Z"
    }
   },
   "outputs": [],
   "source": [
    "classifier = SVC(kernel='rbf', random_state = 0)\n",
    "classifier.fit(X_train,y_train)"
   ]
  },
  {
   "cell_type": "code",
   "execution_count": null,
   "metadata": {
    "ExecuteTime": {
     "end_time": "2020-04-17T08:52:17.668673Z",
     "start_time": "2020-04-17T08:52:05.293Z"
    }
   },
   "outputs": [],
   "source": [
    "Y_pred = classifier.predict(X_test)"
   ]
  },
  {
   "cell_type": "code",
   "execution_count": null,
   "metadata": {
    "ExecuteTime": {
     "end_time": "2020-04-17T08:52:17.668673Z",
     "start_time": "2020-04-17T08:52:05.297Z"
    }
   },
   "outputs": [],
   "source": [
    "from sklearn.metrics import confusion_matrix\n",
    "\n",
    "cm = confusion_matrix(y_test,Y_pred)\n",
    "accuracy = float(cm.diagonal().sum())/len(y_test)\n",
    "print(\"\\nAccuracy Of SVM For The Given Dataset : \", accuracy)"
   ]
  },
  {
   "cell_type": "code",
   "execution_count": null,
   "metadata": {},
   "outputs": [],
   "source": []
  }
 ],
 "metadata": {
  "kernelspec": {
   "display_name": "Python 3",
   "language": "python",
   "name": "python3"
  },
  "language_info": {
   "codemirror_mode": {
    "name": "ipython",
    "version": 3
   },
   "file_extension": ".py",
   "mimetype": "text/x-python",
   "name": "python",
   "nbconvert_exporter": "python",
   "pygments_lexer": "ipython3",
   "version": "3.5.4"
  }
 },
 "nbformat": 4,
 "nbformat_minor": 4
}
