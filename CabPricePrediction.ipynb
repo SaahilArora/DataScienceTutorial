{
 "cells": [
  {
   "cell_type": "code",
   "execution_count": 2,
   "id": "copyrighted-tomorrow",
   "metadata": {
    "ExecuteTime": {
     "end_time": "2021-08-30T10:24:43.818819Z",
     "start_time": "2021-08-30T10:24:43.799128Z"
    }
   },
   "outputs": [],
   "source": [
    "%config Completer.use_jedi = False"
   ]
  },
  {
   "cell_type": "code",
   "execution_count": 3,
   "id": "dominant-sword",
   "metadata": {
    "ExecuteTime": {
     "end_time": "2021-08-30T10:24:45.106547Z",
     "start_time": "2021-08-30T10:24:44.412125Z"
    }
   },
   "outputs": [
    {
     "data": {
      "application/javascript": [
       "\n",
       "        if (window._pyforest_update_imports_cell) { window._pyforest_update_imports_cell('import pandas as pd'); }\n",
       "    "
      ],
      "text/plain": [
       "<IPython.core.display.Javascript object>"
      ]
     },
     "metadata": {},
     "output_type": "display_data"
    }
   ],
   "source": [
    "import warnings\n",
    "warnings.filterwarnings(\"ignore\")\n",
    "pd.set_option('display.max_columns', None)"
   ]
  },
  {
   "cell_type": "code",
   "execution_count": 8,
   "id": "sexual-identifier",
   "metadata": {
    "ExecuteTime": {
     "end_time": "2021-08-30T10:27:17.294891Z",
     "start_time": "2021-08-30T10:27:17.271362Z"
    }
   },
   "outputs": [
    {
     "data": {
      "application/javascript": [
       "\n",
       "        if (window._pyforest_update_imports_cell) { window._pyforest_update_imports_cell('import pandas as pd'); }\n",
       "    "
      ],
      "text/plain": [
       "<IPython.core.display.Javascript object>"
      ]
     },
     "metadata": {},
     "output_type": "display_data"
    }
   ],
   "source": [
    "df = pd.read_csv('./datalab/CabPrice/cab_rides.csv', nrows=10000)"
   ]
  },
  {
   "cell_type": "code",
   "execution_count": 9,
   "id": "concerned-thirty",
   "metadata": {
    "ExecuteTime": {
     "end_time": "2021-08-30T10:27:17.877817Z",
     "start_time": "2021-08-30T10:27:17.868843Z"
    }
   },
   "outputs": [
    {
     "data": {
      "text/plain": [
       "(10000, 8)"
      ]
     },
     "execution_count": 9,
     "metadata": {},
     "output_type": "execute_result"
    }
   ],
   "source": [
    "df.shape"
   ]
  },
  {
   "cell_type": "code",
   "execution_count": 12,
   "id": "familiar-replacement",
   "metadata": {
    "ExecuteTime": {
     "end_time": "2021-08-30T10:28:49.692957Z",
     "start_time": "2021-08-30T10:28:49.672029Z"
    }
   },
   "outputs": [],
   "source": [
    "df.dropna(axis=0, inplace=True)"
   ]
  },
  {
   "cell_type": "markdown",
   "id": "western-harassment",
   "metadata": {},
   "source": [
    "## Feature Engineering "
   ]
  },
  {
   "cell_type": "markdown",
   "id": "incomplete-brooks",
   "metadata": {
    "ExecuteTime": {
     "end_time": "2021-08-30T10:36:34.059492Z",
     "start_time": "2021-08-30T10:36:34.055474Z"
    }
   },
   "source": [
    "<dl>\n",
    "    <dd>1. Numerical and Categorical Data.</dd>\n",
    "    <dd>2. Duplicate Data.</dd>\n",
    "    <dd>3. NULL/NA Data.</dd>\n",
    "    <dd>3. Data Description.</dd>\n",
    "</dl>"
   ]
  },
  {
   "cell_type": "code",
   "execution_count": 56,
   "id": "played-concept",
   "metadata": {
    "ExecuteTime": {
     "end_time": "2021-08-30T11:01:02.621119Z",
     "start_time": "2021-08-30T11:01:02.596959Z"
    }
   },
   "outputs": [
    {
     "name": "stdout",
     "output_type": "stream",
     "text": [
      "<class 'pandas.core.frame.DataFrame'>\n",
      "Int64Index: 9040 entries, 0 to 9999\n",
      "Data columns (total 8 columns):\n",
      " #   Column            Non-Null Count  Dtype  \n",
      "---  ------            --------------  -----  \n",
      " 0   distance          9040 non-null   float64\n",
      " 1   cab_type          9040 non-null   object \n",
      " 2   time_stamp        9040 non-null   int64  \n",
      " 3   destination       9040 non-null   object \n",
      " 4   source            9040 non-null   object \n",
      " 5   price             9040 non-null   float64\n",
      " 6   surge_multiplier  9040 non-null   float64\n",
      " 7   name              9040 non-null   object \n",
      "dtypes: float64(3), int64(1), object(4)\n",
      "memory usage: 635.6+ KB\n"
     ]
    }
   ],
   "source": [
    "df.info()"
   ]
  },
  {
   "cell_type": "code",
   "execution_count": 75,
   "id": "regulated-journalist",
   "metadata": {
    "ExecuteTime": {
     "end_time": "2021-08-30T11:14:17.599237Z",
     "start_time": "2021-08-30T11:14:17.581249Z"
    }
   },
   "outputs": [
    {
     "data": {
      "text/html": [
       "<div>\n",
       "<style scoped>\n",
       "    .dataframe tbody tr th:only-of-type {\n",
       "        vertical-align: middle;\n",
       "    }\n",
       "\n",
       "    .dataframe tbody tr th {\n",
       "        vertical-align: top;\n",
       "    }\n",
       "\n",
       "    .dataframe thead th {\n",
       "        text-align: right;\n",
       "    }\n",
       "</style>\n",
       "<table border=\"1\" class=\"dataframe\">\n",
       "  <thead>\n",
       "    <tr style=\"text-align: right;\">\n",
       "      <th></th>\n",
       "      <th>distance</th>\n",
       "      <th>cab_type</th>\n",
       "      <th>time_stamp</th>\n",
       "      <th>destination</th>\n",
       "      <th>source</th>\n",
       "      <th>price</th>\n",
       "      <th>surge_multiplier</th>\n",
       "      <th>name</th>\n",
       "    </tr>\n",
       "  </thead>\n",
       "  <tbody>\n",
       "    <tr>\n",
       "      <th>0</th>\n",
       "      <td>0.44</td>\n",
       "      <td>0</td>\n",
       "      <td>1970-01-01 00:25:44.952607890</td>\n",
       "      <td>7</td>\n",
       "      <td>5</td>\n",
       "      <td>5.0</td>\n",
       "      <td>1.0</td>\n",
       "      <td>7</td>\n",
       "    </tr>\n",
       "    <tr>\n",
       "      <th>1</th>\n",
       "      <td>0.44</td>\n",
       "      <td>0</td>\n",
       "      <td>1970-01-01 00:25:43.284023677</td>\n",
       "      <td>7</td>\n",
       "      <td>5</td>\n",
       "      <td>11.0</td>\n",
       "      <td>1.0</td>\n",
       "      <td>2</td>\n",
       "    </tr>\n",
       "    <tr>\n",
       "      <th>2</th>\n",
       "      <td>0.44</td>\n",
       "      <td>0</td>\n",
       "      <td>1970-01-01 00:25:43.366822198</td>\n",
       "      <td>7</td>\n",
       "      <td>5</td>\n",
       "      <td>7.0</td>\n",
       "      <td>1.0</td>\n",
       "      <td>5</td>\n",
       "    </tr>\n",
       "    <tr>\n",
       "      <th>3</th>\n",
       "      <td>0.44</td>\n",
       "      <td>0</td>\n",
       "      <td>1970-01-01 00:25:43.553582749</td>\n",
       "      <td>7</td>\n",
       "      <td>5</td>\n",
       "      <td>26.0</td>\n",
       "      <td>1.0</td>\n",
       "      <td>4</td>\n",
       "    </tr>\n",
       "    <tr>\n",
       "      <th>4</th>\n",
       "      <td>0.44</td>\n",
       "      <td>0</td>\n",
       "      <td>1970-01-01 00:25:43.463360223</td>\n",
       "      <td>7</td>\n",
       "      <td>5</td>\n",
       "      <td>9.0</td>\n",
       "      <td>1.0</td>\n",
       "      <td>6</td>\n",
       "    </tr>\n",
       "  </tbody>\n",
       "</table>\n",
       "</div>"
      ],
      "text/plain": [
       "   distance  cab_type                    time_stamp  destination  source  \\\n",
       "0      0.44         0 1970-01-01 00:25:44.952607890            7       5   \n",
       "1      0.44         0 1970-01-01 00:25:43.284023677            7       5   \n",
       "2      0.44         0 1970-01-01 00:25:43.366822198            7       5   \n",
       "3      0.44         0 1970-01-01 00:25:43.553582749            7       5   \n",
       "4      0.44         0 1970-01-01 00:25:43.463360223            7       5   \n",
       "\n",
       "   price  surge_multiplier  name  \n",
       "0    5.0               1.0     7  \n",
       "1   11.0               1.0     2  \n",
       "2    7.0               1.0     5  \n",
       "3   26.0               1.0     4  \n",
       "4    9.0               1.0     6  "
      ]
     },
     "execution_count": 75,
     "metadata": {},
     "output_type": "execute_result"
    }
   ],
   "source": [
    "df.head()"
   ]
  },
  {
   "cell_type": "code",
   "execution_count": 58,
   "id": "athletic-stanford",
   "metadata": {
    "ExecuteTime": {
     "end_time": "2021-08-30T11:01:17.600652Z",
     "start_time": "2021-08-30T11:01:17.593672Z"
    }
   },
   "outputs": [
    {
     "data": {
      "text/plain": [
       "Uber    4568\n",
       "Lyft    4472\n",
       "Name: cab_type, dtype: int64"
      ]
     },
     "execution_count": 58,
     "metadata": {},
     "output_type": "execute_result"
    }
   ],
   "source": [
    "df.cab_type.value_counts()"
   ]
  },
  {
   "cell_type": "code",
   "execution_count": 23,
   "id": "cooked-showcase",
   "metadata": {
    "ExecuteTime": {
     "end_time": "2021-08-30T10:31:17.406100Z",
     "start_time": "2021-08-30T10:31:17.386963Z"
    }
   },
   "outputs": [
    {
     "data": {
      "text/plain": [
       "Northeastern University    892\n",
       "North End                  880\n",
       "Fenway                     815\n",
       "North Station              779\n",
       "Beacon Hill                772\n",
       "West End                   757\n",
       "Boston University          743\n",
       "South Station              740\n",
       "Haymarket Square           738\n",
       "Back Bay                   723\n",
       "Theatre District           707\n",
       "Financial District         681\n",
       "Name: destination, dtype: int64"
      ]
     },
     "execution_count": 23,
     "metadata": {},
     "output_type": "execute_result"
    }
   ],
   "source": [
    "df.destination.value_counts()"
   ]
  },
  {
   "cell_type": "code",
   "execution_count": 24,
   "id": "later-airplane",
   "metadata": {
    "ExecuteTime": {
     "end_time": "2021-08-30T10:31:33.724686Z",
     "start_time": "2021-08-30T10:31:33.704741Z"
    }
   },
   "outputs": [
    {
     "data": {
      "text/plain": [
       "North Station              884\n",
       "Theatre District           854\n",
       "Back Bay                   830\n",
       "North End                  790\n",
       "Fenway                     785\n",
       "Financial District         778\n",
       "Haymarket Square           775\n",
       "West End                   744\n",
       "South Station              741\n",
       "Beacon Hill                718\n",
       "Northeastern University    684\n",
       "Boston University          644\n",
       "Name: source, dtype: int64"
      ]
     },
     "execution_count": 24,
     "metadata": {},
     "output_type": "execute_result"
    }
   ],
   "source": [
    "df.source.value_counts()"
   ]
  },
  {
   "cell_type": "code",
   "execution_count": 25,
   "id": "subjective-defeat",
   "metadata": {
    "ExecuteTime": {
     "end_time": "2021-08-30T10:32:04.088337Z",
     "start_time": "2021-08-30T10:32:04.080358Z"
    }
   },
   "outputs": [
    {
     "data": {
      "text/plain": [
       "Black           781\n",
       "UberPool        778\n",
       "Black SUV       776\n",
       "UberXL          775\n",
       "UberX           774\n",
       "WAV             770\n",
       "Shared          769\n",
       "Lux Black XL    766\n",
       "Lux             762\n",
       "Lyft XL         762\n",
       "Lyft            757\n",
       "Lux Black       757\n",
       "Name: name, dtype: int64"
      ]
     },
     "execution_count": 25,
     "metadata": {},
     "output_type": "execute_result"
    }
   ],
   "source": [
    "df.name.value_counts()"
   ]
  },
  {
   "cell_type": "code",
   "execution_count": 26,
   "id": "straight-syndication",
   "metadata": {
    "ExecuteTime": {
     "end_time": "2021-08-30T10:33:19.836021Z",
     "start_time": "2021-08-30T10:33:19.825080Z"
    }
   },
   "outputs": [
    {
     "data": {
      "text/plain": [
       "1.00    8949\n",
       "1.25     150\n",
       "1.50      58\n",
       "1.75      35\n",
       "2.00      33\n",
       "2.50       2\n",
       "Name: surge_multiplier, dtype: int64"
      ]
     },
     "execution_count": 26,
     "metadata": {},
     "output_type": "execute_result"
    }
   ],
   "source": [
    "df.surge_multiplier.value_counts()"
   ]
  },
  {
   "cell_type": "code",
   "execution_count": 27,
   "id": "mineral-pricing",
   "metadata": {
    "ExecuteTime": {
     "end_time": "2021-08-30T10:33:46.147442Z",
     "start_time": "2021-08-30T10:33:46.127443Z"
    }
   },
   "outputs": [
    {
     "data": {
      "text/plain": [
       "array([ 5. , 11. ,  7. , 26. ,  9. , 16.5, 10.5,  3. , 27.5, 13.5, 12. ,\n",
       "       16. ,  7.5,  5.5,  3.5,  8.5, 15. , 20.5, 19.5, 29.5,  9.5, 22. ,\n",
       "       13. , 17. , 10. , 34. , 18.5, 36. , 22.5, 32.5, 25. , 27. , 35. ,\n",
       "        8. , 23.5, 14. , 26.5, 38.5, 23. , 30.5, 17.5, 30. , 36.5, 12.5,\n",
       "       33.5, 21.5, 38. , 18. , 33. , 32. ,  6.5, 11.5, 31.5, 28.5, 24. ,\n",
       "       29. , 31. , 42.5, 41. , 19. , 52.5, 67.5, 15.5, 21. , 45.5, 28. ,\n",
       "       37.5, 14.5, 47.5,  4.5, 40.5, 55. , 42. , 46.5, 50.5, 24.5, 41.5,\n",
       "       56. , 25.5, 39. , 57.5, 20. , 39.5,  6. , 35.5, 48.5, 37. , 45. ,\n",
       "       44. , 34.5,  2.5, 46. , 48. , 47. , 54. , 52. , 62. , 43. , 43.5])"
      ]
     },
     "execution_count": 27,
     "metadata": {},
     "output_type": "execute_result"
    }
   ],
   "source": [
    "df.price.unique()"
   ]
  },
  {
   "cell_type": "code",
   "execution_count": 19,
   "id": "portuguese-bench",
   "metadata": {
    "ExecuteTime": {
     "end_time": "2021-08-30T10:30:20.014726Z",
     "start_time": "2021-08-30T10:30:19.997234Z"
    }
   },
   "outputs": [
    {
     "data": {
      "text/plain": [
       "0"
      ]
     },
     "execution_count": 19,
     "metadata": {},
     "output_type": "execute_result"
    }
   ],
   "source": [
    "df.duplicated().sum()"
   ]
  },
  {
   "cell_type": "code",
   "execution_count": 59,
   "id": "meaningful-glasgow",
   "metadata": {
    "ExecuteTime": {
     "end_time": "2021-08-30T11:01:22.633847Z",
     "start_time": "2021-08-30T11:01:22.612926Z"
    }
   },
   "outputs": [
    {
     "data": {
      "text/plain": [
       "distance            0\n",
       "cab_type            0\n",
       "time_stamp          0\n",
       "destination         0\n",
       "source              0\n",
       "price               0\n",
       "surge_multiplier    0\n",
       "name                0\n",
       "dtype: int64"
      ]
     },
     "execution_count": 59,
     "metadata": {},
     "output_type": "execute_result"
    }
   ],
   "source": [
    "df.isna().sum()"
   ]
  },
  {
   "cell_type": "code",
   "execution_count": 60,
   "id": "polish-frame",
   "metadata": {
    "ExecuteTime": {
     "end_time": "2021-08-30T11:01:23.466586Z",
     "start_time": "2021-08-30T11:01:23.455614Z"
    }
   },
   "outputs": [
    {
     "data": {
      "text/plain": [
       "distance            0\n",
       "cab_type            0\n",
       "time_stamp          0\n",
       "destination         0\n",
       "source              0\n",
       "price               0\n",
       "surge_multiplier    0\n",
       "name                0\n",
       "dtype: int64"
      ]
     },
     "execution_count": 60,
     "metadata": {},
     "output_type": "execute_result"
    }
   ],
   "source": [
    "df.isnull().sum()"
   ]
  },
  {
   "cell_type": "code",
   "execution_count": 61,
   "id": "referenced-prisoner",
   "metadata": {
    "ExecuteTime": {
     "end_time": "2021-08-30T11:01:25.800636Z",
     "start_time": "2021-08-30T11:01:25.783707Z"
    }
   },
   "outputs": [
    {
     "data": {
      "text/html": [
       "<div>\n",
       "<style scoped>\n",
       "    .dataframe tbody tr th:only-of-type {\n",
       "        vertical-align: middle;\n",
       "    }\n",
       "\n",
       "    .dataframe tbody tr th {\n",
       "        vertical-align: top;\n",
       "    }\n",
       "\n",
       "    .dataframe thead th {\n",
       "        text-align: right;\n",
       "    }\n",
       "</style>\n",
       "<table border=\"1\" class=\"dataframe\">\n",
       "  <thead>\n",
       "    <tr style=\"text-align: right;\">\n",
       "      <th></th>\n",
       "      <th>distance</th>\n",
       "      <th>time_stamp</th>\n",
       "      <th>price</th>\n",
       "      <th>surge_multiplier</th>\n",
       "    </tr>\n",
       "  </thead>\n",
       "  <tbody>\n",
       "    <tr>\n",
       "      <th>count</th>\n",
       "      <td>9040.000000</td>\n",
       "      <td>9.040000e+03</td>\n",
       "      <td>9040.000000</td>\n",
       "      <td>9040.000000</td>\n",
       "    </tr>\n",
       "    <tr>\n",
       "      <th>mean</th>\n",
       "      <td>2.068718</td>\n",
       "      <td>1.544029e+12</td>\n",
       "      <td>15.997732</td>\n",
       "      <td>1.012113</td>\n",
       "    </tr>\n",
       "    <tr>\n",
       "      <th>std</th>\n",
       "      <td>1.008354</td>\n",
       "      <td>6.852931e+08</td>\n",
       "      <td>8.649982</td>\n",
       "      <td>0.084505</td>\n",
       "    </tr>\n",
       "    <tr>\n",
       "      <th>min</th>\n",
       "      <td>0.300000</td>\n",
       "      <td>1.543207e+12</td>\n",
       "      <td>2.500000</td>\n",
       "      <td>1.000000</td>\n",
       "    </tr>\n",
       "    <tr>\n",
       "      <th>25%</th>\n",
       "      <td>1.250000</td>\n",
       "      <td>1.543439e+12</td>\n",
       "      <td>9.000000</td>\n",
       "      <td>1.000000</td>\n",
       "    </tr>\n",
       "    <tr>\n",
       "      <th>50%</th>\n",
       "      <td>2.000000</td>\n",
       "      <td>1.543726e+12</td>\n",
       "      <td>13.500000</td>\n",
       "      <td>1.000000</td>\n",
       "    </tr>\n",
       "    <tr>\n",
       "      <th>75%</th>\n",
       "      <td>2.840000</td>\n",
       "      <td>1.544810e+12</td>\n",
       "      <td>22.500000</td>\n",
       "      <td>1.000000</td>\n",
       "    </tr>\n",
       "    <tr>\n",
       "      <th>max</th>\n",
       "      <td>4.940000</td>\n",
       "      <td>1.545161e+12</td>\n",
       "      <td>42.500000</td>\n",
       "      <td>2.500000</td>\n",
       "    </tr>\n",
       "  </tbody>\n",
       "</table>\n",
       "</div>"
      ],
      "text/plain": [
       "          distance    time_stamp        price  surge_multiplier\n",
       "count  9040.000000  9.040000e+03  9040.000000       9040.000000\n",
       "mean      2.068718  1.544029e+12    15.997732          1.012113\n",
       "std       1.008354  6.852931e+08     8.649982          0.084505\n",
       "min       0.300000  1.543207e+12     2.500000          1.000000\n",
       "25%       1.250000  1.543439e+12     9.000000          1.000000\n",
       "50%       2.000000  1.543726e+12    13.500000          1.000000\n",
       "75%       2.840000  1.544810e+12    22.500000          1.000000\n",
       "max       4.940000  1.545161e+12    42.500000          2.500000"
      ]
     },
     "execution_count": 61,
     "metadata": {},
     "output_type": "execute_result"
    }
   ],
   "source": [
    "df.describe()"
   ]
  },
  {
   "cell_type": "code",
   "execution_count": 54,
   "id": "automated-success",
   "metadata": {
    "ExecuteTime": {
     "end_time": "2021-08-30T11:00:46.097313Z",
     "start_time": "2021-08-30T11:00:45.974672Z"
    }
   },
   "outputs": [
    {
     "data": {
      "application/javascript": [
       "\n",
       "        if (window._pyforest_update_imports_cell) { window._pyforest_update_imports_cell('import pandas as pd\\nimport matplotlib.pyplot as plt\\nimport seaborn as sns'); }\n",
       "    "
      ],
      "text/plain": [
       "<IPython.core.display.Javascript object>"
      ]
     },
     "metadata": {},
     "output_type": "display_data"
    },
    {
     "data": {
      "text/plain": [
       "<AxesSubplot:xlabel='distance', ylabel='price'>"
      ]
     },
     "execution_count": 54,
     "metadata": {},
     "output_type": "execute_result"
    },
    {
     "data": {
      "image/png": "[encoded data removed]",
      "text/plain": [
       "<Figure size 432x288 with 1 Axes>"
      ]
     },
     "metadata": {
      "needs_background": "light"
     },
     "output_type": "display_data"
    }
   ],
   "source": [
    "sns.scatterplot(x = df.distance, y=df.price)"
   ]
  },
  {
   "cell_type": "code",
   "execution_count": 50,
   "id": "integrated-assurance",
   "metadata": {
    "ExecuteTime": {
     "end_time": "2021-08-30T11:00:01.885692Z",
     "start_time": "2021-08-30T11:00:01.880705Z"
    }
   },
   "outputs": [],
   "source": [
    "def getIQR(df, column):\n",
    "    Q1 = df[column].quantile(0.25)\n",
    "    Q3 = df[column].quantile(0.75)\n",
    "    IQR = Q3-Q1\n",
    "    lower = Q1 - 1.5 *IQR\n",
    "    upper = Q3 + 1.5*IQR\n",
    "    return lower, upper"
   ]
  },
  {
   "cell_type": "code",
   "execution_count": 53,
   "id": "wireless-shadow",
   "metadata": {
    "ExecuteTime": {
     "end_time": "2021-08-30T11:00:42.435423Z",
     "start_time": "2021-08-30T11:00:42.413588Z"
    }
   },
   "outputs": [
    {
     "name": "stdout",
     "output_type": "stream",
     "text": [
      "LR:-1.1500000000000004, UR:5.25\n"
     ]
    }
   ],
   "source": [
    "lower_range, upper_range = getIQR(df, 'distance')\n",
    "print('LR:{}, UR:{}'.format(lower_range, upper_range))\n",
    "df = df[ (df.distance > lower_range) & (df.distance < upper_range)]"
   ]
  },
  {
   "cell_type": "code",
   "execution_count": 65,
   "id": "opposed-logistics",
   "metadata": {
    "ExecuteTime": {
     "end_time": "2021-08-30T11:03:24.317698Z",
     "start_time": "2021-08-30T11:03:24.173144Z"
    }
   },
   "outputs": [
    {
     "data": {
      "application/javascript": [
       "\n",
       "        if (window._pyforest_update_imports_cell) { window._pyforest_update_imports_cell('import pandas as pd\\nimport matplotlib.pyplot as plt\\nimport seaborn as sns'); }\n",
       "    "
      ],
      "text/plain": [
       "<IPython.core.display.Javascript object>"
      ]
     },
     "metadata": {},
     "output_type": "display_data"
    },
    {
     "data": {
      "text/plain": [
       "<AxesSubplot:xlabel='price', ylabel='Count'>"
      ]
     },
     "execution_count": 65,
     "metadata": {},
     "output_type": "execute_result"
    },
    {
     "data": {
      "image/png": "[encoded data removed]",
      "text/plain": [
       "<Figure size 432x288 with 1 Axes>"
      ]
     },
     "metadata": {
      "needs_background": "light"
     },
     "output_type": "display_data"
    }
   ],
   "source": [
    "sns.histplot(np.log(df.price))"
   ]
  },
  {
   "cell_type": "code",
   "execution_count": 63,
   "id": "subtle-lesbian",
   "metadata": {
    "ExecuteTime": {
     "end_time": "2021-08-30T11:02:30.961099Z",
     "start_time": "2021-08-30T11:02:30.867266Z"
    }
   },
   "outputs": [
    {
     "data": {
      "application/javascript": [
       "\n",
       "        if (window._pyforest_update_imports_cell) { window._pyforest_update_imports_cell('import pandas as pd\\nimport matplotlib.pyplot as plt\\nimport seaborn as sns'); }\n",
       "    "
      ],
      "text/plain": [
       "<IPython.core.display.Javascript object>"
      ]
     },
     "metadata": {},
     "output_type": "display_data"
    },
    {
     "data": {
      "text/plain": [
       "<AxesSubplot:xlabel='price'>"
      ]
     },
     "execution_count": 63,
     "metadata": {},
     "output_type": "execute_result"
    },
    {
     "data": {
      "image/png": "[encoded data removed]",
      "text/plain": [
       "<Figure size 432x288 with 1 Axes>"
      ]
     },
     "metadata": {
      "needs_background": "light"
     },
     "output_type": "display_data"
    }
   ],
   "source": [
    "sns.boxplot(df.price)"
   ]
  },
  {
   "cell_type": "code",
   "execution_count": null,
   "id": "editorial-sharp",
   "metadata": {},
   "outputs": [],
   "source": [
    "sns.set(rc={'figure.figsize':(16.7,12.27)})\n",
    "sns.heatmap(df.corr(), annot=True)"
   ]
  },
  {
   "cell_type": "code",
   "execution_count": 79,
   "id": "intensive-moses",
   "metadata": {
    "ExecuteTime": {
     "end_time": "2021-08-30T11:17:39.421295Z",
     "start_time": "2021-08-30T11:17:39.402374Z"
    }
   },
   "outputs": [
    {
     "name": "stdout",
     "output_type": "stream",
     "text": [
      "<class 'pandas.core.frame.DataFrame'>\n",
      "Int64Index: 9040 entries, 0 to 9999\n",
      "Data columns (total 9 columns):\n",
      " #   Column            Non-Null Count  Dtype         \n",
      "---  ------            --------------  -----         \n",
      " 0   distance          9040 non-null   float64       \n",
      " 1   cab_type          9040 non-null   int8          \n",
      " 2   time_stamp        9040 non-null   datetime64[ns]\n",
      " 3   destination       9040 non-null   int8          \n",
      " 4   source            9040 non-null   int8          \n",
      " 5   price             9040 non-null   float64       \n",
      " 6   surge_multiplier  9040 non-null   float64       \n",
      " 7   name              9040 non-null   int8          \n",
      " 8   date              9040 non-null   object        \n",
      "dtypes: datetime64[ns](1), float64(3), int8(4), object(1)\n",
      "memory usage: 459.1+ KB\n"
     ]
    }
   ],
   "source": [
    "df.info()"
   ]
  },
  {
   "cell_type": "code",
   "execution_count": 82,
   "id": "promotional-chuck",
   "metadata": {
    "ExecuteTime": {
     "end_time": "2021-08-30T11:18:45.780321Z",
     "start_time": "2021-08-30T11:18:45.767384Z"
    }
   },
   "outputs": [
    {
     "data": {
      "text/html": [
       "<div>\n",
       "<style scoped>\n",
       "    .dataframe tbody tr th:only-of-type {\n",
       "        vertical-align: middle;\n",
       "    }\n",
       "\n",
       "    .dataframe tbody tr th {\n",
       "        vertical-align: top;\n",
       "    }\n",
       "\n",
       "    .dataframe thead th {\n",
       "        text-align: right;\n",
       "    }\n",
       "</style>\n",
       "<table border=\"1\" class=\"dataframe\">\n",
       "  <thead>\n",
       "    <tr style=\"text-align: right;\">\n",
       "      <th></th>\n",
       "      <th>distance</th>\n",
       "      <th>cab_type</th>\n",
       "      <th>destination</th>\n",
       "      <th>source</th>\n",
       "      <th>price</th>\n",
       "      <th>surge_multiplier</th>\n",
       "      <th>name</th>\n",
       "    </tr>\n",
       "  </thead>\n",
       "  <tbody>\n",
       "    <tr>\n",
       "      <th>0</th>\n",
       "      <td>0.44</td>\n",
       "      <td>0</td>\n",
       "      <td>7</td>\n",
       "      <td>5</td>\n",
       "      <td>5.0</td>\n",
       "      <td>1.0</td>\n",
       "      <td>7</td>\n",
       "    </tr>\n",
       "    <tr>\n",
       "      <th>1</th>\n",
       "      <td>0.44</td>\n",
       "      <td>0</td>\n",
       "      <td>7</td>\n",
       "      <td>5</td>\n",
       "      <td>11.0</td>\n",
       "      <td>1.0</td>\n",
       "      <td>2</td>\n",
       "    </tr>\n",
       "    <tr>\n",
       "      <th>2</th>\n",
       "      <td>0.44</td>\n",
       "      <td>0</td>\n",
       "      <td>7</td>\n",
       "      <td>5</td>\n",
       "      <td>7.0</td>\n",
       "      <td>1.0</td>\n",
       "      <td>5</td>\n",
       "    </tr>\n",
       "    <tr>\n",
       "      <th>3</th>\n",
       "      <td>0.44</td>\n",
       "      <td>0</td>\n",
       "      <td>7</td>\n",
       "      <td>5</td>\n",
       "      <td>26.0</td>\n",
       "      <td>1.0</td>\n",
       "      <td>4</td>\n",
       "    </tr>\n",
       "    <tr>\n",
       "      <th>4</th>\n",
       "      <td>0.44</td>\n",
       "      <td>0</td>\n",
       "      <td>7</td>\n",
       "      <td>5</td>\n",
       "      <td>9.0</td>\n",
       "      <td>1.0</td>\n",
       "      <td>6</td>\n",
       "    </tr>\n",
       "  </tbody>\n",
       "</table>\n",
       "</div>"
      ],
      "text/plain": [
       "   distance  cab_type  destination  source  price  surge_multiplier  name\n",
       "0      0.44         0            7       5    5.0               1.0     7\n",
       "1      0.44         0            7       5   11.0               1.0     2\n",
       "2      0.44         0            7       5    7.0               1.0     5\n",
       "3      0.44         0            7       5   26.0               1.0     4\n",
       "4      0.44         0            7       5    9.0               1.0     6"
      ]
     },
     "execution_count": 82,
     "metadata": {},
     "output_type": "execute_result"
    }
   ],
   "source": [
    "df.head()"
   ]
  },
  {
   "cell_type": "code",
   "execution_count": 74,
   "id": "modified-entity",
   "metadata": {
    "ExecuteTime": {
     "end_time": "2021-08-30T11:14:08.900870Z",
     "start_time": "2021-08-30T11:14:08.892891Z"
    }
   },
   "outputs": [
    {
     "data": {
      "application/javascript": [
       "\n",
       "        if (window._pyforest_update_imports_cell) { window._pyforest_update_imports_cell('import pandas as pd\\nimport matplotlib.pyplot as plt\\nimport seaborn as sns'); }\n",
       "    "
      ],
      "text/plain": [
       "<IPython.core.display.Javascript object>"
      ]
     },
     "metadata": {},
     "output_type": "display_data"
    }
   ],
   "source": [
    "df.time_stamp = pd.to_datetime(df.time_stamp)"
   ]
  },
  {
   "cell_type": "code",
   "execution_count": 76,
   "id": "spanish-myanmar",
   "metadata": {
    "ExecuteTime": {
     "end_time": "2021-08-30T11:16:35.323162Z",
     "start_time": "2021-08-30T11:16:35.316210Z"
    }
   },
   "outputs": [],
   "source": [
    "df['date'] = df.time_stamp.dt.date"
   ]
  },
  {
   "cell_type": "code",
   "execution_count": 81,
   "id": "proof-morocco",
   "metadata": {
    "ExecuteTime": {
     "end_time": "2021-08-30T11:18:42.288191Z",
     "start_time": "2021-08-30T11:18:42.282237Z"
    }
   },
   "outputs": [],
   "source": [
    "df.drop(columns=['time_stamp','date'], axis=1, inplace=True)"
   ]
  },
  {
   "cell_type": "code",
   "execution_count": null,
   "id": "biblical-magic",
   "metadata": {},
   "outputs": [],
   "source": [
    "df['date'] = df.time_stamp.dt.date"
   ]
  },
  {
   "cell_type": "code",
   "execution_count": 71,
   "id": "distinguished-postcard",
   "metadata": {
    "ExecuteTime": {
     "end_time": "2021-08-30T11:07:55.691804Z",
     "start_time": "2021-08-30T11:07:55.672826Z"
    }
   },
   "outputs": [
    {
     "data": {
      "application/javascript": [
       "\n",
       "        if (window._pyforest_update_imports_cell) { window._pyforest_update_imports_cell('import pandas as pd\\nimport matplotlib.pyplot as plt\\nimport seaborn as sns'); }\n",
       "    "
      ],
      "text/plain": [
       "<IPython.core.display.Javascript object>"
      ]
     },
     "metadata": {},
     "output_type": "display_data"
    },
    {
     "data": {
      "application/javascript": [
       "\n",
       "        if (window._pyforest_update_imports_cell) { window._pyforest_update_imports_cell('import pandas as pd\\nimport matplotlib.pyplot as plt\\nimport seaborn as sns'); }\n",
       "    "
      ],
      "text/plain": [
       "<IPython.core.display.Javascript object>"
      ]
     },
     "metadata": {},
     "output_type": "display_data"
    },
    {
     "data": {
      "application/javascript": [
       "\n",
       "        if (window._pyforest_update_imports_cell) { window._pyforest_update_imports_cell('import pandas as pd\\nimport matplotlib.pyplot as plt\\nimport seaborn as sns'); }\n",
       "    "
      ],
      "text/plain": [
       "<IPython.core.display.Javascript object>"
      ]
     },
     "metadata": {},
     "output_type": "display_data"
    },
    {
     "data": {
      "application/javascript": [
       "\n",
       "        if (window._pyforest_update_imports_cell) { window._pyforest_update_imports_cell('import pandas as pd\\nimport matplotlib.pyplot as plt\\nimport seaborn as sns'); }\n",
       "    "
      ],
      "text/plain": [
       "<IPython.core.display.Javascript object>"
      ]
     },
     "metadata": {},
     "output_type": "display_data"
    }
   ],
   "source": [
    "df.cab_type    = pd.Categorical(df.cab_type).codes\n",
    "df.destination = pd.Categorical(df.destination).codes\n",
    "df.source      = pd.Categorical(df.source).codes\n",
    "df.name        = pd.Categorical(df.name).codes"
   ]
  },
  {
   "cell_type": "code",
   "execution_count": 83,
   "id": "mounted-paris",
   "metadata": {
    "ExecuteTime": {
     "end_time": "2021-08-30T11:18:49.516967Z",
     "start_time": "2021-08-30T11:18:49.179357Z"
    }
   },
   "outputs": [
    {
     "data": {
      "application/javascript": [
       "\n",
       "        if (window._pyforest_update_imports_cell) { window._pyforest_update_imports_cell('import pandas as pd\\nimport matplotlib.pyplot as plt\\nimport seaborn as sns'); }\n",
       "    "
      ],
      "text/plain": [
       "<IPython.core.display.Javascript object>"
      ]
     },
     "metadata": {},
     "output_type": "display_data"
    },
    {
     "data": {
      "application/javascript": [
       "\n",
       "        if (window._pyforest_update_imports_cell) { window._pyforest_update_imports_cell('import pandas as pd\\nimport matplotlib.pyplot as plt\\nimport seaborn as sns'); }\n",
       "    "
      ],
      "text/plain": [
       "<IPython.core.display.Javascript object>"
      ]
     },
     "metadata": {},
     "output_type": "display_data"
    },
    {
     "data": {
      "text/plain": [
       "<AxesSubplot:>"
      ]
     },
     "execution_count": 83,
     "metadata": {},
     "output_type": "execute_result"
    },
    {
     "data": {
      "image/png": "[encoded data removed]",
      "text/plain": [
       "<Figure size 1202.4x883.44 with 2 Axes>"
      ]
     },
     "metadata": {},
     "output_type": "display_data"
    }
   ],
   "source": [
    "sns.set(rc={'figure.figsize':(16.7,12.27)})\n",
    "sns.heatmap(df.corr(), annot=True)"
   ]
  },
  {
   "cell_type": "code",
   "execution_count": 91,
   "id": "thrown-platinum",
   "metadata": {
    "ExecuteTime": {
     "end_time": "2021-08-30T11:21:52.699382Z",
     "start_time": "2021-08-30T11:21:52.687412Z"
    }
   },
   "outputs": [],
   "source": [
    "from sklearn.pipeline import Pipeline"
   ]
  },
  {
   "cell_type": "code",
   "execution_count": 88,
   "id": "confident-champion",
   "metadata": {
    "ExecuteTime": {
     "end_time": "2021-08-30T11:21:30.685162Z",
     "start_time": "2021-08-30T11:21:30.674221Z"
    }
   },
   "outputs": [],
   "source": [
    "from sklearn.metrics import mean_squared_log_error,r2_score, mean_absolute_error\n",
    "from sklearn.tree import DecisionTreeRegressor\n",
    "from sklearn.ensemble import RandomForestRegressor"
   ]
  },
  {
   "cell_type": "code",
   "execution_count": 86,
   "id": "improved-water",
   "metadata": {
    "ExecuteTime": {
     "end_time": "2021-08-30T11:20:03.720010Z",
     "start_time": "2021-08-30T11:20:03.711062Z"
    }
   },
   "outputs": [],
   "source": [
    "import joblib\n",
    "from sklearn.decomposition import PCA"
   ]
  },
  {
   "cell_type": "code",
   "execution_count": 98,
   "id": "selected-furniture",
   "metadata": {
    "ExecuteTime": {
     "end_time": "2021-08-30T11:23:32.731409Z",
     "start_time": "2021-08-30T11:23:32.722436Z"
    }
   },
   "outputs": [],
   "source": [
    "from sklearn.model_selection import train_test_split"
   ]
  },
  {
   "cell_type": "code",
   "execution_count": 100,
   "id": "assisted-package",
   "metadata": {
    "ExecuteTime": {
     "end_time": "2021-08-30T11:24:19.178433Z",
     "start_time": "2021-08-30T11:24:19.171481Z"
    }
   },
   "outputs": [],
   "source": [
    "X = df.drop(['price'], axis=1).values\n",
    "Y = df['price'].values"
   ]
  },
  {
   "cell_type": "code",
   "execution_count": 101,
   "id": "critical-guatemala",
   "metadata": {
    "ExecuteTime": {
     "end_time": "2021-08-30T11:24:20.113451Z",
     "start_time": "2021-08-30T11:24:20.098531Z"
    }
   },
   "outputs": [],
   "source": [
    "X_train, X_test, y_train, y_test = train_test_split(X, Y, test_size=0.2, random_state=0)"
   ]
  },
  {
   "cell_type": "code",
   "execution_count": 119,
   "id": "lightweight-postcard",
   "metadata": {
    "ExecuteTime": {
     "end_time": "2021-08-30T11:29:36.623732Z",
     "start_time": "2021-08-30T11:29:36.615754Z"
    }
   },
   "outputs": [
    {
     "name": "stdout",
     "output_type": "stream",
     "text": [
      "X_train:(7232, 6), X_test:(1808, 6)\n"
     ]
    }
   ],
   "source": [
    "print('X_train:{}, X_test:{}'.format(X_train.shape, X_test.shape))"
   ]
  },
  {
   "cell_type": "code",
   "execution_count": 126,
   "id": "ordered-shell",
   "metadata": {
    "ExecuteTime": {
     "end_time": "2021-08-30T11:30:05.866086Z",
     "start_time": "2021-08-30T11:30:05.844144Z"
    }
   },
   "outputs": [
    {
     "data": {
      "application/javascript": [
       "\n",
       "        if (window._pyforest_update_imports_cell) { window._pyforest_update_imports_cell('import pandas as pd\\nimport matplotlib.pyplot as plt\\nfrom sklearn.preprocessing import StandardScaler\\nfrom sklearn.linear_model import LinearRegression\\nimport seaborn as sns'); }\n",
       "    "
      ],
      "text/plain": [
       "<IPython.core.display.Javascript object>"
      ]
     },
     "metadata": {},
     "output_type": "display_data"
    },
    {
     "data": {
      "application/javascript": [
       "\n",
       "        if (window._pyforest_update_imports_cell) { window._pyforest_update_imports_cell('import pandas as pd\\nimport matplotlib.pyplot as plt\\nfrom sklearn.preprocessing import StandardScaler\\nfrom sklearn.linear_model import LinearRegression\\nimport seaborn as sns'); }\n",
       "    "
      ],
      "text/plain": [
       "<IPython.core.display.Javascript object>"
      ]
     },
     "metadata": {},
     "output_type": "display_data"
    },
    {
     "data": {
      "application/javascript": [
       "\n",
       "        if (window._pyforest_update_imports_cell) { window._pyforest_update_imports_cell('import pandas as pd\\nimport matplotlib.pyplot as plt\\nfrom sklearn.preprocessing import StandardScaler\\nfrom sklearn.linear_model import LinearRegression\\nimport seaborn as sns'); }\n",
       "    "
      ],
      "text/plain": [
       "<IPython.core.display.Javascript object>"
      ]
     },
     "metadata": {},
     "output_type": "display_data"
    },
    {
     "data": {
      "application/javascript": [
       "\n",
       "        if (window._pyforest_update_imports_cell) { window._pyforest_update_imports_cell('import pandas as pd\\nimport matplotlib.pyplot as plt\\nfrom sklearn.preprocessing import StandardScaler\\nfrom sklearn.linear_model import LinearRegression\\nimport seaborn as sns'); }\n",
       "    "
      ],
      "text/plain": [
       "<IPython.core.display.Javascript object>"
      ]
     },
     "metadata": {},
     "output_type": "display_data"
    }
   ],
   "source": [
    "pipeline = Pipeline([\n",
    "    ('scaler1', StandardScaler()),\n",
    "    ('pca1',PCA(n_components=3)),\n",
    "    ('lr_regression',LinearRegression())\n",
    "])\n",
    "\n",
    "pipeline1 = Pipeline([\n",
    "    ('scaler1', StandardScaler()),\n",
    "    ('pca1',PCA(n_components=3)),\n",
    "    ('dt_regression',DecisionTreeRegressor())\n",
    "])\n",
    "\n",
    "pipeline2 = Pipeline([\n",
    "    ('scaler1', StandardScaler()),\n",
    "    ('pca1',PCA(n_components=3)),\n",
    "    ('rf_regression',RandomForestRegressor())\n",
    "])"
   ]
  },
  {
   "cell_type": "code",
   "execution_count": 127,
   "id": "steady-overall",
   "metadata": {
    "ExecuteTime": {
     "end_time": "2021-08-30T11:30:06.263260Z",
     "start_time": "2021-08-30T11:30:06.249300Z"
    }
   },
   "outputs": [],
   "source": [
    "pipelines = [pipeline, pipeline1, pipeline2]"
   ]
  },
  {
   "cell_type": "code",
   "execution_count": 128,
   "id": "thousand-suicide",
   "metadata": {
    "ExecuteTime": {
     "end_time": "2021-08-30T11:30:06.637339Z",
     "start_time": "2021-08-30T11:30:06.626339Z"
    }
   },
   "outputs": [
    {
     "name": "stdout",
     "output_type": "stream",
     "text": [
      "[('scaler1', StandardScaler()), ('pca1', PCA(n_components=3)), ('lr_regression', LinearRegression())]\n",
      "[('scaler1', StandardScaler()), ('pca1', PCA(n_components=3)), ('dt_regression', DecisionTreeRegressor())]\n",
      "[('scaler1', StandardScaler()), ('pca1', PCA(n_components=3)), ('rf_regression', RandomForestRegressor())]\n"
     ]
    }
   ],
   "source": [
    "for pipe in pipelines:\n",
    "\tprint(pipe.steps)"
   ]
  },
  {
   "cell_type": "code",
   "execution_count": 129,
   "id": "fallen-upgrade",
   "metadata": {
    "ExecuteTime": {
     "end_time": "2021-08-30T11:30:07.050457Z",
     "start_time": "2021-08-30T11:30:07.046438Z"
    }
   },
   "outputs": [],
   "source": [
    "best_accuracy=0.0\n",
    "best_regressor=0\n",
    "best_pipeline=\"\""
   ]
  },
  {
   "cell_type": "code",
   "execution_count": 130,
   "id": "cellular-madrid",
   "metadata": {
    "ExecuteTime": {
     "end_time": "2021-08-30T11:30:08.751332Z",
     "start_time": "2021-08-30T11:30:07.611762Z"
    }
   },
   "outputs": [],
   "source": [
    "pipe_dict = {0: 'Linear Regression', 1: 'Decision Tree', 2: 'RandomForest'}\n",
    "\n",
    "# Fit the pipelines\n",
    "for pipe in pipelines:\n",
    "\tpipe.fit(X_train, y_train)"
   ]
  },
  {
   "cell_type": "code",
   "execution_count": 131,
   "id": "ideal-national",
   "metadata": {
    "ExecuteTime": {
     "end_time": "2021-08-30T11:30:09.066267Z",
     "start_time": "2021-08-30T11:30:08.813941Z"
    }
   },
   "outputs": [
    {
     "name": "stdout",
     "output_type": "stream",
     "text": [
      "Linear Regression Test Accuracy: 0.22373028387616223\n",
      "r2_score of train data is:- 0.24913258178457665\n",
      "mean_squared_log Train Error is  0.46963357338834744\n",
      "************************************************************\n",
      "\n",
      "Decision Tree Test Accuracy: 0.8903697588110918\n",
      "r2_score of train data is:- 0.9861592844356446\n",
      "mean_squared_log Train Error is  0.07516102248985085\n",
      "************************************************************\n",
      "\n",
      "RandomForest Test Accuracy: 0.9257580073218004\n",
      "r2_score of train data is:- 0.9782191834161662\n",
      "mean_squared_log Train Error is  0.09192922546031083\n",
      "************************************************************\n",
      "\n"
     ]
    }
   ],
   "source": [
    "for i,model in enumerate(pipelines):\n",
    "    print(\"{} Test Accuracy: {}\".format(pipe_dict[i],model.score(X_test,y_test)))\n",
    "    print('r2_score of train data is:-',r2_score(y_train,model.predict(X_train)))\n",
    "    print(\"mean_squared_log Train Error is \",np.sqrt(mean_squared_log_error(np.round(y_train),np.round(model.predict(X_train)))))\n",
    "    print('*'*60)\n",
    "    print()"
   ]
  },
  {
   "cell_type": "code",
   "execution_count": null,
   "id": "boring-tutorial",
   "metadata": {},
   "outputs": [],
   "source": []
  }
 ],
 "metadata": {
  "kernelspec": {
   "display_name": "Python 3 (ipykernel)",
   "language": "python",
   "name": "python3"
  },
  "language_info": {
   "codemirror_mode": {
    "name": "ipython",
    "version": 3
   },
   "file_extension": ".py",
   "mimetype": "text/x-python",
   "name": "python",
   "nbconvert_exporter": "python",
   "pygments_lexer": "ipython3",
   "version": "3.8.10"
  },
  "varInspector": {
   "cols": {
    "lenName": 16,
    "lenType": 16,
    "lenVar": 40
   },
   "kernels_config": {
    "python": {
     "delete_cmd_postfix": "",
     "delete_cmd_prefix": "del ",
     "library": "var_list.py",
     "varRefreshCmd": "print(var_dic_list())"
    },
    "r": {
     "delete_cmd_postfix": ") ",
     "delete_cmd_prefix": "rm(",
     "library": "var_list.r",
     "varRefreshCmd": "cat(var_dic_list()) "
    }
   },
   "types_to_exclude": [
    "module",
    "function",
    "builtin_function_or_method",
    "instance",
    "_Feature"
   ],
   "window_display": false
  }
 },
 "nbformat": 4,
 "nbformat_minor": 5
}
