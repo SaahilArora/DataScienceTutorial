{
 "cells": [
  {
   "cell_type": "code",
   "execution_count": 1,
   "id": "missing-diary",
   "metadata": {
    "ExecuteTime": {
     "end_time": "2021-09-24T16:16:28.879343Z",
     "start_time": "2021-09-24T16:16:28.866377Z"
    }
   },
   "outputs": [],
   "source": [
    "%config Completer.use_jedi = False"
   ]
  },
  {
   "cell_type": "code",
   "execution_count": 2,
   "id": "following-sheffield",
   "metadata": {
    "ExecuteTime": {
     "end_time": "2021-09-24T16:16:36.308664Z",
     "start_time": "2021-09-24T16:16:34.789409Z"
    }
   },
   "outputs": [
    {
     "data": {
      "application/javascript": [
       "\n",
       "        if (window._pyforest_update_imports_cell) { window._pyforest_update_imports_cell('import pandas as pd'); }\n",
       "    "
      ],
      "text/plain": [
       "<IPython.core.display.Javascript object>"
      ]
     },
     "metadata": {},
     "output_type": "display_data"
    }
   ],
   "source": [
    "import warnings\n",
    "warnings.filterwarnings(\"ignore\")\n",
    "pd.set_option('display.max_columns', None)"
   ]
  },
  {
   "cell_type": "code",
   "execution_count": 3,
   "id": "musical-brake",
   "metadata": {
    "ExecuteTime": {
     "end_time": "2021-09-24T16:16:55.724049Z",
     "start_time": "2021-09-24T16:16:55.685577Z"
    }
   },
   "outputs": [
    {
     "data": {
      "application/javascript": [
       "\n",
       "        if (window._pyforest_update_imports_cell) { window._pyforest_update_imports_cell('import pandas as pd'); }\n",
       "    "
      ],
      "text/plain": [
       "<IPython.core.display.Javascript object>"
      ]
     },
     "metadata": {},
     "output_type": "display_data"
    }
   ],
   "source": [
    "df = pd.read_csv('./datalab/Mercedez/merc.csv')"
   ]
  },
  {
   "cell_type": "code",
   "execution_count": 4,
   "id": "comparable-herald",
   "metadata": {
    "ExecuteTime": {
     "end_time": "2021-09-24T16:16:59.093372Z",
     "start_time": "2021-09-24T16:16:59.084400Z"
    }
   },
   "outputs": [
    {
     "data": {
      "text/plain": [
       "(13119, 9)"
      ]
     },
     "execution_count": 4,
     "metadata": {},
     "output_type": "execute_result"
    }
   ],
   "source": [
    "df.shape"
   ]
  },
  {
   "cell_type": "code",
   "execution_count": 18,
   "id": "legitimate-capacity",
   "metadata": {
    "ExecuteTime": {
     "end_time": "2021-09-24T16:23:08.834353Z",
     "start_time": "2021-09-24T16:23:08.810389Z"
    }
   },
   "outputs": [
    {
     "name": "stdout",
     "output_type": "stream",
     "text": [
      "<class 'pandas.core.frame.DataFrame'>\n",
      "Int64Index: 12860 entries, 0 to 13118\n",
      "Data columns (total 9 columns):\n",
      " #   Column        Non-Null Count  Dtype  \n",
      "---  ------        --------------  -----  \n",
      " 0   model         12860 non-null  object \n",
      " 1   year          12860 non-null  int64  \n",
      " 2   price         12860 non-null  int64  \n",
      " 3   transmission  12860 non-null  object \n",
      " 4   mileage       12860 non-null  int64  \n",
      " 5   fuelType      12860 non-null  object \n",
      " 6   tax           12860 non-null  int64  \n",
      " 7   mpg           12860 non-null  float64\n",
      " 8   engineSize    12860 non-null  float64\n",
      "dtypes: float64(2), int64(4), object(3)\n",
      "memory usage: 3.1 MB\n"
     ]
    }
   ],
   "source": [
    "df.info(memory_usage='deep')"
   ]
  },
  {
   "cell_type": "code",
   "execution_count": 17,
   "id": "ready-argentina",
   "metadata": {
    "ExecuteTime": {
     "end_time": "2021-09-24T16:23:05.384766Z",
     "start_time": "2021-09-24T16:23:05.360649Z"
    }
   },
   "outputs": [
    {
     "data": {
      "text/plain": [
       "0"
      ]
     },
     "execution_count": 17,
     "metadata": {},
     "output_type": "execute_result"
    }
   ],
   "source": [
    "df.duplicated().sum()"
   ]
  },
  {
   "cell_type": "code",
   "execution_count": 21,
   "id": "certified-niagara",
   "metadata": {
    "ExecuteTime": {
     "end_time": "2021-09-24T16:23:25.997724Z",
     "start_time": "2021-09-24T16:23:25.974752Z"
    }
   },
   "outputs": [
    {
     "data": {
      "text/plain": [
       "model           0\n",
       "year            0\n",
       "price           0\n",
       "transmission    0\n",
       "mileage         0\n",
       "fuelType        0\n",
       "tax             0\n",
       "mpg             0\n",
       "engineSize      0\n",
       "dtype: int64"
      ]
     },
     "execution_count": 21,
     "metadata": {},
     "output_type": "execute_result"
    }
   ],
   "source": [
    "df.isna().sum()"
   ]
  },
  {
   "cell_type": "code",
   "execution_count": 10,
   "id": "piano-debate",
   "metadata": {
    "ExecuteTime": {
     "end_time": "2021-09-24T16:19:09.002583Z",
     "start_time": "2021-09-24T16:19:08.990647Z"
    }
   },
   "outputs": [],
   "source": [
    "df.drop_duplicates(inplace=True)"
   ]
  },
  {
   "cell_type": "code",
   "execution_count": 20,
   "id": "forty-george",
   "metadata": {
    "ExecuteTime": {
     "end_time": "2021-09-24T16:23:22.068596Z",
     "start_time": "2021-09-24T16:23:22.045658Z"
    }
   },
   "outputs": [
    {
     "data": {
      "text/html": [
       "<div>\n",
       "<style scoped>\n",
       "    .dataframe tbody tr th:only-of-type {\n",
       "        vertical-align: middle;\n",
       "    }\n",
       "\n",
       "    .dataframe tbody tr th {\n",
       "        vertical-align: top;\n",
       "    }\n",
       "\n",
       "    .dataframe thead th {\n",
       "        text-align: right;\n",
       "    }\n",
       "</style>\n",
       "<table border=\"1\" class=\"dataframe\">\n",
       "  <thead>\n",
       "    <tr style=\"text-align: right;\">\n",
       "      <th></th>\n",
       "      <th>model</th>\n",
       "      <th>year</th>\n",
       "      <th>price</th>\n",
       "      <th>transmission</th>\n",
       "      <th>mileage</th>\n",
       "      <th>fuelType</th>\n",
       "      <th>tax</th>\n",
       "      <th>mpg</th>\n",
       "      <th>engineSize</th>\n",
       "    </tr>\n",
       "  </thead>\n",
       "  <tbody>\n",
       "    <tr>\n",
       "      <th>1</th>\n",
       "      <td>S Class</td>\n",
       "      <td>2017</td>\n",
       "      <td>34948</td>\n",
       "      <td>Automatic</td>\n",
       "      <td>27000</td>\n",
       "      <td>Hybrid</td>\n",
       "      <td>20</td>\n",
       "      <td>61.4</td>\n",
       "      <td>2.1</td>\n",
       "    </tr>\n",
       "    <tr>\n",
       "      <th>2</th>\n",
       "      <td>SL CLASS</td>\n",
       "      <td>2016</td>\n",
       "      <td>49948</td>\n",
       "      <td>Automatic</td>\n",
       "      <td>6200</td>\n",
       "      <td>Petrol</td>\n",
       "      <td>555</td>\n",
       "      <td>28.0</td>\n",
       "      <td>5.5</td>\n",
       "    </tr>\n",
       "    <tr>\n",
       "      <th>3</th>\n",
       "      <td>G Class</td>\n",
       "      <td>2016</td>\n",
       "      <td>61948</td>\n",
       "      <td>Automatic</td>\n",
       "      <td>16000</td>\n",
       "      <td>Petrol</td>\n",
       "      <td>325</td>\n",
       "      <td>30.4</td>\n",
       "      <td>4.0</td>\n",
       "    </tr>\n",
       "    <tr>\n",
       "      <th>4</th>\n",
       "      <td>G Class</td>\n",
       "      <td>2016</td>\n",
       "      <td>73948</td>\n",
       "      <td>Automatic</td>\n",
       "      <td>4000</td>\n",
       "      <td>Petrol</td>\n",
       "      <td>325</td>\n",
       "      <td>30.1</td>\n",
       "      <td>4.0</td>\n",
       "    </tr>\n",
       "    <tr>\n",
       "      <th>5</th>\n",
       "      <td>SL CLASS</td>\n",
       "      <td>2011</td>\n",
       "      <td>149948</td>\n",
       "      <td>Automatic</td>\n",
       "      <td>3000</td>\n",
       "      <td>Petrol</td>\n",
       "      <td>570</td>\n",
       "      <td>21.4</td>\n",
       "      <td>6.2</td>\n",
       "    </tr>\n",
       "  </tbody>\n",
       "</table>\n",
       "</div>"
      ],
      "text/plain": [
       "       model  year   price transmission  mileage fuelType  tax   mpg  \\\n",
       "1    S Class  2017   34948    Automatic    27000   Hybrid   20  61.4   \n",
       "2   SL CLASS  2016   49948    Automatic     6200   Petrol  555  28.0   \n",
       "3    G Class  2016   61948    Automatic    16000   Petrol  325  30.4   \n",
       "4    G Class  2016   73948    Automatic     4000   Petrol  325  30.1   \n",
       "5   SL CLASS  2011  149948    Automatic     3000   Petrol  570  21.4   \n",
       "\n",
       "   engineSize  \n",
       "1         2.1  \n",
       "2         5.5  \n",
       "3         4.0  \n",
       "4         4.0  \n",
       "5         6.2  "
      ]
     },
     "execution_count": 20,
     "metadata": {},
     "output_type": "execute_result"
    }
   ],
   "source": [
    "df.head()"
   ]
  },
  {
   "cell_type": "code",
   "execution_count": 12,
   "id": "lucky-couple",
   "metadata": {
    "ExecuteTime": {
     "end_time": "2021-09-24T16:19:52.620298Z",
     "start_time": "2021-09-24T16:19:52.602346Z"
    }
   },
   "outputs": [
    {
     "data": {
      "text/plain": [
       "array([' SLK', ' S Class', ' SL CLASS', ' G Class', ' GLE Class',\n",
       "       ' GLA Class', ' A Class', ' B Class', ' GLC Class', ' C Class',\n",
       "       ' E Class', ' GL Class', ' CLS Class', ' CLC Class', ' CLA Class',\n",
       "       ' V Class', ' M Class', ' CL Class', ' GLS Class', ' GLB Class',\n",
       "       ' X-CLASS', '180', ' CLK', ' R Class', '230', '220', '200'],\n",
       "      dtype=object)"
      ]
     },
     "execution_count": 12,
     "metadata": {},
     "output_type": "execute_result"
    }
   ],
   "source": [
    "df.model.unique()"
   ]
  },
  {
   "cell_type": "code",
   "execution_count": 19,
   "id": "naval-insulation",
   "metadata": {
    "ExecuteTime": {
     "end_time": "2021-09-24T16:23:18.073972Z",
     "start_time": "2021-09-24T16:23:18.068985Z"
    }
   },
   "outputs": [],
   "source": [
    "df= df[df.year>2010]"
   ]
  },
  {
   "cell_type": "code",
   "execution_count": 23,
   "id": "fuzzy-essex",
   "metadata": {
    "ExecuteTime": {
     "end_time": "2021-09-24T16:23:50.297962Z",
     "start_time": "2021-09-24T16:23:50.276964Z"
    }
   },
   "outputs": [
    {
     "data": {
      "text/plain": [
       "Semi-Auto    6637\n",
       "Automatic    4658\n",
       "Manual       1404\n",
       "Other           2\n",
       "Name: transmission, dtype: int64"
      ]
     },
     "execution_count": 23,
     "metadata": {},
     "output_type": "execute_result"
    }
   ],
   "source": [
    "df.transmission.value_counts()"
   ]
  },
  {
   "cell_type": "code",
   "execution_count": 24,
   "id": "computational-resort",
   "metadata": {
    "ExecuteTime": {
     "end_time": "2021-09-24T16:24:08.049316Z",
     "start_time": "2021-09-24T16:24:08.033359Z"
    }
   },
   "outputs": [
    {
     "data": {
      "text/plain": [
       "Diesel    8962\n",
       "Petrol    3562\n",
       "Hybrid     170\n",
       "Other        7\n",
       "Name: fuelType, dtype: int64"
      ]
     },
     "execution_count": 24,
     "metadata": {},
     "output_type": "execute_result"
    }
   ],
   "source": [
    "df.fuelType.value_counts()"
   ]
  },
  {
   "cell_type": "code",
   "execution_count": 80,
   "id": "charitable-morrison",
   "metadata": {
    "ExecuteTime": {
     "end_time": "2021-09-24T16:55:37.407946Z",
     "start_time": "2021-09-24T16:55:37.378026Z"
    }
   },
   "outputs": [
    {
     "data": {
      "text/html": [
       "<div>\n",
       "<style scoped>\n",
       "    .dataframe tbody tr th:only-of-type {\n",
       "        vertical-align: middle;\n",
       "    }\n",
       "\n",
       "    .dataframe tbody tr th {\n",
       "        vertical-align: top;\n",
       "    }\n",
       "\n",
       "    .dataframe thead th {\n",
       "        text-align: right;\n",
       "    }\n",
       "</style>\n",
       "<table border=\"1\" class=\"dataframe\">\n",
       "  <thead>\n",
       "    <tr style=\"text-align: right;\">\n",
       "      <th></th>\n",
       "      <th>year</th>\n",
       "      <th>price</th>\n",
       "      <th>mileage</th>\n",
       "      <th>tax</th>\n",
       "      <th>mpg</th>\n",
       "      <th>engineSize</th>\n",
       "    </tr>\n",
       "  </thead>\n",
       "  <tbody>\n",
       "    <tr>\n",
       "      <th>count</th>\n",
       "      <td>12189.000000</td>\n",
       "      <td>12189.000000</td>\n",
       "      <td>12189.000000</td>\n",
       "      <td>12189.000000</td>\n",
       "      <td>12189.000000</td>\n",
       "      <td>12189.000000</td>\n",
       "    </tr>\n",
       "    <tr>\n",
       "      <th>mean</th>\n",
       "      <td>2017.505866</td>\n",
       "      <td>25260.741816</td>\n",
       "      <td>19290.961933</td>\n",
       "      <td>129.171384</td>\n",
       "      <td>54.447034</td>\n",
       "      <td>2.067594</td>\n",
       "    </tr>\n",
       "    <tr>\n",
       "      <th>std</th>\n",
       "      <td>1.711724</td>\n",
       "      <td>11696.679261</td>\n",
       "      <td>15938.435351</td>\n",
       "      <td>58.538380</td>\n",
       "      <td>12.056096</td>\n",
       "      <td>0.568361</td>\n",
       "    </tr>\n",
       "    <tr>\n",
       "      <th>min</th>\n",
       "      <td>2011.000000</td>\n",
       "      <td>4295.000000</td>\n",
       "      <td>1.000000</td>\n",
       "      <td>0.000000</td>\n",
       "      <td>20.500000</td>\n",
       "      <td>0.000000</td>\n",
       "    </tr>\n",
       "    <tr>\n",
       "      <th>25%</th>\n",
       "      <td>2016.000000</td>\n",
       "      <td>17981.000000</td>\n",
       "      <td>6012.000000</td>\n",
       "      <td>125.000000</td>\n",
       "      <td>45.600000</td>\n",
       "      <td>1.600000</td>\n",
       "    </tr>\n",
       "    <tr>\n",
       "      <th>50%</th>\n",
       "      <td>2018.000000</td>\n",
       "      <td>22899.000000</td>\n",
       "      <td>14700.000000</td>\n",
       "      <td>145.000000</td>\n",
       "      <td>56.500000</td>\n",
       "      <td>2.000000</td>\n",
       "    </tr>\n",
       "    <tr>\n",
       "      <th>75%</th>\n",
       "      <td>2019.000000</td>\n",
       "      <td>29199.000000</td>\n",
       "      <td>29500.000000</td>\n",
       "      <td>145.000000</td>\n",
       "      <td>64.200000</td>\n",
       "      <td>2.100000</td>\n",
       "    </tr>\n",
       "    <tr>\n",
       "      <th>max</th>\n",
       "      <td>2020.000000</td>\n",
       "      <td>159999.000000</td>\n",
       "      <td>68000.000000</td>\n",
       "      <td>580.000000</td>\n",
       "      <td>80.700000</td>\n",
       "      <td>6.200000</td>\n",
       "    </tr>\n",
       "  </tbody>\n",
       "</table>\n",
       "</div>"
      ],
      "text/plain": [
       "               year          price       mileage           tax           mpg  \\\n",
       "count  12189.000000   12189.000000  12189.000000  12189.000000  12189.000000   \n",
       "mean    2017.505866   25260.741816  19290.961933    129.171384     54.447034   \n",
       "std        1.711724   11696.679261  15938.435351     58.538380     12.056096   \n",
       "min     2011.000000    4295.000000      1.000000      0.000000     20.500000   \n",
       "25%     2016.000000   17981.000000   6012.000000    125.000000     45.600000   \n",
       "50%     2018.000000   22899.000000  14700.000000    145.000000     56.500000   \n",
       "75%     2019.000000   29199.000000  29500.000000    145.000000     64.200000   \n",
       "max     2020.000000  159999.000000  68000.000000    580.000000     80.700000   \n",
       "\n",
       "         engineSize  \n",
       "count  12189.000000  \n",
       "mean       2.067594  \n",
       "std        0.568361  \n",
       "min        0.000000  \n",
       "25%        1.600000  \n",
       "50%        2.000000  \n",
       "75%        2.100000  \n",
       "max        6.200000  "
      ]
     },
     "execution_count": 80,
     "metadata": {},
     "output_type": "execute_result"
    }
   ],
   "source": [
    "df.describe()"
   ]
  },
  {
   "cell_type": "code",
   "execution_count": 28,
   "id": "stone-distributor",
   "metadata": {
    "ExecuteTime": {
     "end_time": "2021-09-24T16:26:34.275900Z",
     "start_time": "2021-09-24T16:26:34.257972Z"
    }
   },
   "outputs": [
    {
     "data": {
      "text/plain": [
       "(172, 9)"
      ]
     },
     "execution_count": 28,
     "metadata": {},
     "output_type": "execute_result"
    }
   ],
   "source": [
    "df[df.tax == 0].shape"
   ]
  },
  {
   "cell_type": "code",
   "execution_count": 66,
   "id": "accessory-shepherd",
   "metadata": {
    "ExecuteTime": {
     "end_time": "2021-09-24T16:48:57.798003Z",
     "start_time": "2021-09-24T16:48:57.707769Z"
    }
   },
   "outputs": [
    {
     "data": {
      "application/javascript": [
       "\n",
       "        if (window._pyforest_update_imports_cell) { window._pyforest_update_imports_cell('import seaborn as sns\\nimport pandas as pd'); }\n",
       "    "
      ],
      "text/plain": [
       "<IPython.core.display.Javascript object>"
      ]
     },
     "metadata": {},
     "output_type": "display_data"
    },
    {
     "data": {
      "text/plain": [
       "<AxesSubplot:xlabel='mileage'>"
      ]
     },
     "execution_count": 66,
     "metadata": {},
     "output_type": "execute_result"
    },
    {
     "data": {
      "image/png": "[encoded data removed]",
      "text/plain": [
       "<Figure size 432x288 with 1 Axes>"
      ]
     },
     "metadata": {
      "needs_background": "light"
     },
     "output_type": "display_data"
    }
   ],
   "source": [
    "sns.boxplot(df.mileage)"
   ]
  },
  {
   "cell_type": "code",
   "execution_count": 78,
   "id": "british-recall",
   "metadata": {
    "ExecuteTime": {
     "end_time": "2021-09-24T16:54:37.978080Z",
     "start_time": "2021-09-24T16:54:37.828121Z"
    }
   },
   "outputs": [
    {
     "data": {
      "application/javascript": [
       "\n",
       "        if (window._pyforest_update_imports_cell) { window._pyforest_update_imports_cell('import seaborn as sns\\nimport pandas as pd'); }\n",
       "    "
      ],
      "text/plain": [
       "<IPython.core.display.Javascript object>"
      ]
     },
     "metadata": {},
     "output_type": "display_data"
    },
    {
     "data": {
      "text/plain": [
       "<AxesSubplot:xlabel='mileage', ylabel='mpg'>"
      ]
     },
     "execution_count": 78,
     "metadata": {},
     "output_type": "execute_result"
    },
    {
     "data": {
      "image/png": "[encoded data removed]",
      "text/plain": [
       "<Figure size 432x288 with 1 Axes>"
      ]
     },
     "metadata": {
      "needs_background": "light"
     },
     "output_type": "display_data"
    }
   ],
   "source": [
    "sns.scatterplot(x=df.mileage, y=df.mpg)"
   ]
  },
  {
   "cell_type": "code",
   "execution_count": 35,
   "id": "bizarre-amendment",
   "metadata": {
    "ExecuteTime": {
     "end_time": "2021-09-24T16:32:41.128419Z",
     "start_time": "2021-09-24T16:32:41.043490Z"
    }
   },
   "outputs": [
    {
     "data": {
      "application/javascript": [
       "\n",
       "        if (window._pyforest_update_imports_cell) { window._pyforest_update_imports_cell('import seaborn as sns\\nimport pandas as pd'); }\n",
       "    "
      ],
      "text/plain": [
       "<IPython.core.display.Javascript object>"
      ]
     },
     "metadata": {},
     "output_type": "display_data"
    },
    {
     "data": {
      "text/plain": [
       "<AxesSubplot:xlabel='mpg'>"
      ]
     },
     "execution_count": 35,
     "metadata": {},
     "output_type": "execute_result"
    },
    {
     "data": {
      "image/png": "[encoded data removed]",
      "text/plain": [
       "<Figure size 432x288 with 1 Axes>"
      ]
     },
     "metadata": {
      "needs_background": "light"
     },
     "output_type": "display_data"
    }
   ],
   "source": [
    "sns.boxplot(df.mpg)"
   ]
  },
  {
   "cell_type": "code",
   "execution_count": 63,
   "id": "synthetic-configuration",
   "metadata": {
    "ExecuteTime": {
     "end_time": "2021-09-24T16:48:16.032244Z",
     "start_time": "2021-09-24T16:48:15.878656Z"
    }
   },
   "outputs": [
    {
     "data": {
      "application/javascript": [
       "\n",
       "        if (window._pyforest_update_imports_cell) { window._pyforest_update_imports_cell('import seaborn as sns\\nimport pandas as pd'); }\n",
       "    "
      ],
      "text/plain": [
       "<IPython.core.display.Javascript object>"
      ]
     },
     "metadata": {},
     "output_type": "display_data"
    },
    {
     "data": {
      "text/plain": [
       "<AxesSubplot:xlabel='mpg', ylabel='Count'>"
      ]
     },
     "execution_count": 63,
     "metadata": {},
     "output_type": "execute_result"
    },
    {
     "data": {
      "image/png": "[encoded data removed]",
      "text/plain": [
       "<Figure size 432x288 with 1 Axes>"
      ]
     },
     "metadata": {
      "needs_background": "light"
     },
     "output_type": "display_data"
    }
   ],
   "source": [
    "sns.histplot(df.mpg, bins=3, kde=True)"
   ]
  },
  {
   "cell_type": "code",
   "execution_count": 45,
   "id": "sporting-courtesy",
   "metadata": {
    "ExecuteTime": {
     "end_time": "2021-09-24T16:36:45.162273Z",
     "start_time": "2021-09-24T16:36:45.149325Z"
    }
   },
   "outputs": [],
   "source": [
    "df = df.sort_values(by=['mpg'])"
   ]
  },
  {
   "cell_type": "code",
   "execution_count": 55,
   "id": "presidential-locking",
   "metadata": {
    "ExecuteTime": {
     "end_time": "2021-09-24T16:45:52.476763Z",
     "start_time": "2021-09-24T16:45:52.472769Z"
    }
   },
   "outputs": [],
   "source": [
    "def remoeOutliers(df,column):\n",
    "    Q1 = df[column].quantile(.25)\n",
    "    Q3 = df[column].quantile(.75)\n",
    "    IQR = Q3 - Q1\n",
    "    lower = Q1 - 1.5 *IQR\n",
    "    upper = Q3 + 1.5*IQR\n",
    "    return lower, upper"
   ]
  },
  {
   "cell_type": "code",
   "execution_count": 61,
   "id": "legendary-coach",
   "metadata": {
    "ExecuteTime": {
     "end_time": "2021-09-24T16:47:52.722199Z",
     "start_time": "2021-09-24T16:47:52.713227Z"
    }
   },
   "outputs": [],
   "source": [
    "l , u = remoeOutliers(df,'mpg')"
   ]
  },
  {
   "cell_type": "code",
   "execution_count": null,
   "id": "composed-force",
   "metadata": {},
   "outputs": [],
   "source": [
    "df = df[ (df.mpg > l) & (df.mpg < u)]"
   ]
  },
  {
   "cell_type": "code",
   "execution_count": 65,
   "id": "special-position",
   "metadata": {
    "ExecuteTime": {
     "end_time": "2021-09-24T16:48:51.419230Z",
     "start_time": "2021-09-24T16:48:51.408241Z"
    }
   },
   "outputs": [],
   "source": [
    "df = df.sort_values(by=['mileage'])"
   ]
  },
  {
   "cell_type": "code",
   "execution_count": 68,
   "id": "common-defeat",
   "metadata": {
    "ExecuteTime": {
     "end_time": "2021-09-24T16:49:51.521126Z",
     "start_time": "2021-09-24T16:49:51.502176Z"
    }
   },
   "outputs": [
    {
     "name": "stdout",
     "output_type": "stream",
     "text": [
      "Mileage Lower:-30709.0, Upper:68059.0\n"
     ]
    }
   ],
   "source": [
    "l , u = remoeOutliers(df,'mileage')\n",
    "print('Mileage Lower:{}, Upper:{}'.format(l,u))"
   ]
  },
  {
   "cell_type": "code",
   "execution_count": 74,
   "id": "threaded-outside",
   "metadata": {
    "ExecuteTime": {
     "end_time": "2021-09-24T16:52:25.215189Z",
     "start_time": "2021-09-24T16:52:25.196209Z"
    }
   },
   "outputs": [
    {
     "data": {
      "text/plain": [
       "6329.0"
      ]
     },
     "execution_count": 74,
     "metadata": {},
     "output_type": "execute_result"
    }
   ],
   "source": [
    "df['mileage'].quantile(.25)"
   ]
  },
  {
   "cell_type": "code",
   "execution_count": 75,
   "id": "sacred-stroke",
   "metadata": {
    "ExecuteTime": {
     "end_time": "2021-09-24T16:52:34.410178Z",
     "start_time": "2021-09-24T16:52:34.403229Z"
    }
   },
   "outputs": [
    {
     "data": {
      "text/plain": [
       "31021.0"
      ]
     },
     "execution_count": 75,
     "metadata": {},
     "output_type": "execute_result"
    }
   ],
   "source": [
    "df['mileage'].quantile(.75)"
   ]
  },
  {
   "cell_type": "code",
   "execution_count": 77,
   "id": "hungarian-deputy",
   "metadata": {
    "ExecuteTime": {
     "end_time": "2021-09-24T16:54:31.276004Z",
     "start_time": "2021-09-24T16:54:31.266062Z"
    }
   },
   "outputs": [],
   "source": [
    "df = df[ (df.mileage > l) & (df.mileage < u)]"
   ]
  },
  {
   "cell_type": "code",
   "execution_count": 79,
   "id": "documentary-doctor",
   "metadata": {
    "ExecuteTime": {
     "end_time": "2021-09-24T16:54:59.833224Z",
     "start_time": "2021-09-24T16:54:59.823248Z"
    }
   },
   "outputs": [
    {
     "data": {
      "text/plain": [
       "(12189, 9)"
      ]
     },
     "execution_count": 79,
     "metadata": {},
     "output_type": "execute_result"
    }
   ],
   "source": [
    "df.shape"
   ]
  },
  {
   "cell_type": "code",
   "execution_count": 85,
   "id": "collective-bulgaria",
   "metadata": {
    "ExecuteTime": {
     "end_time": "2021-09-24T16:59:45.577419Z",
     "start_time": "2021-09-24T16:59:45.567450Z"
    }
   },
   "outputs": [],
   "source": [
    "df.drop(index=df[df.engineSize == 0].index, inplace=True)"
   ]
  },
  {
   "cell_type": "code",
   "execution_count": 105,
   "id": "blocked-multiple",
   "metadata": {
    "ExecuteTime": {
     "end_time": "2021-09-24T17:05:23.180821Z",
     "start_time": "2021-09-24T17:05:23.061451Z"
    }
   },
   "outputs": [
    {
     "data": {
      "application/javascript": [
       "\n",
       "        if (window._pyforest_update_imports_cell) { window._pyforest_update_imports_cell('import seaborn as sns\\nimport pandas as pd'); }\n",
       "    "
      ],
      "text/plain": [
       "<IPython.core.display.Javascript object>"
      ]
     },
     "metadata": {},
     "output_type": "display_data"
    },
    {
     "data": {
      "text/plain": [
       "<AxesSubplot:xlabel='mpg', ylabel='Count'>"
      ]
     },
     "execution_count": 105,
     "metadata": {},
     "output_type": "execute_result"
    },
    {
     "data": {
      "image/png": "[encoded data removed]",
      "text/plain": [
       "<Figure size 432x288 with 1 Axes>"
      ]
     },
     "metadata": {
      "needs_background": "light"
     },
     "output_type": "display_data"
    }
   ],
   "source": [
    "sns.histplot(np.log(df.mpg), bins=3)"
   ]
  },
  {
   "cell_type": "code",
   "execution_count": 95,
   "id": "exciting-physics",
   "metadata": {
    "ExecuteTime": {
     "end_time": "2021-09-24T17:02:11.002512Z",
     "start_time": "2021-09-24T17:02:10.989570Z"
    }
   },
   "outputs": [],
   "source": [
    "df.price = np.log(df.price)"
   ]
  },
  {
   "cell_type": "code",
   "execution_count": 100,
   "id": "finite-relationship",
   "metadata": {
    "ExecuteTime": {
     "end_time": "2021-09-24T17:03:06.762165Z",
     "start_time": "2021-09-24T17:03:06.752192Z"
    }
   },
   "outputs": [],
   "source": [
    "df.tax = np.log(df.tax)"
   ]
  },
  {
   "cell_type": "code",
   "execution_count": 103,
   "id": "naughty-sacramento",
   "metadata": {
    "ExecuteTime": {
     "end_time": "2021-09-24T17:04:43.372136Z",
     "start_time": "2021-09-24T17:04:43.349197Z"
    }
   },
   "outputs": [
    {
     "data": {
      "text/html": [
       "<div>\n",
       "<style scoped>\n",
       "    .dataframe tbody tr th:only-of-type {\n",
       "        vertical-align: middle;\n",
       "    }\n",
       "\n",
       "    .dataframe tbody tr th {\n",
       "        vertical-align: top;\n",
       "    }\n",
       "\n",
       "    .dataframe thead th {\n",
       "        text-align: right;\n",
       "    }\n",
       "</style>\n",
       "<table border=\"1\" class=\"dataframe\">\n",
       "  <thead>\n",
       "    <tr style=\"text-align: right;\">\n",
       "      <th></th>\n",
       "      <th>model</th>\n",
       "      <th>year</th>\n",
       "      <th>price</th>\n",
       "      <th>transmission</th>\n",
       "      <th>mileage</th>\n",
       "      <th>fuelType</th>\n",
       "      <th>tax</th>\n",
       "      <th>mpg</th>\n",
       "      <th>engineSize</th>\n",
       "    </tr>\n",
       "  </thead>\n",
       "  <tbody>\n",
       "    <tr>\n",
       "      <th>6127</th>\n",
       "      <td>2</td>\n",
       "      <td>2019</td>\n",
       "      <td>10.341581</td>\n",
       "      <td>3</td>\n",
       "      <td>1</td>\n",
       "      <td>0</td>\n",
       "      <td>4.976734</td>\n",
       "      <td>46.3</td>\n",
       "      <td>2.0</td>\n",
       "    </tr>\n",
       "    <tr>\n",
       "      <th>6128</th>\n",
       "      <td>2</td>\n",
       "      <td>2019</td>\n",
       "      <td>10.203407</td>\n",
       "      <td>3</td>\n",
       "      <td>1</td>\n",
       "      <td>0</td>\n",
       "      <td>4.976734</td>\n",
       "      <td>54.3</td>\n",
       "      <td>1.6</td>\n",
       "    </tr>\n",
       "    <tr>\n",
       "      <th>6126</th>\n",
       "      <td>2</td>\n",
       "      <td>2019</td>\n",
       "      <td>10.308786</td>\n",
       "      <td>3</td>\n",
       "      <td>1</td>\n",
       "      <td>0</td>\n",
       "      <td>4.976734</td>\n",
       "      <td>57.7</td>\n",
       "      <td>2.0</td>\n",
       "    </tr>\n",
       "    <tr>\n",
       "      <th>6129</th>\n",
       "      <td>6</td>\n",
       "      <td>2019</td>\n",
       "      <td>10.545210</td>\n",
       "      <td>3</td>\n",
       "      <td>1</td>\n",
       "      <td>0</td>\n",
       "      <td>4.976734</td>\n",
       "      <td>48.7</td>\n",
       "      <td>3.0</td>\n",
       "    </tr>\n",
       "    <tr>\n",
       "      <th>3015</th>\n",
       "      <td>2</td>\n",
       "      <td>2020</td>\n",
       "      <td>10.357108</td>\n",
       "      <td>3</td>\n",
       "      <td>9</td>\n",
       "      <td>0</td>\n",
       "      <td>4.976734</td>\n",
       "      <td>64.2</td>\n",
       "      <td>2.0</td>\n",
       "    </tr>\n",
       "  </tbody>\n",
       "</table>\n",
       "</div>"
      ],
      "text/plain": [
       "      model  year      price  transmission  mileage  fuelType       tax   mpg  \\\n",
       "6127      2  2019  10.341581             3        1         0  4.976734  46.3   \n",
       "6128      2  2019  10.203407             3        1         0  4.976734  54.3   \n",
       "6126      2  2019  10.308786             3        1         0  4.976734  57.7   \n",
       "6129      6  2019  10.545210             3        1         0  4.976734  48.7   \n",
       "3015      2  2020  10.357108             3        9         0  4.976734  64.2   \n",
       "\n",
       "      engineSize  \n",
       "6127         2.0  \n",
       "6128         1.6  \n",
       "6126         2.0  \n",
       "6129         3.0  \n",
       "3015         2.0  "
      ]
     },
     "execution_count": 103,
     "metadata": {},
     "output_type": "execute_result"
    }
   ],
   "source": [
    "df.head()"
   ]
  },
  {
   "cell_type": "code",
   "execution_count": 102,
   "id": "rising-welding",
   "metadata": {
    "ExecuteTime": {
     "end_time": "2021-09-24T17:04:40.859448Z",
     "start_time": "2021-09-24T17:04:40.840471Z"
    }
   },
   "outputs": [
    {
     "data": {
      "application/javascript": [
       "\n",
       "        if (window._pyforest_update_imports_cell) { window._pyforest_update_imports_cell('import seaborn as sns\\nimport pandas as pd'); }\n",
       "    "
      ],
      "text/plain": [
       "<IPython.core.display.Javascript object>"
      ]
     },
     "metadata": {},
     "output_type": "display_data"
    },
    {
     "data": {
      "application/javascript": [
       "\n",
       "        if (window._pyforest_update_imports_cell) { window._pyforest_update_imports_cell('import seaborn as sns\\nimport pandas as pd'); }\n",
       "    "
      ],
      "text/plain": [
       "<IPython.core.display.Javascript object>"
      ]
     },
     "metadata": {},
     "output_type": "display_data"
    },
    {
     "data": {
      "application/javascript": [
       "\n",
       "        if (window._pyforest_update_imports_cell) { window._pyforest_update_imports_cell('import seaborn as sns\\nimport pandas as pd'); }\n",
       "    "
      ],
      "text/plain": [
       "<IPython.core.display.Javascript object>"
      ]
     },
     "metadata": {},
     "output_type": "display_data"
    }
   ],
   "source": [
    "df.model = pd.Categorical(df.model).codes\n",
    "df.transmission = pd.Categorical(df.transmission).codes\n",
    "df.fuelType = pd.Categorical(df.fuelType).codes"
   ]
  },
  {
   "cell_type": "code",
   "execution_count": 106,
   "id": "certified-importance",
   "metadata": {
    "ExecuteTime": {
     "end_time": "2021-09-24T17:05:48.682189Z",
     "start_time": "2021-09-24T17:05:48.121263Z"
    }
   },
   "outputs": [
    {
     "data": {
      "application/javascript": [
       "\n",
       "        if (window._pyforest_update_imports_cell) { window._pyforest_update_imports_cell('import seaborn as sns\\nimport pandas as pd'); }\n",
       "    "
      ],
      "text/plain": [
       "<IPython.core.display.Javascript object>"
      ]
     },
     "metadata": {},
     "output_type": "display_data"
    },
    {
     "data": {
      "application/javascript": [
       "\n",
       "        if (window._pyforest_update_imports_cell) { window._pyforest_update_imports_cell('import seaborn as sns\\nimport pandas as pd'); }\n",
       "    "
      ],
      "text/plain": [
       "<IPython.core.display.Javascript object>"
      ]
     },
     "metadata": {},
     "output_type": "display_data"
    },
    {
     "data": {
      "text/plain": [
       "<AxesSubplot:>"
      ]
     },
     "execution_count": 106,
     "metadata": {},
     "output_type": "execute_result"
    },
    {
     "data": {
      "image/png": "[encoded data removed]",
      "text/plain": [
       "<Figure size 1202.4x883.44 with 2 Axes>"
      ]
     },
     "metadata": {},
     "output_type": "display_data"
    }
   ],
   "source": [
    "sns.set(rc={'figure.figsize':(16.7,12.27)})\n",
    "sns.heatmap(df.corr(), annot=True)"
   ]
  },
  {
   "cell_type": "code",
   "execution_count": 136,
   "id": "sixth-indian",
   "metadata": {
    "ExecuteTime": {
     "end_time": "2021-09-24T17:21:25.059339Z",
     "start_time": "2021-09-24T17:21:25.046347Z"
    }
   },
   "outputs": [
    {
     "name": "stdout",
     "output_type": "stream",
     "text": [
      "<class 'pandas.core.frame.DataFrame'>\n",
      "Int64Index: 12179 entries, 6127 to 11247\n",
      "Data columns (total 8 columns):\n",
      " #   Column        Non-Null Count  Dtype  \n",
      "---  ------        --------------  -----  \n",
      " 0   model         12179 non-null  int8   \n",
      " 1   year          12179 non-null  int32  \n",
      " 2   price         12179 non-null  float64\n",
      " 3   transmission  12179 non-null  int8   \n",
      " 4   mileage       12179 non-null  int32  \n",
      " 5   fuelType      12179 non-null  int8   \n",
      " 6   mpg           12179 non-null  float64\n",
      " 7   engineSize    12179 non-null  float64\n",
      "dtypes: float64(3), int32(2), int8(3)\n",
      "memory usage: 511.4 KB\n"
     ]
    }
   ],
   "source": [
    "df.info(memory_usage='deep')"
   ]
  },
  {
   "cell_type": "code",
   "execution_count": 121,
   "id": "affected-modern",
   "metadata": {
    "ExecuteTime": {
     "end_time": "2021-09-24T17:13:40.754793Z",
     "start_time": "2021-09-24T17:13:40.731857Z"
    }
   },
   "outputs": [],
   "source": [
    "df.mileage = df.mileage.astype('int32')\n",
    "df.price = df.price.astype('float32')\n",
    "df.tax = df.tax.astype('float32')\n",
    "df.mpg = df.mpg.astype('float32')\n",
    "df.engineSize = df.engineSize.astype('float32')"
   ]
  },
  {
   "cell_type": "code",
   "execution_count": 107,
   "id": "greater-minnesota",
   "metadata": {
    "ExecuteTime": {
     "end_time": "2021-09-24T17:06:53.037509Z",
     "start_time": "2021-09-24T17:06:53.028562Z"
    }
   },
   "outputs": [],
   "source": [
    "from sklearn.pipeline import Pipeline\n",
    "from sklearn.metrics import mean_squared_log_error,r2_score, mean_absolute_error\n",
    "from sklearn.tree import DecisionTreeRegressor\n",
    "from sklearn.ensemble import RandomForestRegressor\n",
    "\n",
    "import joblib\n",
    "from sklearn.decomposition import PCA"
   ]
  },
  {
   "cell_type": "code",
   "execution_count": 108,
   "id": "numerous-kruger",
   "metadata": {
    "ExecuteTime": {
     "end_time": "2021-09-24T17:07:00.621388Z",
     "start_time": "2021-09-24T17:07:00.613410Z"
    }
   },
   "outputs": [],
   "source": [
    "from sklearn.model_selection import train_test_split"
   ]
  },
  {
   "cell_type": "code",
   "execution_count": 137,
   "id": "expressed-provision",
   "metadata": {
    "ExecuteTime": {
     "end_time": "2021-09-24T17:22:29.808185Z",
     "start_time": "2021-09-24T17:22:29.799210Z"
    }
   },
   "outputs": [],
   "source": [
    "X = df.drop(['price'], axis=1).values\n",
    "Y = df['price'].values"
   ]
  },
  {
   "cell_type": "code",
   "execution_count": 138,
   "id": "british-malaysia",
   "metadata": {
    "ExecuteTime": {
     "end_time": "2021-09-24T17:22:30.994217Z",
     "start_time": "2021-09-24T17:22:30.988232Z"
    }
   },
   "outputs": [],
   "source": [
    "X_train, X_test, y_train, y_test = train_test_split(X, Y, test_size=0.2, random_state=0)"
   ]
  },
  {
   "cell_type": "code",
   "execution_count": 139,
   "id": "related-applicant",
   "metadata": {
    "ExecuteTime": {
     "end_time": "2021-09-24T17:22:32.677142Z",
     "start_time": "2021-09-24T17:22:32.662183Z"
    }
   },
   "outputs": [
    {
     "name": "stdout",
     "output_type": "stream",
     "text": [
      "X_train:(9743, 7), X_test:(2436, 7)\n"
     ]
    }
   ],
   "source": [
    "print('X_train:{}, X_test:{}'.format(X_train.shape, X_test.shape))"
   ]
  },
  {
   "cell_type": "code",
   "execution_count": 152,
   "id": "finite-spread",
   "metadata": {
    "ExecuteTime": {
     "end_time": "2021-09-24T17:29:09.239717Z",
     "start_time": "2021-09-24T17:29:09.226769Z"
    }
   },
   "outputs": [
    {
     "data": {
      "application/javascript": [
       "\n",
       "        if (window._pyforest_update_imports_cell) { window._pyforest_update_imports_cell('from sklearn.linear_model import LinearRegression\\nimport seaborn as sns\\nfrom sklearn.preprocessing import StandardScaler\\nimport pandas as pd'); }\n",
       "    "
      ],
      "text/plain": [
       "<IPython.core.display.Javascript object>"
      ]
     },
     "metadata": {},
     "output_type": "display_data"
    },
    {
     "data": {
      "application/javascript": [
       "\n",
       "        if (window._pyforest_update_imports_cell) { window._pyforest_update_imports_cell('from sklearn.linear_model import LinearRegression\\nimport seaborn as sns\\nfrom sklearn.preprocessing import StandardScaler\\nimport pandas as pd'); }\n",
       "    "
      ],
      "text/plain": [
       "<IPython.core.display.Javascript object>"
      ]
     },
     "metadata": {},
     "output_type": "display_data"
    },
    {
     "data": {
      "application/javascript": [
       "\n",
       "        if (window._pyforest_update_imports_cell) { window._pyforest_update_imports_cell('from sklearn.linear_model import LinearRegression\\nimport seaborn as sns\\nfrom sklearn.preprocessing import StandardScaler\\nimport pandas as pd'); }\n",
       "    "
      ],
      "text/plain": [
       "<IPython.core.display.Javascript object>"
      ]
     },
     "metadata": {},
     "output_type": "display_data"
    },
    {
     "data": {
      "application/javascript": [
       "\n",
       "        if (window._pyforest_update_imports_cell) { window._pyforest_update_imports_cell('from sklearn.linear_model import LinearRegression\\nimport seaborn as sns\\nfrom sklearn.preprocessing import StandardScaler\\nimport pandas as pd'); }\n",
       "    "
      ],
      "text/plain": [
       "<IPython.core.display.Javascript object>"
      ]
     },
     "metadata": {},
     "output_type": "display_data"
    }
   ],
   "source": [
    "pipeline = Pipeline([\n",
    "    ('scaler1', StandardScaler()),\n",
    "    ('pca1',PCA(n_components=5)),\n",
    "    ('lr_regression',LinearRegression())\n",
    "])\n",
    "\n",
    "pipeline1 = Pipeline([\n",
    "    ('scaler1', StandardScaler()),\n",
    "    ('pca1',PCA(n_components=5)),\n",
    "    ('dt_regression',DecisionTreeRegressor())\n",
    "])\n",
    "\n",
    "pipeline2 = Pipeline([\n",
    "    ('scaler1', StandardScaler()),\n",
    "    ('pca1',PCA(n_components=5)),\n",
    "    ('rf_regression',RandomForestRegressor())\n",
    "])"
   ]
  },
  {
   "cell_type": "code",
   "execution_count": 153,
   "id": "confident-original",
   "metadata": {
    "ExecuteTime": {
     "end_time": "2021-09-24T17:29:10.117511Z",
     "start_time": "2021-09-24T17:29:10.113550Z"
    }
   },
   "outputs": [],
   "source": [
    "pipelines = [pipeline, pipeline1, pipeline2]"
   ]
  },
  {
   "cell_type": "code",
   "execution_count": 154,
   "id": "fitted-potter",
   "metadata": {
    "ExecuteTime": {
     "end_time": "2021-09-24T17:29:10.494879Z",
     "start_time": "2021-09-24T17:29:10.490890Z"
    }
   },
   "outputs": [],
   "source": [
    "best_accuracy=0.0\n",
    "best_regressor=0\n",
    "best_pipeline=\"\""
   ]
  },
  {
   "cell_type": "code",
   "execution_count": 155,
   "id": "ongoing-neighborhood",
   "metadata": {
    "ExecuteTime": {
     "end_time": "2021-09-24T17:29:15.396898Z",
     "start_time": "2021-09-24T17:29:12.294463Z"
    }
   },
   "outputs": [],
   "source": [
    "pipe_dict = {0: 'Linear Regression', 1: 'Decision Tree', 2: 'RandomForest'}\n",
    "\n",
    "# Fit the pipelines\n",
    "for pipe in pipelines:\n",
    "\tpipe.fit(X_train, y_train)"
   ]
  },
  {
   "cell_type": "code",
   "execution_count": 158,
   "id": "canadian-application",
   "metadata": {
    "ExecuteTime": {
     "end_time": "2021-09-24T17:30:45.698791Z",
     "start_time": "2021-09-24T17:30:45.183827Z"
    }
   },
   "outputs": [
    {
     "name": "stdout",
     "output_type": "stream",
     "text": [
      "Linear Regression Test Accuracy: 0.8321036372424723\n",
      "R2 Train: 0.8282747007064182\n",
      "MSE Train:  0.02626106315544982\n",
      "MSE Test:  0.026872877729230485\n",
      "************************************************************\n",
      "\n",
      "Decision Tree Test Accuracy: 0.8858464050198955\n",
      "R2 Train: 0.9997331425791537\n",
      "MSE Train:  0.0021592618690493585\n",
      "MSE Test:  0.0243821066857615\n",
      "************************************************************\n",
      "\n",
      "RandomForest Test Accuracy: 0.9316148215554887\n",
      "R2 Train: 0.9893399641450116\n",
      "MSE Train:  0.013282434463691416\n",
      "MSE Test:  0.021858225917801014\n",
      "************************************************************\n",
      "\n"
     ]
    }
   ],
   "source": [
    "for i,model in enumerate(pipelines):\n",
    "    print(\"{} Test Accuracy: {}\".format(pipe_dict[i],model.score(X_test,y_test)))\n",
    "    print('R2 Train:',r2_score(y_train,model.predict(X_train)))\n",
    "    print(\"MSE Train: \",np.sqrt(mean_squared_log_error(np.round(y_train),np.round(model.predict(X_train)))))\n",
    "    print(\"MSE Test: \",np.sqrt(mean_squared_log_error(np.round(y_test),np.round(model.predict(X_test)))))\n",
    "    print(\"*\"*60)\n",
    "    print()"
   ]
  },
  {
   "cell_type": "code",
   "execution_count": 135,
   "id": "suited-lecture",
   "metadata": {
    "ExecuteTime": {
     "end_time": "2021-09-24T17:21:14.391602Z",
     "start_time": "2021-09-24T17:21:14.384619Z"
    }
   },
   "outputs": [],
   "source": [
    "df.dropna(axis=1, inplace=True)"
   ]
  },
  {
   "cell_type": "code",
   "execution_count": 133,
   "id": "spare-lightning",
   "metadata": {
    "ExecuteTime": {
     "end_time": "2021-09-24T17:20:34.869114Z",
     "start_time": "2021-09-24T17:20:34.852159Z"
    }
   },
   "outputs": [],
   "source": [
    "df.replace([np.inf, -np.inf], np.nan, inplace=True)"
   ]
  },
  {
   "cell_type": "code",
   "execution_count": 164,
   "id": "sealed-pottery",
   "metadata": {
    "ExecuteTime": {
     "end_time": "2021-09-24T17:37:19.532836Z",
     "start_time": "2021-09-24T17:37:19.513862Z"
    }
   },
   "outputs": [
    {
     "data": {
      "text/plain": [
       "[{'regressor': [RandomForestRegressor()],\n",
       "  'regressor__n_estimators': [2, 26, 51, 75, 100],\n",
       "  'regressor__max_depth': [2, 6, 10],\n",
       "  'regressor__min_samples_leaf': [2, 6, 10],\n",
       "  'regressor__max_leaf_nodes': [2, 6, 10]}]"
      ]
     },
     "execution_count": 164,
     "metadata": {},
     "output_type": "execute_result"
    }
   ],
   "source": [
    "pipe = Pipeline([\n",
    "    ('pca1',PCA(n_components=5)),\n",
    "    (\"regressor\", RandomForestRegressor())])\n",
    "# Create dictionary with candidate learning algorithms and their hyperparameters\n",
    "grid_param = [\n",
    "                {\"regressor\": [RandomForestRegressor()],\n",
    "                 \"regressor__n_estimators\": [int(x) for x in np.linspace(start=2, stop=100, num=5)],\n",
    "                 \"regressor__max_depth\":[int(x) for x in np.linspace(start=2, stop=10, num=3)],\n",
    "                 \"regressor__min_samples_leaf\":[int(x) for x in np.linspace(start=2, stop=10, num=3)],\n",
    "                 \"regressor__max_leaf_nodes\": [int(x) for x in np.linspace(start=2, stop=10, num=3)]}]\n",
    "grid_param"
   ]
  },
  {
   "cell_type": "code",
   "execution_count": null,
   "id": "brilliant-glucose",
   "metadata": {
    "ExecuteTime": {
     "start_time": "2021-09-24T17:37:27.659Z"
    }
   },
   "outputs": [
    {
     "data": {
      "application/javascript": [
       "\n",
       "        if (window._pyforest_update_imports_cell) { window._pyforest_update_imports_cell('from sklearn.linear_model import LinearRegression\\nimport seaborn as sns\\nfrom sklearn.preprocessing import StandardScaler\\nfrom sklearn.model_selection import GridSearchCV\\nimport pandas as pd'); }\n",
       "    "
      ],
      "text/plain": [
       "<IPython.core.display.Javascript object>"
      ]
     },
     "metadata": {},
     "output_type": "display_data"
    }
   ],
   "source": [
    "gridsearch = GridSearchCV(pipe, grid_param, cv=2, verbose=0,n_jobs=1) # Fit grid search\n",
    "best_model = gridsearch.fit(X_train,y_train)\n",
    "print(best_model.best_estimator_)\n",
    "print(\"The mean accuracy of the model is:\",best_model.score(X_test,y_test))"
   ]
  },
  {
   "cell_type": "code",
   "execution_count": null,
   "id": "consistent-footage",
   "metadata": {},
   "outputs": [],
   "source": []
  }
 ],
 "metadata": {
  "kernelspec": {
   "display_name": "Python 3 (ipykernel)",
   "language": "python",
   "name": "python3"
  },
  "language_info": {
   "codemirror_mode": {
    "name": "ipython",
    "version": 3
   },
   "file_extension": ".py",
   "mimetype": "text/x-python",
   "name": "python",
   "nbconvert_exporter": "python",
   "pygments_lexer": "ipython3",
   "version": "3.8.10"
  },
  "varInspector": {
   "cols": {
    "lenName": 16,
    "lenType": 16,
    "lenVar": 40
   },
   "kernels_config": {
    "python": {
     "delete_cmd_postfix": "",
     "delete_cmd_prefix": "del ",
     "library": "var_list.py",
     "varRefreshCmd": "print(var_dic_list())"
    },
    "r": {
     "delete_cmd_postfix": ") ",
     "delete_cmd_prefix": "rm(",
     "library": "var_list.r",
     "varRefreshCmd": "cat(var_dic_list()) "
    }
   },
   "types_to_exclude": [
    "module",
    "function",
    "builtin_function_or_method",
    "instance",
    "_Feature"
   ],
   "window_display": false
  }
 },
 "nbformat": 4,
 "nbformat_minor": 5
}
