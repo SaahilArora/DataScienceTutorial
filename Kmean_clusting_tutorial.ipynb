{
 "cells": [
  {
   "cell_type": "code",
   "execution_count": 10,
   "metadata": {
    "ExecuteTime": {
     "end_time": "2020-05-10T08:04:52.499876Z",
     "start_time": "2020-05-10T08:04:52.468676Z"
    }
   },
   "outputs": [],
   "source": [
    "from numpy.random import randint\n",
    "from numpy.random import seed"
   ]
  },
  {
   "cell_type": "code",
   "execution_count": 18,
   "metadata": {
    "ExecuteTime": {
     "end_time": "2020-05-10T08:06:26.085441Z",
     "start_time": "2020-05-10T08:06:26.054241Z"
    }
   },
   "outputs": [],
   "source": [
    "from sklearn.cluster import KMeans"
   ]
  },
  {
   "cell_type": "code",
   "execution_count": 6,
   "metadata": {
    "ExecuteTime": {
     "end_time": "2020-05-10T08:03:23.813721Z",
     "start_time": "2020-05-10T08:03:23.798121Z"
    }
   },
   "outputs": [],
   "source": [
    "seed(1)"
   ]
  },
  {
   "cell_type": "code",
   "execution_count": 180,
   "metadata": {
    "ExecuteTime": {
     "end_time": "2020-05-10T09:15:35.601238Z",
     "start_time": "2020-05-10T09:15:35.570038Z"
    }
   },
   "outputs": [
    {
     "name": "stdout",
     "output_type": "stream",
     "text": [
      "[[1.39490708 1.53312124]\n",
      " [0.72122424 0.27252023]\n",
      " [2.2050266  2.38346778]\n",
      " [0.58199916 0.92376683]\n",
      " [1.14550853 3.32300547]\n",
      " [0.61368376 2.20855523]\n",
      " [2.27255887 1.37368037]\n",
      " [1.40246876 3.83644807]\n",
      " [2.2133758  2.6109248 ]\n",
      " [1.96296047 2.58659993]\n",
      " [2.42100314 0.58069317]\n",
      " [1.33872213 1.84173597]\n",
      " [0.51128665 1.45229329]\n",
      " [0.91256654 3.39001041]\n",
      " [1.36589632 0.90715728]\n",
      " [1.63272561 2.73225619]\n",
      " [0.262488   0.72291685]\n",
      " [2.77722776 3.00902642]\n",
      " [2.47101712 3.51679424]\n",
      " [0.67520076 2.81419093]\n",
      " [3.66904064 0.60295864]\n",
      " [0.97505591 2.18673829]\n",
      " [1.37647735 2.76255632]\n",
      " [0.23027047 0.64305657]\n",
      " [2.86495323 3.88247479]\n",
      " [3.71820151 3.60426797]\n",
      " [0.51097326 0.58371567]\n",
      " [0.28905903 2.17016093]\n",
      " [3.52994469 2.1271676 ]\n",
      " [3.12686114 0.75381515]\n",
      " [3.45244504 0.74969908]\n",
      " [0.2190565  1.68596404]\n",
      " [2.22041772 3.88296804]\n",
      " [0.36701533 1.09567237]\n",
      " [0.42042828 1.56175855]\n",
      " [1.15604433 2.0532014 ]\n",
      " [1.39302673 3.71291207]\n",
      " [3.15979119 3.44404547]\n",
      " [0.51800378 2.30028067]\n",
      " [0.85913014 3.47295429]\n",
      " [0.06007769 0.42297686]\n",
      " [1.5042283  1.60837562]\n",
      " [1.10888033 0.384252  ]\n",
      " [0.47492162 1.27177902]\n",
      " [3.80317134 0.82962626]\n",
      " [2.98912128 1.03275466]\n",
      " [0.14896102 0.06420884]\n",
      " [0.61082372 1.84833677]\n",
      " [3.02360439 2.91525973]\n",
      " [1.40955777 1.91655712]]\n"
     ]
    }
   ],
   "source": [
    "X= 4*np.random.rand(50,2)\n",
    "print(X)"
   ]
  },
  {
   "cell_type": "code",
   "execution_count": 181,
   "metadata": {
    "ExecuteTime": {
     "end_time": "2020-05-10T09:15:41.778849Z",
     "start_time": "2020-05-10T09:15:41.747649Z"
    }
   },
   "outputs": [],
   "source": [
    "Kmean = KMeans(n_clusters=2)"
   ]
  },
  {
   "cell_type": "code",
   "execution_count": 182,
   "metadata": {
    "ExecuteTime": {
     "end_time": "2020-05-10T09:15:42.371650Z",
     "start_time": "2020-05-10T09:15:42.293650Z"
    }
   },
   "outputs": [
    {
     "data": {
      "text/plain": [
       "KMeans(algorithm='auto', copy_x=True, init='k-means++', max_iter=300,\n",
       "       n_clusters=2, n_init=10, n_jobs=None, precompute_distances='auto',\n",
       "       random_state=None, tol=0.0001, verbose=0)"
      ]
     },
     "execution_count": 182,
     "metadata": {},
     "output_type": "execute_result"
    }
   ],
   "source": [
    "Kmean.fit(X)"
   ]
  },
  {
   "cell_type": "code",
   "execution_count": 183,
   "metadata": {
    "ExecuteTime": {
     "end_time": "2020-05-10T09:15:43.167252Z",
     "start_time": "2020-05-10T09:15:43.151652Z"
    }
   },
   "outputs": [
    {
     "data": {
      "text/plain": [
       "array([[2.42423427, 2.60565307],\n",
       "       [0.7649911 , 1.34823022]])"
      ]
     },
     "execution_count": 183,
     "metadata": {},
     "output_type": "execute_result"
    }
   ],
   "source": [
    "Kmean.cluster_centers_"
   ]
  },
  {
   "cell_type": "code",
   "execution_count": 169,
   "metadata": {
    "ExecuteTime": {
     "end_time": "2020-05-10T09:12:20.538496Z",
     "start_time": "2020-05-10T09:12:20.522896Z"
    }
   },
   "outputs": [
    {
     "data": {
      "text/plain": [
       "array([0, 0, 1, 1, 0, 0, 0, 1, 0, 0, 0, 1, 0, 0, 1, 0, 0, 0, 0, 1, 1, 1,\n",
       "       1, 0, 0, 1, 1, 1, 0, 0])"
      ]
     },
     "execution_count": 169,
     "metadata": {},
     "output_type": "execute_result"
    }
   ],
   "source": [
    "Kmean.labels_"
   ]
  },
  {
   "cell_type": "code",
   "execution_count": 53,
   "metadata": {
    "ExecuteTime": {
     "end_time": "2020-05-10T08:16:58.589552Z",
     "start_time": "2020-05-10T08:16:56.389948Z"
    }
   },
   "outputs": [],
   "source": [
    "from matplotlib import pyplot as plt"
   ]
  },
  {
   "cell_type": "code",
   "execution_count": 170,
   "metadata": {
    "ExecuteTime": {
     "end_time": "2020-05-10T09:12:26.294906Z",
     "start_time": "2020-05-10T09:12:25.826905Z"
    }
   },
   "outputs": [
    {
     "data": {
      "image/png": "[encoded data removed]",
      "text/plain": [
       "<Figure size 432x288 with 1 Axes>"
      ]
     },
     "metadata": {
      "needs_background": "light"
     },
     "output_type": "display_data"
    }
   ],
   "source": [
    "plt.figure(figsize=(6,4))\n",
    "plt.scatter(X[ : , 0], X[ : , 1], s =50, c='black')\n",
    "plt.scatter(-1.54, -1.05, s=200, c='g', marker='s')\n",
    "plt.scatter(-0.43, -1.18, s=200, c='r', marker='s')\n",
    "plt.show()"
   ]
  },
  {
   "cell_type": "code",
   "execution_count": 103,
   "metadata": {
    "ExecuteTime": {
     "end_time": "2020-05-10T08:28:20.030949Z",
     "start_time": "2020-05-10T08:28:19.999749Z"
    }
   },
   "outputs": [],
   "source": [
    "sample_test=np.array([-0.78,-2.0])"
   ]
  },
  {
   "cell_type": "code",
   "execution_count": 104,
   "metadata": {
    "ExecuteTime": {
     "end_time": "2020-05-10T08:28:20.608150Z",
     "start_time": "2020-05-10T08:28:20.592550Z"
    }
   },
   "outputs": [
    {
     "name": "stdout",
     "output_type": "stream",
     "text": [
      "[[-0.78 -2.  ]]\n"
     ]
    }
   ],
   "source": [
    "second_test=sample_test.reshape(1, -1)\n",
    "print(second_test)"
   ]
  },
  {
   "cell_type": "code",
   "execution_count": 105,
   "metadata": {
    "ExecuteTime": {
     "end_time": "2020-05-10T08:28:21.512951Z",
     "start_time": "2020-05-10T08:28:21.481751Z"
    }
   },
   "outputs": [
    {
     "data": {
      "text/plain": [
       "array([1], dtype=int32)"
      ]
     },
     "execution_count": 105,
     "metadata": {},
     "output_type": "execute_result"
    }
   ],
   "source": [
    "Kmean.predict(second_test)"
   ]
  },
  {
   "cell_type": "code",
   "execution_count": 114,
   "metadata": {
    "ExecuteTime": {
     "end_time": "2020-05-10T08:33:39.948393Z",
     "start_time": "2020-05-10T08:33:39.932793Z"
    }
   },
   "outputs": [],
   "source": [
    "import pandas as pd"
   ]
  },
  {
   "cell_type": "code",
   "execution_count": 184,
   "metadata": {
    "ExecuteTime": {
     "end_time": "2020-05-10T09:15:49.500863Z",
     "start_time": "2020-05-10T09:15:49.485263Z"
    }
   },
   "outputs": [],
   "source": [
    "df = pd.DataFrame({'X1':X[:,0],'X2':X[:,1],'Label':Kmean.labels_})"
   ]
  },
  {
   "cell_type": "code",
   "execution_count": 185,
   "metadata": {
    "ExecuteTime": {
     "end_time": "2020-05-10T09:15:50.452464Z",
     "start_time": "2020-05-10T09:15:49.906463Z"
    }
   },
   "outputs": [
    {
     "data": {
      "image/png": "[encoded data removed]",
      "text/plain": [
       "<Figure size 432x360 with 1 Axes>"
      ]
     },
     "metadata": {
      "needs_background": "light"
     },
     "output_type": "display_data"
    }
   ],
   "source": [
    "fig, ax = plt.subplots()\n",
    "fig.set_figheight(5)\n",
    "fig.set_figwidth(6)\n",
    "ax.scatter(df[df['Label'] == 0].iloc[:,1], df[df['Label'] == 0].iloc[:,2], label=g, c = 'red')\n",
    "ax.scatter(df[df['Label'] == 1].iloc[:,1], df[df['Label'] == 1].iloc[:,2], label=g, c = 'green')\n",
    "# ax.scatter(df[df['Label'] == 2].iloc[:,1], df[df['Label'] == 2].iloc[:,2], label=g, c = 'black')\n",
    "ax.legend()\n",
    "plt.show()"
   ]
  },
  {
   "cell_type": "code",
   "execution_count": null,
   "metadata": {},
   "outputs": [],
   "source": []
  }
 ],
 "metadata": {
  "kernelspec": {
   "display_name": "Python 3",
   "language": "python",
   "name": "python3"
  },
  "language_info": {
   "codemirror_mode": {
    "name": "ipython",
    "version": 3
   },
   "file_extension": ".py",
   "mimetype": "text/x-python",
   "name": "python",
   "nbconvert_exporter": "python",
   "pygments_lexer": "ipython3",
   "version": "3.5.4"
  }
 },
 "nbformat": 4,
 "nbformat_minor": 4
}
